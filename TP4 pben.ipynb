{
 "cells": [
  {
   "cell_type": "code",
   "execution_count": 157,
   "metadata": {},
   "outputs": [],
   "source": [
    "import numpy as np\n",
    "import pandas as pd\n",
    "import matplotlib.pyplot as plt\n",
    "import statsmodels.api as sm\n",
    "from scipy.stats import f"
   ]
  },
  {
   "cell_type": "code",
   "execution_count": 158,
   "metadata": {},
   "outputs": [],
   "source": [
    "df = pd.read_csv('../textfiles/HPRICE3.raw', delim_whitespace=True, header=None)"
   ]
  },
  {
   "cell_type": "markdown",
   "metadata": {},
   "source": [
    "# Exo 1\n",
    "Calculer la moyenne de price=100. Faire un histogramme de price=100. Faire ensuite\n",
    "la régression de y = price=100 en fonction de\n",
    "const; age; nbh; inst; rooms; area; land; baths; dist; y81. Interpreter le coefficient\n",
    "associée à y81 en le comparant à l'augmentation du prix moyen de 1978 à 1981."
   ]
  },
  {
   "cell_type": "code",
   "execution_count": 159,
   "metadata": {},
   "outputs": [
    {
     "name": "stdout",
     "output_type": "stream",
     "text": [
      "price mean = 961.0066043613705\n"
     ]
    },
    {
     "data": {
      "image/png": "[encoded data removed]",
      "text/plain": [
       "<Figure size 432x288 with 1 Axes>"
      ]
     },
     "metadata": {
      "needs_background": "light"
     },
     "output_type": "display_data"
    }
   ],
   "source": [
    "price = df[7]/100\n",
    "print('price mean =', price.mean())\n",
    "plt.hist(price,'auto')\n",
    "plt.show;"
   ]
  },
  {
   "cell_type": "code",
   "execution_count": 160,
   "metadata": {},
   "outputs": [
    {
     "name": "stdout",
     "output_type": "stream",
     "text": [
      "                            OLS Regression Results                            \n",
      "==============================================================================\n",
      "Dep. Variable:                      7   R-squared:                       0.715\n",
      "Model:                            OLS   Adj. R-squared:                  0.707\n",
      "Method:                 Least Squares   F-statistic:                     86.73\n",
      "Date:                Sun, 01 Mar 2020   Prob (F-statistic):           2.14e-79\n",
      "Time:                        17:38:17   Log-Likelihood:                -2201.6\n",
      "No. Observations:                 321   AIC:                             4423.\n",
      "Df Residuals:                     311   BIC:                             4461.\n",
      "Df Model:                           9                                         \n",
      "Covariance Type:            nonrobust                                         \n",
      "==============================================================================\n",
      "                 coef    std err          t      P>|t|      [0.025      0.975]\n",
      "------------------------------------------------------------------------------\n",
      "const       -211.1428    105.234     -2.006      0.046    -418.204      -4.081\n",
      "x1            -2.2888      0.491     -4.659      0.000      -3.255      -1.322\n",
      "x2           -19.8892      6.470     -3.074      0.002     -32.620      -7.158\n",
      "x3            -0.0054      0.004     -1.331      0.184      -0.013       0.003\n",
      "x4            41.3148     19.323      2.138      0.033       3.294      79.335\n",
      "x5             0.2174      0.028      7.863      0.000       0.163       0.272\n",
      "x6             0.0012      0.000      3.239      0.001       0.000       0.002\n",
      "x7           130.0255     28.530      4.557      0.000      73.889     186.162\n",
      "x8             0.0051      0.004      1.280      0.201      -0.003       0.013\n",
      "x9           358.6543     27.666     12.964      0.000     304.218     413.091\n",
      "==============================================================================\n",
      "Omnibus:                       87.991   Durbin-Watson:                   1.596\n",
      "Prob(Omnibus):                  0.000   Jarque-Bera (JB):              581.142\n",
      "Skew:                           0.942   Prob(JB):                    6.41e-127\n",
      "Kurtosis:                       9.317   Cond. No.                     4.94e+05\n",
      "==============================================================================\n",
      "\n",
      "Warnings:\n",
      "[1] Standard Errors assume that the covariance matrix of the errors is correctly specified.\n",
      "[2] The condition number is large, 4.94e+05. This might indicate that there are\n",
      "strong multicollinearity or other numerical problems.\n"
     ]
    }
   ],
   "source": [
    "s=np.shape(price)\n",
    "const=np.ones(s)\n",
    "age=df[1]\n",
    "nbh=df[3]\n",
    "inst=df[5]\n",
    "rooms=df[8]\n",
    "area=df[9]\n",
    "land=df[10]\n",
    "baths=df[11]\n",
    "dist=df[12]\n",
    "y81=df[15]\n",
    "y=price\n",
    "X=np.column_stack((const,age,nbh,inst,rooms,area,land,baths,dist,y81))\n",
    "model=sm.OLS(y,X)\n",
    "results = model.fit()\n",
    "print(results.summary())"
   ]
  },
  {
   "cell_type": "code",
   "execution_count": 161,
   "metadata": {},
   "outputs": [
    {
     "name": "stdout",
     "output_type": "stream",
     "text": [
      "Variation du prix moyen de 1978 à 1981 : 440.19\n"
     ]
    }
   ],
   "source": [
    "# Il y a 2 années de vente 78 et 81, y81 vaut 1 pour les ventes réalisées en 1981\n",
    "masque = y81==0\n",
    "p0 = np.mean(price[masque])\n",
    "masque=y81==1\n",
    "p1=np.mean(price[masque])\n",
    "print(\"Variation du prix moyen de 1978 à 1981 : {0:6.2f}\".format(p1-p0))"
   ]
  },
  {
   "cell_type": "markdown",
   "metadata": {},
   "source": [
    "La variation due à y81(variable x9) est de 358.65 (coef * (1(81) - 0(78)).  \n",
    "Il reste donc 81.54 qui n'est pas expliqué par \"l'inflation\"."
   ]
  },
  {
   "cell_type": "markdown",
   "metadata": {},
   "source": [
    "# Exo 2\n",
    "Tester l'hypothèse d'homoscédasticité en utilisant la régression de u**2 en fonction des\n",
    "variables du modèles."
   ]
  },
  {
   "cell_type": "code",
   "execution_count": 162,
   "metadata": {},
   "outputs": [
    {
     "name": "stdout",
     "output_type": "stream",
     "text": [
      "                            OLS Regression Results                            \n",
      "==============================================================================\n",
      "Dep. Variable:                      y   R-squared:                       0.281\n",
      "Model:                            OLS   Adj. R-squared:                  0.261\n",
      "Method:                 Least Squares   F-statistic:                     13.53\n",
      "Date:                Sun, 01 Mar 2020   Prob (F-statistic):           2.57e-18\n",
      "Time:                        17:38:17   Log-Likelihood:                -4234.7\n",
      "No. Observations:                 321   AIC:                             8489.\n",
      "Df Residuals:                     311   BIC:                             8527.\n",
      "Df Model:                           9                                         \n",
      "Covariance Type:            nonrobust                                         \n",
      "==============================================================================\n",
      "                 coef    std err          t      P>|t|      [0.025      0.975]\n",
      "------------------------------------------------------------------------------\n",
      "const       2.307e+04   5.93e+04      0.389      0.697   -9.35e+04     1.4e+05\n",
      "x1          -615.5935    276.676     -2.225      0.027   -1159.986     -71.201\n",
      "x2         -3018.7279   3643.672     -0.828      0.408   -1.02e+04    4150.638\n",
      "x3            -3.0761      2.285     -1.346      0.179      -7.571       1.419\n",
      "x4         -7635.9441   1.09e+04     -0.702      0.483    -2.9e+04    1.38e+04\n",
      "x5            89.8939     15.573      5.772      0.000      59.252     120.536\n",
      "x6             1.5736      0.212      7.426      0.000       1.157       1.991\n",
      "x7         -2.721e+04   1.61e+04     -1.694      0.091   -5.88e+04    4401.122\n",
      "x8            -2.0748      2.225     -0.932      0.352      -6.454       2.304\n",
      "x9          7940.4165   1.56e+04      0.510      0.611   -2.27e+04    3.86e+04\n",
      "==============================================================================\n",
      "Omnibus:                      366.671   Durbin-Watson:                   1.916\n",
      "Prob(Omnibus):                  0.000   Jarque-Bera (JB):            22235.419\n",
      "Skew:                           4.972   Prob(JB):                         0.00\n",
      "Kurtosis:                      42.542   Cond. No.                     4.94e+05\n",
      "==============================================================================\n",
      "\n",
      "Warnings:\n",
      "[1] Standard Errors assume that the covariance matrix of the errors is correctly specified.\n",
      "[2] The condition number is large, 4.94e+05. This might indicate that there are\n",
      "strong multicollinearity or other numerical problems.\n"
     ]
    }
   ],
   "source": [
    "u=results.resid\n",
    "u2=u**2\n",
    "\n",
    "model=sm.OLS(u2,X)\n",
    "results = model.fit()\n",
    "print(results.summary())"
   ]
  },
  {
   "cell_type": "markdown",
   "metadata": {},
   "source": [
    "On lit la pvalue (Prob (F-statistic)) à 2.57e-18 donc on rejette $H_0$ l'hypothèse d'homoscédasticité.  \n",
    "F=13.53  \n",
    "On voit P>|t| de x5(area) et x6(land) = 0 donc ce sont ceux qu'il faut regarder."
   ]
  },
  {
   "cell_type": "markdown",
   "metadata": {},
   "source": [
    "# Exo 3"
   ]
  },
  {
   "cell_type": "markdown",
   "metadata": {},
   "source": [
    "Tester l’hypothèse $H_0$ : $\\theta_{area}$ = $\\theta_{land} = 0$"
   ]
  },
  {
   "cell_type": "markdown",
   "metadata": {},
   "source": [
    "#### Modèle non contraint"
   ]
  },
  {
   "cell_type": "code",
   "execution_count": 163,
   "metadata": {},
   "outputs": [],
   "source": [
    "X0=np.column_stack((const,age,nbh,inst,rooms,area,land,baths,dist,y81))\n",
    "y=price\n",
    "model=sm.OLS(y,X0)\n",
    "results = model.fit()\n",
    "u=results.resid\n",
    "\n",
    "u2=u**2\n",
    "model=sm.OLS(u2,X0)\n",
    "results = model.fit()\n",
    "u=results.resid\n",
    "SSR0 = u.T @ u"
   ]
  },
  {
   "cell_type": "markdown",
   "metadata": {},
   "source": [
    "#### Modèle contraint"
   ]
  },
  {
   "cell_type": "code",
   "execution_count": 164,
   "metadata": {},
   "outputs": [],
   "source": [
    "# on retire du modèle area et land\n",
    "X1=np.column_stack((const,age,nbh,inst,rooms,baths,dist,y81))\n",
    "\n",
    "# on garde le même u2\n",
    "model=sm.OLS(u2,X1)\n",
    "results = model.fit()\n",
    "v=results.resid\n",
    "SSR1=v.T@v"
   ]
  },
  {
   "cell_type": "code",
   "execution_count": 165,
   "metadata": {},
   "outputs": [
    {
     "name": "stdout",
     "output_type": "stream",
     "text": [
      "pvalue 3.908173420198508e-18\n",
      "Fisher 45.72369277605203\n"
     ]
    }
   ],
   "source": [
    "n,k=np.shape(X0)\n",
    "F=((SSR1-SSR0)/2)/(SSR0/(n-k))\n",
    "\n",
    "print('pvalue', f.sf(F,2,n-k) )\n",
    "print('Fisher', F)"
   ]
  },
  {
   "cell_type": "markdown",
   "metadata": {},
   "source": [
    "F=45.72.  \n",
    "On rejette l'hypothèse $H_0$ (pvalue < 0.01)."
   ]
  },
  {
   "cell_type": "markdown",
   "metadata": {},
   "source": [
    "# Exo 4\n",
    "Donner la valeur minimale et maximale de baths. Transformer ensuite la variable\n",
    "baths en un ensemble de variables binaires. Refaire le test d'hétéroscédasticité de\n",
    "l'exercice 2."
   ]
  },
  {
   "cell_type": "code",
   "execution_count": 166,
   "metadata": {},
   "outputs": [
    {
     "name": "stdout",
     "output_type": "stream",
     "text": [
      "nbr de baths entre 1 et 4\n"
     ]
    }
   ],
   "source": [
    "print(\"nbr de baths entre {} et {}\".format(baths.min(), baths.max()))"
   ]
  },
  {
   "cell_type": "code",
   "execution_count": 167,
   "metadata": {},
   "outputs": [],
   "source": [
    "# on décide de ne pas gérer le cas baths = 1\n",
    "baths2=np.asarray([baths == 2]).reshape(-1,1)\n",
    "baths3=np.asarray([baths == 3]).reshape(-1,1)\n",
    "baths4=np.asarray([baths == 4]).reshape(-1,1)"
   ]
  },
  {
   "cell_type": "code",
   "execution_count": 168,
   "metadata": {},
   "outputs": [
    {
     "name": "stdout",
     "output_type": "stream",
     "text": [
      "                            OLS Regression Results                            \n",
      "==============================================================================\n",
      "Dep. Variable:                      7   R-squared:                       0.720\n",
      "Model:                            OLS   Adj. R-squared:                  0.710\n",
      "Method:                 Least Squares   F-statistic:                     72.22\n",
      "Date:                Sun, 01 Mar 2020   Prob (F-statistic):           1.33e-78\n",
      "Time:                        17:38:17   Log-Likelihood:                -2198.8\n",
      "No. Observations:                 321   AIC:                             4422.\n",
      "Df Residuals:                     309   BIC:                             4467.\n",
      "Df Model:                          11                                         \n",
      "Covariance Type:            nonrobust                                         \n",
      "==============================================================================\n",
      "                 coef    std err          t      P>|t|      [0.025      0.975]\n",
      "------------------------------------------------------------------------------\n",
      "const        -35.3626    113.493     -0.312      0.756    -258.679     187.953\n",
      "x1            -2.1398      0.517     -4.142      0.000      -3.156      -1.123\n",
      "x2           -18.7182      6.485     -2.887      0.004     -31.478      -5.959\n",
      "x3            -0.0049      0.004     -1.213      0.226      -0.013       0.003\n",
      "x4            40.2520     19.317      2.084      0.038       2.243      78.261\n",
      "x5             0.2164      0.028      7.830      0.000       0.162       0.271\n",
      "x6             0.0013      0.000      3.381      0.001       0.001       0.002\n",
      "x7            56.5481     44.428      1.273      0.204     -30.871     143.967\n",
      "x8           248.5475     58.807      4.226      0.000     132.834     364.261\n",
      "x9           305.2797    141.172      2.162      0.031      27.500     583.059\n",
      "x10            0.0042      0.004      1.057      0.291      -0.004       0.012\n",
      "x11          351.9898     27.683     12.715      0.000     297.518     406.462\n",
      "==============================================================================\n",
      "Omnibus:                       84.992   Durbin-Watson:                   1.574\n",
      "Prob(Omnibus):                  0.000   Jarque-Bera (JB):              559.720\n",
      "Skew:                           0.902   Prob(JB):                    2.87e-122\n",
      "Kurtosis:                       9.212   Cond. No.                     6.97e+05\n",
      "==============================================================================\n",
      "\n",
      "Warnings:\n",
      "[1] Standard Errors assume that the covariance matrix of the errors is correctly specified.\n",
      "[2] The condition number is large, 6.97e+05. This might indicate that there are\n",
      "strong multicollinearity or other numerical problems.\n"
     ]
    }
   ],
   "source": [
    "X=np.column_stack((const,age,nbh,inst,rooms,area,land,baths2,baths3,baths4,dist,y81))\n",
    "y=price\n",
    "\n",
    "model=sm.OLS(y,X)\n",
    "results = model.fit()\n",
    "print(results.summary())"
   ]
  },
  {
   "cell_type": "markdown",
   "metadata": {},
   "source": [
    "Gain de 248.54 et 305.27 pour nbr de sdb = 3 ou 4"
   ]
  },
  {
   "cell_type": "markdown",
   "metadata": {},
   "source": [
    "#### Test d'hétéroscédasticité"
   ]
  },
  {
   "cell_type": "code",
   "execution_count": 169,
   "metadata": {},
   "outputs": [
    {
     "name": "stdout",
     "output_type": "stream",
     "text": [
      "                            OLS Regression Results                            \n",
      "==============================================================================\n",
      "Dep. Variable:                      y   R-squared:                       0.281\n",
      "Model:                            OLS   Adj. R-squared:                  0.255\n",
      "Method:                 Least Squares   F-statistic:                     10.97\n",
      "Date:                Sun, 01 Mar 2020   Prob (F-statistic):           3.93e-17\n",
      "Time:                        17:38:17   Log-Likelihood:                -4227.2\n",
      "No. Observations:                 321   AIC:                             8478.\n",
      "Df Residuals:                     309   BIC:                             8524.\n",
      "Df Model:                          11                                         \n",
      "Covariance Type:            nonrobust                                         \n",
      "==============================================================================\n",
      "                 coef    std err          t      P>|t|      [0.025      0.975]\n",
      "------------------------------------------------------------------------------\n",
      "const       7663.0126    6.3e+04      0.122      0.903   -1.16e+05    1.32e+05\n",
      "x1          -436.3323    286.694     -1.522      0.129   -1000.452     127.787\n",
      "x2         -3348.4394   3598.974     -0.930      0.353   -1.04e+04    3733.156\n",
      "x3            -2.3966      2.248     -1.066      0.287      -6.821       2.027\n",
      "x4         -8966.3938   1.07e+04     -0.836      0.404   -3.01e+04    1.21e+04\n",
      "x5            86.6915     15.338      5.652      0.000      56.511     116.872\n",
      "x6             1.5282      0.208      7.344      0.000       1.119       1.938\n",
      "x7         -3.527e+04   2.47e+04     -1.430      0.154   -8.38e+04    1.32e+04\n",
      "x8         -4.041e+04   3.26e+04     -1.238      0.217   -1.05e+05    2.38e+04\n",
      "x9         -1.733e+05   7.84e+04     -2.212      0.028   -3.27e+05   -1.91e+04\n",
      "x10           -2.6414      2.199     -1.201      0.231      -6.969       1.686\n",
      "x11         7164.9064   1.54e+04      0.466      0.641   -2.31e+04    3.74e+04\n",
      "==============================================================================\n",
      "Omnibus:                      356.008   Durbin-Watson:                   1.891\n",
      "Prob(Omnibus):                  0.000   Jarque-Bera (JB):            18901.036\n",
      "Skew:                           4.783   Prob(JB):                         0.00\n",
      "Kurtosis:                      39.354   Cond. No.                     6.97e+05\n",
      "==============================================================================\n",
      "\n",
      "Warnings:\n",
      "[1] Standard Errors assume that the covariance matrix of the errors is correctly specified.\n",
      "[2] The condition number is large, 6.97e+05. This might indicate that there are\n",
      "strong multicollinearity or other numerical problems.\n"
     ]
    }
   ],
   "source": [
    "u=results.resid\n",
    "u2=u**2\n",
    "\n",
    "model=sm.OLS(u2,X)\n",
    "results = model.fit()\n",
    "print(results.summary())"
   ]
  },
  {
   "cell_type": "markdown",
   "metadata": {},
   "source": [
    "F=10.97  \n",
    "On rejette l'hypothèse $H_0$ (pvalue=3.93e-17 < 0.01)."
   ]
  },
  {
   "cell_type": "markdown",
   "metadata": {},
   "source": [
    "# Exo 5\n",
    "En utilisant la spécification de l'exercice 4, refaire le test d'hétéroscédasticité en\n",
    "utilisant log(area) et log(land)."
   ]
  },
  {
   "cell_type": "code",
   "execution_count": 170,
   "metadata": {},
   "outputs": [],
   "source": [
    "log_area = np.log(area)\n",
    "log_land = np.log(land)"
   ]
  },
  {
   "cell_type": "code",
   "execution_count": 171,
   "metadata": {},
   "outputs": [],
   "source": [
    "X=np.column_stack((const,age,nbh,inst,rooms,log_area,log_land,baths2,baths3,baths4,dist,y81))\n",
    "y=price"
   ]
  },
  {
   "cell_type": "code",
   "execution_count": 172,
   "metadata": {},
   "outputs": [
    {
     "name": "stdout",
     "output_type": "stream",
     "text": [
      "                            OLS Regression Results                            \n",
      "==============================================================================\n",
      "Dep. Variable:                      7   R-squared:                       0.712\n",
      "Model:                            OLS   Adj. R-squared:                  0.702\n",
      "Method:                 Least Squares   F-statistic:                     69.51\n",
      "Date:                Sun, 01 Mar 2020   Prob (F-statistic):           8.66e-77\n",
      "Time:                        17:38:17   Log-Likelihood:                -2203.2\n",
      "No. Observations:                 321   AIC:                             4430.\n",
      "Df Residuals:                     309   BIC:                             4476.\n",
      "Df Model:                          11                                         \n",
      "Covariance Type:            nonrobust                                         \n",
      "==============================================================================\n",
      "                 coef    std err          t      P>|t|      [0.025      0.975]\n",
      "------------------------------------------------------------------------------\n",
      "const      -3479.2455    460.500     -7.555      0.000   -4385.357   -2573.133\n",
      "x1            -1.8540      0.521     -3.561      0.000      -2.879      -0.829\n",
      "x2           -13.6886      6.844     -2.000      0.046     -27.156      -0.221\n",
      "x3            -0.0092      0.005     -1.973      0.049      -0.018   -2.52e-05\n",
      "x4            34.6126     19.664      1.760      0.079      -4.079      73.304\n",
      "x5           383.2772     59.849      6.404      0.000     265.514     501.040\n",
      "x6           112.1135     28.818      3.890      0.000      55.409     168.819\n",
      "x7            28.2330     46.699      0.605      0.546     -63.655     120.121\n",
      "x8           230.3010     62.385      3.692      0.000     107.548     353.054\n",
      "x9           368.8085    141.115      2.614      0.009      91.141     646.476\n",
      "x10            0.0038      0.004      0.929      0.353      -0.004       0.012\n",
      "x11          354.3181     27.883     12.707      0.000     299.454     409.182\n",
      "==============================================================================\n",
      "Omnibus:                      113.881   Durbin-Watson:                   1.596\n",
      "Prob(Omnibus):                  0.000   Jarque-Bera (JB):              803.843\n",
      "Skew:                           1.273   Prob(JB):                    2.80e-175\n",
      "Kurtosis:                      10.322   Cond. No.                     1.03e+06\n",
      "==============================================================================\n",
      "\n",
      "Warnings:\n",
      "[1] Standard Errors assume that the covariance matrix of the errors is correctly specified.\n",
      "[2] The condition number is large, 1.03e+06. This might indicate that there are\n",
      "strong multicollinearity or other numerical problems.\n"
     ]
    }
   ],
   "source": [
    "model=sm.OLS(y,X)\n",
    "results = model.fit()\n",
    "print(results.summary())"
   ]
  },
  {
   "cell_type": "markdown",
   "metadata": {},
   "source": [
    "#### Test d'hétéroscédasticité"
   ]
  },
  {
   "cell_type": "code",
   "execution_count": 173,
   "metadata": {},
   "outputs": [
    {
     "name": "stdout",
     "output_type": "stream",
     "text": [
      "                            OLS Regression Results                            \n",
      "==============================================================================\n",
      "Dep. Variable:                      y   R-squared:                       0.162\n",
      "Model:                            OLS   Adj. R-squared:                  0.132\n",
      "Method:                 Least Squares   F-statistic:                     5.419\n",
      "Date:                Sun, 01 Mar 2020   Prob (F-statistic):           6.86e-08\n",
      "Time:                        17:38:17   Log-Likelihood:                -4281.0\n",
      "No. Observations:                 321   AIC:                             8586.\n",
      "Df Residuals:                     309   BIC:                             8631.\n",
      "Df Model:                          11                                         \n",
      "Covariance Type:            nonrobust                                         \n",
      "==============================================================================\n",
      "                 coef    std err          t      P>|t|      [0.025      0.975]\n",
      "------------------------------------------------------------------------------\n",
      "const       -1.44e+06   2.98e+05     -4.831      0.000   -2.03e+06   -8.53e+05\n",
      "x1           -95.7984    337.009     -0.284      0.776    -758.921     567.324\n",
      "x2           -21.0189   4429.761     -0.005      0.996   -8737.331    8695.293\n",
      "x3            -5.8131      3.017     -1.927      0.055     -11.750       0.124\n",
      "x4         -1.334e+04   1.27e+04     -1.048      0.295   -3.84e+04    1.17e+04\n",
      "x5          1.045e+05   3.87e+04      2.699      0.007    2.83e+04    1.81e+05\n",
      "x6           9.33e+04   1.87e+04      5.002      0.000    5.66e+04     1.3e+05\n",
      "x7         -4.642e+04   3.02e+04     -1.536      0.126   -1.06e+05    1.31e+04\n",
      "x8         -2.498e+04   4.04e+04     -0.619      0.537   -1.04e+05    5.45e+04\n",
      "x9         -7.602e+04   9.13e+04     -0.832      0.406   -2.56e+05    1.04e+05\n",
      "x10           -2.3555      2.614     -0.901      0.368      -7.498       2.787\n",
      "x11         1090.5964    1.8e+04      0.060      0.952   -3.44e+04    3.66e+04\n",
      "==============================================================================\n",
      "Omnibus:                      483.846   Durbin-Watson:                   1.922\n",
      "Prob(Omnibus):                  0.000   Jarque-Bera (JB):            94672.233\n",
      "Skew:                           7.632   Prob(JB):                         0.00\n",
      "Kurtosis:                      85.736   Cond. No.                     1.03e+06\n",
      "==============================================================================\n",
      "\n",
      "Warnings:\n",
      "[1] Standard Errors assume that the covariance matrix of the errors is correctly specified.\n",
      "[2] The condition number is large, 1.03e+06. This might indicate that there are\n",
      "strong multicollinearity or other numerical problems.\n"
     ]
    }
   ],
   "source": [
    "u=results.resid\n",
    "u2=u**2\n",
    "\n",
    "model=sm.OLS(u2,X)\n",
    "results = model.fit()\n",
    "print(results.summary())"
   ]
  },
  {
   "cell_type": "markdown",
   "metadata": {},
   "source": [
    "F=5.419  \n",
    "On rejette l'hypothèse $H_0$ (pvalue=6.86e-08 < 0.01)."
   ]
  },
  {
   "cell_type": "markdown",
   "metadata": {},
   "source": [
    "# Exo 6\n",
    "En utilisant la spécification de l’exercice 5, refaire le test d’hétéroscédasticité en utilisant $y = log(\\frac{price}{100})$ ."
   ]
  },
  {
   "cell_type": "code",
   "execution_count": 174,
   "metadata": {},
   "outputs": [],
   "source": [
    "y = np.log(price)\n",
    "X=np.column_stack((const,age,nbh,inst,rooms,log_area,log_land,baths2,baths3,baths4,dist,y81))"
   ]
  },
  {
   "cell_type": "code",
   "execution_count": 175,
   "metadata": {},
   "outputs": [
    {
     "name": "stdout",
     "output_type": "stream",
     "text": [
      "                            OLS Regression Results                            \n",
      "==============================================================================\n",
      "Dep. Variable:                      7   R-squared:                       0.785\n",
      "Model:                            OLS   Adj. R-squared:                  0.777\n",
      "Method:                 Least Squares   F-statistic:                     102.6\n",
      "Date:                Sun, 01 Mar 2020   Prob (F-statistic):           3.52e-96\n",
      "Time:                        17:38:17   Log-Likelihood:                 56.624\n",
      "No. Observations:                 321   AIC:                            -89.25\n",
      "Df Residuals:                     309   BIC:                            -43.99\n",
      "Df Model:                          11                                         \n",
      "Covariance Type:            nonrobust                                         \n",
      "==============================================================================\n",
      "                 coef    std err          t      P>|t|      [0.025      0.975]\n",
      "------------------------------------------------------------------------------\n",
      "const          2.3297      0.403      5.774      0.000       1.536       3.124\n",
      "x1            -0.0026      0.000     -5.635      0.000      -0.003      -0.002\n",
      "x2            -0.0099      0.006     -1.645      0.101      -0.022       0.002\n",
      "x3         -8.603e-06   4.08e-06     -2.106      0.036   -1.66e-05   -5.66e-07\n",
      "x4             0.0575      0.017      3.338      0.001       0.024       0.091\n",
      "x5             0.3465      0.052      6.608      0.000       0.243       0.450\n",
      "x6             0.1163      0.025      4.608      0.000       0.067       0.166\n",
      "x7             0.0779      0.041      1.903      0.058      -0.003       0.158\n",
      "x8             0.2517      0.055      4.605      0.000       0.144       0.359\n",
      "x9             0.4268      0.124      3.452      0.001       0.184       0.670\n",
      "x10         6.041e-06   3.54e-06      1.707      0.089   -9.21e-07     1.3e-05\n",
      "x11            0.3722      0.024     15.238      0.000       0.324       0.420\n",
      "==============================================================================\n",
      "Omnibus:                       70.271   Durbin-Watson:                   1.697\n",
      "Prob(Omnibus):                  0.000   Jarque-Bera (JB):              358.475\n",
      "Skew:                          -0.787   Prob(JB):                     1.44e-78\n",
      "Kurtosis:                       7.932   Cond. No.                     1.03e+06\n",
      "==============================================================================\n",
      "\n",
      "Warnings:\n",
      "[1] Standard Errors assume that the covariance matrix of the errors is correctly specified.\n",
      "[2] The condition number is large, 1.03e+06. This might indicate that there are\n",
      "strong multicollinearity or other numerical problems.\n"
     ]
    }
   ],
   "source": [
    "model=sm.OLS(y,X)\n",
    "results = model.fit()\n",
    "print(results.summary())"
   ]
  },
  {
   "cell_type": "markdown",
   "metadata": {},
   "source": [
    "#### Test d'hétéroscédasticité"
   ]
  },
  {
   "cell_type": "code",
   "execution_count": 176,
   "metadata": {},
   "outputs": [
    {
     "name": "stdout",
     "output_type": "stream",
     "text": [
      "                            OLS Regression Results                            \n",
      "==============================================================================\n",
      "Dep. Variable:                      y   R-squared:                       0.064\n",
      "Model:                            OLS   Adj. R-squared:                  0.030\n",
      "Method:                 Least Squares   F-statistic:                     1.905\n",
      "Date:                Sun, 01 Mar 2020   Prob (F-statistic):             0.0381\n",
      "Time:                        17:38:17   Log-Likelihood:                 268.51\n",
      "No. Observations:                 321   AIC:                            -513.0\n",
      "Df Residuals:                     309   BIC:                            -467.8\n",
      "Df Model:                          11                                         \n",
      "Covariance Type:            nonrobust                                         \n",
      "==============================================================================\n",
      "                 coef    std err          t      P>|t|      [0.025      0.975]\n",
      "------------------------------------------------------------------------------\n",
      "const         -0.4437      0.209     -2.128      0.034      -0.854      -0.033\n",
      "x1             0.0003      0.000      1.293      0.197      -0.000       0.001\n",
      "x2            -0.0006      0.003     -0.205      0.838      -0.007       0.005\n",
      "x3         -2.004e-06   2.11e-06     -0.949      0.343   -6.16e-06    2.15e-06\n",
      "x4            -0.0089      0.009     -1.001      0.318      -0.026       0.009\n",
      "x5             0.0347      0.027      1.282      0.201      -0.019       0.088\n",
      "x6             0.0320      0.013      2.454      0.015       0.006       0.058\n",
      "x7             0.0052      0.021      0.245      0.806      -0.036       0.047\n",
      "x8             0.0162      0.028      0.573      0.567      -0.039       0.072\n",
      "x9            -0.0028      0.064     -0.044      0.965      -0.129       0.123\n",
      "x10        -1.173e-06   1.83e-06     -0.641      0.522   -4.77e-06    2.42e-06\n",
      "x11           -0.0153      0.013     -1.212      0.226      -0.040       0.010\n",
      "==============================================================================\n",
      "Omnibus:                      552.886   Durbin-Watson:                   2.020\n",
      "Prob(Omnibus):                  0.000   Jarque-Bera (JB):           218514.019\n",
      "Skew:                           9.627   Prob(JB):                         0.00\n",
      "Kurtosis:                     129.360   Cond. No.                     1.03e+06\n",
      "==============================================================================\n",
      "\n",
      "Warnings:\n",
      "[1] Standard Errors assume that the covariance matrix of the errors is correctly specified.\n",
      "[2] The condition number is large, 1.03e+06. This might indicate that there are\n",
      "strong multicollinearity or other numerical problems.\n"
     ]
    }
   ],
   "source": [
    "u=results.resid\n",
    "u2=u**2\n",
    "\n",
    "model=sm.OLS(u2,X)\n",
    "results = model.fit()\n",
    "print(results.summary())"
   ]
  },
  {
   "cell_type": "markdown",
   "metadata": {},
   "source": [
    "F=1.905  \n",
    "On rejette l'hypothèse $H_0$ à 5% (pvalue=0.0381 < 0.05)."
   ]
  },
  {
   "cell_type": "markdown",
   "metadata": {},
   "source": [
    "# Exo 7\n",
    "Utiliser la variable log_land pour pondérer les observations dans la spécification de\n",
    "l'exercice 6.  \n",
    "Refaire le test d’hétéroscédasticité."
   ]
  },
  {
   "cell_type": "code",
   "execution_count": 177,
   "metadata": {},
   "outputs": [
    {
     "name": "stdout",
     "output_type": "stream",
     "text": [
      "                            WLS Regression Results                            \n",
      "==============================================================================\n",
      "Dep. Variable:                      7   R-squared:                       0.785\n",
      "Model:                            WLS   Adj. R-squared:                  0.777\n",
      "Method:                 Least Squares   F-statistic:                     102.6\n",
      "Date:                Sun, 01 Mar 2020   Prob (F-statistic):           3.52e-96\n",
      "Time:                        17:38:17   Log-Likelihood:                 56.624\n",
      "No. Observations:                 321   AIC:                            -89.25\n",
      "Df Residuals:                     309   BIC:                            -43.99\n",
      "Df Model:                          11                                         \n",
      "Covariance Type:            nonrobust                                         \n",
      "==============================================================================\n",
      "                 coef    std err          t      P>|t|      [0.025      0.975]\n",
      "------------------------------------------------------------------------------\n",
      "const          2.3297      0.403      5.774      0.000       1.536       3.124\n",
      "x1            -0.0026      0.000     -5.635      0.000      -0.003      -0.002\n",
      "x2            -0.0099      0.006     -1.645      0.101      -0.022       0.002\n",
      "x3         -8.603e-06   4.08e-06     -2.106      0.036   -1.66e-05   -5.66e-07\n",
      "x4             0.0575      0.017      3.338      0.001       0.024       0.091\n",
      "x5             0.3465      0.052      6.608      0.000       0.243       0.450\n",
      "x6             0.1163      0.025      4.608      0.000       0.067       0.166\n",
      "x7             0.0779      0.041      1.903      0.058      -0.003       0.158\n",
      "x8             0.2517      0.055      4.605      0.000       0.144       0.359\n",
      "x9             0.4268      0.124      3.452      0.001       0.184       0.670\n",
      "x10         6.041e-06   3.54e-06      1.707      0.089   -9.21e-07     1.3e-05\n",
      "x11            0.3722      0.024     15.238      0.000       0.324       0.420\n",
      "==============================================================================\n",
      "Omnibus:                       70.271   Durbin-Watson:                   1.697\n",
      "Prob(Omnibus):                  0.000   Jarque-Bera (JB):              358.475\n",
      "Skew:                          -0.787   Prob(JB):                     1.44e-78\n",
      "Kurtosis:                       7.932   Cond. No.                     1.03e+06\n",
      "==============================================================================\n",
      "\n",
      "Warnings:\n",
      "[1] Standard Errors assume that the covariance matrix of the errors is correctly specified.\n",
      "[2] The condition number is large, 1.03e+06. This might indicate that there are\n",
      "strong multicollinearity or other numerical problems.\n"
     ]
    }
   ],
   "source": [
    "h=np.sqrt(log_land)\n",
    "y=np.log(price)\n",
    "X=np.column_stack((const,age,nbh,inst,rooms,log_area,log_land,baths2,baths3,baths4,dist,y81))\n",
    "model=sm.WLS(y,X,weight=1/h)\n",
    "results = model.fit()\n",
    "print(results.summary())"
   ]
  },
  {
   "cell_type": "markdown",
   "metadata": {},
   "source": [
    "#### Test d'hétéroscédasticité"
   ]
  },
  {
   "cell_type": "code",
   "execution_count": 178,
   "metadata": {},
   "outputs": [
    {
     "name": "stdout",
     "output_type": "stream",
     "text": [
      "                            OLS Regression Results                            \n",
      "==============================================================================\n",
      "Dep. Variable:                      y   R-squared:                       0.064\n",
      "Model:                            OLS   Adj. R-squared:                  0.030\n",
      "Method:                 Least Squares   F-statistic:                     1.905\n",
      "Date:                Sun, 01 Mar 2020   Prob (F-statistic):             0.0381\n",
      "Time:                        17:38:17   Log-Likelihood:                 268.51\n",
      "No. Observations:                 321   AIC:                            -513.0\n",
      "Df Residuals:                     309   BIC:                            -467.8\n",
      "Df Model:                          11                                         \n",
      "Covariance Type:            nonrobust                                         \n",
      "==============================================================================\n",
      "                 coef    std err          t      P>|t|      [0.025      0.975]\n",
      "------------------------------------------------------------------------------\n",
      "const         -0.4437      0.209     -2.128      0.034      -0.854      -0.033\n",
      "x1             0.0003      0.000      1.293      0.197      -0.000       0.001\n",
      "x2            -0.0006      0.003     -0.205      0.838      -0.007       0.005\n",
      "x3         -2.004e-06   2.11e-06     -0.949      0.343   -6.16e-06    2.15e-06\n",
      "x4            -0.0089      0.009     -1.001      0.318      -0.026       0.009\n",
      "x5             0.0347      0.027      1.282      0.201      -0.019       0.088\n",
      "x6             0.0320      0.013      2.454      0.015       0.006       0.058\n",
      "x7             0.0052      0.021      0.245      0.806      -0.036       0.047\n",
      "x8             0.0162      0.028      0.573      0.567      -0.039       0.072\n",
      "x9            -0.0028      0.064     -0.044      0.965      -0.129       0.123\n",
      "x10        -1.173e-06   1.83e-06     -0.641      0.522   -4.77e-06    2.42e-06\n",
      "x11           -0.0153      0.013     -1.212      0.226      -0.040       0.010\n",
      "==============================================================================\n",
      "Omnibus:                      552.886   Durbin-Watson:                   2.020\n",
      "Prob(Omnibus):                  0.000   Jarque-Bera (JB):           218514.019\n",
      "Skew:                           9.627   Prob(JB):                         0.00\n",
      "Kurtosis:                     129.360   Cond. No.                     1.03e+06\n",
      "==============================================================================\n",
      "\n",
      "Warnings:\n",
      "[1] Standard Errors assume that the covariance matrix of the errors is correctly specified.\n",
      "[2] The condition number is large, 1.03e+06. This might indicate that there are\n",
      "strong multicollinearity or other numerical problems.\n"
     ]
    }
   ],
   "source": [
    "u=results.resid\n",
    "u2=u**2\n",
    "\n",
    "model=sm.OLS(u2,X)\n",
    "results = model.fit()\n",
    "print(results.summary())"
   ]
  },
  {
   "cell_type": "markdown",
   "metadata": {},
   "source": [
    "F=1.905  \n",
    "On rejette l'hypothèse $H_0$ à 5% (pvalue=0.0381 < 0.05).\n",
    "## je ne comprends pas les résultats sont identiques entre Exo 6 et Exo7 (avec poids)..."
   ]
  },
  {
   "cell_type": "markdown",
   "metadata": {},
   "source": [
    "# Exo 8\n",
    "Faire le graphique en nuage de point entre log(price/100) et log_land.   \n",
    "Diviser l’échantillon en deux groupes en fonction de lland et refaire le test d’hétéroscédasticité pour les deux sous-groupes.  \n",
    "Construction de deux groupes : log_land <= 10 et log_land > 10."
   ]
  },
  {
   "cell_type": "code",
   "execution_count": 179,
   "metadata": {},
   "outputs": [
    {
     "data": {
      "image/png": "[encoded data removed]",
      "text/plain": [
       "<Figure size 432x288 with 1 Axes>"
      ]
     },
     "metadata": {
      "needs_background": "light"
     },
     "output_type": "display_data"
    }
   ],
   "source": [
    "log_price=np.log(price)\n",
    "plt.scatter(log_land,log_price)\n",
    "plt.xlabel(\"log_land\")\n",
    "plt.ylabel(\"log_price\")\n",
    "plt.show()"
   ]
  },
  {
   "cell_type": "markdown",
   "metadata": {},
   "source": [
    "#### Groupe : log_land <= 10 "
   ]
  },
  {
   "cell_type": "code",
   "execution_count": 180,
   "metadata": {},
   "outputs": [],
   "source": [
    "y=np.log(price)\n",
    "X=np.column_stack((const,age,nbh,inst,rooms,log_area,log_land,baths2,baths3,baths4,dist,y81))\n",
    "\n",
    "masque = log_land <= 10\n",
    "y=y[masque]\n",
    "X=X[masque,:]"
   ]
  },
  {
   "cell_type": "code",
   "execution_count": 181,
   "metadata": {},
   "outputs": [
    {
     "name": "stdout",
     "output_type": "stream",
     "text": [
      "                            OLS Regression Results                            \n",
      "==============================================================================\n",
      "Dep. Variable:                      y   R-squared:                       0.047\n",
      "Model:                            OLS   Adj. R-squared:                 -0.072\n",
      "Method:                 Least Squares   F-statistic:                    0.3985\n",
      "Date:                Sun, 01 Mar 2020   Prob (F-statistic):              0.944\n",
      "Time:                        17:38:17   Log-Likelihood:                 146.43\n",
      "No. Observations:                  91   AIC:                            -270.9\n",
      "Df Residuals:                      80   BIC:                            -243.2\n",
      "Df Model:                          10                                         \n",
      "Covariance Type:            nonrobust                                         \n",
      "==============================================================================\n",
      "                 coef    std err          t      P>|t|      [0.025      0.975]\n",
      "------------------------------------------------------------------------------\n",
      "const         -0.0750      0.195     -0.384      0.702      -0.464       0.314\n",
      "x1            -0.0001      0.000     -0.640      0.524      -0.001       0.000\n",
      "x2            -0.0021      0.004     -0.494      0.623      -0.010       0.006\n",
      "x3         -3.986e-07   2.71e-06     -0.147      0.884    -5.8e-06       5e-06\n",
      "x4             0.0055      0.007      0.832      0.408      -0.008       0.018\n",
      "x5             0.0190      0.023      0.809      0.421      -0.028       0.066\n",
      "x6            -0.0052      0.013     -0.383      0.702      -0.032       0.022\n",
      "x7             0.0029      0.015      0.194      0.847      -0.027       0.033\n",
      "x8            -0.0175      0.027     -0.650      0.518      -0.071       0.036\n",
      "x9          4.592e-19   8.08e-18      0.057      0.955   -1.56e-17    1.65e-17\n",
      "x10        -5.447e-07   1.85e-06     -0.295      0.769   -4.22e-06    3.13e-06\n",
      "x11           -0.0106      0.013     -0.845      0.400      -0.036       0.014\n",
      "==============================================================================\n",
      "Omnibus:                      119.772   Durbin-Watson:                   2.136\n",
      "Prob(Omnibus):                  0.000   Jarque-Bera (JB):             2824.151\n",
      "Skew:                           4.391   Prob(JB):                         0.00\n",
      "Kurtosis:                      28.840   Cond. No.                     6.99e+21\n",
      "==============================================================================\n",
      "\n",
      "Warnings:\n",
      "[1] Standard Errors assume that the covariance matrix of the errors is correctly specified.\n",
      "[2] The smallest eigenvalue is 3.5e-34. This might indicate that there are\n",
      "strong multicollinearity problems or that the design matrix is singular.\n"
     ]
    }
   ],
   "source": [
    "model=sm.OLS(y,X)\n",
    "results = model.fit()\n",
    "#print(results.summary())\n",
    "u=results.resid\n",
    "u2=u**2\n",
    "\n",
    "model=sm.OLS(u2,X)\n",
    "results = model.fit()\n",
    "print(results.summary())"
   ]
  },
  {
   "cell_type": "markdown",
   "metadata": {},
   "source": [
    "F=0.3985  \n",
    "On ne rejette pas l'hypothèse $H_0$ (pvalue=0.944 > 0.05)."
   ]
  },
  {
   "cell_type": "markdown",
   "metadata": {},
   "source": [
    "#### Groupe : log_land > 10 "
   ]
  },
  {
   "cell_type": "code",
   "execution_count": 182,
   "metadata": {},
   "outputs": [],
   "source": [
    "y=np.log(price)\n",
    "X=np.column_stack((const,age,nbh,inst,rooms,log_area,log_land,baths2,baths3,baths4,dist,y81))\n",
    "\n",
    "masque = log_land > 10\n",
    "y=y[masque]\n",
    "X=X[masque,:]"
   ]
  },
  {
   "cell_type": "code",
   "execution_count": 183,
   "metadata": {},
   "outputs": [
    {
     "name": "stdout",
     "output_type": "stream",
     "text": [
      "                            OLS Regression Results                            \n",
      "==============================================================================\n",
      "Dep. Variable:                      y   R-squared:                       0.065\n",
      "Model:                            OLS   Adj. R-squared:                  0.018\n",
      "Method:                 Least Squares   F-statistic:                     1.373\n",
      "Date:                Sun, 01 Mar 2020   Prob (F-statistic):              0.187\n",
      "Time:                        17:38:17   Log-Likelihood:                 165.68\n",
      "No. Observations:                 230   AIC:                            -307.4\n",
      "Df Residuals:                     218   BIC:                            -266.1\n",
      "Df Model:                          11                                         \n",
      "Covariance Type:            nonrobust                                         \n",
      "==============================================================================\n",
      "                 coef    std err          t      P>|t|      [0.025      0.975]\n",
      "------------------------------------------------------------------------------\n",
      "const         -0.3093      0.396     -0.781      0.436      -1.090       0.472\n",
      "x1             0.0004      0.000      1.170      0.243      -0.000       0.001\n",
      "x2          2.166e-05      0.005      0.005      0.996      -0.009       0.009\n",
      "x3         -1.689e-06   3.33e-06     -0.508      0.612   -8.24e-06    4.86e-06\n",
      "x4            -0.0173      0.014     -1.250      0.212      -0.045       0.010\n",
      "x5             0.0422      0.038      1.097      0.274      -0.034       0.118\n",
      "x6             0.0201      0.025      0.800      0.425      -0.029       0.070\n",
      "x7             0.0072      0.037      0.197      0.844      -0.065       0.079\n",
      "x8             0.0185      0.043      0.431      0.667      -0.066       0.103\n",
      "x9            -0.0147      0.079     -0.186      0.852      -0.170       0.141\n",
      "x10        -1.796e-06    2.7e-06     -0.665      0.506   -7.11e-06    3.52e-06\n",
      "x11           -0.0191      0.017     -1.126      0.261      -0.053       0.014\n",
      "==============================================================================\n",
      "Omnibus:                      405.251   Durbin-Watson:                   1.999\n",
      "Prob(Omnibus):                  0.000   Jarque-Bera (JB):           120536.312\n",
      "Skew:                           9.300   Prob(JB):                         0.00\n",
      "Kurtosis:                     113.597   Cond. No.                     1.67e+06\n",
      "==============================================================================\n",
      "\n",
      "Warnings:\n",
      "[1] Standard Errors assume that the covariance matrix of the errors is correctly specified.\n",
      "[2] The condition number is large, 1.67e+06. This might indicate that there are\n",
      "strong multicollinearity or other numerical problems.\n"
     ]
    }
   ],
   "source": [
    "model=sm.OLS(y,X)\n",
    "results = model.fit()\n",
    "#print(results.summary())\n",
    "u=results.resid\n",
    "u2=u**2\n",
    "\n",
    "model=sm.OLS(u2,X)\n",
    "results = model.fit()\n",
    "print(results.summary())"
   ]
  },
  {
   "cell_type": "markdown",
   "metadata": {},
   "source": [
    "F=1.373  \n",
    "On ne rejette pas l'hypothèse $H_0$ (pvalue=0.187 > 0.05)."
   ]
  },
  {
   "cell_type": "code",
   "execution_count": null,
   "metadata": {},
   "outputs": [],
   "source": []
  }
 ],
 "metadata": {
  "kernelspec": {
   "display_name": "Python 3",
   "language": "python",
   "name": "python3"
  },
  "language_info": {
   "codemirror_mode": {
    "name": "ipython",
    "version": 3
   },
   "file_extension": ".py",
   "mimetype": "text/x-python",
   "name": "python",
   "nbconvert_exporter": "python",
   "pygments_lexer": "ipython3",
   "version": "3.7.4"
  }
 },
 "nbformat": 4,
 "nbformat_minor": 4
}
