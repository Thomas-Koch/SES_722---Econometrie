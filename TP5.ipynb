{
 "cells": [
  {
   "cell_type": "markdown",
   "metadata": {},
   "source": [
    "# <center>**- SES 722 : TP n°5 Économétrie -**</center>\n"
   ]
  },
  {
   "cell_type": "code",
   "execution_count": 1,
   "metadata": {},
   "outputs": [],
   "source": [
    "import numpy as np\n",
    "import pandas as pd\n",
    "import matplotlib.pyplot as plt\n",
    "plt.style.use('seaborn')\n",
    "\n",
    "import seaborn as sns\n",
    "import statsmodels.api as sm"
   ]
  },
  {
   "cell_type": "code",
   "execution_count": 2,
   "metadata": {},
   "outputs": [
    {
     "data": {
      "text/plain": [
       "['tableau-colorblind10',\n",
       " 'seaborn-bright',\n",
       " 'seaborn-poster',\n",
       " 'ggplot',\n",
       " 'seaborn',\n",
       " 'seaborn-muted',\n",
       " 'seaborn-dark-palette',\n",
       " 'fast',\n",
       " 'seaborn-darkgrid',\n",
       " 'seaborn-talk',\n",
       " 'Solarize_Light2',\n",
       " 'classic',\n",
       " 'fivethirtyeight',\n",
       " 'bmh',\n",
       " 'seaborn-pastel',\n",
       " 'seaborn-deep',\n",
       " 'seaborn-notebook',\n",
       " 'seaborn-ticks',\n",
       " 'seaborn-whitegrid',\n",
       " 'seaborn-dark',\n",
       " 'seaborn-paper',\n",
       " 'grayscale',\n",
       " 'dark_background',\n",
       " '_classic_test',\n",
       " 'seaborn-white',\n",
       " 'seaborn-colorblind']"
      ]
     },
     "execution_count": 2,
     "metadata": {},
     "output_type": "execute_result"
    }
   ],
   "source": [
    "plt.style.available\n",
    "# https://matplotlib.org/3.1.1/gallery/style_sheets/style_sheets_reference.html"
   ]
  },
  {
   "cell_type": "markdown",
   "metadata": {},
   "source": [
    "## **Exercice 1 :**"
   ]
  },
  {
   "cell_type": "code",
   "execution_count": 3,
   "metadata": {},
   "outputs": [],
   "source": [
    "df = pd.read_csv('textfiles/intdef.raw', delim_whitespace=True, header=None)"
   ]
  },
  {
   "cell_type": "code",
   "execution_count": 4,
   "metadata": {},
   "outputs": [
    {
     "data": {
      "text/html": [
       "<div>\n",
       "<style scoped>\n",
       "    .dataframe tbody tr th:only-of-type {\n",
       "        vertical-align: middle;\n",
       "    }\n",
       "\n",
       "    .dataframe tbody tr th {\n",
       "        vertical-align: top;\n",
       "    }\n",
       "\n",
       "    .dataframe thead th {\n",
       "        text-align: right;\n",
       "    }\n",
       "</style>\n",
       "<table border=\"1\" class=\"dataframe\">\n",
       "  <thead>\n",
       "    <tr style=\"text-align: right;\">\n",
       "      <th></th>\n",
       "      <th>0</th>\n",
       "      <th>1</th>\n",
       "      <th>2</th>\n",
       "      <th>3</th>\n",
       "      <th>4</th>\n",
       "      <th>5</th>\n",
       "      <th>6</th>\n",
       "      <th>7</th>\n",
       "      <th>8</th>\n",
       "      <th>9</th>\n",
       "      <th>10</th>\n",
       "      <th>11</th>\n",
       "      <th>12</th>\n",
       "    </tr>\n",
       "  </thead>\n",
       "  <tbody>\n",
       "    <tr>\n",
       "      <td>0</td>\n",
       "      <td>1948</td>\n",
       "      <td>1.04</td>\n",
       "      <td>8.1</td>\n",
       "      <td>16.2</td>\n",
       "      <td>11.6</td>\n",
       "      <td>-4.600000</td>\n",
       "      <td>.</td>\n",
       "      <td>.</td>\n",
       "      <td>.</td>\n",
       "      <td>.</td>\n",
       "      <td>.</td>\n",
       "      <td>.</td>\n",
       "      <td>0</td>\n",
       "    </tr>\n",
       "    <tr>\n",
       "      <td>1</td>\n",
       "      <td>1949</td>\n",
       "      <td>1.10</td>\n",
       "      <td>-1.2</td>\n",
       "      <td>14.5</td>\n",
       "      <td>14.3</td>\n",
       "      <td>-0.200000</td>\n",
       "      <td>1.04</td>\n",
       "      <td>8.1</td>\n",
       "      <td>-4.6</td>\n",
       "      <td>.0600001</td>\n",
       "      <td>-9.3</td>\n",
       "      <td>4.400001</td>\n",
       "      <td>0</td>\n",
       "    </tr>\n",
       "    <tr>\n",
       "      <td>2</td>\n",
       "      <td>1950</td>\n",
       "      <td>1.22</td>\n",
       "      <td>1.3</td>\n",
       "      <td>14.4</td>\n",
       "      <td>15.6</td>\n",
       "      <td>1.200001</td>\n",
       "      <td>1.1</td>\n",
       "      <td>-1.2</td>\n",
       "      <td>-.1999998</td>\n",
       "      <td>.12</td>\n",
       "      <td>2.5</td>\n",
       "      <td>1.400001</td>\n",
       "      <td>0</td>\n",
       "    </tr>\n",
       "    <tr>\n",
       "      <td>3</td>\n",
       "      <td>1951</td>\n",
       "      <td>1.55</td>\n",
       "      <td>7.9</td>\n",
       "      <td>16.1</td>\n",
       "      <td>14.2</td>\n",
       "      <td>-1.900001</td>\n",
       "      <td>1.22</td>\n",
       "      <td>1.3</td>\n",
       "      <td>1.200001</td>\n",
       "      <td>.3299999</td>\n",
       "      <td>6.6</td>\n",
       "      <td>-3.100001</td>\n",
       "      <td>0</td>\n",
       "    </tr>\n",
       "    <tr>\n",
       "      <td>4</td>\n",
       "      <td>1952</td>\n",
       "      <td>1.77</td>\n",
       "      <td>1.9</td>\n",
       "      <td>19.0</td>\n",
       "      <td>19.4</td>\n",
       "      <td>0.400000</td>\n",
       "      <td>1.55</td>\n",
       "      <td>7.9</td>\n",
       "      <td>-1.900001</td>\n",
       "      <td>.22</td>\n",
       "      <td>-6</td>\n",
       "      <td>2.3</td>\n",
       "      <td>0</td>\n",
       "    </tr>\n",
       "  </tbody>\n",
       "</table>\n",
       "</div>"
      ],
      "text/plain": [
       "     0     1    2     3     4         5     6     7          8         9   \\\n",
       "0  1948  1.04  8.1  16.2  11.6 -4.600000     .     .          .         .   \n",
       "1  1949  1.10 -1.2  14.5  14.3 -0.200000  1.04   8.1       -4.6  .0600001   \n",
       "2  1950  1.22  1.3  14.4  15.6  1.200001   1.1  -1.2  -.1999998       .12   \n",
       "3  1951  1.55  7.9  16.1  14.2 -1.900001  1.22   1.3   1.200001  .3299999   \n",
       "4  1952  1.77  1.9  19.0  19.4  0.400000  1.55   7.9  -1.900001       .22   \n",
       "\n",
       "     10         11  12  \n",
       "0     .          .   0  \n",
       "1  -9.3   4.400001   0  \n",
       "2   2.5   1.400001   0  \n",
       "3   6.6  -3.100001   0  \n",
       "4    -6        2.3   0  "
      ]
     },
     "execution_count": 4,
     "metadata": {},
     "output_type": "execute_result"
    }
   ],
   "source": [
    "df.head()"
   ]
  },
  {
   "cell_type": "code",
   "execution_count": 5,
   "metadata": {},
   "outputs": [
    {
     "data": {
      "text/html": [
       "<div>\n",
       "<style scoped>\n",
       "    .dataframe tbody tr th:only-of-type {\n",
       "        vertical-align: middle;\n",
       "    }\n",
       "\n",
       "    .dataframe tbody tr th {\n",
       "        vertical-align: top;\n",
       "    }\n",
       "\n",
       "    .dataframe thead th {\n",
       "        text-align: right;\n",
       "    }\n",
       "</style>\n",
       "<table border=\"1\" class=\"dataframe\">\n",
       "  <thead>\n",
       "    <tr style=\"text-align: right;\">\n",
       "      <th></th>\n",
       "      <th>0</th>\n",
       "      <th>1</th>\n",
       "      <th>2</th>\n",
       "      <th>3</th>\n",
       "      <th>4</th>\n",
       "      <th>5</th>\n",
       "      <th>12</th>\n",
       "    </tr>\n",
       "  </thead>\n",
       "  <tbody>\n",
       "    <tr>\n",
       "      <td>count</td>\n",
       "      <td>56.000000</td>\n",
       "      <td>56.000000</td>\n",
       "      <td>56.000000</td>\n",
       "      <td>56.000000</td>\n",
       "      <td>56.000000</td>\n",
       "      <td>56.000000</td>\n",
       "      <td>56.000000</td>\n",
       "    </tr>\n",
       "    <tr>\n",
       "      <td>mean</td>\n",
       "      <td>1975.500000</td>\n",
       "      <td>4.908214</td>\n",
       "      <td>3.883929</td>\n",
       "      <td>17.923214</td>\n",
       "      <td>19.525000</td>\n",
       "      <td>1.601786</td>\n",
       "      <td>0.482143</td>\n",
       "    </tr>\n",
       "    <tr>\n",
       "      <td>std</td>\n",
       "      <td>16.309506</td>\n",
       "      <td>2.868242</td>\n",
       "      <td>3.040381</td>\n",
       "      <td>1.202723</td>\n",
       "      <td>2.308266</td>\n",
       "      <td>2.109415</td>\n",
       "      <td>0.504203</td>\n",
       "    </tr>\n",
       "    <tr>\n",
       "      <td>min</td>\n",
       "      <td>1948.000000</td>\n",
       "      <td>0.950000</td>\n",
       "      <td>-1.200000</td>\n",
       "      <td>14.400000</td>\n",
       "      <td>11.600000</td>\n",
       "      <td>-4.600000</td>\n",
       "      <td>0.000000</td>\n",
       "    </tr>\n",
       "    <tr>\n",
       "      <td>25%</td>\n",
       "      <td>1961.750000</td>\n",
       "      <td>2.892500</td>\n",
       "      <td>1.675000</td>\n",
       "      <td>17.475000</td>\n",
       "      <td>18.575000</td>\n",
       "      <td>0.300001</td>\n",
       "      <td>0.000000</td>\n",
       "    </tr>\n",
       "    <tr>\n",
       "      <td>50%</td>\n",
       "      <td>1975.500000</td>\n",
       "      <td>4.735000</td>\n",
       "      <td>3.050000</td>\n",
       "      <td>17.800000</td>\n",
       "      <td>19.450000</td>\n",
       "      <td>1.450000</td>\n",
       "      <td>0.000000</td>\n",
       "    </tr>\n",
       "    <tr>\n",
       "      <td>75%</td>\n",
       "      <td>1989.250000</td>\n",
       "      <td>6.515000</td>\n",
       "      <td>5.425000</td>\n",
       "      <td>18.500000</td>\n",
       "      <td>21.225000</td>\n",
       "      <td>2.950001</td>\n",
       "      <td>1.000000</td>\n",
       "    </tr>\n",
       "    <tr>\n",
       "      <td>max</td>\n",
       "      <td>2003.000000</td>\n",
       "      <td>14.030000</td>\n",
       "      <td>13.500000</td>\n",
       "      <td>20.900000</td>\n",
       "      <td>23.500000</td>\n",
       "      <td>6.100000</td>\n",
       "      <td>1.000000</td>\n",
       "    </tr>\n",
       "  </tbody>\n",
       "</table>\n",
       "</div>"
      ],
      "text/plain": [
       "                0          1          2          3          4          5   \\\n",
       "count    56.000000  56.000000  56.000000  56.000000  56.000000  56.000000   \n",
       "mean   1975.500000   4.908214   3.883929  17.923214  19.525000   1.601786   \n",
       "std      16.309506   2.868242   3.040381   1.202723   2.308266   2.109415   \n",
       "min    1948.000000   0.950000  -1.200000  14.400000  11.600000  -4.600000   \n",
       "25%    1961.750000   2.892500   1.675000  17.475000  18.575000   0.300001   \n",
       "50%    1975.500000   4.735000   3.050000  17.800000  19.450000   1.450000   \n",
       "75%    1989.250000   6.515000   5.425000  18.500000  21.225000   2.950001   \n",
       "max    2003.000000  14.030000  13.500000  20.900000  23.500000   6.100000   \n",
       "\n",
       "              12  \n",
       "count  56.000000  \n",
       "mean    0.482143  \n",
       "std     0.504203  \n",
       "min     0.000000  \n",
       "25%     0.000000  \n",
       "50%     0.000000  \n",
       "75%     1.000000  \n",
       "max     1.000000  "
      ]
     },
     "execution_count": 5,
     "metadata": {},
     "output_type": "execute_result"
    }
   ],
   "source": [
    "df.describe()"
   ]
  },
  {
   "cell_type": "code",
   "execution_count": 6,
   "metadata": {},
   "outputs": [
    {
     "data": {
      "image/png": "[encoded data removed]",
      "text/plain": [
       "<Figure size 576x360 with 1 Axes>"
      ]
     },
     "metadata": {
      "needs_background": "light"
     },
     "output_type": "display_data"
    }
   ],
   "source": [
    "year = df[0]\n",
    "i3 = df[1]\n",
    "inf = df[2]\n",
    "deficit = df[5]\n",
    "\n",
    "plt.figure(figsize=(8,5))\n",
    "plt.plot(year, i3, '-', label='i3')\n",
    "plt.plot(year, inf, '-', label='inf')\n",
    "plt.plot(year, deficit, '-', label='deficit')\n",
    "\n",
    "plt.xlabel('Year')\n",
    "#plt.ylabel('val')\n",
    "plt.legend(loc='lower right')\n",
    "\n",
    "plt.tight_layout()\n",
    "plt.show()"
   ]
  },
  {
   "cell_type": "markdown",
   "metadata": {},
   "source": [
    "## **Exercice 2 :**\n",
    "Estimer le modèle $y(t) = i3(t)$ en fonction d’une constante, de $\\text{def}(t − 1)$ et $\\text{inf} (t − 1)$."
   ]
  },
  {
   "cell_type": "code",
   "execution_count": 7,
   "metadata": {},
   "outputs": [],
   "source": [
    "n = len(inf)\n",
    "inf_1 = inf[0:n-1]\n",
    "def_1 = deficit[0:n-1]\n",
    "y = pd.DataFrame(i3[1:n])\n",
    "y = y.reset_index(drop=True)\n",
    "const = np.ones(n-1)\n",
    "\n",
    "col = {'const':const, 'inf_1':inf_1, 'def_1':def_1} \n",
    "X = pd.DataFrame(data=col)"
   ]
  },
  {
   "cell_type": "code",
   "execution_count": 8,
   "metadata": {},
   "outputs": [
    {
     "name": "stdout",
     "output_type": "stream",
     "text": [
      "                            OLS Regression Results                            \n",
      "==============================================================================\n",
      "Dep. Variable:                      1   R-squared:                       0.594\n",
      "Model:                            OLS   Adj. R-squared:                  0.578\n",
      "Method:                 Least Squares   F-statistic:                     38.03\n",
      "Date:                Sun, 08 Mar 2020   Prob (F-statistic):           6.67e-11\n",
      "Time:                        21:08:56   Log-Likelihood:                -110.27\n",
      "No. Observations:                  55   AIC:                             226.5\n",
      "Df Residuals:                      52   BIC:                             232.6\n",
      "Df Model:                           2                                         \n",
      "Covariance Type:            nonrobust                                         \n",
      "==============================================================================\n",
      "                 coef    std err          t      P>|t|      [0.025      0.975]\n",
      "------------------------------------------------------------------------------\n",
      "const          1.8930      0.435      4.356      0.000       1.021       2.765\n",
      "inf_1          0.5672      0.083      6.865      0.000       0.401       0.733\n",
      "def_1          0.5521      0.120      4.616      0.000       0.312       0.792\n",
      "==============================================================================\n",
      "Omnibus:                        2.640   Durbin-Watson:                   0.812\n",
      "Prob(Omnibus):                  0.267   Jarque-Bera (JB):                2.043\n",
      "Skew:                          -0.317   Prob(JB):                        0.360\n",
      "Kurtosis:                       2.300   Cond. No.                         9.27\n",
      "==============================================================================\n",
      "\n",
      "Warnings:\n",
      "[1] Standard Errors assume that the covariance matrix of the errors is correctly specified.\n"
     ]
    }
   ],
   "source": [
    "model = sm.OLS(y,X)\n",
    "results = model.fit()\n",
    "print(results.summary())"
   ]
  },
  {
   "cell_type": "markdown",
   "metadata": {},
   "source": [
    "## **Exercice 3 :**\n",
    "Tester l’autocorrélation des erreurs."
   ]
  },
  {
   "cell_type": "code",
   "execution_count": 9,
   "metadata": {},
   "outputs": [
    {
     "name": "stdout",
     "output_type": "stream",
     "text": [
      "                                 OLS Regression Results                                \n",
      "=======================================================================================\n",
      "Dep. Variable:                      y   R-squared (uncentered):                   0.332\n",
      "Model:                            OLS   Adj. R-squared (uncentered):              0.319\n",
      "Method:                 Least Squares   F-statistic:                              26.32\n",
      "Date:                Sun, 08 Mar 2020   Prob (F-statistic):                    4.20e-06\n",
      "Time:                        21:08:56   Log-Likelihood:                         -96.613\n",
      "No. Observations:                  54   AIC:                                      195.2\n",
      "Df Residuals:                      53   BIC:                                      197.2\n",
      "Df Model:                           1                                                  \n",
      "Covariance Type:            nonrobust                                                  \n",
      "==============================================================================\n",
      "                 coef    std err          t      P>|t|      [0.025      0.975]\n",
      "------------------------------------------------------------------------------\n",
      "x1             0.5738      0.112      5.130      0.000       0.349       0.798\n",
      "==============================================================================\n",
      "Omnibus:                        2.025   Durbin-Watson:                   1.489\n",
      "Prob(Omnibus):                  0.363   Jarque-Bera (JB):                1.963\n",
      "Skew:                          -0.405   Prob(JB):                        0.375\n",
      "Kurtosis:                       2.535   Cond. No.                         1.00\n",
      "==============================================================================\n",
      "\n",
      "Warnings:\n",
      "[1] Standard Errors assume that the covariance matrix of the errors is correctly specified.\n"
     ]
    }
   ],
   "source": [
    "u = results.resid\n",
    "n = len(u)\n",
    "u_1 = u[0:n-1].values\n",
    "\n",
    "X = u_1\n",
    "y = u[1:n]\n",
    "model=sm.OLS(y,X)\n",
    "results1 = model.fit()\n",
    "print(results1.summary())"
   ]
  },
  {
   "cell_type": "markdown",
   "metadata": {},
   "source": [
    "$p = 0$ donc on rejette l'hypothèse $H_0$ à 1%."
   ]
  },
  {
   "cell_type": "markdown",
   "metadata": {},
   "source": [
    "## **Exercice 4 :**\n",
    "Le prof n'a pas réussi à le faire. "
   ]
  },
  {
   "cell_type": "code",
   "execution_count": null,
   "metadata": {},
   "outputs": [],
   "source": []
  },
  {
   "cell_type": "markdown",
   "metadata": {},
   "source": [
    "## **Exercice 5 :**\n",
    "Introduire $\\text{inf}(t − 2)$ et $\\text{def}(t − 2)$ dans le modèle de l’exercice 2. Représentez les délais distribués."
   ]
  },
  {
   "cell_type": "code",
   "execution_count": 10,
   "metadata": {},
   "outputs": [],
   "source": [
    "n = len(i3)\n",
    "y = i3[2:n].reset_index(drop=True)\n",
    "inf_1 = inf[1:n-1].reset_index(drop=True)\n",
    "inf_2 = inf[0:n-2]\n",
    "def_1 = deficit[1:n-1].reset_index(drop=True)\n",
    "def_2 = deficit[0:n-2]\n",
    "const = np.ones(n-2)\n",
    "\n",
    "col5 = {'const':const, 'inf_1':inf_1, 'inf_2':inf_2, 'def_1':def_1, 'def_2':def_2}\n",
    "X5 = pd.DataFrame(data=col5)"
   ]
  },
  {
   "cell_type": "code",
   "execution_count": 11,
   "metadata": {},
   "outputs": [
    {
     "name": "stdout",
     "output_type": "stream",
     "text": [
      "                            OLS Regression Results                            \n",
      "==============================================================================\n",
      "Dep. Variable:                      1   R-squared:                       0.642\n",
      "Model:                            OLS   Adj. R-squared:                  0.613\n",
      "Method:                 Least Squares   F-statistic:                     21.97\n",
      "Date:                Sun, 08 Mar 2020   Prob (F-statistic):           1.96e-10\n",
      "Time:                        21:08:56   Log-Likelihood:                -104.39\n",
      "No. Observations:                  54   AIC:                             218.8\n",
      "Df Residuals:                      49   BIC:                             228.7\n",
      "Df Model:                           4                                         \n",
      "Covariance Type:            nonrobust                                         \n",
      "==============================================================================\n",
      "                 coef    std err          t      P>|t|      [0.025      0.975]\n",
      "------------------------------------------------------------------------------\n",
      "const          1.8573      0.427      4.345      0.000       0.998       2.716\n",
      "inf_1          0.4239      0.134      3.154      0.003       0.154       0.694\n",
      "inf_2          0.2088      0.146      1.429      0.159      -0.085       0.502\n",
      "def_1         -0.0158      0.245     -0.064      0.949      -0.508       0.477\n",
      "def_2          0.4891      0.215      2.279      0.027       0.058       0.920\n",
      "==============================================================================\n",
      "Omnibus:                        0.791   Durbin-Watson:                   0.957\n",
      "Prob(Omnibus):                  0.673   Jarque-Bera (JB):                0.649\n",
      "Skew:                          -0.263   Prob(JB):                        0.723\n",
      "Kurtosis:                       2.889   Cond. No.                         13.1\n",
      "==============================================================================\n",
      "\n",
      "Warnings:\n",
      "[1] Standard Errors assume that the covariance matrix of the errors is correctly specified.\n"
     ]
    }
   ],
   "source": [
    "model=sm.OLS(y,X5)\n",
    "results = model.fit()\n",
    "print(results.summary())"
   ]
  },
  {
   "cell_type": "code",
   "execution_count": 12,
   "metadata": {},
   "outputs": [
    {
     "data": {
      "image/png": "[encoded data removed]",
      "text/plain": [
       "<Figure size 504x216 with 1 Axes>"
      ]
     },
     "metadata": {
      "needs_background": "light"
     },
     "output_type": "display_data"
    }
   ],
   "source": [
    "d_inf = (results.params[1], results.params[2])\n",
    "x = (1,2)\n",
    "\n",
    "# On affiche le déficit\n",
    "plt.figure(figsize=(7,3))\n",
    "plt.bar(x, d_inf)\n",
    "plt.title('Déficit')\n",
    "plt.grid(True)\n",
    "plt.show()"
   ]
  },
  {
   "cell_type": "code",
   "execution_count": 13,
   "metadata": {},
   "outputs": [
    {
     "data": {
      "image/png": "[encoded data removed]",
      "text/plain": [
       "<Figure size 504x216 with 1 Axes>"
      ]
     },
     "metadata": {
      "needs_background": "light"
     },
     "output_type": "display_data"
    }
   ],
   "source": [
    "d_inf = (results.params[3], results.params[4])\n",
    "x = (1,2)\n",
    "\n",
    "# On affiche le profit\n",
    "plt.figure(figsize=(7,3))\n",
    "plt.bar(x, d_inf)\n",
    "plt.title('Profit')\n",
    "plt.grid(True)\n",
    "plt.show()"
   ]
  },
  {
   "cell_type": "markdown",
   "metadata": {},
   "source": [
    "## **Exercice 6 :**\n",
    "Test l’hypothèse de causalité de Granger de l’effet de l’inflation sur ***i3***."
   ]
  },
  {
   "cell_type": "markdown",
   "metadata": {},
   "source": [
    "### Modèle non contraint"
   ]
  },
  {
   "cell_type": "code",
   "execution_count": 14,
   "metadata": {},
   "outputs": [],
   "source": [
    "n = len(i3)\n",
    "y = i3[2:n].reset_index(drop=True)\n",
    "inf_1 = inf[1:n-1].reset_index(drop=True)\n",
    "inf_2 = inf[0:n-2]\n",
    "def_1 = deficit[1:n-1].reset_index(drop=True)\n",
    "def_2 = deficit[0:n-2]\n",
    "const = np.ones(n-2)\n",
    "\n",
    "col6 = {'const':const, 'inf_1':inf_1, 'inf_2':inf_2, 'def_1':def_1, 'def_2':def_2}\n",
    "X0 = pd.DataFrame(data=col6)"
   ]
  },
  {
   "cell_type": "code",
   "execution_count": 15,
   "metadata": {},
   "outputs": [
    {
     "name": "stdout",
     "output_type": "stream",
     "text": [
      "                            OLS Regression Results                            \n",
      "==============================================================================\n",
      "Dep. Variable:                      1   R-squared:                       0.642\n",
      "Model:                            OLS   Adj. R-squared:                  0.613\n",
      "Method:                 Least Squares   F-statistic:                     21.97\n",
      "Date:                Sun, 08 Mar 2020   Prob (F-statistic):           1.96e-10\n",
      "Time:                        21:08:57   Log-Likelihood:                -104.39\n",
      "No. Observations:                  54   AIC:                             218.8\n",
      "Df Residuals:                      49   BIC:                             228.7\n",
      "Df Model:                           4                                         \n",
      "Covariance Type:            nonrobust                                         \n",
      "==============================================================================\n",
      "                 coef    std err          t      P>|t|      [0.025      0.975]\n",
      "------------------------------------------------------------------------------\n",
      "const          1.8573      0.427      4.345      0.000       0.998       2.716\n",
      "inf_1          0.4239      0.134      3.154      0.003       0.154       0.694\n",
      "inf_2          0.2088      0.146      1.429      0.159      -0.085       0.502\n",
      "def_1         -0.0158      0.245     -0.064      0.949      -0.508       0.477\n",
      "def_2          0.4891      0.215      2.279      0.027       0.058       0.920\n",
      "==============================================================================\n",
      "Omnibus:                        0.791   Durbin-Watson:                   0.957\n",
      "Prob(Omnibus):                  0.673   Jarque-Bera (JB):                0.649\n",
      "Skew:                          -0.263   Prob(JB):                        0.723\n",
      "Kurtosis:                       2.889   Cond. No.                         13.1\n",
      "==============================================================================\n",
      "\n",
      "Warnings:\n",
      "[1] Standard Errors assume that the covariance matrix of the errors is correctly specified.\n"
     ]
    }
   ],
   "source": [
    "model = sm.OLS(y,X0)\n",
    "results = model.fit()\n",
    "print(results.summary())\n",
    "u = results.resid\n",
    "SSR0 = u.T@u"
   ]
  },
  {
   "cell_type": "markdown",
   "metadata": {},
   "source": [
    "### Modèle contraint"
   ]
  },
  {
   "cell_type": "code",
   "execution_count": 16,
   "metadata": {},
   "outputs": [
    {
     "name": "stdout",
     "output_type": "stream",
     "text": [
      "                            OLS Regression Results                            \n",
      "==============================================================================\n",
      "Dep. Variable:                      1   R-squared:                       0.276\n",
      "Model:                            OLS   Adj. R-squared:                  0.247\n",
      "Method:                 Least Squares   F-statistic:                     9.709\n",
      "Date:                Sun, 08 Mar 2020   Prob (F-statistic):           0.000267\n",
      "Time:                        21:08:57   Log-Likelihood:                -123.42\n",
      "No. Observations:                  54   AIC:                             252.8\n",
      "Df Residuals:                      51   BIC:                             258.8\n",
      "Df Model:                           2                                         \n",
      "Covariance Type:            nonrobust                                         \n",
      "==============================================================================\n",
      "                 coef    std err          t      P>|t|      [0.025      0.975]\n",
      "------------------------------------------------------------------------------\n",
      "const          3.8495      0.444      8.665      0.000       2.958       4.741\n",
      "def_1          0.2065      0.253      0.816      0.418      -0.302       0.715\n",
      "def_2          0.5433      0.232      2.342      0.023       0.078       1.009\n",
      "==============================================================================\n",
      "Omnibus:                       17.488   Durbin-Watson:                   0.449\n",
      "Prob(Omnibus):                  0.000   Jarque-Bera (JB):               23.626\n",
      "Skew:                           1.160   Prob(JB):                     7.41e-06\n",
      "Kurtosis:                       5.261   Cond. No.                         4.92\n",
      "==============================================================================\n",
      "\n",
      "Warnings:\n",
      "[1] Standard Errors assume that the covariance matrix of the errors is correctly specified.\n"
     ]
    }
   ],
   "source": [
    "# on retire du modèle inf_1 et inf_2\n",
    "col6 = {'const':const, 'def_1':def_1, 'def_2':def_2}\n",
    "X6 = pd.DataFrame(data=col6)\n",
    "\n",
    "# on garde le même y\n",
    "model = sm.OLS(y,X6)\n",
    "results = model.fit()\n",
    "print(results.summary())\n",
    "u = results.resid\n",
    "SSR6 = u.T@u"
   ]
  },
  {
   "cell_type": "code",
   "execution_count": 17,
   "metadata": {},
   "outputs": [
    {
     "name": "stdout",
     "output_type": "stream",
     "text": [
      "pvalue 3.175759714986272e-08\n",
      "Fisher 25.069338083292674\n"
     ]
    }
   ],
   "source": [
    "from scipy.stats import f\n",
    "\n",
    "n,k = np.shape(X0)\n",
    "F = ((SSR6-SSR0)/2)/(SSR0/(n-k))\n",
    " \n",
    "print('pvalue', f.sf(F,2,n-k) )\n",
    "print('Fisher', F)"
   ]
  },
  {
   "cell_type": "markdown",
   "metadata": {},
   "source": [
    "> On rejette donc l'hypothèse $H_0$ puisque $p < 0.01$"
   ]
  },
  {
   "cell_type": "code",
   "execution_count": null,
   "metadata": {},
   "outputs": [],
   "source": []
  }
 ],
 "metadata": {
  "kernelspec": {
   "display_name": "Python 3",
   "language": "python",
   "name": "python3"
  },
  "language_info": {
   "codemirror_mode": {
    "name": "ipython",
    "version": 3
   },
   "file_extension": ".py",
   "mimetype": "text/x-python",
   "name": "python",
   "nbconvert_exporter": "python",
   "pygments_lexer": "ipython3",
   "version": "3.7.4"
  }
 },
 "nbformat": 4,
 "nbformat_minor": 4
}
