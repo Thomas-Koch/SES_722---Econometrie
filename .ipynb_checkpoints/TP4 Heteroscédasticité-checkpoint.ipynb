{
 "cells": [
  {
   "cell_type": "markdown",
   "metadata": {},
   "source": [
    "<h1><center>Hétéroscédasticité<center><h1/>"
   ]
  },
  {
   "cell_type": "code",
   "execution_count": 2,
   "metadata": {},
   "outputs": [
    {
     "data": {
      "text/html": [
       "\n",
       "    <div class=\"bk-root\">\n",
       "        <a href=\"https://bokeh.org\" target=\"_blank\" class=\"bk-logo bk-logo-small bk-logo-notebook\"></a>\n",
       "        <span id=\"1001\">Loading BokehJS ...</span>\n",
       "    </div>"
      ]
     },
     "metadata": {},
     "output_type": "display_data"
    },
    {
     "data": {
      "application/javascript": [
       "\n",
       "(function(root) {\n",
       "  function now() {\n",
       "    return new Date();\n",
       "  }\n",
       "\n",
       "  var force = true;\n",
       "\n",
       "  if (typeof root._bokeh_onload_callbacks === \"undefined\" || force === true) {\n",
       "    root._bokeh_onload_callbacks = [];\n",
       "    root._bokeh_is_loading = undefined;\n",
       "  }\n",
       "\n",
       "  var JS_MIME_TYPE = 'application/javascript';\n",
       "  var HTML_MIME_TYPE = 'text/html';\n",
       "  var EXEC_MIME_TYPE = 'application/vnd.bokehjs_exec.v0+json';\n",
       "  var CLASS_NAME = 'output_bokeh rendered_html';\n",
       "\n",
       "  /**\n",
       "   * Render data to the DOM node\n",
       "   */\n",
       "  function render(props, node) {\n",
       "    var script = document.createElement(\"script\");\n",
       "    node.appendChild(script);\n",
       "  }\n",
       "\n",
       "  /**\n",
       "   * Handle when an output is cleared or removed\n",
       "   */\n",
       "  function handleClearOutput(event, handle) {\n",
       "    var cell = handle.cell;\n",
       "\n",
       "    var id = cell.output_area._bokeh_element_id;\n",
       "    var server_id = cell.output_area._bokeh_server_id;\n",
       "    // Clean up Bokeh references\n",
       "    if (id != null && id in Bokeh.index) {\n",
       "      Bokeh.index[id].model.document.clear();\n",
       "      delete Bokeh.index[id];\n",
       "    }\n",
       "\n",
       "    if (server_id !== undefined) {\n",
       "      // Clean up Bokeh references\n",
       "      var cmd = \"from bokeh.io.state import curstate; print(curstate().uuid_to_server['\" + server_id + \"'].get_sessions()[0].document.roots[0]._id)\";\n",
       "      cell.notebook.kernel.execute(cmd, {\n",
       "        iopub: {\n",
       "          output: function(msg) {\n",
       "            var id = msg.content.text.trim();\n",
       "            if (id in Bokeh.index) {\n",
       "              Bokeh.index[id].model.document.clear();\n",
       "              delete Bokeh.index[id];\n",
       "            }\n",
       "          }\n",
       "        }\n",
       "      });\n",
       "      // Destroy server and session\n",
       "      var cmd = \"import bokeh.io.notebook as ion; ion.destroy_server('\" + server_id + \"')\";\n",
       "      cell.notebook.kernel.execute(cmd);\n",
       "    }\n",
       "  }\n",
       "\n",
       "  /**\n",
       "   * Handle when a new output is added\n",
       "   */\n",
       "  function handleAddOutput(event, handle) {\n",
       "    var output_area = handle.output_area;\n",
       "    var output = handle.output;\n",
       "\n",
       "    // limit handleAddOutput to display_data with EXEC_MIME_TYPE content only\n",
       "    if ((output.output_type != \"display_data\") || (!output.data.hasOwnProperty(EXEC_MIME_TYPE))) {\n",
       "      return\n",
       "    }\n",
       "\n",
       "    var toinsert = output_area.element.find(\".\" + CLASS_NAME.split(' ')[0]);\n",
       "\n",
       "    if (output.metadata[EXEC_MIME_TYPE][\"id\"] !== undefined) {\n",
       "      toinsert[toinsert.length - 1].firstChild.textContent = output.data[JS_MIME_TYPE];\n",
       "      // store reference to embed id on output_area\n",
       "      output_area._bokeh_element_id = output.metadata[EXEC_MIME_TYPE][\"id\"];\n",
       "    }\n",
       "    if (output.metadata[EXEC_MIME_TYPE][\"server_id\"] !== undefined) {\n",
       "      var bk_div = document.createElement(\"div\");\n",
       "      bk_div.innerHTML = output.data[HTML_MIME_TYPE];\n",
       "      var script_attrs = bk_div.children[0].attributes;\n",
       "      for (var i = 0; i < script_attrs.length; i++) {\n",
       "        toinsert[toinsert.length - 1].firstChild.setAttribute(script_attrs[i].name, script_attrs[i].value);\n",
       "      }\n",
       "      // store reference to server id on output_area\n",
       "      output_area._bokeh_server_id = output.metadata[EXEC_MIME_TYPE][\"server_id\"];\n",
       "    }\n",
       "  }\n",
       "\n",
       "  function register_renderer(events, OutputArea) {\n",
       "\n",
       "    function append_mime(data, metadata, element) {\n",
       "      // create a DOM node to render to\n",
       "      var toinsert = this.create_output_subarea(\n",
       "        metadata,\n",
       "        CLASS_NAME,\n",
       "        EXEC_MIME_TYPE\n",
       "      );\n",
       "      this.keyboard_manager.register_events(toinsert);\n",
       "      // Render to node\n",
       "      var props = {data: data, metadata: metadata[EXEC_MIME_TYPE]};\n",
       "      render(props, toinsert[toinsert.length - 1]);\n",
       "      element.append(toinsert);\n",
       "      return toinsert\n",
       "    }\n",
       "\n",
       "    /* Handle when an output is cleared or removed */\n",
       "    events.on('clear_output.CodeCell', handleClearOutput);\n",
       "    events.on('delete.Cell', handleClearOutput);\n",
       "\n",
       "    /* Handle when a new output is added */\n",
       "    events.on('output_added.OutputArea', handleAddOutput);\n",
       "\n",
       "    /**\n",
       "     * Register the mime type and append_mime function with output_area\n",
       "     */\n",
       "    OutputArea.prototype.register_mime_type(EXEC_MIME_TYPE, append_mime, {\n",
       "      /* Is output safe? */\n",
       "      safe: true,\n",
       "      /* Index of renderer in `output_area.display_order` */\n",
       "      index: 0\n",
       "    });\n",
       "  }\n",
       "\n",
       "  // register the mime type if in Jupyter Notebook environment and previously unregistered\n",
       "  if (root.Jupyter !== undefined) {\n",
       "    var events = require('base/js/events');\n",
       "    var OutputArea = require('notebook/js/outputarea').OutputArea;\n",
       "\n",
       "    if (OutputArea.prototype.mime_types().indexOf(EXEC_MIME_TYPE) == -1) {\n",
       "      register_renderer(events, OutputArea);\n",
       "    }\n",
       "  }\n",
       "\n",
       "  \n",
       "  if (typeof (root._bokeh_timeout) === \"undefined\" || force === true) {\n",
       "    root._bokeh_timeout = Date.now() + 5000;\n",
       "    root._bokeh_failed_load = false;\n",
       "  }\n",
       "\n",
       "  var NB_LOAD_WARNING = {'data': {'text/html':\n",
       "     \"<div style='background-color: #fdd'>\\n\"+\n",
       "     \"<p>\\n\"+\n",
       "     \"BokehJS does not appear to have successfully loaded. If loading BokehJS from CDN, this \\n\"+\n",
       "     \"may be due to a slow or bad network connection. Possible fixes:\\n\"+\n",
       "     \"</p>\\n\"+\n",
       "     \"<ul>\\n\"+\n",
       "     \"<li>re-rerun `output_notebook()` to attempt to load from CDN again, or</li>\\n\"+\n",
       "     \"<li>use INLINE resources instead, as so:</li>\\n\"+\n",
       "     \"</ul>\\n\"+\n",
       "     \"<code>\\n\"+\n",
       "     \"from bokeh.resources import INLINE\\n\"+\n",
       "     \"output_notebook(resources=INLINE)\\n\"+\n",
       "     \"</code>\\n\"+\n",
       "     \"</div>\"}};\n",
       "\n",
       "  function display_loaded() {\n",
       "    var el = document.getElementById(\"1001\");\n",
       "    if (el != null) {\n",
       "      el.textContent = \"BokehJS is loading...\";\n",
       "    }\n",
       "    if (root.Bokeh !== undefined) {\n",
       "      if (el != null) {\n",
       "        el.textContent = \"BokehJS \" + root.Bokeh.version + \" successfully loaded.\";\n",
       "      }\n",
       "    } else if (Date.now() < root._bokeh_timeout) {\n",
       "      setTimeout(display_loaded, 100)\n",
       "    }\n",
       "  }\n",
       "\n",
       "\n",
       "  function run_callbacks() {\n",
       "    try {\n",
       "      root._bokeh_onload_callbacks.forEach(function(callback) {\n",
       "        if (callback != null)\n",
       "          callback();\n",
       "      });\n",
       "    } finally {\n",
       "      delete root._bokeh_onload_callbacks\n",
       "    }\n",
       "    console.debug(\"Bokeh: all callbacks have finished\");\n",
       "  }\n",
       "\n",
       "  function load_libs(css_urls, js_urls, callback) {\n",
       "    if (css_urls == null) css_urls = [];\n",
       "    if (js_urls == null) js_urls = [];\n",
       "\n",
       "    root._bokeh_onload_callbacks.push(callback);\n",
       "    if (root._bokeh_is_loading > 0) {\n",
       "      console.debug(\"Bokeh: BokehJS is being loaded, scheduling callback at\", now());\n",
       "      return null;\n",
       "    }\n",
       "    if (js_urls == null || js_urls.length === 0) {\n",
       "      run_callbacks();\n",
       "      return null;\n",
       "    }\n",
       "    console.debug(\"Bokeh: BokehJS not loaded, scheduling load and callback at\", now());\n",
       "    root._bokeh_is_loading = css_urls.length + js_urls.length;\n",
       "\n",
       "    function on_load() {\n",
       "      root._bokeh_is_loading--;\n",
       "      if (root._bokeh_is_loading === 0) {\n",
       "        console.debug(\"Bokeh: all BokehJS libraries/stylesheets loaded\");\n",
       "        run_callbacks()\n",
       "      }\n",
       "    }\n",
       "\n",
       "    function on_error() {\n",
       "      console.error(\"failed to load \" + url);\n",
       "    }\n",
       "\n",
       "    for (var i = 0; i < css_urls.length; i++) {\n",
       "      var url = css_urls[i];\n",
       "      const element = document.createElement(\"link\");\n",
       "      element.onload = on_load;\n",
       "      element.onerror = on_error;\n",
       "      element.rel = \"stylesheet\";\n",
       "      element.type = \"text/css\";\n",
       "      element.href = url;\n",
       "      console.debug(\"Bokeh: injecting link tag for BokehJS stylesheet: \", url);\n",
       "      document.body.appendChild(element);\n",
       "    }\n",
       "\n",
       "    for (var i = 0; i < js_urls.length; i++) {\n",
       "      var url = js_urls[i];\n",
       "      var element = document.createElement('script');\n",
       "      element.onload = on_load;\n",
       "      element.onerror = on_error;\n",
       "      element.async = false;\n",
       "      element.src = url;\n",
       "      console.debug(\"Bokeh: injecting script tag for BokehJS library: \", url);\n",
       "      document.head.appendChild(element);\n",
       "    }\n",
       "  };var element = document.getElementById(\"1001\");\n",
       "  if (element == null) {\n",
       "    console.error(\"Bokeh: ERROR: autoload.js configured with elementid '1001' but no matching script tag was found. \")\n",
       "    return false;\n",
       "  }\n",
       "\n",
       "  function inject_raw_css(css) {\n",
       "    const element = document.createElement(\"style\");\n",
       "    element.appendChild(document.createTextNode(css));\n",
       "    document.body.appendChild(element);\n",
       "  }\n",
       "\n",
       "  \n",
       "  var js_urls = [\"https://cdn.pydata.org/bokeh/release/bokeh-1.4.0.min.js\", \"https://cdn.pydata.org/bokeh/release/bokeh-widgets-1.4.0.min.js\", \"https://cdn.pydata.org/bokeh/release/bokeh-tables-1.4.0.min.js\", \"https://cdn.pydata.org/bokeh/release/bokeh-gl-1.4.0.min.js\"];\n",
       "  var css_urls = [];\n",
       "  \n",
       "\n",
       "  var inline_js = [\n",
       "    function(Bokeh) {\n",
       "      Bokeh.set_log_level(\"info\");\n",
       "    },\n",
       "    function(Bokeh) {\n",
       "    \n",
       "    \n",
       "    }\n",
       "  ];\n",
       "\n",
       "  function run_inline_js() {\n",
       "    \n",
       "    if (root.Bokeh !== undefined || force === true) {\n",
       "      \n",
       "    for (var i = 0; i < inline_js.length; i++) {\n",
       "      inline_js[i].call(root, root.Bokeh);\n",
       "    }\n",
       "    if (force === true) {\n",
       "        display_loaded();\n",
       "      }} else if (Date.now() < root._bokeh_timeout) {\n",
       "      setTimeout(run_inline_js, 100);\n",
       "    } else if (!root._bokeh_failed_load) {\n",
       "      console.log(\"Bokeh: BokehJS failed to load within specified timeout.\");\n",
       "      root._bokeh_failed_load = true;\n",
       "    } else if (force !== true) {\n",
       "      var cell = $(document.getElementById(\"1001\")).parents('.cell').data().cell;\n",
       "      cell.output_area.append_execute_result(NB_LOAD_WARNING)\n",
       "    }\n",
       "\n",
       "  }\n",
       "\n",
       "  if (root._bokeh_is_loading === 0) {\n",
       "    console.debug(\"Bokeh: BokehJS loaded, going straight to plotting\");\n",
       "    run_inline_js();\n",
       "  } else {\n",
       "    load_libs(css_urls, js_urls, function() {\n",
       "      console.debug(\"Bokeh: BokehJS plotting callback run at\", now());\n",
       "      run_inline_js();\n",
       "    });\n",
       "  }\n",
       "}(window));"
      ],
      "application/vnd.bokehjs_load.v0+json": "\n(function(root) {\n  function now() {\n    return new Date();\n  }\n\n  var force = true;\n\n  if (typeof root._bokeh_onload_callbacks === \"undefined\" || force === true) {\n    root._bokeh_onload_callbacks = [];\n    root._bokeh_is_loading = undefined;\n  }\n\n  \n\n  \n  if (typeof (root._bokeh_timeout) === \"undefined\" || force === true) {\n    root._bokeh_timeout = Date.now() + 5000;\n    root._bokeh_failed_load = false;\n  }\n\n  var NB_LOAD_WARNING = {'data': {'text/html':\n     \"<div style='background-color: #fdd'>\\n\"+\n     \"<p>\\n\"+\n     \"BokehJS does not appear to have successfully loaded. If loading BokehJS from CDN, this \\n\"+\n     \"may be due to a slow or bad network connection. Possible fixes:\\n\"+\n     \"</p>\\n\"+\n     \"<ul>\\n\"+\n     \"<li>re-rerun `output_notebook()` to attempt to load from CDN again, or</li>\\n\"+\n     \"<li>use INLINE resources instead, as so:</li>\\n\"+\n     \"</ul>\\n\"+\n     \"<code>\\n\"+\n     \"from bokeh.resources import INLINE\\n\"+\n     \"output_notebook(resources=INLINE)\\n\"+\n     \"</code>\\n\"+\n     \"</div>\"}};\n\n  function display_loaded() {\n    var el = document.getElementById(\"1001\");\n    if (el != null) {\n      el.textContent = \"BokehJS is loading...\";\n    }\n    if (root.Bokeh !== undefined) {\n      if (el != null) {\n        el.textContent = \"BokehJS \" + root.Bokeh.version + \" successfully loaded.\";\n      }\n    } else if (Date.now() < root._bokeh_timeout) {\n      setTimeout(display_loaded, 100)\n    }\n  }\n\n\n  function run_callbacks() {\n    try {\n      root._bokeh_onload_callbacks.forEach(function(callback) {\n        if (callback != null)\n          callback();\n      });\n    } finally {\n      delete root._bokeh_onload_callbacks\n    }\n    console.debug(\"Bokeh: all callbacks have finished\");\n  }\n\n  function load_libs(css_urls, js_urls, callback) {\n    if (css_urls == null) css_urls = [];\n    if (js_urls == null) js_urls = [];\n\n    root._bokeh_onload_callbacks.push(callback);\n    if (root._bokeh_is_loading > 0) {\n      console.debug(\"Bokeh: BokehJS is being loaded, scheduling callback at\", now());\n      return null;\n    }\n    if (js_urls == null || js_urls.length === 0) {\n      run_callbacks();\n      return null;\n    }\n    console.debug(\"Bokeh: BokehJS not loaded, scheduling load and callback at\", now());\n    root._bokeh_is_loading = css_urls.length + js_urls.length;\n\n    function on_load() {\n      root._bokeh_is_loading--;\n      if (root._bokeh_is_loading === 0) {\n        console.debug(\"Bokeh: all BokehJS libraries/stylesheets loaded\");\n        run_callbacks()\n      }\n    }\n\n    function on_error() {\n      console.error(\"failed to load \" + url);\n    }\n\n    for (var i = 0; i < css_urls.length; i++) {\n      var url = css_urls[i];\n      const element = document.createElement(\"link\");\n      element.onload = on_load;\n      element.onerror = on_error;\n      element.rel = \"stylesheet\";\n      element.type = \"text/css\";\n      element.href = url;\n      console.debug(\"Bokeh: injecting link tag for BokehJS stylesheet: \", url);\n      document.body.appendChild(element);\n    }\n\n    for (var i = 0; i < js_urls.length; i++) {\n      var url = js_urls[i];\n      var element = document.createElement('script');\n      element.onload = on_load;\n      element.onerror = on_error;\n      element.async = false;\n      element.src = url;\n      console.debug(\"Bokeh: injecting script tag for BokehJS library: \", url);\n      document.head.appendChild(element);\n    }\n  };var element = document.getElementById(\"1001\");\n  if (element == null) {\n    console.error(\"Bokeh: ERROR: autoload.js configured with elementid '1001' but no matching script tag was found. \")\n    return false;\n  }\n\n  function inject_raw_css(css) {\n    const element = document.createElement(\"style\");\n    element.appendChild(document.createTextNode(css));\n    document.body.appendChild(element);\n  }\n\n  \n  var js_urls = [\"https://cdn.pydata.org/bokeh/release/bokeh-1.4.0.min.js\", \"https://cdn.pydata.org/bokeh/release/bokeh-widgets-1.4.0.min.js\", \"https://cdn.pydata.org/bokeh/release/bokeh-tables-1.4.0.min.js\", \"https://cdn.pydata.org/bokeh/release/bokeh-gl-1.4.0.min.js\"];\n  var css_urls = [];\n  \n\n  var inline_js = [\n    function(Bokeh) {\n      Bokeh.set_log_level(\"info\");\n    },\n    function(Bokeh) {\n    \n    \n    }\n  ];\n\n  function run_inline_js() {\n    \n    if (root.Bokeh !== undefined || force === true) {\n      \n    for (var i = 0; i < inline_js.length; i++) {\n      inline_js[i].call(root, root.Bokeh);\n    }\n    if (force === true) {\n        display_loaded();\n      }} else if (Date.now() < root._bokeh_timeout) {\n      setTimeout(run_inline_js, 100);\n    } else if (!root._bokeh_failed_load) {\n      console.log(\"Bokeh: BokehJS failed to load within specified timeout.\");\n      root._bokeh_failed_load = true;\n    } else if (force !== true) {\n      var cell = $(document.getElementById(\"1001\")).parents('.cell').data().cell;\n      cell.output_area.append_execute_result(NB_LOAD_WARNING)\n    }\n\n  }\n\n  if (root._bokeh_is_loading === 0) {\n    console.debug(\"Bokeh: BokehJS loaded, going straight to plotting\");\n    run_inline_js();\n  } else {\n    load_libs(css_urls, js_urls, function() {\n      console.debug(\"Bokeh: BokehJS plotting callback run at\", now());\n      run_inline_js();\n    });\n  }\n}(window));"
     },
     "metadata": {},
     "output_type": "display_data"
    }
   ],
   "source": [
    "import numpy as np\n",
    "import pandas as pd\n",
    "import pathlib\n",
    "\n",
    "data_path = pathlib.Path(\"../textfiles\")\n",
    "\n",
    "import bokeh.plotting as bkp\n",
    "import bokeh.models as bkm\n",
    "import bokeh.layouts as bkl\n",
    "from bokeh.palettes import d3\n",
    "bkp.output_notebook()\n",
    "\n",
    "import seaborn as sns\n",
    "import matplotlib.pyplot as plt\n",
    "\n",
    "import statsmodels.api as sm\n",
    "from scipy.stats import f, t\n",
    "\n",
    "%load_ext autoreload\n",
    "%autoreload 2"
   ]
  },
  {
   "cell_type": "code",
   "execution_count": 10,
   "metadata": {},
   "outputs": [],
   "source": [
    "data = pd.read_csv(data_path / \"hprice3.raw\", header=None, delim_whitespace=True)\n",
    "\n",
    "columns = [\"year\", \"age\", \"agesq\", \"nbh\", \"cbd\", \"inst\", \"linst\", \"price\", \"rooms\", \"area\",\n",
    "           \"land\", \"baths\", \"dist\", \"ldist\", \"lprice\", \"y81\", \"larea\", \"lland\", \"linstsq\"]  \n",
    "\n",
    "data = data.rename(columns={i : columns[i] for i in range(len(columns))})\n",
    "data.price = data.price/100"
   ]
  },
  {
   "cell_type": "markdown",
   "metadata": {},
   "source": [
    "# Question 1"
   ]
  },
  {
   "cell_type": "code",
   "execution_count": 87,
   "metadata": {},
   "outputs": [
    {
     "data": {
      "image/png": "[encoded data removed]",
      "text/plain": [
       "<Figure size 576x288 with 1 Axes>"
      ]
     },
     "metadata": {
      "needs_background": "light"
     },
     "output_type": "display_data"
    }
   ],
   "source": [
    "plt.figure(figsize=(8, 4))\n",
    "sns.distplot(data.price)\n",
    "plt.title(\"histogramme du prix\", fontsize=14)\n",
    "plt.show()"
   ]
  },
  {
   "cell_type": "code",
   "execution_count": 88,
   "metadata": {},
   "outputs": [
    {
     "name": "stdout",
     "output_type": "stream",
     "text": [
      "                            OLS Regression Results                            \n",
      "==============================================================================\n",
      "Dep. Variable:                  price   R-squared:                       0.715\n",
      "Model:                            OLS   Adj. R-squared:                  0.707\n",
      "Method:                 Least Squares   F-statistic:                     86.73\n",
      "Date:                Fri, 28 Feb 2020   Prob (F-statistic):           2.14e-79\n",
      "Time:                        15:51:17   Log-Likelihood:                -2201.6\n",
      "No. Observations:                 321   AIC:                             4423.\n",
      "Df Residuals:                     311   BIC:                             4461.\n",
      "Df Model:                           9                                         \n",
      "Covariance Type:            nonrobust                                         \n",
      "==============================================================================\n",
      "                 coef    std err          t      P>|t|      [0.025      0.975]\n",
      "------------------------------------------------------------------------------\n",
      "const       -211.1428    105.234     -2.006      0.046    -418.204      -4.081\n",
      "age           -2.2888      0.491     -4.659      0.000      -3.255      -1.322\n",
      "nbh          -19.8892      6.470     -3.074      0.002     -32.620      -7.158\n",
      "inst          -0.0054      0.004     -1.331      0.184      -0.013       0.003\n",
      "rooms         41.3148     19.323      2.138      0.033       3.294      79.335\n",
      "area           0.2174      0.028      7.863      0.000       0.163       0.272\n",
      "land           0.0012      0.000      3.239      0.001       0.000       0.002\n",
      "baths        130.0255     28.530      4.557      0.000      73.889     186.162\n",
      "dist           0.0051      0.004      1.280      0.201      -0.003       0.013\n",
      "y81          358.6543     27.666     12.964      0.000     304.218     413.091\n",
      "==============================================================================\n",
      "Omnibus:                       87.991   Durbin-Watson:                   1.596\n",
      "Prob(Omnibus):                  0.000   Jarque-Bera (JB):              581.142\n",
      "Skew:                           0.942   Prob(JB):                    6.41e-127\n",
      "Kurtosis:                       9.317   Cond. No.                     4.94e+05\n",
      "==============================================================================\n",
      "\n",
      "Warnings:\n",
      "[1] Standard Errors assume that the covariance matrix of the errors is correctly specified.\n",
      "[2] The condition number is large, 4.94e+05. This might indicate that there are\n",
      "strong multicollinearity or other numerical problems.\n",
      "SEC: 53065.34457820744\n"
     ]
    }
   ],
   "source": [
    "varible_regression = [\"age\", \"nbh\", \"inst\", \"rooms\", \"area\", \"land\", \"baths\", \"dist\", \"y81\"]\n",
    "X = data[varible_regression]\n",
    "X = sm.add_constant(X)\n",
    "y = data.price\n",
    "\n",
    "model = sm.OLS(y, X, hasconst=True)\n",
    "results = model.fit() \n",
    "print(results.summary()) \n",
    "SSR0=np.mean(results.resid**2)\n",
    "print(f\"SEC: {SSR0}\")"
   ]
  },
  {
   "cell_type": "markdown",
   "metadata": {},
   "source": [
    "# Question 2"
   ]
  },
  {
   "cell_type": "markdown",
   "metadata": {},
   "source": [
    "# Test hétéroscédasticité"
   ]
  },
  {
   "cell_type": "code",
   "execution_count": 89,
   "metadata": {},
   "outputs": [
    {
     "name": "stdout",
     "output_type": "stream",
     "text": [
      "                            OLS Regression Results                            \n",
      "==============================================================================\n",
      "Dep. Variable:                      y   R-squared:                       0.281\n",
      "Model:                            OLS   Adj. R-squared:                  0.261\n",
      "Method:                 Least Squares   F-statistic:                     13.53\n",
      "Date:                Fri, 28 Feb 2020   Prob (F-statistic):           2.57e-18\n",
      "Time:                        15:51:18   Log-Likelihood:                -4234.7\n",
      "No. Observations:                 321   AIC:                             8489.\n",
      "Df Residuals:                     311   BIC:                             8527.\n",
      "Df Model:                           9                                         \n",
      "Covariance Type:            nonrobust                                         \n",
      "==============================================================================\n",
      "                 coef    std err          t      P>|t|      [0.025      0.975]\n",
      "------------------------------------------------------------------------------\n",
      "const       2.307e+04   5.93e+04      0.389      0.697   -9.35e+04     1.4e+05\n",
      "age         -615.5935    276.676     -2.225      0.027   -1159.986     -71.201\n",
      "nbh        -3018.7279   3643.672     -0.828      0.408   -1.02e+04    4150.638\n",
      "inst          -3.0761      2.285     -1.346      0.179      -7.571       1.419\n",
      "rooms      -7635.9441   1.09e+04     -0.702      0.483    -2.9e+04    1.38e+04\n",
      "area          89.8939     15.573      5.772      0.000      59.252     120.536\n",
      "land           1.5736      0.212      7.426      0.000       1.157       1.991\n",
      "baths      -2.721e+04   1.61e+04     -1.694      0.091   -5.88e+04    4401.122\n",
      "dist          -2.0748      2.225     -0.932      0.352      -6.454       2.304\n",
      "y81         7940.4165   1.56e+04      0.510      0.611   -2.27e+04    3.86e+04\n",
      "==============================================================================\n",
      "Omnibus:                      366.671   Durbin-Watson:                   1.916\n",
      "Prob(Omnibus):                  0.000   Jarque-Bera (JB):            22235.419\n",
      "Skew:                           4.972   Prob(JB):                         0.00\n",
      "Kurtosis:                      42.542   Cond. No.                     4.94e+05\n",
      "==============================================================================\n",
      "\n",
      "Warnings:\n",
      "[1] Standard Errors assume that the covariance matrix of the errors is correctly specified.\n",
      "[2] The condition number is large, 4.94e+05. This might indicate that there are\n",
      "strong multicollinearity or other numerical problems.\n"
     ]
    }
   ],
   "source": [
    "test = results.resid**2\n",
    "\n",
    "model = sm.OLS(test, X, hasconst=True)\n",
    "results = model.fit() \n",
    "print(results.summary()) "
   ]
  },
  {
   "cell_type": "markdown",
   "metadata": {},
   "source": [
    "* Le test de Fisher vaut **13,53** avec une p-valeur de **2.57e-18**. Ainsi il est très peux probable que les varibles explicatives soit homoscédastique. On rejette l'hypothèse d'homoscédasticité."
   ]
  },
  {
   "cell_type": "markdown",
   "metadata": {},
   "source": [
    "# Question 3"
   ]
  },
  {
   "cell_type": "markdown",
   "metadata": {},
   "source": [
    "Tester l’hypothèse $H_0$ : $\\theta_{area}$ = $\\theta_{land} = 0$"
   ]
  },
  {
   "cell_type": "markdown",
   "metadata": {},
   "source": [
    "### Modèle non contraint"
   ]
  },
  {
   "cell_type": "code",
   "execution_count": 90,
   "metadata": {},
   "outputs": [
    {
     "name": "stdout",
     "output_type": "stream",
     "text": [
      "SEC: 16829326377.722805\n"
     ]
    }
   ],
   "source": [
    "varible_regression = [\"age\", \"nbh\", \"inst\", \"rooms\", \"area\", \"land\", \"baths\", \"dist\", \"y81\"]\n",
    "X = data[varible_regression]\n",
    "X = sm.add_constant(X)\n",
    "y = data.price\n",
    "\n",
    "model = sm.OLS(y, sm.add_constant(X), hasconst=True)\n",
    "results = model.fit() \n",
    "\n",
    "\n",
    "test = results.resid**2\n",
    "\n",
    "model = sm.OLS(test, X, hasconst=True)\n",
    "results = model.fit() \n",
    "SSR0=np.mean(results.resid**2)\n",
    "print(f\"SEC: {SSR0}\")"
   ]
  },
  {
   "cell_type": "markdown",
   "metadata": {},
   "source": [
    "### Modèle contraint"
   ]
  },
  {
   "cell_type": "code",
   "execution_count": 91,
   "metadata": {},
   "outputs": [
    {
     "name": "stdout",
     "output_type": "stream",
     "text": [
      "SEC: 21777872673.047237\n"
     ]
    }
   ],
   "source": [
    "varible_regression = [\"age\", \"nbh\", \"inst\", \"rooms\", \"baths\", \"dist\", \"y81\"]\n",
    "X = data[varible_regression]\n",
    "X = sm.add_constant(X)\n",
    "\n",
    "model = sm.OLS(test, X, hasconst=True)\n",
    "results = model.fit() \n",
    "SSR1=np.mean(results.resid**2)\n",
    "print(f\"SEC: {SSR1}\")"
   ]
  },
  {
   "cell_type": "markdown",
   "metadata": {},
   "source": [
    "### Test de fisher"
   ]
  },
  {
   "cell_type": "code",
   "execution_count": 92,
   "metadata": {},
   "outputs": [
    {
     "name": "stdout",
     "output_type": "stream",
     "text": [
      "Statistique de Fisher: 44.106456054071955\n",
      "p-value: 1.6132133015772462e-17\n"
     ]
    }
   ],
   "source": [
    "n, k = data.shape\n",
    "fisher_stat = ((SSR1-SSR0)/2) / (SSR0/(n - k))\n",
    "print(f\"Statistique de Fisher: {fisher_stat}\")\n",
    "print(f\"p-value: {f.sf(fisher_stat, 2, n - k)}\")"
   ]
  },
  {
   "cell_type": "markdown",
   "metadata": {},
   "source": [
    "## Question 4"
   ]
  },
  {
   "cell_type": "markdown",
   "metadata": {},
   "source": [
    "Test d'hétéroscédasticité avec dummy encoding de `bath`"
   ]
  },
  {
   "cell_type": "code",
   "execution_count": 93,
   "metadata": {},
   "outputs": [],
   "source": [
    "data.baths.unique()\n",
    "dummies_bath = pd.get_dummies(data.baths, prefix='bath', drop_first=True)"
   ]
  },
  {
   "cell_type": "code",
   "execution_count": 94,
   "metadata": {},
   "outputs": [
    {
     "name": "stdout",
     "output_type": "stream",
     "text": [
      "                            OLS Regression Results                            \n",
      "==============================================================================\n",
      "Dep. Variable:                  price   R-squared:                       0.720\n",
      "Model:                            OLS   Adj. R-squared:                  0.710\n",
      "Method:                 Least Squares   F-statistic:                     72.22\n",
      "Date:                Fri, 28 Feb 2020   Prob (F-statistic):           1.33e-78\n",
      "Time:                        15:51:20   Log-Likelihood:                -2198.8\n",
      "No. Observations:                 321   AIC:                             4422.\n",
      "Df Residuals:                     309   BIC:                             4467.\n",
      "Df Model:                          11                                         \n",
      "Covariance Type:            nonrobust                                         \n",
      "==============================================================================\n",
      "                 coef    std err          t      P>|t|      [0.025      0.975]\n",
      "------------------------------------------------------------------------------\n",
      "const        -35.3626    113.493     -0.312      0.756    -258.679     187.953\n",
      "age           -2.1398      0.517     -4.142      0.000      -3.156      -1.123\n",
      "nbh          -18.7182      6.485     -2.887      0.004     -31.478      -5.959\n",
      "inst          -0.0049      0.004     -1.213      0.226      -0.013       0.003\n",
      "rooms         40.2520     19.317      2.084      0.038       2.243      78.261\n",
      "area           0.2164      0.028      7.830      0.000       0.162       0.271\n",
      "land           0.0013      0.000      3.381      0.001       0.001       0.002\n",
      "dist           0.0042      0.004      1.057      0.291      -0.004       0.012\n",
      "y81          351.9898     27.683     12.715      0.000     297.518     406.462\n",
      "bath_2        56.5481     44.428      1.273      0.204     -30.871     143.967\n",
      "bath_3       248.5475     58.807      4.226      0.000     132.834     364.261\n",
      "bath_4       305.2797    141.172      2.162      0.031      27.500     583.059\n",
      "==============================================================================\n",
      "Omnibus:                       84.992   Durbin-Watson:                   1.574\n",
      "Prob(Omnibus):                  0.000   Jarque-Bera (JB):              559.720\n",
      "Skew:                           0.902   Prob(JB):                    2.87e-122\n",
      "Kurtosis:                       9.212   Cond. No.                     6.97e+05\n",
      "==============================================================================\n",
      "\n",
      "Warnings:\n",
      "[1] Standard Errors assume that the covariance matrix of the errors is correctly specified.\n",
      "[2] The condition number is large, 6.97e+05. This might indicate that there are\n",
      "strong multicollinearity or other numerical problems.\n"
     ]
    }
   ],
   "source": [
    "varible_regression = [\"age\", \"nbh\", \"inst\", \"rooms\", \"area\", \"land\", \"dist\", \"y81\"]\n",
    "X = pd.concat([data[varible_regression], dummies_bath], axis=1)\n",
    "X = sm.add_constant(X)\n",
    "y = data.price\n",
    "\n",
    "model = sm.OLS(y, X, hasconst=True)\n",
    "results = model.fit() \n",
    "print(results.summary())"
   ]
  },
  {
   "cell_type": "markdown",
   "metadata": {},
   "source": [
    "## Test hétéroscédasticité"
   ]
  },
  {
   "cell_type": "code",
   "execution_count": 95,
   "metadata": {},
   "outputs": [
    {
     "name": "stdout",
     "output_type": "stream",
     "text": [
      "                            OLS Regression Results                            \n",
      "==============================================================================\n",
      "Dep. Variable:                      y   R-squared:                       0.281\n",
      "Model:                            OLS   Adj. R-squared:                  0.255\n",
      "Method:                 Least Squares   F-statistic:                     10.97\n",
      "Date:                Fri, 28 Feb 2020   Prob (F-statistic):           3.93e-17\n",
      "Time:                        15:51:21   Log-Likelihood:                -4227.2\n",
      "No. Observations:                 321   AIC:                             8478.\n",
      "Df Residuals:                     309   BIC:                             8524.\n",
      "Df Model:                          11                                         \n",
      "Covariance Type:            nonrobust                                         \n",
      "==============================================================================\n",
      "                 coef    std err          t      P>|t|      [0.025      0.975]\n",
      "------------------------------------------------------------------------------\n",
      "const       7663.0126    6.3e+04      0.122      0.903   -1.16e+05    1.32e+05\n",
      "age         -436.3323    286.694     -1.522      0.129   -1000.452     127.787\n",
      "nbh        -3348.4394   3598.974     -0.930      0.353   -1.04e+04    3733.156\n",
      "inst          -2.3966      2.248     -1.066      0.287      -6.821       2.027\n",
      "rooms      -8966.3938   1.07e+04     -0.836      0.404   -3.01e+04    1.21e+04\n",
      "area          86.6915     15.338      5.652      0.000      56.511     116.872\n",
      "land           1.5282      0.208      7.344      0.000       1.119       1.938\n",
      "dist          -2.6414      2.199     -1.201      0.231      -6.969       1.686\n",
      "y81         7164.9064   1.54e+04      0.466      0.641   -2.31e+04    3.74e+04\n",
      "bath_2     -3.527e+04   2.47e+04     -1.430      0.154   -8.38e+04    1.32e+04\n",
      "bath_3     -4.041e+04   3.26e+04     -1.238      0.217   -1.05e+05    2.38e+04\n",
      "bath_4     -1.733e+05   7.84e+04     -2.212      0.028   -3.27e+05   -1.91e+04\n",
      "==============================================================================\n",
      "Omnibus:                      356.008   Durbin-Watson:                   1.891\n",
      "Prob(Omnibus):                  0.000   Jarque-Bera (JB):            18901.036\n",
      "Skew:                           4.783   Prob(JB):                         0.00\n",
      "Kurtosis:                      39.354   Cond. No.                     6.97e+05\n",
      "==============================================================================\n",
      "\n",
      "Warnings:\n",
      "[1] Standard Errors assume that the covariance matrix of the errors is correctly specified.\n",
      "[2] The condition number is large, 6.97e+05. This might indicate that there are\n",
      "strong multicollinearity or other numerical problems.\n"
     ]
    }
   ],
   "source": [
    "test = results.resid**2\n",
    "\n",
    "model = sm.OLS(test, X, hasconst=True)\n",
    "results = model.fit() \n",
    "print(results.summary()) "
   ]
  },
  {
   "cell_type": "markdown",
   "metadata": {},
   "source": [
    "# Question 5\n",
    "\n",
    "* En utilisant la spécification de l’exercice 4, refaire le test d’hétéroscédasticité en utilisant $log(area)$ et $log(land)$ ."
   ]
  },
  {
   "cell_type": "code",
   "execution_count": 96,
   "metadata": {},
   "outputs": [],
   "source": [
    "data[\"log_area\"] = np.log(data.area)\n",
    "data[\"log_land\"] = np.log(data.land)"
   ]
  },
  {
   "cell_type": "code",
   "execution_count": 97,
   "metadata": {},
   "outputs": [
    {
     "name": "stdout",
     "output_type": "stream",
     "text": [
      "                            OLS Regression Results                            \n",
      "==============================================================================\n",
      "Dep. Variable:                  price   R-squared:                       0.712\n",
      "Model:                            OLS   Adj. R-squared:                  0.702\n",
      "Method:                 Least Squares   F-statistic:                     69.51\n",
      "Date:                Fri, 28 Feb 2020   Prob (F-statistic):           8.66e-77\n",
      "Time:                        15:51:21   Log-Likelihood:                -2203.2\n",
      "No. Observations:                 321   AIC:                             4430.\n",
      "Df Residuals:                     309   BIC:                             4476.\n",
      "Df Model:                          11                                         \n",
      "Covariance Type:            nonrobust                                         \n",
      "==============================================================================\n",
      "                 coef    std err          t      P>|t|      [0.025      0.975]\n",
      "------------------------------------------------------------------------------\n",
      "const      -3479.2455    460.500     -7.555      0.000   -4385.357   -2573.133\n",
      "age           -1.8540      0.521     -3.561      0.000      -2.879      -0.829\n",
      "nbh          -13.6886      6.844     -2.000      0.046     -27.156      -0.221\n",
      "inst          -0.0092      0.005     -1.973      0.049      -0.018   -2.52e-05\n",
      "rooms         34.6126     19.664      1.760      0.079      -4.079      73.304\n",
      "log_area     383.2772     59.849      6.404      0.000     265.514     501.040\n",
      "log_land     112.1135     28.818      3.890      0.000      55.409     168.819\n",
      "dist           0.0038      0.004      0.929      0.353      -0.004       0.012\n",
      "y81          354.3181     27.883     12.707      0.000     299.454     409.182\n",
      "bath_2        28.2330     46.699      0.605      0.546     -63.655     120.121\n",
      "bath_3       230.3010     62.385      3.692      0.000     107.548     353.054\n",
      "bath_4       368.8085    141.115      2.614      0.009      91.141     646.476\n",
      "==============================================================================\n",
      "Omnibus:                      113.881   Durbin-Watson:                   1.596\n",
      "Prob(Omnibus):                  0.000   Jarque-Bera (JB):              803.843\n",
      "Skew:                           1.273   Prob(JB):                    2.80e-175\n",
      "Kurtosis:                      10.322   Cond. No.                     1.03e+06\n",
      "==============================================================================\n",
      "\n",
      "Warnings:\n",
      "[1] Standard Errors assume that the covariance matrix of the errors is correctly specified.\n",
      "[2] The condition number is large, 1.03e+06. This might indicate that there are\n",
      "strong multicollinearity or other numerical problems.\n"
     ]
    }
   ],
   "source": [
    "varible_regression = [\"age\", \"nbh\", \"inst\", \"rooms\", \"log_area\", \"log_land\", \"dist\", \"y81\"]\n",
    "X = pd.concat([data[varible_regression], dummies_bath], axis=1)\n",
    "X = sm.add_constant(X)\n",
    "y = data.price\n",
    "\n",
    "model = sm.OLS(y, X, hasconst=True)\n",
    "results = model.fit() \n",
    "print(results.summary())"
   ]
  },
  {
   "cell_type": "markdown",
   "metadata": {},
   "source": [
    "## Test hétéroscédasticité"
   ]
  },
  {
   "cell_type": "code",
   "execution_count": 98,
   "metadata": {},
   "outputs": [
    {
     "name": "stdout",
     "output_type": "stream",
     "text": [
      "                            OLS Regression Results                            \n",
      "==============================================================================\n",
      "Dep. Variable:                      y   R-squared:                       0.162\n",
      "Model:                            OLS   Adj. R-squared:                  0.132\n",
      "Method:                 Least Squares   F-statistic:                     5.419\n",
      "Date:                Fri, 28 Feb 2020   Prob (F-statistic):           6.86e-08\n",
      "Time:                        15:51:22   Log-Likelihood:                -4281.0\n",
      "No. Observations:                 321   AIC:                             8586.\n",
      "Df Residuals:                     309   BIC:                             8631.\n",
      "Df Model:                          11                                         \n",
      "Covariance Type:            nonrobust                                         \n",
      "==============================================================================\n",
      "                 coef    std err          t      P>|t|      [0.025      0.975]\n",
      "------------------------------------------------------------------------------\n",
      "const       -1.44e+06   2.98e+05     -4.831      0.000   -2.03e+06   -8.53e+05\n",
      "age          -95.7984    337.009     -0.284      0.776    -758.921     567.324\n",
      "nbh          -21.0189   4429.761     -0.005      0.996   -8737.331    8695.293\n",
      "inst          -5.8131      3.017     -1.927      0.055     -11.750       0.124\n",
      "rooms      -1.334e+04   1.27e+04     -1.048      0.295   -3.84e+04    1.17e+04\n",
      "log_area    1.045e+05   3.87e+04      2.699      0.007    2.83e+04    1.81e+05\n",
      "log_land     9.33e+04   1.87e+04      5.002      0.000    5.66e+04     1.3e+05\n",
      "dist          -2.3555      2.614     -0.901      0.368      -7.498       2.787\n",
      "y81         1090.5964    1.8e+04      0.060      0.952   -3.44e+04    3.66e+04\n",
      "bath_2     -4.642e+04   3.02e+04     -1.536      0.126   -1.06e+05    1.31e+04\n",
      "bath_3     -2.498e+04   4.04e+04     -0.619      0.537   -1.04e+05    5.45e+04\n",
      "bath_4     -7.602e+04   9.13e+04     -0.832      0.406   -2.56e+05    1.04e+05\n",
      "==============================================================================\n",
      "Omnibus:                      483.846   Durbin-Watson:                   1.922\n",
      "Prob(Omnibus):                  0.000   Jarque-Bera (JB):            94672.233\n",
      "Skew:                           7.632   Prob(JB):                         0.00\n",
      "Kurtosis:                      85.736   Cond. No.                     1.03e+06\n",
      "==============================================================================\n",
      "\n",
      "Warnings:\n",
      "[1] Standard Errors assume that the covariance matrix of the errors is correctly specified.\n",
      "[2] The condition number is large, 1.03e+06. This might indicate that there are\n",
      "strong multicollinearity or other numerical problems.\n"
     ]
    }
   ],
   "source": [
    "test = results.resid**2\n",
    "\n",
    "model = sm.OLS(test, X, hasconst=True)\n",
    "results = model.fit() \n",
    "print(results.summary()) "
   ]
  },
  {
   "cell_type": "markdown",
   "metadata": {},
   "source": [
    "# Exercice 6\n",
    "\n",
    "* En utilisant la spécification de l’exercice 5, refaire le test d’hétéroscédasticité en utilisant $y = log(\\frac{price}{100})$ ."
   ]
  },
  {
   "cell_type": "code",
   "execution_count": 99,
   "metadata": {},
   "outputs": [
    {
     "name": "stdout",
     "output_type": "stream",
     "text": [
      "                            OLS Regression Results                            \n",
      "==============================================================================\n",
      "Dep. Variable:                  price   R-squared:                       0.785\n",
      "Model:                            OLS   Adj. R-squared:                  0.777\n",
      "Method:                 Least Squares   F-statistic:                     102.6\n",
      "Date:                Fri, 28 Feb 2020   Prob (F-statistic):           3.52e-96\n",
      "Time:                        15:51:22   Log-Likelihood:                 56.624\n",
      "No. Observations:                 321   AIC:                            -89.25\n",
      "Df Residuals:                     309   BIC:                            -43.99\n",
      "Df Model:                          11                                         \n",
      "Covariance Type:            nonrobust                                         \n",
      "==============================================================================\n",
      "                 coef    std err          t      P>|t|      [0.025      0.975]\n",
      "------------------------------------------------------------------------------\n",
      "const          2.3297      0.403      5.774      0.000       1.536       3.124\n",
      "age           -0.0026      0.000     -5.635      0.000      -0.003      -0.002\n",
      "nbh           -0.0099      0.006     -1.645      0.101      -0.022       0.002\n",
      "inst       -8.603e-06   4.08e-06     -2.106      0.036   -1.66e-05   -5.66e-07\n",
      "rooms          0.0575      0.017      3.338      0.001       0.024       0.091\n",
      "log_area       0.3465      0.052      6.608      0.000       0.243       0.450\n",
      "log_land       0.1163      0.025      4.608      0.000       0.067       0.166\n",
      "dist        6.041e-06   3.54e-06      1.707      0.089   -9.21e-07     1.3e-05\n",
      "y81            0.3722      0.024     15.238      0.000       0.324       0.420\n",
      "bath_2         0.0779      0.041      1.903      0.058      -0.003       0.158\n",
      "bath_3         0.2517      0.055      4.605      0.000       0.144       0.359\n",
      "bath_4         0.4268      0.124      3.452      0.001       0.184       0.670\n",
      "==============================================================================\n",
      "Omnibus:                       70.271   Durbin-Watson:                   1.697\n",
      "Prob(Omnibus):                  0.000   Jarque-Bera (JB):              358.475\n",
      "Skew:                          -0.787   Prob(JB):                     1.44e-78\n",
      "Kurtosis:                       7.932   Cond. No.                     1.03e+06\n",
      "==============================================================================\n",
      "\n",
      "Warnings:\n",
      "[1] Standard Errors assume that the covariance matrix of the errors is correctly specified.\n",
      "[2] The condition number is large, 1.03e+06. This might indicate that there are\n",
      "strong multicollinearity or other numerical problems.\n"
     ]
    }
   ],
   "source": [
    "varible_regression = [\"age\", \"nbh\", \"inst\", \"rooms\", \"log_area\", \"log_land\", \"dist\", \"y81\"]\n",
    "X = pd.concat([data[varible_regression], dummies_bath], axis=1)\n",
    "X = sm.add_constant(X)\n",
    "y = np.log(data.price)\n",
    "\n",
    "model = sm.OLS(y, X, hasconst=True)\n",
    "results = model.fit() \n",
    "print(results.summary())"
   ]
  },
  {
   "cell_type": "markdown",
   "metadata": {},
   "source": [
    "## Test hétéroscédasticité"
   ]
  },
  {
   "cell_type": "code",
   "execution_count": 100,
   "metadata": {},
   "outputs": [
    {
     "name": "stdout",
     "output_type": "stream",
     "text": [
      "                            OLS Regression Results                            \n",
      "==============================================================================\n",
      "Dep. Variable:                      y   R-squared:                       0.064\n",
      "Model:                            OLS   Adj. R-squared:                  0.030\n",
      "Method:                 Least Squares   F-statistic:                     1.905\n",
      "Date:                Fri, 28 Feb 2020   Prob (F-statistic):             0.0381\n",
      "Time:                        15:51:22   Log-Likelihood:                 268.51\n",
      "No. Observations:                 321   AIC:                            -513.0\n",
      "Df Residuals:                     309   BIC:                            -467.8\n",
      "Df Model:                          11                                         \n",
      "Covariance Type:            nonrobust                                         \n",
      "==============================================================================\n",
      "                 coef    std err          t      P>|t|      [0.025      0.975]\n",
      "------------------------------------------------------------------------------\n",
      "const         -0.4437      0.209     -2.128      0.034      -0.854      -0.033\n",
      "age            0.0003      0.000      1.293      0.197      -0.000       0.001\n",
      "nbh           -0.0006      0.003     -0.205      0.838      -0.007       0.005\n",
      "inst       -2.004e-06   2.11e-06     -0.949      0.343   -6.16e-06    2.15e-06\n",
      "rooms         -0.0089      0.009     -1.001      0.318      -0.026       0.009\n",
      "log_area       0.0347      0.027      1.282      0.201      -0.019       0.088\n",
      "log_land       0.0320      0.013      2.454      0.015       0.006       0.058\n",
      "dist       -1.173e-06   1.83e-06     -0.641      0.522   -4.77e-06    2.42e-06\n",
      "y81           -0.0153      0.013     -1.212      0.226      -0.040       0.010\n",
      "bath_2         0.0052      0.021      0.245      0.806      -0.036       0.047\n",
      "bath_3         0.0162      0.028      0.573      0.567      -0.039       0.072\n",
      "bath_4        -0.0028      0.064     -0.044      0.965      -0.129       0.123\n",
      "==============================================================================\n",
      "Omnibus:                      552.886   Durbin-Watson:                   2.020\n",
      "Prob(Omnibus):                  0.000   Jarque-Bera (JB):           218514.019\n",
      "Skew:                           9.627   Prob(JB):                         0.00\n",
      "Kurtosis:                     129.360   Cond. No.                     1.03e+06\n",
      "==============================================================================\n",
      "\n",
      "Warnings:\n",
      "[1] Standard Errors assume that the covariance matrix of the errors is correctly specified.\n",
      "[2] The condition number is large, 1.03e+06. This might indicate that there are\n",
      "strong multicollinearity or other numerical problems.\n"
     ]
    }
   ],
   "source": [
    "test = results.resid**2\n",
    "\n",
    "model = sm.OLS(test, X, hasconst=True)\n",
    "results = model.fit() \n",
    "print(results.summary()) "
   ]
  },
  {
   "cell_type": "markdown",
   "metadata": {},
   "source": [
    "# Question 7\n",
    "\n",
    "* Utiliser la variable `lland` pour pondérer les observations dans la spécification de l’exercice 6. Refaire le test d’hétéroscédasticité."
   ]
  },
  {
   "cell_type": "code",
   "execution_count": 104,
   "metadata": {},
   "outputs": [
    {
     "name": "stdout",
     "output_type": "stream",
     "text": [
      "                            WLS Regression Results                            \n",
      "==============================================================================\n",
      "Dep. Variable:                  price   R-squared:                       0.785\n",
      "Model:                            WLS   Adj. R-squared:                  0.777\n",
      "Method:                 Least Squares   F-statistic:                     102.6\n",
      "Date:                Fri, 28 Feb 2020   Prob (F-statistic):           3.52e-96\n",
      "Time:                        15:55:14   Log-Likelihood:                 56.624\n",
      "No. Observations:                 321   AIC:                            -89.25\n",
      "Df Residuals:                     309   BIC:                            -43.99\n",
      "Df Model:                          11                                         \n",
      "Covariance Type:            nonrobust                                         \n",
      "==============================================================================\n",
      "                 coef    std err          t      P>|t|      [0.025      0.975]\n",
      "------------------------------------------------------------------------------\n",
      "const          2.3297      0.403      5.774      0.000       1.536       3.124\n",
      "age           -0.0026      0.000     -5.635      0.000      -0.003      -0.002\n",
      "nbh           -0.0099      0.006     -1.645      0.101      -0.022       0.002\n",
      "inst       -8.603e-06   4.08e-06     -2.106      0.036   -1.66e-05   -5.66e-07\n",
      "rooms          0.0575      0.017      3.338      0.001       0.024       0.091\n",
      "log_area       0.3465      0.052      6.608      0.000       0.243       0.450\n",
      "log_land       0.1163      0.025      4.608      0.000       0.067       0.166\n",
      "dist        6.041e-06   3.54e-06      1.707      0.089   -9.21e-07     1.3e-05\n",
      "y81            0.3722      0.024     15.238      0.000       0.324       0.420\n",
      "bath_2         0.0779      0.041      1.903      0.058      -0.003       0.158\n",
      "bath_3         0.2517      0.055      4.605      0.000       0.144       0.359\n",
      "bath_4         0.4268      0.124      3.452      0.001       0.184       0.670\n",
      "==============================================================================\n",
      "Omnibus:                       70.271   Durbin-Watson:                   1.697\n",
      "Prob(Omnibus):                  0.000   Jarque-Bera (JB):              358.475\n",
      "Skew:                          -0.787   Prob(JB):                     1.44e-78\n",
      "Kurtosis:                       7.932   Cond. No.                     1.03e+06\n",
      "==============================================================================\n",
      "\n",
      "Warnings:\n",
      "[1] Standard Errors assume that the covariance matrix of the errors is correctly specified.\n",
      "[2] The condition number is large, 1.03e+06. This might indicate that there are\n",
      "strong multicollinearity or other numerical problems.\n"
     ]
    }
   ],
   "source": [
    "h = np.sqrt(data.lland)\n",
    "\n",
    "varible_regression = [\"age\", \"nbh\", \"inst\", \"rooms\", \"log_area\", \"log_land\", \"dist\", \"y81\"]\n",
    "X = pd.concat([data[varible_regression], dummies_bath], axis=1)\n",
    "X = sm.add_constant(X)\n",
    "y = np.log(data.price)\n",
    "\n",
    "model = sm.WLS(y, X, hasconst=True, weight=1/h)\n",
    "results = model.fit() \n",
    "print(results.summary())"
   ]
  },
  {
   "cell_type": "markdown",
   "metadata": {},
   "source": [
    "# Question 8\n",
    "\n",
    "* Faire le graphique en nuage de point entre log(price/100) et lland. Diviser l’échantillon en deux groupes en fonction de lland et refaire le test d’hétéroscédasticité pour les deux sous-groupes."
   ]
  },
  {
   "cell_type": "code",
   "execution_count": 113,
   "metadata": {},
   "outputs": [
    {
     "data": {
      "image/png": "[encoded data removed]",
      "text/plain": [
       "<Figure size 576x360 with 1 Axes>"
      ]
     },
     "metadata": {
      "needs_background": "light"
     },
     "output_type": "display_data"
    }
   ],
   "source": [
    "plt.figure(figsize=(8, 5))\n",
    "sns.scatterplot(data=data, y=np.log(data.price), x='lland')\n",
    "plt.show()"
   ]
  },
  {
   "cell_type": "code",
   "execution_count": 121,
   "metadata": {},
   "outputs": [],
   "source": [
    "sorted_lang = np.sort(data.lland)\n",
    "std_left = []\n",
    "std_right=[]\n",
    "for x in sorted_lang[:-1]:\n",
    "    std_left.append(np.std(sorted_lang[sorted_lang<=x]))\n",
    "    std_right.append(np.std(sorted_lang[sorted_lang>x]))"
   ]
  },
  {
   "cell_type": "markdown",
   "metadata": {},
   "source": [
    "### Calcul de la variance en séparant groupe gauche, droite"
   ]
  },
  {
   "cell_type": "code",
   "execution_count": 159,
   "metadata": {},
   "outputs": [
    {
     "data": {
      "image/png": "[encoded data removed]",
      "text/plain": [
       "<Figure size 576x360 with 1 Axes>"
      ]
     },
     "metadata": {
      "needs_background": "light"
     },
     "output_type": "display_data"
    }
   ],
   "source": [
    "plt.figure(figsize=(8, 5))\n",
    "sns.lineplot(x=sorted_lang[:-1], y=std_left, label='std left')\n",
    "sns.lineplot(x=sorted_lang[:-1], y=std_right, label='std right')\n",
    "sns.lineplot(x=sorted_lang[:-1], y=(np.array(std_right)+np.array(std_left))/2, label='sum std')\n",
    "\n",
    "ind = np.where(np.array(std_right)-np.array(std_left) < 0)[0][0] #indice de l'intersection des deux courbes\n",
    "plt.vlines(sorted_lang[ind], ymin=0, ymax=0.8, linestyles='dashed')\n",
    "plt.legend(loc=(1.01, 0.5))\n",
    "plt.xlabel('lland')\n",
    "plt.ylabel('standard deviation')\n",
    "plt.title('variation de l\\'écart type cumulé de lland séparé en 2 groupes')\n",
    "plt.show()"
   ]
  },
  {
   "cell_type": "markdown",
   "metadata": {},
   "source": [
    "### Contruction de deux groupes "
   ]
  },
  {
   "cell_type": "code",
   "execution_count": 157,
   "metadata": {},
   "outputs": [
    {
     "name": "stdout",
     "output_type": "stream",
     "text": [
      "                            OLS Regression Results                            \n",
      "==============================================================================\n",
      "Dep. Variable:                  price   R-squared:                       0.789\n",
      "Model:                            OLS   Adj. R-squared:                  0.763\n",
      "Method:                 Least Squares   F-statistic:                     29.95\n",
      "Date:                Fri, 28 Feb 2020   Prob (F-statistic):           4.88e-23\n",
      "Time:                        16:26:02   Log-Likelihood:                 36.515\n",
      "No. Observations:                  91   AIC:                            -51.03\n",
      "Df Residuals:                      80   BIC:                            -23.41\n",
      "Df Model:                          10                                         \n",
      "Covariance Type:            nonrobust                                         \n",
      "==============================================================================\n",
      "                 coef    std err          t      P>|t|      [0.025      0.975]\n",
      "------------------------------------------------------------------------------\n",
      "const          3.8752      0.654      5.929      0.000       2.575       5.176\n",
      "age           -0.0025      0.001     -3.743      0.000      -0.004      -0.001\n",
      "nbh            0.0108      0.014      0.768      0.445      -0.017       0.039\n",
      "inst        7.674e-06   9.08e-06      0.845      0.400   -1.04e-05    2.57e-05\n",
      "rooms          0.0462      0.022      2.108      0.038       0.003       0.090\n",
      "log_area       0.1060      0.079      1.348      0.181      -0.050       0.262\n",
      "log_land       0.1229      0.045      2.733      0.008       0.033       0.212\n",
      "dist        1.115e-05   6.18e-06      1.804      0.075   -1.15e-06    2.34e-05\n",
      "y81            0.3458      0.042      8.249      0.000       0.262       0.429\n",
      "bath_2         0.1178      0.050      2.346      0.021       0.018       0.218\n",
      "bath_3         0.2937      0.090      3.257      0.002       0.114       0.473\n",
      "==============================================================================\n",
      "Omnibus:                        8.906   Durbin-Watson:                   2.229\n",
      "Prob(Omnibus):                  0.012   Jarque-Bera (JB):               12.204\n",
      "Skew:                          -0.432   Prob(JB):                      0.00224\n",
      "Kurtosis:                       4.573   Cond. No.                     4.99e+05\n",
      "==============================================================================\n",
      "\n",
      "Warnings:\n",
      "[1] Standard Errors assume that the covariance matrix of the errors is correctly specified.\n",
      "[2] The condition number is large, 4.99e+05. This might indicate that there are\n",
      "strong multicollinearity or other numerical problems.\n",
      "                            OLS Regression Results                            \n",
      "==============================================================================\n",
      "Dep. Variable:                      y   R-squared:                       0.047\n",
      "Model:                            OLS   Adj. R-squared:                 -0.072\n",
      "Method:                 Least Squares   F-statistic:                    0.3985\n",
      "Date:                Fri, 28 Feb 2020   Prob (F-statistic):              0.944\n",
      "Time:                        16:26:02   Log-Likelihood:                 146.43\n",
      "No. Observations:                  91   AIC:                            -270.9\n",
      "Df Residuals:                      80   BIC:                            -243.2\n",
      "Df Model:                          10                                         \n",
      "Covariance Type:            nonrobust                                         \n",
      "==============================================================================\n",
      "                 coef    std err          t      P>|t|      [0.025      0.975]\n",
      "------------------------------------------------------------------------------\n",
      "const         -0.0750      0.195     -0.384      0.702      -0.464       0.314\n",
      "age           -0.0001      0.000     -0.640      0.524      -0.001       0.000\n",
      "nbh           -0.0021      0.004     -0.494      0.623      -0.010       0.006\n",
      "inst       -3.986e-07   2.71e-06     -0.147      0.884    -5.8e-06       5e-06\n",
      "rooms          0.0055      0.007      0.832      0.408      -0.008       0.018\n",
      "log_area       0.0190      0.023      0.809      0.421      -0.028       0.066\n",
      "log_land      -0.0052      0.013     -0.383      0.702      -0.032       0.022\n",
      "dist       -5.447e-07   1.85e-06     -0.295      0.769   -4.22e-06    3.13e-06\n",
      "y81           -0.0106      0.013     -0.845      0.400      -0.036       0.014\n",
      "bath_2         0.0029      0.015      0.194      0.847      -0.027       0.033\n",
      "bath_3        -0.0175      0.027     -0.650      0.518      -0.071       0.036\n",
      "==============================================================================\n",
      "Omnibus:                      119.772   Durbin-Watson:                   2.136\n",
      "Prob(Omnibus):                  0.000   Jarque-Bera (JB):             2824.151\n",
      "Skew:                           4.391   Prob(JB):                         0.00\n",
      "Kurtosis:                      28.840   Cond. No.                     4.99e+05\n",
      "==============================================================================\n",
      "\n",
      "Warnings:\n",
      "[1] Standard Errors assume that the covariance matrix of the errors is correctly specified.\n",
      "[2] The condition number is large, 4.99e+05. This might indicate that there are\n",
      "strong multicollinearity or other numerical problems.\n"
     ]
    }
   ],
   "source": [
    "varible_regression = [\"age\", \"nbh\", \"inst\", \"rooms\", \"log_area\", \"log_land\", \"dist\", \"y81\"]\n",
    "X = pd.concat([data[varible_regression], dummies_bath.iloc[:, :2]], axis=1)\n",
    "X = sm.add_constant(X)\n",
    "X = X[data.lland < 10]\n",
    "y = np.log(data.price[data.lland < 10])\n",
    "\n",
    "model = sm.OLS(y, X, hasconst=True)\n",
    "results = model.fit() \n",
    "print(results.summary())\n",
    "\n",
    "test = results.resid**2\n",
    "\n",
    "model = sm.OLS(test, X, hasconst=True)\n",
    "results = model.fit() \n",
    "print(results.summary()) "
   ]
  },
  {
   "cell_type": "code",
   "execution_count": 158,
   "metadata": {},
   "outputs": [
    {
     "name": "stdout",
     "output_type": "stream",
     "text": [
      "                            OLS Regression Results                            \n",
      "==============================================================================\n",
      "Dep. Variable:                  price   R-squared:                       0.704\n",
      "Model:                            OLS   Adj. R-squared:                  0.689\n",
      "Method:                 Least Squares   F-statistic:                     47.22\n",
      "Date:                Fri, 28 Feb 2020   Prob (F-statistic):           1.35e-51\n",
      "Time:                        16:26:06   Log-Likelihood:                 34.135\n",
      "No. Observations:                 230   AIC:                            -44.27\n",
      "Df Residuals:                     218   BIC:                            -3.013\n",
      "Df Model:                          11                                         \n",
      "Covariance Type:            nonrobust                                         \n",
      "==============================================================================\n",
      "                 coef    std err          t      P>|t|      [0.025      0.975]\n",
      "------------------------------------------------------------------------------\n",
      "const          1.7284      0.702      2.462      0.015       0.345       3.112\n",
      "age           -0.0024      0.001     -3.934      0.000      -0.004      -0.001\n",
      "nbh           -0.0066      0.008     -0.797      0.426      -0.023       0.010\n",
      "inst       -1.214e-05   5.89e-06     -2.060      0.041   -2.37e-05   -5.26e-07\n",
      "rooms          0.0567      0.024      2.315      0.022       0.008       0.105\n",
      "log_area       0.4535      0.068      6.662      0.000       0.319       0.588\n",
      "log_land       0.0996      0.044      2.239      0.026       0.012       0.187\n",
      "dist        8.405e-06   4.78e-06      1.758      0.080   -1.02e-06    1.78e-05\n",
      "y81            0.3692      0.030     12.293      0.000       0.310       0.428\n",
      "bath_2         0.0807      0.065      1.245      0.214      -0.047       0.208\n",
      "bath_3         0.2172      0.076      2.855      0.005       0.067       0.367\n",
      "bath_4         0.3350      0.140      2.393      0.018       0.059       0.611\n",
      "==============================================================================\n",
      "Omnibus:                       67.271   Durbin-Watson:                   1.573\n",
      "Prob(Omnibus):                  0.000   Jarque-Bera (JB):              364.938\n",
      "Skew:                          -1.013   Prob(JB):                     5.69e-80\n",
      "Kurtosis:                       8.829   Cond. No.                     1.67e+06\n",
      "==============================================================================\n",
      "\n",
      "Warnings:\n",
      "[1] Standard Errors assume that the covariance matrix of the errors is correctly specified.\n",
      "[2] The condition number is large, 1.67e+06. This might indicate that there are\n",
      "strong multicollinearity or other numerical problems.\n",
      "                            OLS Regression Results                            \n",
      "==============================================================================\n",
      "Dep. Variable:                      y   R-squared:                       0.065\n",
      "Model:                            OLS   Adj. R-squared:                  0.018\n",
      "Method:                 Least Squares   F-statistic:                     1.373\n",
      "Date:                Fri, 28 Feb 2020   Prob (F-statistic):              0.187\n",
      "Time:                        16:26:06   Log-Likelihood:                 165.68\n",
      "No. Observations:                 230   AIC:                            -307.4\n",
      "Df Residuals:                     218   BIC:                            -266.1\n",
      "Df Model:                          11                                         \n",
      "Covariance Type:            nonrobust                                         \n",
      "==============================================================================\n",
      "                 coef    std err          t      P>|t|      [0.025      0.975]\n",
      "------------------------------------------------------------------------------\n",
      "const         -0.3093      0.396     -0.781      0.436      -1.090       0.472\n",
      "age            0.0004      0.000      1.170      0.243      -0.000       0.001\n",
      "nbh         2.166e-05      0.005      0.005      0.996      -0.009       0.009\n",
      "inst       -1.689e-06   3.33e-06     -0.508      0.612   -8.24e-06    4.86e-06\n",
      "rooms         -0.0173      0.014     -1.250      0.212      -0.045       0.010\n",
      "log_area       0.0422      0.038      1.097      0.274      -0.034       0.118\n",
      "log_land       0.0201      0.025      0.800      0.425      -0.029       0.070\n",
      "dist       -1.796e-06    2.7e-06     -0.665      0.506   -7.11e-06    3.52e-06\n",
      "y81           -0.0191      0.017     -1.126      0.261      -0.053       0.014\n",
      "bath_2         0.0072      0.037      0.197      0.844      -0.065       0.079\n",
      "bath_3         0.0185      0.043      0.431      0.667      -0.066       0.103\n",
      "bath_4        -0.0147      0.079     -0.186      0.852      -0.170       0.141\n",
      "==============================================================================\n",
      "Omnibus:                      405.251   Durbin-Watson:                   1.999\n",
      "Prob(Omnibus):                  0.000   Jarque-Bera (JB):           120536.312\n",
      "Skew:                           9.300   Prob(JB):                         0.00\n",
      "Kurtosis:                     113.597   Cond. No.                     1.67e+06\n",
      "==============================================================================\n",
      "\n",
      "Warnings:\n",
      "[1] Standard Errors assume that the covariance matrix of the errors is correctly specified.\n",
      "[2] The condition number is large, 1.67e+06. This might indicate that there are\n",
      "strong multicollinearity or other numerical problems.\n"
     ]
    }
   ],
   "source": [
    "varible_regression = [\"age\", \"nbh\", \"inst\", \"rooms\", \"log_area\", \"log_land\", \"dist\", \"y81\"]\n",
    "X = pd.concat([data[varible_regression], dummies_bath], axis=1)\n",
    "X = sm.add_constant(X)\n",
    "X = X[data.lland >= 10]\n",
    "y = np.log(data.price[data.lland >= 10])\n",
    "\n",
    "model = sm.OLS(y, X, hasconst=True)\n",
    "results = model.fit() \n",
    "print(results.summary())\n",
    "\n",
    "test = results.resid**2\n",
    "\n",
    "model = sm.OLS(test, X, hasconst=True)\n",
    "results = model.fit() \n",
    "print(results.summary()) "
   ]
  },
  {
   "cell_type": "code",
   "execution_count": 155,
   "metadata": {},
   "outputs": [
    {
     "data": {
      "text/plain": [
       "0.02624161319165015"
      ]
     },
     "execution_count": 155,
     "metadata": {},
     "output_type": "execute_result"
    }
   ],
   "source": [
    "np.mean(test)"
   ]
  },
  {
   "cell_type": "code",
   "execution_count": null,
   "metadata": {},
   "outputs": [],
   "source": []
  }
 ],
 "metadata": {
  "kernelspec": {
   "display_name": "Python 3",
   "language": "python",
   "name": "python3"
  },
  "language_info": {
   "codemirror_mode": {
    "name": "ipython",
    "version": 3
   },
   "file_extension": ".py",
   "mimetype": "text/x-python",
   "name": "python",
   "nbconvert_exporter": "python",
   "pygments_lexer": "ipython3",
   "version": "3.7.6"
  }
 },
 "nbformat": 4,
 "nbformat_minor": 4
}
