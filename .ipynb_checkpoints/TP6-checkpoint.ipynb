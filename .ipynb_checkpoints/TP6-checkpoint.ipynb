{
 "cells": [
  {
   "cell_type": "markdown",
   "metadata": {},
   "source": [
    "# <center>**- SES 722 : TP n°6 Économétrie -**</center>\n"
   ]
  },
  {
   "cell_type": "code",
   "execution_count": 1,
   "metadata": {},
   "outputs": [],
   "source": [
    "import numpy as np\n",
    "import pandas as pd\n",
    "import matplotlib.pyplot as plt\n",
    "plt.style.use('seaborn')\n",
    "\n",
    "import seaborn as sns\n",
    "import statsmodels.api as sm"
   ]
  },
  {
   "cell_type": "code",
   "execution_count": 2,
   "metadata": {},
   "outputs": [
    {
     "data": {
      "text/plain": [
       "['tableau-colorblind10',\n",
       " 'seaborn-bright',\n",
       " 'seaborn-poster',\n",
       " 'ggplot',\n",
       " 'seaborn',\n",
       " 'seaborn-muted',\n",
       " 'seaborn-dark-palette',\n",
       " 'fast',\n",
       " 'seaborn-darkgrid',\n",
       " 'seaborn-talk',\n",
       " 'Solarize_Light2',\n",
       " 'classic',\n",
       " 'fivethirtyeight',\n",
       " 'bmh',\n",
       " 'seaborn-pastel',\n",
       " 'seaborn-deep',\n",
       " 'seaborn-notebook',\n",
       " 'seaborn-ticks',\n",
       " 'seaborn-whitegrid',\n",
       " 'seaborn-dark',\n",
       " 'seaborn-paper',\n",
       " 'grayscale',\n",
       " 'dark_background',\n",
       " '_classic_test',\n",
       " 'seaborn-white',\n",
       " 'seaborn-colorblind']"
      ]
     },
     "execution_count": 2,
     "metadata": {},
     "output_type": "execute_result"
    }
   ],
   "source": [
    "plt.style.available\n",
    "# https://matplotlib.org/3.1.1/gallery/style_sheets/style_sheets_reference.html"
   ]
  },
  {
   "cell_type": "markdown",
   "metadata": {},
   "source": [
    "## **Exercice 1 :**\n",
    "Représenter graphiquement la séries `gfr` en fonction de l’année. Discuter la stationnarité."
   ]
  },
  {
   "cell_type": "code",
   "execution_count": 27,
   "metadata": {},
   "outputs": [],
   "source": [
    "df = pd.read_csv('textfiles/FERTIL3.raw', delim_whitespace=True, header=None)\n",
    "# voir FERTIL3.DES (description) pour description des données\n",
    "\n",
    "columns = [\"gfr\", \"pe\", \"year\", \"t\", \"tsq\",\n",
    "           \"pe_1\", \"pe_2\", \"pe_3\", \"pe_4\", \"pill\",\n",
    "           \"ww2\", \"tcu\", \"cgfr\", \"cpe\", \"cpe_1\",\n",
    "           \"cpe_2\", \"cpe_3\", \"cpe_4\", \"gfr_1\", \"cgfr_1\",\n",
    "           \"cgfr_2\", \"cgfr_3\", \"cgfr_4\", \"gfr_2\"]  \n",
    "\n",
    "df.rename(columns={i : columns[i] for i in range(len(columns))},\n",
    "          inplace=True)"
   ]
  },
  {
   "cell_type": "markdown",
   "metadata": {},
   "source": [
    "FERTIL3.DES\n",
    "  \n",
    "  \n",
    "| Header 1 | Header 2 | Header 3 |\n",
    "|----------|----------|----------|\n",
    "| 1.       | gfr      | births per 1000 women 15-44 |\n",
    "| 2.       | pe       | real value pers. exemption \\$ |\n",
    "| 3.       | year     | 1913 to 1984 |\n",
    "| 4.       | t        | time trend, t=1,...,72 |\n",
    "| 5.       | tsq      |   t^2     |\n",
    "| 6.       | pe_1     |   pe[t-1] |\n",
    "| 7.       | pe_2     |   pe[t-2] |\n",
    "| 8.       | pe_3     |   pe[t-3] |\n",
    "| 9.       | pe_4     |   pe[t-4] |\n",
    "| 10.      | pill     | =1 if year >= 1963 |\n",
    "| 11.      | ww2      | =1, 1941 to 1945 |\n",
    "| 12.      | tcu      | t^3 |\n",
    "| 13.      | cgfr     | change in gfr :  gfr - gfr_1 |\n",
    "| 14.      | cpe      | pe - pe_1 |\n",
    "| 15.      | cpe_1    | cpe[t-1] |\n",
    "| 16.      | cpe_2    | cpe[t-2] |\n",
    "| 17.      | cpe_3    | cpe[t-3] |\n",
    "| 18.      | cpe_4    | cpe[t-4] |\n",
    "| 19.      | gfr_1    | gfr[t-1] |\n",
    "| 20.      | cgfr_1   | cgfr[t-1] |\n",
    "| 21.      | cgfr_2   | cgfr[t-2] |\n",
    "| 22.      | cgfr_3   | cgfr[t-3] |\n",
    "| 23.      | cgfr_4   | cgfr[t-4] |\n",
    "| 24.      | gfr_2    | gfr[t-2] |"
   ]
  },
  {
   "cell_type": "code",
   "execution_count": 28,
   "metadata": {},
   "outputs": [
    {
     "data": {
      "text/html": [
       "<div>\n",
       "<style scoped>\n",
       "    .dataframe tbody tr th:only-of-type {\n",
       "        vertical-align: middle;\n",
       "    }\n",
       "\n",
       "    .dataframe tbody tr th {\n",
       "        vertical-align: top;\n",
       "    }\n",
       "\n",
       "    .dataframe thead th {\n",
       "        text-align: right;\n",
       "    }\n",
       "</style>\n",
       "<table border=\"1\" class=\"dataframe\">\n",
       "  <thead>\n",
       "    <tr style=\"text-align: right;\">\n",
       "      <th></th>\n",
       "      <th>gfr</th>\n",
       "      <th>pe</th>\n",
       "      <th>year</th>\n",
       "      <th>t</th>\n",
       "      <th>tsq</th>\n",
       "      <th>pe_1</th>\n",
       "      <th>pe_2</th>\n",
       "      <th>pe_3</th>\n",
       "      <th>pe_4</th>\n",
       "      <th>pill</th>\n",
       "      <th>...</th>\n",
       "      <th>cpe_1</th>\n",
       "      <th>cpe_2</th>\n",
       "      <th>cpe_3</th>\n",
       "      <th>cpe_4</th>\n",
       "      <th>gfr_1</th>\n",
       "      <th>cgfr_1</th>\n",
       "      <th>cgfr_2</th>\n",
       "      <th>cgfr_3</th>\n",
       "      <th>cgfr_4</th>\n",
       "      <th>gfr_2</th>\n",
       "    </tr>\n",
       "  </thead>\n",
       "  <tbody>\n",
       "    <tr>\n",
       "      <td>0</td>\n",
       "      <td>124.7</td>\n",
       "      <td>0.00</td>\n",
       "      <td>1913</td>\n",
       "      <td>1</td>\n",
       "      <td>1</td>\n",
       "      <td>.</td>\n",
       "      <td>.</td>\n",
       "      <td>.</td>\n",
       "      <td>.</td>\n",
       "      <td>0</td>\n",
       "      <td>...</td>\n",
       "      <td>.</td>\n",
       "      <td>.</td>\n",
       "      <td>.</td>\n",
       "      <td>.</td>\n",
       "      <td>.</td>\n",
       "      <td>.</td>\n",
       "      <td>.</td>\n",
       "      <td>.</td>\n",
       "      <td>.</td>\n",
       "      <td>.</td>\n",
       "    </tr>\n",
       "    <tr>\n",
       "      <td>1</td>\n",
       "      <td>126.6</td>\n",
       "      <td>0.00</td>\n",
       "      <td>1914</td>\n",
       "      <td>2</td>\n",
       "      <td>4</td>\n",
       "      <td>0</td>\n",
       "      <td>.</td>\n",
       "      <td>.</td>\n",
       "      <td>.</td>\n",
       "      <td>0</td>\n",
       "      <td>...</td>\n",
       "      <td>.</td>\n",
       "      <td>.</td>\n",
       "      <td>.</td>\n",
       "      <td>.</td>\n",
       "      <td>124.7</td>\n",
       "      <td>.</td>\n",
       "      <td>.</td>\n",
       "      <td>.</td>\n",
       "      <td>.</td>\n",
       "      <td>.</td>\n",
       "    </tr>\n",
       "    <tr>\n",
       "      <td>2</td>\n",
       "      <td>125.0</td>\n",
       "      <td>0.00</td>\n",
       "      <td>1915</td>\n",
       "      <td>3</td>\n",
       "      <td>9</td>\n",
       "      <td>0</td>\n",
       "      <td>0</td>\n",
       "      <td>.</td>\n",
       "      <td>.</td>\n",
       "      <td>0</td>\n",
       "      <td>...</td>\n",
       "      <td>0</td>\n",
       "      <td>.</td>\n",
       "      <td>.</td>\n",
       "      <td>.</td>\n",
       "      <td>126.6</td>\n",
       "      <td>1.900002</td>\n",
       "      <td>.</td>\n",
       "      <td>.</td>\n",
       "      <td>.</td>\n",
       "      <td>124.7</td>\n",
       "    </tr>\n",
       "    <tr>\n",
       "      <td>3</td>\n",
       "      <td>123.4</td>\n",
       "      <td>0.00</td>\n",
       "      <td>1916</td>\n",
       "      <td>4</td>\n",
       "      <td>16</td>\n",
       "      <td>0</td>\n",
       "      <td>0</td>\n",
       "      <td>0</td>\n",
       "      <td>.</td>\n",
       "      <td>0</td>\n",
       "      <td>...</td>\n",
       "      <td>0</td>\n",
       "      <td>0</td>\n",
       "      <td>.</td>\n",
       "      <td>.</td>\n",
       "      <td>125</td>\n",
       "      <td>-1.599998</td>\n",
       "      <td>1.900002</td>\n",
       "      <td>.</td>\n",
       "      <td>.</td>\n",
       "      <td>126.6</td>\n",
       "    </tr>\n",
       "    <tr>\n",
       "      <td>4</td>\n",
       "      <td>121.0</td>\n",
       "      <td>19.27</td>\n",
       "      <td>1917</td>\n",
       "      <td>5</td>\n",
       "      <td>25</td>\n",
       "      <td>0</td>\n",
       "      <td>0</td>\n",
       "      <td>0</td>\n",
       "      <td>0</td>\n",
       "      <td>0</td>\n",
       "      <td>...</td>\n",
       "      <td>0</td>\n",
       "      <td>0</td>\n",
       "      <td>0</td>\n",
       "      <td>.</td>\n",
       "      <td>123.4</td>\n",
       "      <td>-1.599998</td>\n",
       "      <td>-1.599998</td>\n",
       "      <td>1.900002</td>\n",
       "      <td>.</td>\n",
       "      <td>125</td>\n",
       "    </tr>\n",
       "  </tbody>\n",
       "</table>\n",
       "<p>5 rows × 24 columns</p>\n",
       "</div>"
      ],
      "text/plain": [
       "     gfr     pe  year  t  tsq pe_1 pe_2 pe_3 pe_4  pill  ...  cpe_1  cpe_2  \\\n",
       "0  124.7   0.00  1913  1    1    .    .    .    .     0  ...      .      .   \n",
       "1  126.6   0.00  1914  2    4    0    .    .    .     0  ...      .      .   \n",
       "2  125.0   0.00  1915  3    9    0    0    .    .     0  ...      0      .   \n",
       "3  123.4   0.00  1916  4   16    0    0    0    .     0  ...      0      0   \n",
       "4  121.0  19.27  1917  5   25    0    0    0    0     0  ...      0      0   \n",
       "\n",
       "  cpe_3 cpe_4  gfr_1     cgfr_1     cgfr_2    cgfr_3 cgfr_4  gfr_2  \n",
       "0     .     .      .          .          .         .      .      .  \n",
       "1     .     .  124.7          .          .         .      .      .  \n",
       "2     .     .  126.6   1.900002          .         .      .  124.7  \n",
       "3     .     .    125  -1.599998   1.900002         .      .  126.6  \n",
       "4     0     .  123.4  -1.599998  -1.599998  1.900002      .    125  \n",
       "\n",
       "[5 rows x 24 columns]"
      ]
     },
     "execution_count": 28,
     "metadata": {},
     "output_type": "execute_result"
    }
   ],
   "source": [
    "df.head()"
   ]
  },
  {
   "cell_type": "code",
   "execution_count": 29,
   "metadata": {},
   "outputs": [
    {
     "data": {
      "text/html": [
       "<div>\n",
       "<style scoped>\n",
       "    .dataframe tbody tr th:only-of-type {\n",
       "        vertical-align: middle;\n",
       "    }\n",
       "\n",
       "    .dataframe tbody tr th {\n",
       "        vertical-align: top;\n",
       "    }\n",
       "\n",
       "    .dataframe thead th {\n",
       "        text-align: right;\n",
       "    }\n",
       "</style>\n",
       "<table border=\"1\" class=\"dataframe\">\n",
       "  <thead>\n",
       "    <tr style=\"text-align: right;\">\n",
       "      <th></th>\n",
       "      <th>gfr</th>\n",
       "      <th>pe</th>\n",
       "      <th>year</th>\n",
       "      <th>t</th>\n",
       "      <th>tsq</th>\n",
       "      <th>pill</th>\n",
       "      <th>ww2</th>\n",
       "      <th>tcu</th>\n",
       "    </tr>\n",
       "  </thead>\n",
       "  <tbody>\n",
       "    <tr>\n",
       "      <td>count</td>\n",
       "      <td>72.000000</td>\n",
       "      <td>72.000000</td>\n",
       "      <td>72.00000</td>\n",
       "      <td>72.00000</td>\n",
       "      <td>72.000000</td>\n",
       "      <td>72.000000</td>\n",
       "      <td>72.000000</td>\n",
       "      <td>72.000000</td>\n",
       "    </tr>\n",
       "    <tr>\n",
       "      <td>mean</td>\n",
       "      <td>95.631944</td>\n",
       "      <td>100.401528</td>\n",
       "      <td>1948.50000</td>\n",
       "      <td>36.50000</td>\n",
       "      <td>1764.166667</td>\n",
       "      <td>0.305556</td>\n",
       "      <td>0.069444</td>\n",
       "      <td>95922.000000</td>\n",
       "    </tr>\n",
       "    <tr>\n",
       "      <td>std</td>\n",
       "      <td>19.804643</td>\n",
       "      <td>65.875632</td>\n",
       "      <td>20.92845</td>\n",
       "      <td>20.92845</td>\n",
       "      <td>1576.501824</td>\n",
       "      <td>0.463875</td>\n",
       "      <td>0.255992</td>\n",
       "      <td>108841.206223</td>\n",
       "    </tr>\n",
       "    <tr>\n",
       "      <td>min</td>\n",
       "      <td>65.400000</td>\n",
       "      <td>0.000000</td>\n",
       "      <td>1913.00000</td>\n",
       "      <td>1.00000</td>\n",
       "      <td>1.000000</td>\n",
       "      <td>0.000000</td>\n",
       "      <td>0.000000</td>\n",
       "      <td>1.000000</td>\n",
       "    </tr>\n",
       "    <tr>\n",
       "      <td>25%</td>\n",
       "      <td>78.275000</td>\n",
       "      <td>31.957500</td>\n",
       "      <td>1930.75000</td>\n",
       "      <td>18.75000</td>\n",
       "      <td>351.750000</td>\n",
       "      <td>0.000000</td>\n",
       "      <td>0.000000</td>\n",
       "      <td>6602.250000</td>\n",
       "    </tr>\n",
       "    <tr>\n",
       "      <td>50%</td>\n",
       "      <td>94.050000</td>\n",
       "      <td>121.220000</td>\n",
       "      <td>1948.50000</td>\n",
       "      <td>36.50000</td>\n",
       "      <td>1332.500000</td>\n",
       "      <td>0.000000</td>\n",
       "      <td>0.000000</td>\n",
       "      <td>48654.500000</td>\n",
       "    </tr>\n",
       "    <tr>\n",
       "      <td>75%</td>\n",
       "      <td>113.450000</td>\n",
       "      <td>151.912500</td>\n",
       "      <td>1966.25000</td>\n",
       "      <td>54.25000</td>\n",
       "      <td>2943.250000</td>\n",
       "      <td>1.000000</td>\n",
       "      <td>0.000000</td>\n",
       "      <td>159691.750000</td>\n",
       "    </tr>\n",
       "    <tr>\n",
       "      <td>max</td>\n",
       "      <td>126.600000</td>\n",
       "      <td>243.830000</td>\n",
       "      <td>1984.00000</td>\n",
       "      <td>72.00000</td>\n",
       "      <td>5184.000000</td>\n",
       "      <td>1.000000</td>\n",
       "      <td>1.000000</td>\n",
       "      <td>373248.000000</td>\n",
       "    </tr>\n",
       "  </tbody>\n",
       "</table>\n",
       "</div>"
      ],
      "text/plain": [
       "              gfr          pe        year         t          tsq       pill  \\\n",
       "count   72.000000   72.000000    72.00000  72.00000    72.000000  72.000000   \n",
       "mean    95.631944  100.401528  1948.50000  36.50000  1764.166667   0.305556   \n",
       "std     19.804643   65.875632    20.92845  20.92845  1576.501824   0.463875   \n",
       "min     65.400000    0.000000  1913.00000   1.00000     1.000000   0.000000   \n",
       "25%     78.275000   31.957500  1930.75000  18.75000   351.750000   0.000000   \n",
       "50%     94.050000  121.220000  1948.50000  36.50000  1332.500000   0.000000   \n",
       "75%    113.450000  151.912500  1966.25000  54.25000  2943.250000   1.000000   \n",
       "max    126.600000  243.830000  1984.00000  72.00000  5184.000000   1.000000   \n",
       "\n",
       "             ww2            tcu  \n",
       "count  72.000000      72.000000  \n",
       "mean    0.069444   95922.000000  \n",
       "std     0.255992  108841.206223  \n",
       "min     0.000000       1.000000  \n",
       "25%     0.000000    6602.250000  \n",
       "50%     0.000000   48654.500000  \n",
       "75%     0.000000  159691.750000  \n",
       "max     1.000000  373248.000000  "
      ]
     },
     "execution_count": 29,
     "metadata": {},
     "output_type": "execute_result"
    }
   ],
   "source": [
    "df.describe()"
   ]
  },
  {
   "cell_type": "code",
   "execution_count": 39,
   "metadata": {},
   "outputs": [
    {
     "data": {
      "image/png": "[encoded data removed]",
      "text/plain": [
       "<Figure size 576x360 with 1 Axes>"
      ]
     },
     "metadata": {
      "needs_background": "light"
     },
     "output_type": "display_data"
    }
   ],
   "source": [
    "year = df['year']\n",
    "gfr = df['gfr']\n",
    "\n",
    "plt.figure(figsize=(8,5))\n",
    "plt.plot(year, gfr, '-', label='gfr')\n",
    "\n",
    "plt.xlabel('Year')\n",
    "plt.ylabel('gfr')\n",
    "plt.legend()\n",
    "\n",
    "plt.tight_layout()\n",
    "plt.show()"
   ]
  },
  {
   "cell_type": "code",
   "execution_count": 66,
   "metadata": {},
   "outputs": [
    {
     "name": "stdout",
     "output_type": "stream",
     "text": [
      "==== Mean ====\n",
      "103.22083333333335\n",
      "102.97083333333332\n",
      "80.70416666666668\n"
     ]
    }
   ],
   "source": [
    "# on divise notre gfr en 3 périodes\n",
    "print('==== Mean ====')\n",
    "print(gfr[:24].mean())\n",
    "print(gfr[24:48].mean())\n",
    "print(gfr[48:].mean())"
   ]
  },
  {
   "cell_type": "code",
   "execution_count": 67,
   "metadata": {},
   "outputs": [
    {
     "name": "stdout",
     "output_type": "stream",
     "text": [
      "==== Var ====\n",
      "17.803540907375133\n",
      "16.120699066907648\n",
      "16.88525158280127\n"
     ]
    }
   ],
   "source": [
    "print('==== Var ====')\n",
    "print(gfr[:24].std())\n",
    "print(gfr[24:48].std())\n",
    "print(gfr[48:].std())"
   ]
  },
  {
   "cell_type": "markdown",
   "metadata": {},
   "source": [
    "## **Exercice 2 :**\n",
    "Calculer la série $dlq = log(gfr_t) − log(gfr_{t−1})$ et commenter le nouveau graphique. Calculer ensuite la série `gfr` en taux d’acroissement et comparer cetter nouvelle série à la série précédente."
   ]
  },
  {
   "cell_type": "code",
   "execution_count": 103,
   "metadata": {},
   "outputs": [
    {
     "data": {
      "image/png": "[encoded data removed]",
      "text/plain": [
       "<Figure size 576x360 with 1 Axes>"
      ]
     },
     "metadata": {
      "needs_background": "light"
     },
     "output_type": "display_data"
    }
   ],
   "source": [
    "lgfr = np.log(gfr)\n",
    "dl = np.diff(lgfr)\n",
    "year1 = year[1:]\n",
    "\n",
    "plt.figure(figsize=(8,5))\n",
    "plt.plot(year1, dl, label='gfr')\n",
    "\n",
    "plt.xlabel('Year')\n",
    "plt.ylabel('dl')\n",
    "plt.legend(loc='lower right')\n",
    "\n",
    "plt.tight_layout()\n",
    "plt.show()"
   ]
  },
  {
   "cell_type": "code",
   "execution_count": 91,
   "metadata": {},
   "outputs": [
    {
     "data": {
      "image/png": "[encoded data removed]",
      "text/plain": [
       "<Figure size 576x360 with 1 Axes>"
      ]
     },
     "metadata": {
      "needs_background": "light"
     },
     "output_type": "display_data"
    }
   ],
   "source": [
    "lgfr = gfr\n",
    "dlq = np.diff(lgfr)/gfr[0:-1]\n",
    "year1 = year[1:]\n",
    "\n",
    "plt.figure(figsize=(8,5))\n",
    "plt.plot(year1, dl, label='gfr')\n",
    "\n",
    "plt.xlabel('Year')\n",
    "plt.ylabel('dl')\n",
    "plt.legend(loc='lower right')\n",
    "\n",
    "plt.tight_layout()\n",
    "plt.show()"
   ]
  },
  {
   "cell_type": "markdown",
   "metadata": {},
   "source": [
    "> On obtient donc la même chose car on approxime le log par sa tangente autour de 1."
   ]
  },
  {
   "cell_type": "markdown",
   "metadata": {},
   "source": [
    "## **Exercice 3 :**\n",
    "Calculer l’auto-covariance d’ordre 1, 10 et 20 de `dl`."
   ]
  },
  {
   "cell_type": "code",
   "execution_count": 81,
   "metadata": {},
   "outputs": [],
   "source": [
    "col = ['gfr' ,'pe', 'year', 't', 'tsq',\n",
    "       'pe_1', 'pe_2', 'pe_3', 'pe_4', 'pill',\n",
    "       'ww2', 'tcu', 'cgfr', 'cpe', 'cpe_1',\n",
    "       'cpe_2', 'cpe_3', 'cpe_4', 'gfr_1', 'cgfr_1',\n",
    "       'cgfr_2', 'cgfr_3', 'cgfr_4', 'gfr_2']\n",
    "                                              \n",
    "X = pd.DataFrame(data = df[col])"
   ]
  },
  {
   "cell_type": "code",
   "execution_count": 106,
   "metadata": {},
   "outputs": [
    {
     "data": {
      "text/html": [
       "<div>\n",
       "<style scoped>\n",
       "    .dataframe tbody tr th:only-of-type {\n",
       "        vertical-align: middle;\n",
       "    }\n",
       "\n",
       "    .dataframe tbody tr th {\n",
       "        vertical-align: top;\n",
       "    }\n",
       "\n",
       "    .dataframe thead th {\n",
       "        text-align: right;\n",
       "    }\n",
       "</style>\n",
       "<table border=\"1\" class=\"dataframe\">\n",
       "  <thead>\n",
       "    <tr style=\"text-align: right;\">\n",
       "      <th></th>\n",
       "      <th>0</th>\n",
       "    </tr>\n",
       "  </thead>\n",
       "  <tbody>\n",
       "    <tr>\n",
       "      <td>1</td>\n",
       "      <td>-0.012719</td>\n",
       "    </tr>\n",
       "    <tr>\n",
       "      <td>2</td>\n",
       "      <td>-0.012883</td>\n",
       "    </tr>\n",
       "    <tr>\n",
       "      <td>3</td>\n",
       "      <td>-0.019641</td>\n",
       "    </tr>\n",
       "    <tr>\n",
       "      <td>4</td>\n",
       "      <td>-0.009967</td>\n",
       "    </tr>\n",
       "    <tr>\n",
       "      <td>5</td>\n",
       "      <td>-0.074493</td>\n",
       "    </tr>\n",
       "    <tr>\n",
       "      <td>...</td>\n",
       "      <td>...</td>\n",
       "    </tr>\n",
       "    <tr>\n",
       "      <td>66</td>\n",
       "      <td>0.017700</td>\n",
       "    </tr>\n",
       "    <tr>\n",
       "      <td>67</td>\n",
       "      <td>-0.014728</td>\n",
       "    </tr>\n",
       "    <tr>\n",
       "      <td>68</td>\n",
       "      <td>-0.001485</td>\n",
       "    </tr>\n",
       "    <tr>\n",
       "      <td>69</td>\n",
       "      <td>-0.022540</td>\n",
       "    </tr>\n",
       "    <tr>\n",
       "      <td>70</td>\n",
       "      <td>-0.006098</td>\n",
       "    </tr>\n",
       "  </tbody>\n",
       "</table>\n",
       "<p>70 rows × 1 columns</p>\n",
       "</div>"
      ],
      "text/plain": [
       "           0\n",
       "1  -0.012719\n",
       "2  -0.012883\n",
       "3  -0.019641\n",
       "4  -0.009967\n",
       "5  -0.074493\n",
       "..       ...\n",
       "66  0.017700\n",
       "67 -0.014728\n",
       "68 -0.001485\n",
       "69 -0.022540\n",
       "70 -0.006098\n",
       "\n",
       "[70 rows x 1 columns]"
      ]
     },
     "execution_count": 106,
     "metadata": {},
     "output_type": "execute_result"
    }
   ],
   "source": [
    "dl[1:]"
   ]
  },
  {
   "cell_type": "code",
   "execution_count": 107,
   "metadata": {},
   "outputs": [
    {
     "data": {
      "text/html": [
       "<div>\n",
       "<style scoped>\n",
       "    .dataframe tbody tr th:only-of-type {\n",
       "        vertical-align: middle;\n",
       "    }\n",
       "\n",
       "    .dataframe tbody tr th {\n",
       "        vertical-align: top;\n",
       "    }\n",
       "\n",
       "    .dataframe thead th {\n",
       "        text-align: right;\n",
       "    }\n",
       "</style>\n",
       "<table border=\"1\" class=\"dataframe\">\n",
       "  <thead>\n",
       "    <tr style=\"text-align: right;\">\n",
       "      <th></th>\n",
       "      <th>gfr</th>\n",
       "    </tr>\n",
       "  </thead>\n",
       "  <tbody>\n",
       "    <tr>\n",
       "      <td>1</td>\n",
       "      <td>0.015237</td>\n",
       "    </tr>\n",
       "    <tr>\n",
       "      <td>2</td>\n",
       "      <td>-0.012638</td>\n",
       "    </tr>\n",
       "    <tr>\n",
       "      <td>3</td>\n",
       "      <td>-0.012800</td>\n",
       "    </tr>\n",
       "    <tr>\n",
       "      <td>4</td>\n",
       "      <td>-0.019449</td>\n",
       "    </tr>\n",
       "    <tr>\n",
       "      <td>5</td>\n",
       "      <td>-0.009917</td>\n",
       "    </tr>\n",
       "    <tr>\n",
       "      <td>...</td>\n",
       "      <td>...</td>\n",
       "    </tr>\n",
       "    <tr>\n",
       "      <td>66</td>\n",
       "      <td>0.025954</td>\n",
       "    </tr>\n",
       "    <tr>\n",
       "      <td>67</td>\n",
       "      <td>0.017857</td>\n",
       "    </tr>\n",
       "    <tr>\n",
       "      <td>68</td>\n",
       "      <td>-0.014620</td>\n",
       "    </tr>\n",
       "    <tr>\n",
       "      <td>69</td>\n",
       "      <td>-0.001484</td>\n",
       "    </tr>\n",
       "    <tr>\n",
       "      <td>70</td>\n",
       "      <td>-0.022288</td>\n",
       "    </tr>\n",
       "  </tbody>\n",
       "</table>\n",
       "<p>70 rows × 1 columns</p>\n",
       "</div>"
      ],
      "text/plain": [
       "         gfr\n",
       "1   0.015237\n",
       "2  -0.012638\n",
       "3  -0.012800\n",
       "4  -0.019449\n",
       "5  -0.009917\n",
       "..       ...\n",
       "66  0.025954\n",
       "67  0.017857\n",
       "68 -0.014620\n",
       "69 -0.001484\n",
       "70 -0.022288\n",
       "\n",
       "[70 rows x 1 columns]"
      ]
     },
     "execution_count": 107,
     "metadata": {},
     "output_type": "execute_result"
    }
   ],
   "source": [
    "dl_1[1:]"
   ]
  },
  {
   "cell_type": "code",
   "execution_count": 112,
   "metadata": {},
   "outputs": [
    {
     "data": {
      "text/html": [
       "<div>\n",
       "<style scoped>\n",
       "    .dataframe tbody tr th:only-of-type {\n",
       "        vertical-align: middle;\n",
       "    }\n",
       "\n",
       "    .dataframe tbody tr th {\n",
       "        vertical-align: top;\n",
       "    }\n",
       "\n",
       "    .dataframe thead th {\n",
       "        text-align: right;\n",
       "    }\n",
       "</style>\n",
       "<table border=\"1\" class=\"dataframe\">\n",
       "  <thead>\n",
       "    <tr style=\"text-align: right;\">\n",
       "      <th></th>\n",
       "      <th>0</th>\n",
       "      <th>gfr</th>\n",
       "    </tr>\n",
       "  </thead>\n",
       "  <tbody>\n",
       "    <tr>\n",
       "      <td>0</td>\n",
       "      <td>-0.012719</td>\n",
       "      <td>NaN</td>\n",
       "    </tr>\n",
       "    <tr>\n",
       "      <td>1</td>\n",
       "      <td>-0.012883</td>\n",
       "      <td>NaN</td>\n",
       "    </tr>\n",
       "    <tr>\n",
       "      <td>2</td>\n",
       "      <td>-0.019641</td>\n",
       "      <td>NaN</td>\n",
       "    </tr>\n",
       "    <tr>\n",
       "      <td>3</td>\n",
       "      <td>-0.009967</td>\n",
       "      <td>NaN</td>\n",
       "    </tr>\n",
       "    <tr>\n",
       "      <td>4</td>\n",
       "      <td>-0.074493</td>\n",
       "      <td>NaN</td>\n",
       "    </tr>\n",
       "    <tr>\n",
       "      <td>...</td>\n",
       "      <td>...</td>\n",
       "      <td>...</td>\n",
       "    </tr>\n",
       "    <tr>\n",
       "      <td>135</td>\n",
       "      <td>NaN</td>\n",
       "      <td>0.025954</td>\n",
       "    </tr>\n",
       "    <tr>\n",
       "      <td>136</td>\n",
       "      <td>NaN</td>\n",
       "      <td>0.017857</td>\n",
       "    </tr>\n",
       "    <tr>\n",
       "      <td>137</td>\n",
       "      <td>NaN</td>\n",
       "      <td>-0.014620</td>\n",
       "    </tr>\n",
       "    <tr>\n",
       "      <td>138</td>\n",
       "      <td>NaN</td>\n",
       "      <td>-0.001484</td>\n",
       "    </tr>\n",
       "    <tr>\n",
       "      <td>139</td>\n",
       "      <td>NaN</td>\n",
       "      <td>-0.022288</td>\n",
       "    </tr>\n",
       "  </tbody>\n",
       "</table>\n",
       "<p>140 rows × 2 columns</p>\n",
       "</div>"
      ],
      "text/plain": [
       "            0       gfr\n",
       "0   -0.012719       NaN\n",
       "1   -0.012883       NaN\n",
       "2   -0.019641       NaN\n",
       "3   -0.009967       NaN\n",
       "4   -0.074493       NaN\n",
       "..        ...       ...\n",
       "135       NaN  0.025954\n",
       "136       NaN  0.017857\n",
       "137       NaN -0.014620\n",
       "138       NaN -0.001484\n",
       "139       NaN -0.022288\n",
       "\n",
       "[140 rows x 2 columns]"
      ]
     },
     "execution_count": 112,
     "metadata": {},
     "output_type": "execute_result"
    }
   ],
   "source": [
    "dl_concat"
   ]
  },
  {
   "cell_type": "code",
   "execution_count": 122,
   "metadata": {},
   "outputs": [
    {
     "name": "stdout",
     "output_type": "stream",
     "text": [
      "=== Covariance ordre 1 ===\n",
      "            0       gfr\n",
      "0    0.001994  0.000653\n",
      "gfr  0.000653  0.002067\n",
      "\n",
      "=== Coefficient corrélation ordre 1 ===\n",
      "            0       gfr\n",
      "0    1.000000  0.321746\n",
      "gfr  0.321746  1.000000\n"
     ]
    }
   ],
   "source": [
    "# ORDRE 1\n",
    "dfl = pd.DataFrame(data = dlq)\n",
    "dl = pd.DataFrame(data = dl)\n",
    "\n",
    "dfl_1 = dfl.shift(1)\n",
    "dl_1 = dfl_1[['gfr']]\n",
    "dl_concat = pd.concat([dl[1:], dl_1[1:]], axis=1)\n",
    "\n",
    "cov = dl_concat.cov()\n",
    "corr_coef = dl_concat.corr()\n",
    "\n",
    "print('=== Covariance ordre 1 ===')\n",
    "print(cov)\n",
    "print()\n",
    "print('=== Coefficient corrélation ordre 1 ===')\n",
    "print(corr_coef)"
   ]
  },
  {
   "cell_type": "code",
   "execution_count": 123,
   "metadata": {},
   "outputs": [
    {
     "name": "stdout",
     "output_type": "stream",
     "text": [
      "=== Covariance ordre 1 ===\n",
      "            0       gfr\n",
      "0    0.002061  0.000182\n",
      "gfr  0.000182  0.002317\n",
      "\n",
      "=== Coefficient corrélation ordre 1 ===\n",
      "            0       gfr\n",
      "0    1.000000  0.083103\n",
      "gfr  0.083103  1.000000\n"
     ]
    }
   ],
   "source": [
    "# ORDRE 10\n",
    "dfl = pd.DataFrame(data = dlq)\n",
    "dl = pd.DataFrame(data = dl)\n",
    "\n",
    "dfl_10 = dfl.shift(10)\n",
    "dl_10 = dfl_10[['gfr']]\n",
    "dl_concat_10 = pd.concat([dl[10:], dl_10[10:]], axis=1)\n",
    "\n",
    "\n",
    "cov = dl_concat_10.cov() \n",
    "corr_coef = dl_concat_10.corr()\n",
    "\n",
    "print('=== Covariance ordre 1 ===')\n",
    "print(cov)\n",
    "print()\n",
    "print('=== Coefficient corrélation ordre 1 ===')\n",
    "print(corr_coef)"
   ]
  },
  {
   "cell_type": "code",
   "execution_count": 124,
   "metadata": {},
   "outputs": [
    {
     "name": "stdout",
     "output_type": "stream",
     "text": [
      "=== Covariance ordre 1 ===\n",
      "            0       gfr\n",
      "0    0.002177  0.000126\n",
      "gfr  0.000126  0.002499\n",
      "\n",
      "=== Coefficient corrélation ordre 1 ===\n",
      "            0       gfr\n",
      "0    1.000000  0.054064\n",
      "gfr  0.054064  1.000000\n"
     ]
    }
   ],
   "source": [
    "# ORDRE 20\n",
    "dfl = pd.DataFrame(data = dlq)\n",
    "dl = pd.DataFrame(data = dl)\n",
    "\n",
    "dfl_20 = dfl.shift(20)\n",
    "dl_20 = dfl_20[['gfr']]\n",
    "dl_concat_20 = pd.concat([dl[20:], dl_10[20:]], axis=1)\n",
    "\n",
    "\n",
    "cov = dl_concat_20.cov() \n",
    "corr_coef = dl_concat_20.corr()\n",
    "\n",
    "print('=== Covariance ordre 1 ===')\n",
    "print(cov)\n",
    "print()\n",
    "print('=== Coefficient corrélation ordre 1 ===')\n",
    "print(corr_coef)"
   ]
  },
  {
   "cell_type": "markdown",
   "metadata": {},
   "source": [
    "## **Exercice 4 :**\n",
    "Représenter graphiquement l’autocorrélogramme et l’autocorrélogramme partiel."
   ]
  },
  {
   "cell_type": "code",
   "execution_count": 132,
   "metadata": {},
   "outputs": [
    {
     "data": {
      "image/png": "[encoded data removed]",
      "text/plain": [
       "<Figure size 432x288 with 1 Axes>"
      ]
     },
     "metadata": {
      "needs_background": "light"
     },
     "output_type": "display_data"
    },
    {
     "data": {
      "image/png": "[encoded data removed]",
      "text/plain": [
       "<Figure size 432x288 with 1 Axes>"
      ]
     },
     "metadata": {
      "needs_background": "light"
     },
     "output_type": "display_data"
    }
   ],
   "source": [
    "from statsmodels.tsa.stattools import acf\n",
    "from statsmodels.tsa.stattools import pacf\n",
    "from statsmodels.graphics.tsaplots import plot_acf\n",
    "from statsmodels.graphics.tsaplots import plot_pacf\n",
    "\n",
    "acf(dl)\n",
    "plot_acf(dl)\n",
    "pacf(dl)\n",
    "plot_pacf(dl)\n",
    "plt.show()"
   ]
  },
  {
   "cell_type": "markdown",
   "metadata": {},
   "source": [
    "## **Exercice 5 :**\n",
    "Estimer le modèle AR(1) et AR(3) pour `dl`. Calculer l’AIC et le BIC dans chacun des cas. Faire ensuite une boucle de l’AR(1) jusqu’à l’AR(10) et déterminer l’ordre p de AR(p)."
   ]
  },
  {
   "cell_type": "code",
   "execution_count": 140,
   "metadata": {},
   "outputs": [
    {
     "name": "stdout",
     "output_type": "stream",
     "text": [
      "Params = [-0.00562636  0.43581377 -0.30051856  0.26418904]\n",
      "AIC = -6.276552943248158\n",
      "BIC = -6.113353847279328\n"
     ]
    }
   ],
   "source": [
    "import statsmodels.tsa.api as smt\n",
    "\n",
    "dl_np = dl.to_numpy()\n",
    "\n",
    "mdl = smt.AR(dl_np).fit(maxlag=3)\n",
    "\n",
    "print('Params = {}'.format(mdl.params))\n",
    "print('AIC = {}'.format(mdl.aic))\n",
    "print('BIC = {}'.format(mdl.bic))"
   ]
  },
  {
   "cell_type": "code",
   "execution_count": 143,
   "metadata": {},
   "outputs": [
    {
     "data": {
      "image/png": "[encoded data removed]",
      "text/plain": [
       "<Figure size 576x360 with 1 Axes>"
      ]
     },
     "metadata": {
      "needs_background": "light"
     },
     "output_type": "display_data"
    }
   ],
   "source": [
    "l_aic = []\n",
    "l_bic = []\n",
    "\n",
    "plt.figure(figsize=(8,5))\n",
    "for p in range(1,11):\n",
    "    mdl = smt.AR(dl_np).fit(maxlag=p)\n",
    "    l_aic.append(mdl.aic)\n",
    "    l_bic.append(mdl.bic)\n",
    "    \n",
    "plt.plot(range(1,11),l_aic, label='aic')\n",
    "plt.plot(range(1,11),l_bic, label='bic')\n",
    "plt.legend()\n",
    "plt.show;"
   ]
  },
  {
   "cell_type": "code",
   "execution_count": null,
   "metadata": {},
   "outputs": [],
   "source": []
  }
 ],
 "metadata": {
  "kernelspec": {
   "display_name": "Python 3",
   "language": "python",
   "name": "python3"
  },
  "language_info": {
   "codemirror_mode": {
    "name": "ipython",
    "version": 3
   },
   "file_extension": ".py",
   "mimetype": "text/x-python",
   "name": "python",
   "nbconvert_exporter": "python",
   "pygments_lexer": "ipython3",
   "version": "3.7.4"
  }
 },
 "nbformat": 4,
 "nbformat_minor": 4
}
