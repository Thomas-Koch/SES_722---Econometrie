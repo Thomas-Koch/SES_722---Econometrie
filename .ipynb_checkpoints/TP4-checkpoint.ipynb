{
 "cells": [
  {
   "cell_type": "markdown",
   "metadata": {},
   "source": [
    "# <center>**- SES 722 : TP n°4 Économétrie -**</center>\n"
   ]
  },
  {
   "cell_type": "code",
   "execution_count": 1,
   "metadata": {},
   "outputs": [],
   "source": [
    "import numpy as np\n",
    "import pandas as pd\n",
    "import matplotlib.pyplot as plt\n",
    "import seaborn as sns\n",
    "import statsmodels.api as sm"
   ]
  },
  {
   "cell_type": "markdown",
   "metadata": {},
   "source": [
    "## **Exercice 1 :**"
   ]
  },
  {
   "cell_type": "code",
   "execution_count": 2,
   "metadata": {},
   "outputs": [],
   "source": [
    "df = pd.read_csv('textfiles/HPRICE3.raw', delim_whitespace=True, header=None)"
   ]
  },
  {
   "cell_type": "code",
   "execution_count": 3,
   "metadata": {},
   "outputs": [
    {
     "data": {
      "text/html": [
       "<div>\n",
       "<style scoped>\n",
       "    .dataframe tbody tr th:only-of-type {\n",
       "        vertical-align: middle;\n",
       "    }\n",
       "\n",
       "    .dataframe tbody tr th {\n",
       "        vertical-align: top;\n",
       "    }\n",
       "\n",
       "    .dataframe thead th {\n",
       "        text-align: right;\n",
       "    }\n",
       "</style>\n",
       "<table border=\"1\" class=\"dataframe\">\n",
       "  <thead>\n",
       "    <tr style=\"text-align: right;\">\n",
       "      <th></th>\n",
       "      <th>0</th>\n",
       "      <th>1</th>\n",
       "      <th>2</th>\n",
       "      <th>3</th>\n",
       "      <th>4</th>\n",
       "      <th>5</th>\n",
       "      <th>6</th>\n",
       "      <th>7</th>\n",
       "      <th>8</th>\n",
       "      <th>9</th>\n",
       "      <th>10</th>\n",
       "      <th>11</th>\n",
       "      <th>12</th>\n",
       "      <th>13</th>\n",
       "      <th>14</th>\n",
       "      <th>15</th>\n",
       "      <th>16</th>\n",
       "      <th>17</th>\n",
       "      <th>18</th>\n",
       "    </tr>\n",
       "  </thead>\n",
       "  <tbody>\n",
       "    <tr>\n",
       "      <td>0</td>\n",
       "      <td>1978</td>\n",
       "      <td>48</td>\n",
       "      <td>2304</td>\n",
       "      <td>4</td>\n",
       "      <td>3000</td>\n",
       "      <td>1000</td>\n",
       "      <td>6.9078</td>\n",
       "      <td>60000</td>\n",
       "      <td>7</td>\n",
       "      <td>1660</td>\n",
       "      <td>4578</td>\n",
       "      <td>1</td>\n",
       "      <td>10700</td>\n",
       "      <td>9.277999</td>\n",
       "      <td>11.00210</td>\n",
       "      <td>0</td>\n",
       "      <td>7.414573</td>\n",
       "      <td>8.429017</td>\n",
       "      <td>47.71770</td>\n",
       "    </tr>\n",
       "    <tr>\n",
       "      <td>1</td>\n",
       "      <td>1978</td>\n",
       "      <td>83</td>\n",
       "      <td>6889</td>\n",
       "      <td>4</td>\n",
       "      <td>4000</td>\n",
       "      <td>1000</td>\n",
       "      <td>6.9078</td>\n",
       "      <td>40000</td>\n",
       "      <td>6</td>\n",
       "      <td>2612</td>\n",
       "      <td>8370</td>\n",
       "      <td>2</td>\n",
       "      <td>11000</td>\n",
       "      <td>9.305651</td>\n",
       "      <td>10.59663</td>\n",
       "      <td>0</td>\n",
       "      <td>7.867871</td>\n",
       "      <td>9.032409</td>\n",
       "      <td>47.71770</td>\n",
       "    </tr>\n",
       "    <tr>\n",
       "      <td>2</td>\n",
       "      <td>1978</td>\n",
       "      <td>58</td>\n",
       "      <td>3364</td>\n",
       "      <td>4</td>\n",
       "      <td>4000</td>\n",
       "      <td>1000</td>\n",
       "      <td>6.9078</td>\n",
       "      <td>34000</td>\n",
       "      <td>6</td>\n",
       "      <td>1144</td>\n",
       "      <td>5000</td>\n",
       "      <td>1</td>\n",
       "      <td>11500</td>\n",
       "      <td>9.350102</td>\n",
       "      <td>10.43412</td>\n",
       "      <td>0</td>\n",
       "      <td>7.042286</td>\n",
       "      <td>8.517193</td>\n",
       "      <td>47.71770</td>\n",
       "    </tr>\n",
       "    <tr>\n",
       "      <td>3</td>\n",
       "      <td>1978</td>\n",
       "      <td>11</td>\n",
       "      <td>121</td>\n",
       "      <td>4</td>\n",
       "      <td>4000</td>\n",
       "      <td>1000</td>\n",
       "      <td>6.9078</td>\n",
       "      <td>63900</td>\n",
       "      <td>5</td>\n",
       "      <td>1136</td>\n",
       "      <td>10000</td>\n",
       "      <td>1</td>\n",
       "      <td>11900</td>\n",
       "      <td>9.384294</td>\n",
       "      <td>11.06507</td>\n",
       "      <td>0</td>\n",
       "      <td>7.035269</td>\n",
       "      <td>9.210340</td>\n",
       "      <td>47.71770</td>\n",
       "    </tr>\n",
       "    <tr>\n",
       "      <td>4</td>\n",
       "      <td>1978</td>\n",
       "      <td>48</td>\n",
       "      <td>2304</td>\n",
       "      <td>4</td>\n",
       "      <td>4000</td>\n",
       "      <td>2000</td>\n",
       "      <td>7.6009</td>\n",
       "      <td>44000</td>\n",
       "      <td>5</td>\n",
       "      <td>1868</td>\n",
       "      <td>10000</td>\n",
       "      <td>1</td>\n",
       "      <td>12100</td>\n",
       "      <td>9.400961</td>\n",
       "      <td>10.69195</td>\n",
       "      <td>0</td>\n",
       "      <td>7.532624</td>\n",
       "      <td>9.210340</td>\n",
       "      <td>57.77368</td>\n",
       "    </tr>\n",
       "  </tbody>\n",
       "</table>\n",
       "</div>"
      ],
      "text/plain": [
       "     0   1     2   3     4     5       6      7   8     9      10  11     12  \\\n",
       "0  1978  48  2304   4  3000  1000  6.9078  60000   7  1660   4578   1  10700   \n",
       "1  1978  83  6889   4  4000  1000  6.9078  40000   6  2612   8370   2  11000   \n",
       "2  1978  58  3364   4  4000  1000  6.9078  34000   6  1144   5000   1  11500   \n",
       "3  1978  11   121   4  4000  1000  6.9078  63900   5  1136  10000   1  11900   \n",
       "4  1978  48  2304   4  4000  2000  7.6009  44000   5  1868  10000   1  12100   \n",
       "\n",
       "         13        14  15        16        17        18  \n",
       "0  9.277999  11.00210   0  7.414573  8.429017  47.71770  \n",
       "1  9.305651  10.59663   0  7.867871  9.032409  47.71770  \n",
       "2  9.350102  10.43412   0  7.042286  8.517193  47.71770  \n",
       "3  9.384294  11.06507   0  7.035269  9.210340  47.71770  \n",
       "4  9.400961  10.69195   0  7.532624  9.210340  57.77368  "
      ]
     },
     "execution_count": 3,
     "metadata": {},
     "output_type": "execute_result"
    }
   ],
   "source": [
    "df.head()"
   ]
  },
  {
   "cell_type": "code",
   "execution_count": 4,
   "metadata": {},
   "outputs": [
    {
     "data": {
      "text/html": [
       "<div>\n",
       "<style scoped>\n",
       "    .dataframe tbody tr th:only-of-type {\n",
       "        vertical-align: middle;\n",
       "    }\n",
       "\n",
       "    .dataframe tbody tr th {\n",
       "        vertical-align: top;\n",
       "    }\n",
       "\n",
       "    .dataframe thead th {\n",
       "        text-align: right;\n",
       "    }\n",
       "</style>\n",
       "<table border=\"1\" class=\"dataframe\">\n",
       "  <thead>\n",
       "    <tr style=\"text-align: right;\">\n",
       "      <th></th>\n",
       "      <th>0</th>\n",
       "      <th>1</th>\n",
       "      <th>2</th>\n",
       "      <th>3</th>\n",
       "      <th>4</th>\n",
       "      <th>5</th>\n",
       "      <th>6</th>\n",
       "      <th>7</th>\n",
       "      <th>8</th>\n",
       "      <th>9</th>\n",
       "      <th>10</th>\n",
       "      <th>11</th>\n",
       "      <th>12</th>\n",
       "      <th>13</th>\n",
       "      <th>14</th>\n",
       "      <th>15</th>\n",
       "      <th>16</th>\n",
       "      <th>17</th>\n",
       "      <th>18</th>\n",
       "    </tr>\n",
       "  </thead>\n",
       "  <tbody>\n",
       "    <tr>\n",
       "      <td>count</td>\n",
       "      <td>321.000000</td>\n",
       "      <td>321.000000</td>\n",
       "      <td>321.000000</td>\n",
       "      <td>321.000000</td>\n",
       "      <td>321.000000</td>\n",
       "      <td>321.000000</td>\n",
       "      <td>321.000000</td>\n",
       "      <td>321.000000</td>\n",
       "      <td>321.000000</td>\n",
       "      <td>321.000000</td>\n",
       "      <td>321.000000</td>\n",
       "      <td>321.000000</td>\n",
       "      <td>321.000000</td>\n",
       "      <td>321.000000</td>\n",
       "      <td>321.000000</td>\n",
       "      <td>321.000000</td>\n",
       "      <td>321.000000</td>\n",
       "      <td>321.000000</td>\n",
       "      <td>321.000000</td>\n",
       "    </tr>\n",
       "    <tr>\n",
       "      <td>mean</td>\n",
       "      <td>1979.327103</td>\n",
       "      <td>18.009346</td>\n",
       "      <td>1381.566978</td>\n",
       "      <td>2.208723</td>\n",
       "      <td>15822.429907</td>\n",
       "      <td>16442.367601</td>\n",
       "      <td>9.480513</td>\n",
       "      <td>96100.660436</td>\n",
       "      <td>6.585670</td>\n",
       "      <td>2106.728972</td>\n",
       "      <td>39629.890966</td>\n",
       "      <td>2.339564</td>\n",
       "      <td>20715.576324</td>\n",
       "      <td>9.837414</td>\n",
       "      <td>11.378118</td>\n",
       "      <td>0.442368</td>\n",
       "      <td>7.597232</td>\n",
       "      <td>10.301858</td>\n",
       "      <td>90.482246</td>\n",
       "    </tr>\n",
       "    <tr>\n",
       "      <td>std</td>\n",
       "      <td>1.492329</td>\n",
       "      <td>32.565845</td>\n",
       "      <td>4801.788757</td>\n",
       "      <td>2.164353</td>\n",
       "      <td>8967.106296</td>\n",
       "      <td>9033.130652</td>\n",
       "      <td>0.777165</td>\n",
       "      <td>43223.728867</td>\n",
       "      <td>0.901204</td>\n",
       "      <td>694.957902</td>\n",
       "      <td>39514.390241</td>\n",
       "      <td>0.770526</td>\n",
       "      <td>8508.183950</td>\n",
       "      <td>0.478383</td>\n",
       "      <td>0.438174</td>\n",
       "      <td>0.497443</td>\n",
       "      <td>0.340723</td>\n",
       "      <td>0.801751</td>\n",
       "      <td>14.066470</td>\n",
       "    </tr>\n",
       "    <tr>\n",
       "      <td>min</td>\n",
       "      <td>1978.000000</td>\n",
       "      <td>0.000000</td>\n",
       "      <td>0.000000</td>\n",
       "      <td>0.000000</td>\n",
       "      <td>1000.000000</td>\n",
       "      <td>1000.000000</td>\n",
       "      <td>6.907800</td>\n",
       "      <td>26000.000000</td>\n",
       "      <td>4.000000</td>\n",
       "      <td>735.000000</td>\n",
       "      <td>1710.000000</td>\n",
       "      <td>1.000000</td>\n",
       "      <td>5000.000000</td>\n",
       "      <td>8.517193</td>\n",
       "      <td>10.165850</td>\n",
       "      <td>0.000000</td>\n",
       "      <td>6.599871</td>\n",
       "      <td>7.444249</td>\n",
       "      <td>47.717700</td>\n",
       "    </tr>\n",
       "    <tr>\n",
       "      <td>25%</td>\n",
       "      <td>1978.000000</td>\n",
       "      <td>0.000000</td>\n",
       "      <td>0.000000</td>\n",
       "      <td>0.000000</td>\n",
       "      <td>9000.000000</td>\n",
       "      <td>9000.000000</td>\n",
       "      <td>9.105000</td>\n",
       "      <td>65000.000000</td>\n",
       "      <td>6.000000</td>\n",
       "      <td>1560.000000</td>\n",
       "      <td>16935.000000</td>\n",
       "      <td>2.000000</td>\n",
       "      <td>13400.000000</td>\n",
       "      <td>9.503010</td>\n",
       "      <td>11.082140</td>\n",
       "      <td>0.000000</td>\n",
       "      <td>7.352441</td>\n",
       "      <td>9.737138</td>\n",
       "      <td>82.901020</td>\n",
       "    </tr>\n",
       "    <tr>\n",
       "      <td>50%</td>\n",
       "      <td>1978.000000</td>\n",
       "      <td>4.000000</td>\n",
       "      <td>16.000000</td>\n",
       "      <td>2.000000</td>\n",
       "      <td>14000.000000</td>\n",
       "      <td>16000.000000</td>\n",
       "      <td>9.680300</td>\n",
       "      <td>85900.000000</td>\n",
       "      <td>7.000000</td>\n",
       "      <td>2056.000000</td>\n",
       "      <td>43560.000000</td>\n",
       "      <td>2.000000</td>\n",
       "      <td>19900.000000</td>\n",
       "      <td>9.898475</td>\n",
       "      <td>11.360940</td>\n",
       "      <td>0.000000</td>\n",
       "      <td>7.628518</td>\n",
       "      <td>10.681890</td>\n",
       "      <td>93.708210</td>\n",
       "    </tr>\n",
       "    <tr>\n",
       "      <td>75%</td>\n",
       "      <td>1981.000000</td>\n",
       "      <td>22.000000</td>\n",
       "      <td>484.000000</td>\n",
       "      <td>4.000000</td>\n",
       "      <td>23000.000000</td>\n",
       "      <td>24000.000000</td>\n",
       "      <td>10.086000</td>\n",
       "      <td>120000.000000</td>\n",
       "      <td>7.000000</td>\n",
       "      <td>2544.000000</td>\n",
       "      <td>46100.000000</td>\n",
       "      <td>3.000000</td>\n",
       "      <td>27200.000000</td>\n",
       "      <td>10.210970</td>\n",
       "      <td>11.695250</td>\n",
       "      <td>1.000000</td>\n",
       "      <td>7.841493</td>\n",
       "      <td>10.738570</td>\n",
       "      <td>101.727400</td>\n",
       "    </tr>\n",
       "    <tr>\n",
       "      <td>max</td>\n",
       "      <td>1981.000000</td>\n",
       "      <td>189.000000</td>\n",
       "      <td>35721.000000</td>\n",
       "      <td>6.000000</td>\n",
       "      <td>35000.000000</td>\n",
       "      <td>34000.000000</td>\n",
       "      <td>10.434000</td>\n",
       "      <td>300000.000000</td>\n",
       "      <td>10.000000</td>\n",
       "      <td>5136.000000</td>\n",
       "      <td>544500.000000</td>\n",
       "      <td>4.000000</td>\n",
       "      <td>40000.000000</td>\n",
       "      <td>10.596630</td>\n",
       "      <td>12.611540</td>\n",
       "      <td>1.000000</td>\n",
       "      <td>8.544030</td>\n",
       "      <td>13.207620</td>\n",
       "      <td>108.868400</td>\n",
       "    </tr>\n",
       "  </tbody>\n",
       "</table>\n",
       "</div>"
      ],
      "text/plain": [
       "                0           1             2           3             4   \\\n",
       "count   321.000000  321.000000    321.000000  321.000000    321.000000   \n",
       "mean   1979.327103   18.009346   1381.566978    2.208723  15822.429907   \n",
       "std       1.492329   32.565845   4801.788757    2.164353   8967.106296   \n",
       "min    1978.000000    0.000000      0.000000    0.000000   1000.000000   \n",
       "25%    1978.000000    0.000000      0.000000    0.000000   9000.000000   \n",
       "50%    1978.000000    4.000000     16.000000    2.000000  14000.000000   \n",
       "75%    1981.000000   22.000000    484.000000    4.000000  23000.000000   \n",
       "max    1981.000000  189.000000  35721.000000    6.000000  35000.000000   \n",
       "\n",
       "                 5           6              7           8            9   \\\n",
       "count    321.000000  321.000000     321.000000  321.000000   321.000000   \n",
       "mean   16442.367601    9.480513   96100.660436    6.585670  2106.728972   \n",
       "std     9033.130652    0.777165   43223.728867    0.901204   694.957902   \n",
       "min     1000.000000    6.907800   26000.000000    4.000000   735.000000   \n",
       "25%     9000.000000    9.105000   65000.000000    6.000000  1560.000000   \n",
       "50%    16000.000000    9.680300   85900.000000    7.000000  2056.000000   \n",
       "75%    24000.000000   10.086000  120000.000000    7.000000  2544.000000   \n",
       "max    34000.000000   10.434000  300000.000000   10.000000  5136.000000   \n",
       "\n",
       "                  10          11            12          13          14  \\\n",
       "count     321.000000  321.000000    321.000000  321.000000  321.000000   \n",
       "mean    39629.890966    2.339564  20715.576324    9.837414   11.378118   \n",
       "std     39514.390241    0.770526   8508.183950    0.478383    0.438174   \n",
       "min      1710.000000    1.000000   5000.000000    8.517193   10.165850   \n",
       "25%     16935.000000    2.000000  13400.000000    9.503010   11.082140   \n",
       "50%     43560.000000    2.000000  19900.000000    9.898475   11.360940   \n",
       "75%     46100.000000    3.000000  27200.000000   10.210970   11.695250   \n",
       "max    544500.000000    4.000000  40000.000000   10.596630   12.611540   \n",
       "\n",
       "               15          16          17          18  \n",
       "count  321.000000  321.000000  321.000000  321.000000  \n",
       "mean     0.442368    7.597232   10.301858   90.482246  \n",
       "std      0.497443    0.340723    0.801751   14.066470  \n",
       "min      0.000000    6.599871    7.444249   47.717700  \n",
       "25%      0.000000    7.352441    9.737138   82.901020  \n",
       "50%      0.000000    7.628518   10.681890   93.708210  \n",
       "75%      1.000000    7.841493   10.738570  101.727400  \n",
       "max      1.000000    8.544030   13.207620  108.868400  "
      ]
     },
     "execution_count": 4,
     "metadata": {},
     "output_type": "execute_result"
    }
   ],
   "source": [
    "df.describe()"
   ]
  },
  {
   "cell_type": "code",
   "execution_count": 14,
   "metadata": {},
   "outputs": [
    {
     "data": {
      "image/png": "[encoded data removed]",
      "text/plain": [
       "<Figure size 1008x504 with 1 Axes>"
      ]
     },
     "metadata": {
      "needs_background": "light"
     },
     "output_type": "display_data"
    }
   ],
   "source": [
    "price = df[7] / 100\n",
    "\n",
    "plt.figure(figsize=(14,7))\n",
    "sns.distplot(price)\n",
    "plt.grid(True)\n",
    "plt.title(\"Histogramme des prix\", fontsize=14)\n",
    "plt.show()"
   ]
  },
  {
   "cell_type": "code",
   "execution_count": 6,
   "metadata": {},
   "outputs": [
    {
     "name": "stdout",
     "output_type": "stream",
     "text": [
      "                            OLS Regression Results                            \n",
      "==============================================================================\n",
      "Dep. Variable:                      7   R-squared:                       0.715\n",
      "Model:                            OLS   Adj. R-squared:                  0.707\n",
      "Method:                 Least Squares   F-statistic:                     86.73\n",
      "Date:                Fri, 06 Mar 2020   Prob (F-statistic):           2.14e-79\n",
      "Time:                        13:49:49   Log-Likelihood:                -2201.6\n",
      "No. Observations:                 321   AIC:                             4423.\n",
      "Df Residuals:                     311   BIC:                             4461.\n",
      "Df Model:                           9                                         \n",
      "Covariance Type:            nonrobust                                         \n",
      "==============================================================================\n",
      "                 coef    std err          t      P>|t|      [0.025      0.975]\n",
      "------------------------------------------------------------------------------\n",
      "const       -211.1428    105.234     -2.006      0.046    -418.204      -4.081\n",
      "age           -2.2888      0.491     -4.659      0.000      -3.255      -1.322\n",
      "nbh          -19.8892      6.470     -3.074      0.002     -32.620      -7.158\n",
      "inst          -0.0054      0.004     -1.331      0.184      -0.013       0.003\n",
      "rooms         41.3148     19.323      2.138      0.033       3.294      79.335\n",
      "area           0.2174      0.028      7.863      0.000       0.163       0.272\n",
      "land           0.0012      0.000      3.239      0.001       0.000       0.002\n",
      "baths        130.0255     28.530      4.557      0.000      73.889     186.162\n",
      "dist           0.0051      0.004      1.280      0.201      -0.003       0.013\n",
      "y81          358.6543     27.666     12.964      0.000     304.218     413.091\n",
      "==============================================================================\n",
      "Omnibus:                       87.991   Durbin-Watson:                   1.596\n",
      "Prob(Omnibus):                  0.000   Jarque-Bera (JB):              581.142\n",
      "Skew:                           0.942   Prob(JB):                    6.41e-127\n",
      "Kurtosis:                       9.317   Cond. No.                     4.94e+05\n",
      "==============================================================================\n",
      "\n",
      "Warnings:\n",
      "[1] Standard Errors assume that the covariance matrix of the errors is correctly specified.\n",
      "[2] The condition number is large, 4.94e+05. This might indicate that there are\n",
      "strong multicollinearity or other numerical problems.\n",
      "440.1909469667165\n"
     ]
    }
   ],
   "source": [
    "s = np.shape(price)\n",
    "const = np.ones(s)\n",
    "\n",
    "age = df[1]\n",
    "nbh = df[3]\n",
    "inst = df[5]\n",
    "rooms = df[8]\n",
    "area = df[9]\n",
    "land = df[10]\n",
    "baths = df[11]\n",
    "dist = df[12]\n",
    "y81 = df[15]\n",
    "y = price\n",
    "\n",
    "col = {'const':const, 'age':age, 'nbh':nbh, 'inst':inst, 'rooms':rooms, 'area':area , 'land': land, 'baths':baths, 'dist': dist, 'y81':y81}\n",
    "X = pd.DataFrame(data=col)\n",
    "#X = np.column_stack((const,age,nbh,inst,rooms,area,land,baths,dist,y81))\n",
    "\n",
    "model = sm.OLS(y,X)\n",
    "results = model.fit()\n",
    "print(results.summary())\n",
    "s = y81==0\n",
    "p0 = np.mean(price[s])\n",
    "s = y81==1\n",
    "p1 = np.mean(price[s])\n",
    "print(p1-p0)"
   ]
  },
  {
   "cell_type": "markdown",
   "metadata": {},
   "source": [
    "## **Exercice 2 :**\n",
    "Tester l’hypothèse d’homoscédasticité en utilisant la régression de $u^2$ en fonction des variables du modèle."
   ]
  },
  {
   "cell_type": "code",
   "execution_count": 7,
   "metadata": {},
   "outputs": [
    {
     "name": "stdout",
     "output_type": "stream",
     "text": [
      "                            OLS Regression Results                            \n",
      "==============================================================================\n",
      "Dep. Variable:                      y   R-squared:                       0.281\n",
      "Model:                            OLS   Adj. R-squared:                  0.261\n",
      "Method:                 Least Squares   F-statistic:                     13.53\n",
      "Date:                Fri, 06 Mar 2020   Prob (F-statistic):           2.57e-18\n",
      "Time:                        13:49:49   Log-Likelihood:                -4234.7\n",
      "No. Observations:                 321   AIC:                             8489.\n",
      "Df Residuals:                     311   BIC:                             8527.\n",
      "Df Model:                           9                                         \n",
      "Covariance Type:            nonrobust                                         \n",
      "==============================================================================\n",
      "                 coef    std err          t      P>|t|      [0.025      0.975]\n",
      "------------------------------------------------------------------------------\n",
      "const       2.307e+04   5.93e+04      0.389      0.697   -9.35e+04     1.4e+05\n",
      "age         -615.5935    276.676     -2.225      0.027   -1159.986     -71.201\n",
      "nbh        -3018.7279   3643.672     -0.828      0.408   -1.02e+04    4150.638\n",
      "inst          -3.0761      2.285     -1.346      0.179      -7.571       1.419\n",
      "rooms      -7635.9441   1.09e+04     -0.702      0.483    -2.9e+04    1.38e+04\n",
      "area          89.8939     15.573      5.772      0.000      59.252     120.536\n",
      "land           1.5736      0.212      7.426      0.000       1.157       1.991\n",
      "baths      -2.721e+04   1.61e+04     -1.694      0.091   -5.88e+04    4401.122\n",
      "dist          -2.0748      2.225     -0.932      0.352      -6.454       2.304\n",
      "y81         7940.4165   1.56e+04      0.510      0.611   -2.27e+04    3.86e+04\n",
      "==============================================================================\n",
      "Omnibus:                      366.671   Durbin-Watson:                   1.916\n",
      "Prob(Omnibus):                  0.000   Jarque-Bera (JB):            22235.419\n",
      "Skew:                           4.972   Prob(JB):                         0.00\n",
      "Kurtosis:                      42.542   Cond. No.                     4.94e+05\n",
      "==============================================================================\n",
      "\n",
      "Warnings:\n",
      "[1] Standard Errors assume that the covariance matrix of the errors is correctly specified.\n",
      "[2] The condition number is large, 4.94e+05. This might indicate that there are\n",
      "strong multicollinearity or other numerical problems.\n"
     ]
    }
   ],
   "source": [
    "u = results.resid\n",
    "u2 = u**2\n",
    "y = u2\n",
    "\n",
    "model = sm.OLS(y,X)\n",
    "results = model.fit()\n",
    "print(results.summary())"
   ]
  },
  {
   "cell_type": "markdown",
   "metadata": {},
   "source": [
    "> $F = 13.53$ (statistique de Fischer). On rejette l’hypothèse $H_0$."
   ]
  },
  {
   "cell_type": "markdown",
   "metadata": {},
   "source": [
    "## **Exercice 3 :**\n",
    "Tester l’hypothèse $H_0$ : $θ_{area} = θ_{land} = 0$"
   ]
  },
  {
   "cell_type": "markdown",
   "metadata": {},
   "source": [
    "### Modèle non contraint"
   ]
  },
  {
   "cell_type": "code",
   "execution_count": 8,
   "metadata": {},
   "outputs": [
    {
     "data": {
      "text/html": [
       "<div>\n",
       "<style scoped>\n",
       "    .dataframe tbody tr th:only-of-type {\n",
       "        vertical-align: middle;\n",
       "    }\n",
       "\n",
       "    .dataframe tbody tr th {\n",
       "        vertical-align: top;\n",
       "    }\n",
       "\n",
       "    .dataframe thead th {\n",
       "        text-align: right;\n",
       "    }\n",
       "</style>\n",
       "<table border=\"1\" class=\"dataframe\">\n",
       "  <thead>\n",
       "    <tr style=\"text-align: right;\">\n",
       "      <th></th>\n",
       "      <th>const</th>\n",
       "      <th>age</th>\n",
       "      <th>nbh</th>\n",
       "      <th>inst</th>\n",
       "      <th>rooms</th>\n",
       "      <th>area</th>\n",
       "      <th>land</th>\n",
       "      <th>baths</th>\n",
       "      <th>dist</th>\n",
       "      <th>y81</th>\n",
       "    </tr>\n",
       "  </thead>\n",
       "  <tbody>\n",
       "    <tr>\n",
       "      <td>0</td>\n",
       "      <td>1.0</td>\n",
       "      <td>48</td>\n",
       "      <td>4</td>\n",
       "      <td>1000</td>\n",
       "      <td>7</td>\n",
       "      <td>1660</td>\n",
       "      <td>4578</td>\n",
       "      <td>1</td>\n",
       "      <td>10700</td>\n",
       "      <td>0</td>\n",
       "    </tr>\n",
       "    <tr>\n",
       "      <td>1</td>\n",
       "      <td>1.0</td>\n",
       "      <td>83</td>\n",
       "      <td>4</td>\n",
       "      <td>1000</td>\n",
       "      <td>6</td>\n",
       "      <td>2612</td>\n",
       "      <td>8370</td>\n",
       "      <td>2</td>\n",
       "      <td>11000</td>\n",
       "      <td>0</td>\n",
       "    </tr>\n",
       "    <tr>\n",
       "      <td>2</td>\n",
       "      <td>1.0</td>\n",
       "      <td>58</td>\n",
       "      <td>4</td>\n",
       "      <td>1000</td>\n",
       "      <td>6</td>\n",
       "      <td>1144</td>\n",
       "      <td>5000</td>\n",
       "      <td>1</td>\n",
       "      <td>11500</td>\n",
       "      <td>0</td>\n",
       "    </tr>\n",
       "    <tr>\n",
       "      <td>3</td>\n",
       "      <td>1.0</td>\n",
       "      <td>11</td>\n",
       "      <td>4</td>\n",
       "      <td>1000</td>\n",
       "      <td>5</td>\n",
       "      <td>1136</td>\n",
       "      <td>10000</td>\n",
       "      <td>1</td>\n",
       "      <td>11900</td>\n",
       "      <td>0</td>\n",
       "    </tr>\n",
       "    <tr>\n",
       "      <td>4</td>\n",
       "      <td>1.0</td>\n",
       "      <td>48</td>\n",
       "      <td>4</td>\n",
       "      <td>2000</td>\n",
       "      <td>5</td>\n",
       "      <td>1868</td>\n",
       "      <td>10000</td>\n",
       "      <td>1</td>\n",
       "      <td>12100</td>\n",
       "      <td>0</td>\n",
       "    </tr>\n",
       "  </tbody>\n",
       "</table>\n",
       "</div>"
      ],
      "text/plain": [
       "   const  age  nbh  inst  rooms  area   land  baths   dist  y81\n",
       "0    1.0   48    4  1000      7  1660   4578      1  10700    0\n",
       "1    1.0   83    4  1000      6  2612   8370      2  11000    0\n",
       "2    1.0   58    4  1000      6  1144   5000      1  11500    0\n",
       "3    1.0   11    4  1000      5  1136  10000      1  11900    0\n",
       "4    1.0   48    4  2000      5  1868  10000      1  12100    0"
      ]
     },
     "execution_count": 8,
     "metadata": {},
     "output_type": "execute_result"
    }
   ],
   "source": [
    "X.head()"
   ]
  },
  {
   "cell_type": "code",
   "execution_count": 19,
   "metadata": {},
   "outputs": [],
   "source": [
    "X0 = X\n",
    "y = price\n",
    "\n",
    "model = sm.OLS(y,X0)\n",
    "results = model.fit()\n",
    "u = results.resid\n",
    "SSR0 = u.T@u\n",
    "u2 = u**2\n",
    "\n",
    "model=sm.OLS(u2,X0)\n",
    "results = model.fit()\n",
    "print(results.summary())\n",
    "u=results.resid\n",
    "SSR0 = u.T @ u"
   ]
  },
  {
   "cell_type": "markdown",
   "metadata": {},
   "source": [
    "### Modèle contraint"
   ]
  },
  {
   "cell_type": "code",
   "execution_count": 20,
   "metadata": {},
   "outputs": [
    {
     "name": "stdout",
     "output_type": "stream",
     "text": [
      "                            OLS Regression Results                            \n",
      "==============================================================================\n",
      "Dep. Variable:                      y   R-squared:                       0.070\n",
      "Model:                            OLS   Adj. R-squared:                  0.049\n",
      "Method:                 Least Squares   F-statistic:                     3.369\n",
      "Date:                Fri, 06 Mar 2020   Prob (F-statistic):            0.00176\n",
      "Time:                        14:01:49   Log-Likelihood:                -4276.0\n",
      "No. Observations:                 321   AIC:                             8568.\n",
      "Df Residuals:                     313   BIC:                             8598.\n",
      "Df Model:                           7                                         \n",
      "Covariance Type:            nonrobust                                         \n",
      "==============================================================================\n",
      "                 coef    std err          t      P>|t|      [0.025      0.975]\n",
      "------------------------------------------------------------------------------\n",
      "const       4.073e+04    6.7e+04      0.608      0.544   -9.12e+04    1.73e+05\n",
      "age          -30.7886    303.171     -0.102      0.919    -627.299     565.722\n",
      "nbh        -5495.3851   4101.733     -1.340      0.181   -1.36e+04    2575.070\n",
      "inst           3.8485      2.442      1.576      0.116      -0.956       8.653\n",
      "rooms       1930.9363   1.21e+04      0.159      0.874   -2.19e+04    2.58e+04\n",
      "baths       3.296e+04   1.51e+04      2.178      0.030    3178.641    6.27e+04\n",
      "dist          -6.6591      2.464     -2.703      0.007     -11.507      -1.811\n",
      "y81         2.229e+04   1.71e+04      1.301      0.194   -1.14e+04     5.6e+04\n",
      "==============================================================================\n",
      "Omnibus:                      466.941   Durbin-Watson:                   1.821\n",
      "Prob(Omnibus):                  0.000   Jarque-Bera (JB):            69047.684\n",
      "Skew:                           7.258   Prob(JB):                         0.00\n",
      "Kurtosis:                      73.368   Cond. No.                     2.36e+05\n",
      "==============================================================================\n",
      "\n",
      "Warnings:\n",
      "[1] Standard Errors assume that the covariance matrix of the errors is correctly specified.\n",
      "[2] The condition number is large, 2.36e+05. This might indicate that there are\n",
      "strong multicollinearity or other numerical problems.\n"
     ]
    }
   ],
   "source": [
    "# on retire du modèle area et land\n",
    "col3 = {'const':const, 'age':age, 'nbh':nbh, 'inst':inst, 'rooms':rooms, 'baths':baths, 'dist': dist, 'y81':y81}\n",
    "X3 = pd.DataFrame(data=col3)\n",
    "\n",
    "# on garde le même u2\n",
    "model = sm.OLS(u2,X3)\n",
    "results = model.fit()\n",
    "print(results.summary())\n",
    "u = results.resid\n",
    "SSR3 = u.T@u"
   ]
  },
  {
   "cell_type": "code",
   "execution_count": 21,
   "metadata": {},
   "outputs": [
    {
     "data": {
      "text/plain": [
       "6990697128053.16"
      ]
     },
     "execution_count": 21,
     "metadata": {},
     "output_type": "execute_result"
    }
   ],
   "source": [
    "SSR3"
   ]
  },
  {
   "cell_type": "code",
   "execution_count": 22,
   "metadata": {},
   "outputs": [
    {
     "name": "stdout",
     "output_type": "stream",
     "text": [
      "pvalue 3.908173420358547e-18\n",
      "Fisher 45.72369277599905\n"
     ]
    }
   ],
   "source": [
    "from scipy.stats import f\n",
    "\n",
    "\n",
    "n,k = np.shape(X0)\n",
    "F = ((SSR3-SSR0)/2)/(SSR0/(n-k))\n",
    " \n",
    "print('pvalue', f.sf(F,2,n-k) )\n",
    "print('Fisher', F)"
   ]
  },
  {
   "cell_type": "markdown",
   "metadata": {},
   "source": [
    "$F = 45.72$\n",
    "\n",
    "On rejette donc l'hypothèse  $𝐻_0$  ($p_{value} < 0.01$)."
   ]
  },
  {
   "cell_type": "markdown",
   "metadata": {},
   "source": [
    "## **Exercice 4 :**\n",
    "Donner la valeur minimale et maximale de baths. "
   ]
  },
  {
   "cell_type": "code",
   "execution_count": 23,
   "metadata": {},
   "outputs": [
    {
     "data": {
      "text/plain": [
       "1"
      ]
     },
     "execution_count": 23,
     "metadata": {},
     "output_type": "execute_result"
    }
   ],
   "source": [
    "baths.min()"
   ]
  },
  {
   "cell_type": "code",
   "execution_count": 24,
   "metadata": {},
   "outputs": [
    {
     "data": {
      "text/plain": [
       "4"
      ]
     },
     "execution_count": 24,
     "metadata": {},
     "output_type": "execute_result"
    }
   ],
   "source": [
    "baths.max()"
   ]
  },
  {
   "cell_type": "markdown",
   "metadata": {},
   "source": [
    "Transformer ensuite la variable `baths` en un ensemble de variables binaires. "
   ]
  },
  {
   "cell_type": "code",
   "execution_count": 25,
   "metadata": {},
   "outputs": [],
   "source": [
    "from sklearn.preprocessing import OneHotEncoder\n",
    "\n",
    "# OneHotEncoder pour baths\n",
    "ohe = OneHotEncoder(categories='auto')\n",
    "X_baths = ohe.fit_transform(X[['baths']]).toarray()\n",
    "X_baths = pd.DataFrame(X_baths)"
   ]
  },
  {
   "cell_type": "code",
   "execution_count": 26,
   "metadata": {},
   "outputs": [],
   "source": [
    "col_baths = {'baths1':X_baths[0], 'baths2':X_baths[1], 'baths3':X_baths[2], 'baths4':X_baths[3]}\n",
    "X_baths = pd.DataFrame(data=col_baths)"
   ]
  },
  {
   "cell_type": "code",
   "execution_count": 27,
   "metadata": {},
   "outputs": [
    {
     "data": {
      "text/html": [
       "<div>\n",
       "<style scoped>\n",
       "    .dataframe tbody tr th:only-of-type {\n",
       "        vertical-align: middle;\n",
       "    }\n",
       "\n",
       "    .dataframe tbody tr th {\n",
       "        vertical-align: top;\n",
       "    }\n",
       "\n",
       "    .dataframe thead th {\n",
       "        text-align: right;\n",
       "    }\n",
       "</style>\n",
       "<table border=\"1\" class=\"dataframe\">\n",
       "  <thead>\n",
       "    <tr style=\"text-align: right;\">\n",
       "      <th></th>\n",
       "      <th>baths1</th>\n",
       "      <th>baths2</th>\n",
       "      <th>baths3</th>\n",
       "      <th>baths4</th>\n",
       "    </tr>\n",
       "  </thead>\n",
       "  <tbody>\n",
       "    <tr>\n",
       "      <td>0</td>\n",
       "      <td>1.0</td>\n",
       "      <td>0.0</td>\n",
       "      <td>0.0</td>\n",
       "      <td>0.0</td>\n",
       "    </tr>\n",
       "    <tr>\n",
       "      <td>1</td>\n",
       "      <td>0.0</td>\n",
       "      <td>1.0</td>\n",
       "      <td>0.0</td>\n",
       "      <td>0.0</td>\n",
       "    </tr>\n",
       "    <tr>\n",
       "      <td>2</td>\n",
       "      <td>1.0</td>\n",
       "      <td>0.0</td>\n",
       "      <td>0.0</td>\n",
       "      <td>0.0</td>\n",
       "    </tr>\n",
       "    <tr>\n",
       "      <td>3</td>\n",
       "      <td>1.0</td>\n",
       "      <td>0.0</td>\n",
       "      <td>0.0</td>\n",
       "      <td>0.0</td>\n",
       "    </tr>\n",
       "    <tr>\n",
       "      <td>4</td>\n",
       "      <td>1.0</td>\n",
       "      <td>0.0</td>\n",
       "      <td>0.0</td>\n",
       "      <td>0.0</td>\n",
       "    </tr>\n",
       "    <tr>\n",
       "      <td>...</td>\n",
       "      <td>...</td>\n",
       "      <td>...</td>\n",
       "      <td>...</td>\n",
       "      <td>...</td>\n",
       "    </tr>\n",
       "    <tr>\n",
       "      <td>316</td>\n",
       "      <td>1.0</td>\n",
       "      <td>0.0</td>\n",
       "      <td>0.0</td>\n",
       "      <td>0.0</td>\n",
       "    </tr>\n",
       "    <tr>\n",
       "      <td>317</td>\n",
       "      <td>0.0</td>\n",
       "      <td>0.0</td>\n",
       "      <td>1.0</td>\n",
       "      <td>0.0</td>\n",
       "    </tr>\n",
       "    <tr>\n",
       "      <td>318</td>\n",
       "      <td>0.0</td>\n",
       "      <td>1.0</td>\n",
       "      <td>0.0</td>\n",
       "      <td>0.0</td>\n",
       "    </tr>\n",
       "    <tr>\n",
       "      <td>319</td>\n",
       "      <td>0.0</td>\n",
       "      <td>1.0</td>\n",
       "      <td>0.0</td>\n",
       "      <td>0.0</td>\n",
       "    </tr>\n",
       "    <tr>\n",
       "      <td>320</td>\n",
       "      <td>0.0</td>\n",
       "      <td>0.0</td>\n",
       "      <td>1.0</td>\n",
       "      <td>0.0</td>\n",
       "    </tr>\n",
       "  </tbody>\n",
       "</table>\n",
       "<p>321 rows × 4 columns</p>\n",
       "</div>"
      ],
      "text/plain": [
       "     baths1  baths2  baths3  baths4\n",
       "0       1.0     0.0     0.0     0.0\n",
       "1       0.0     1.0     0.0     0.0\n",
       "2       1.0     0.0     0.0     0.0\n",
       "3       1.0     0.0     0.0     0.0\n",
       "4       1.0     0.0     0.0     0.0\n",
       "..      ...     ...     ...     ...\n",
       "316     1.0     0.0     0.0     0.0\n",
       "317     0.0     0.0     1.0     0.0\n",
       "318     0.0     1.0     0.0     0.0\n",
       "319     0.0     1.0     0.0     0.0\n",
       "320     0.0     0.0     1.0     0.0\n",
       "\n",
       "[321 rows x 4 columns]"
      ]
     },
     "execution_count": 27,
     "metadata": {},
     "output_type": "execute_result"
    }
   ],
   "source": [
    "X_baths"
   ]
  },
  {
   "cell_type": "code",
   "execution_count": 28,
   "metadata": {},
   "outputs": [],
   "source": [
    "col4 = {'const':const, 'age':age, 'nbh':nbh, 'inst':inst, 'rooms':rooms, 'area':area , 'land': land,\n",
    "        'baths2':X_baths['baths2'], 'baths3':X_baths['baths3'], 'baths4':X_baths['baths4'], 'dist': dist, 'y81':y81}\n",
    "X4 = pd.DataFrame(data=col4)\n",
    "y = price"
   ]
  },
  {
   "cell_type": "code",
   "execution_count": 29,
   "metadata": {},
   "outputs": [
    {
     "name": "stdout",
     "output_type": "stream",
     "text": [
      "                            OLS Regression Results                            \n",
      "==============================================================================\n",
      "Dep. Variable:                      7   R-squared:                       0.720\n",
      "Model:                            OLS   Adj. R-squared:                  0.710\n",
      "Method:                 Least Squares   F-statistic:                     72.22\n",
      "Date:                Fri, 06 Mar 2020   Prob (F-statistic):           1.33e-78\n",
      "Time:                        14:04:01   Log-Likelihood:                -2198.8\n",
      "No. Observations:                 321   AIC:                             4422.\n",
      "Df Residuals:                     309   BIC:                             4467.\n",
      "Df Model:                          11                                         \n",
      "Covariance Type:            nonrobust                                         \n",
      "==============================================================================\n",
      "                 coef    std err          t      P>|t|      [0.025      0.975]\n",
      "------------------------------------------------------------------------------\n",
      "const        -35.3626    113.493     -0.312      0.756    -258.679     187.953\n",
      "age           -2.1398      0.517     -4.142      0.000      -3.156      -1.123\n",
      "nbh          -18.7182      6.485     -2.887      0.004     -31.478      -5.959\n",
      "inst          -0.0049      0.004     -1.213      0.226      -0.013       0.003\n",
      "rooms         40.2520     19.317      2.084      0.038       2.243      78.261\n",
      "area           0.2164      0.028      7.830      0.000       0.162       0.271\n",
      "land           0.0013      0.000      3.381      0.001       0.001       0.002\n",
      "baths2        56.5481     44.428      1.273      0.204     -30.871     143.967\n",
      "baths3       248.5475     58.807      4.226      0.000     132.834     364.261\n",
      "baths4       305.2797    141.172      2.162      0.031      27.500     583.059\n",
      "dist           0.0042      0.004      1.057      0.291      -0.004       0.012\n",
      "y81          351.9898     27.683     12.715      0.000     297.518     406.462\n",
      "==============================================================================\n",
      "Omnibus:                       84.992   Durbin-Watson:                   1.574\n",
      "Prob(Omnibus):                  0.000   Jarque-Bera (JB):              559.720\n",
      "Skew:                           0.902   Prob(JB):                    2.87e-122\n",
      "Kurtosis:                       9.212   Cond. No.                     6.97e+05\n",
      "==============================================================================\n",
      "\n",
      "Warnings:\n",
      "[1] Standard Errors assume that the covariance matrix of the errors is correctly specified.\n",
      "[2] The condition number is large, 6.97e+05. This might indicate that there are\n",
      "strong multicollinearity or other numerical problems.\n"
     ]
    }
   ],
   "source": [
    "model = sm.OLS(y,X4)\n",
    "results = model.fit()\n",
    "print(results.summary())"
   ]
  },
  {
   "cell_type": "markdown",
   "metadata": {},
   "source": [
    "> On constate donc que le fait d'avoir **3 salles de bain** permet de gagner **24 800 dollars** de plus sur la vente d'une maison. \n",
    "\n",
    "\n",
    "On refait le test d’hétéroscédasticité de l’exercice 2."
   ]
  },
  {
   "cell_type": "code",
   "execution_count": 30,
   "metadata": {},
   "outputs": [
    {
     "name": "stdout",
     "output_type": "stream",
     "text": [
      "                            OLS Regression Results                            \n",
      "==============================================================================\n",
      "Dep. Variable:                      y   R-squared:                       0.281\n",
      "Model:                            OLS   Adj. R-squared:                  0.255\n",
      "Method:                 Least Squares   F-statistic:                     10.97\n",
      "Date:                Fri, 06 Mar 2020   Prob (F-statistic):           3.93e-17\n",
      "Time:                        14:05:21   Log-Likelihood:                -4227.2\n",
      "No. Observations:                 321   AIC:                             8478.\n",
      "Df Residuals:                     309   BIC:                             8524.\n",
      "Df Model:                          11                                         \n",
      "Covariance Type:            nonrobust                                         \n",
      "==============================================================================\n",
      "                 coef    std err          t      P>|t|      [0.025      0.975]\n",
      "------------------------------------------------------------------------------\n",
      "const       7663.0126    6.3e+04      0.122      0.903   -1.16e+05    1.32e+05\n",
      "age         -436.3323    286.694     -1.522      0.129   -1000.452     127.787\n",
      "nbh        -3348.4394   3598.974     -0.930      0.353   -1.04e+04    3733.156\n",
      "inst          -2.3966      2.248     -1.066      0.287      -6.821       2.027\n",
      "rooms      -8966.3938   1.07e+04     -0.836      0.404   -3.01e+04    1.21e+04\n",
      "area          86.6915     15.338      5.652      0.000      56.511     116.872\n",
      "land           1.5282      0.208      7.344      0.000       1.119       1.938\n",
      "baths2     -3.527e+04   2.47e+04     -1.430      0.154   -8.38e+04    1.32e+04\n",
      "baths3     -4.041e+04   3.26e+04     -1.238      0.217   -1.05e+05    2.38e+04\n",
      "baths4     -1.733e+05   7.84e+04     -2.212      0.028   -3.27e+05   -1.91e+04\n",
      "dist          -2.6414      2.199     -1.201      0.231      -6.969       1.686\n",
      "y81         7164.9064   1.54e+04      0.466      0.641   -2.31e+04    3.74e+04\n",
      "==============================================================================\n",
      "Omnibus:                      356.008   Durbin-Watson:                   1.891\n",
      "Prob(Omnibus):                  0.000   Jarque-Bera (JB):            18901.036\n",
      "Skew:                           4.783   Prob(JB):                         0.00\n",
      "Kurtosis:                      39.354   Cond. No.                     6.97e+05\n",
      "==============================================================================\n",
      "\n",
      "Warnings:\n",
      "[1] Standard Errors assume that the covariance matrix of the errors is correctly specified.\n",
      "[2] The condition number is large, 6.97e+05. This might indicate that there are\n",
      "strong multicollinearity or other numerical problems.\n"
     ]
    }
   ],
   "source": [
    "u = results.resid\n",
    "u2 = u**2\n",
    "\n",
    "model = sm.OLS(u2,X4)\n",
    "results = model.fit()\n",
    "print(results.summary())"
   ]
  },
  {
   "cell_type": "markdown",
   "metadata": {},
   "source": [
    "Résultat pour la statistique de Fisher et la p-value : \n",
    "* F = 10.87\n",
    "* p-value = 3.93e-17\n",
    "\n",
    "On rejette l’hypothèse $H_0$ car $p < 0.01$."
   ]
  },
  {
   "cell_type": "markdown",
   "metadata": {},
   "source": [
    "## **Exercice 5 :**\n",
    "En utilisant la spécification de l'exercice 4, refaire le test d'hétéroscédasticité en utilisant `log(area)` et `log(land)`."
   ]
  },
  {
   "cell_type": "code",
   "execution_count": 32,
   "metadata": {},
   "outputs": [],
   "source": [
    "log_area = np.log(area)\n",
    "log_land = np.log(land)"
   ]
  },
  {
   "cell_type": "code",
   "execution_count": 34,
   "metadata": {},
   "outputs": [],
   "source": [
    "col5 = {'const':const, 'age':age, 'nbh':nbh, 'inst':inst, 'rooms':rooms, 'log_area':log_area , 'log_land':log_land,\n",
    "        'baths2':X_baths['baths2'], 'baths3':X_baths['baths3'], 'baths4':X_baths['baths4'], 'dist':dist, 'y81':y81}\n",
    "X5 = pd.DataFrame(data=col5)\n",
    "y = price"
   ]
  },
  {
   "cell_type": "code",
   "execution_count": 37,
   "metadata": {},
   "outputs": [
    {
     "name": "stdout",
     "output_type": "stream",
     "text": [
      "                            OLS Regression Results                            \n",
      "==============================================================================\n",
      "Dep. Variable:                      7   R-squared:                       0.712\n",
      "Model:                            OLS   Adj. R-squared:                  0.702\n",
      "Method:                 Least Squares   F-statistic:                     69.51\n",
      "Date:                Fri, 06 Mar 2020   Prob (F-statistic):           8.66e-77\n",
      "Time:                        14:13:02   Log-Likelihood:                -2203.2\n",
      "No. Observations:                 321   AIC:                             4430.\n",
      "Df Residuals:                     309   BIC:                             4476.\n",
      "Df Model:                          11                                         \n",
      "Covariance Type:            nonrobust                                         \n",
      "==============================================================================\n",
      "                 coef    std err          t      P>|t|      [0.025      0.975]\n",
      "------------------------------------------------------------------------------\n",
      "const      -3479.2455    460.500     -7.555      0.000   -4385.357   -2573.133\n",
      "age           -1.8540      0.521     -3.561      0.000      -2.879      -0.829\n",
      "nbh          -13.6886      6.844     -2.000      0.046     -27.156      -0.221\n",
      "inst          -0.0092      0.005     -1.973      0.049      -0.018   -2.52e-05\n",
      "rooms         34.6126     19.664      1.760      0.079      -4.079      73.304\n",
      "log_area     383.2772     59.849      6.404      0.000     265.514     501.040\n",
      "log_land     112.1135     28.818      3.890      0.000      55.409     168.819\n",
      "baths2        28.2330     46.699      0.605      0.546     -63.655     120.121\n",
      "baths3       230.3010     62.385      3.692      0.000     107.548     353.054\n",
      "baths4       368.8085    141.115      2.614      0.009      91.141     646.476\n",
      "dist           0.0038      0.004      0.929      0.353      -0.004       0.012\n",
      "y81          354.3181     27.883     12.707      0.000     299.454     409.182\n",
      "==============================================================================\n",
      "Omnibus:                      113.881   Durbin-Watson:                   1.596\n",
      "Prob(Omnibus):                  0.000   Jarque-Bera (JB):              803.843\n",
      "Skew:                           1.273   Prob(JB):                    2.80e-175\n",
      "Kurtosis:                      10.322   Cond. No.                     1.03e+06\n",
      "==============================================================================\n",
      "\n",
      "Warnings:\n",
      "[1] Standard Errors assume that the covariance matrix of the errors is correctly specified.\n",
      "[2] The condition number is large, 1.03e+06. This might indicate that there are\n",
      "strong multicollinearity or other numerical problems.\n"
     ]
    }
   ],
   "source": [
    "model=sm.OLS(y,X5)\n",
    "results = model.fit()\n",
    "print(results.summary())"
   ]
  },
  {
   "cell_type": "markdown",
   "metadata": {},
   "source": [
    "### Test d'hétéroscédasticité"
   ]
  },
  {
   "cell_type": "code",
   "execution_count": 38,
   "metadata": {},
   "outputs": [
    {
     "name": "stdout",
     "output_type": "stream",
     "text": [
      "                            OLS Regression Results                            \n",
      "==============================================================================\n",
      "Dep. Variable:                      y   R-squared:                       0.162\n",
      "Model:                            OLS   Adj. R-squared:                  0.132\n",
      "Method:                 Least Squares   F-statistic:                     5.419\n",
      "Date:                Fri, 06 Mar 2020   Prob (F-statistic):           6.86e-08\n",
      "Time:                        14:13:06   Log-Likelihood:                -4281.0\n",
      "No. Observations:                 321   AIC:                             8586.\n",
      "Df Residuals:                     309   BIC:                             8631.\n",
      "Df Model:                          11                                         \n",
      "Covariance Type:            nonrobust                                         \n",
      "==============================================================================\n",
      "                 coef    std err          t      P>|t|      [0.025      0.975]\n",
      "------------------------------------------------------------------------------\n",
      "const       -1.44e+06   2.98e+05     -4.831      0.000   -2.03e+06   -8.53e+05\n",
      "age          -95.7984    337.009     -0.284      0.776    -758.921     567.324\n",
      "nbh          -21.0189   4429.761     -0.005      0.996   -8737.331    8695.293\n",
      "inst          -5.8131      3.017     -1.927      0.055     -11.750       0.124\n",
      "rooms      -1.334e+04   1.27e+04     -1.048      0.295   -3.84e+04    1.17e+04\n",
      "log_area    1.045e+05   3.87e+04      2.699      0.007    2.83e+04    1.81e+05\n",
      "log_land     9.33e+04   1.87e+04      5.002      0.000    5.66e+04     1.3e+05\n",
      "baths2     -4.642e+04   3.02e+04     -1.536      0.126   -1.06e+05    1.31e+04\n",
      "baths3     -2.498e+04   4.04e+04     -0.619      0.537   -1.04e+05    5.45e+04\n",
      "baths4     -7.602e+04   9.13e+04     -0.832      0.406   -2.56e+05    1.04e+05\n",
      "dist          -2.3555      2.614     -0.901      0.368      -7.498       2.787\n",
      "y81         1090.5964    1.8e+04      0.060      0.952   -3.44e+04    3.66e+04\n",
      "==============================================================================\n",
      "Omnibus:                      483.846   Durbin-Watson:                   1.922\n",
      "Prob(Omnibus):                  0.000   Jarque-Bera (JB):            94672.233\n",
      "Skew:                           7.632   Prob(JB):                         0.00\n",
      "Kurtosis:                      85.736   Cond. No.                     1.03e+06\n",
      "==============================================================================\n",
      "\n",
      "Warnings:\n",
      "[1] Standard Errors assume that the covariance matrix of the errors is correctly specified.\n",
      "[2] The condition number is large, 1.03e+06. This might indicate that there are\n",
      "strong multicollinearity or other numerical problems.\n"
     ]
    }
   ],
   "source": [
    "u = results.resid\n",
    "u2 = u**2\n",
    "\n",
    "model = sm.OLS(u2,X5)\n",
    "results = model.fit()\n",
    "print(results.summary())"
   ]
  },
  {
   "cell_type": "markdown",
   "metadata": {},
   "source": [
    "$F = 5.419$\n",
    "\n",
    "On rejette l'hypothèse $H_0$ car $p_{value} = 6.86e-08 < 0.01$."
   ]
  },
  {
   "cell_type": "markdown",
   "metadata": {},
   "source": [
    "## **Exercice 6 :**\n",
    "En utilisant la spécification de l’exercice 5, refaire le test d’hétéroscédasticité en utilisant $y = log(\\frac{price}{100})$ ."
   ]
  },
  {
   "cell_type": "code",
   "execution_count": 39,
   "metadata": {},
   "outputs": [],
   "source": [
    "col6 = {'const':const, 'age':age, 'nbh':nbh, 'inst':inst, 'rooms':rooms, 'log_area':log_area , 'log_land':log_land,\n",
    "        'baths2':X_baths['baths2'], 'baths3':X_baths['baths3'], 'baths4':X_baths['baths4'], 'dist':dist, 'y81':y81}\n",
    "X6 = pd.DataFrame(data=col6)\n",
    "y = np.log(price)"
   ]
  },
  {
   "cell_type": "code",
   "execution_count": 40,
   "metadata": {},
   "outputs": [
    {
     "name": "stdout",
     "output_type": "stream",
     "text": [
      "                            OLS Regression Results                            \n",
      "==============================================================================\n",
      "Dep. Variable:                      7   R-squared:                       0.785\n",
      "Model:                            OLS   Adj. R-squared:                  0.777\n",
      "Method:                 Least Squares   F-statistic:                     102.6\n",
      "Date:                Fri, 06 Mar 2020   Prob (F-statistic):           3.52e-96\n",
      "Time:                        14:18:45   Log-Likelihood:                 56.624\n",
      "No. Observations:                 321   AIC:                            -89.25\n",
      "Df Residuals:                     309   BIC:                            -43.99\n",
      "Df Model:                          11                                         \n",
      "Covariance Type:            nonrobust                                         \n",
      "==============================================================================\n",
      "                 coef    std err          t      P>|t|      [0.025      0.975]\n",
      "------------------------------------------------------------------------------\n",
      "const          2.3297      0.403      5.774      0.000       1.536       3.124\n",
      "age           -0.0026      0.000     -5.635      0.000      -0.003      -0.002\n",
      "nbh           -0.0099      0.006     -1.645      0.101      -0.022       0.002\n",
      "inst       -8.603e-06   4.08e-06     -2.106      0.036   -1.66e-05   -5.66e-07\n",
      "rooms          0.0575      0.017      3.338      0.001       0.024       0.091\n",
      "log_area       0.3465      0.052      6.608      0.000       0.243       0.450\n",
      "log_land       0.1163      0.025      4.608      0.000       0.067       0.166\n",
      "baths2         0.0779      0.041      1.903      0.058      -0.003       0.158\n",
      "baths3         0.2517      0.055      4.605      0.000       0.144       0.359\n",
      "baths4         0.4268      0.124      3.452      0.001       0.184       0.670\n",
      "dist        6.041e-06   3.54e-06      1.707      0.089   -9.21e-07     1.3e-05\n",
      "y81            0.3722      0.024     15.238      0.000       0.324       0.420\n",
      "==============================================================================\n",
      "Omnibus:                       70.271   Durbin-Watson:                   1.697\n",
      "Prob(Omnibus):                  0.000   Jarque-Bera (JB):              358.475\n",
      "Skew:                          -0.787   Prob(JB):                     1.44e-78\n",
      "Kurtosis:                       7.932   Cond. No.                     1.03e+06\n",
      "==============================================================================\n",
      "\n",
      "Warnings:\n",
      "[1] Standard Errors assume that the covariance matrix of the errors is correctly specified.\n",
      "[2] The condition number is large, 1.03e+06. This might indicate that there are\n",
      "strong multicollinearity or other numerical problems.\n"
     ]
    }
   ],
   "source": [
    "model = sm.OLS(y,X6)\n",
    "results = model.fit()\n",
    "print(results.summary())"
   ]
  },
  {
   "cell_type": "markdown",
   "metadata": {},
   "source": [
    "### Test d'hétéroscédasticité"
   ]
  },
  {
   "cell_type": "code",
   "execution_count": 41,
   "metadata": {},
   "outputs": [
    {
     "name": "stdout",
     "output_type": "stream",
     "text": [
      "                            OLS Regression Results                            \n",
      "==============================================================================\n",
      "Dep. Variable:                      y   R-squared:                       0.064\n",
      "Model:                            OLS   Adj. R-squared:                  0.030\n",
      "Method:                 Least Squares   F-statistic:                     1.905\n",
      "Date:                Fri, 06 Mar 2020   Prob (F-statistic):             0.0381\n",
      "Time:                        14:21:16   Log-Likelihood:                 268.51\n",
      "No. Observations:                 321   AIC:                            -513.0\n",
      "Df Residuals:                     309   BIC:                            -467.8\n",
      "Df Model:                          11                                         \n",
      "Covariance Type:            nonrobust                                         \n",
      "==============================================================================\n",
      "                 coef    std err          t      P>|t|      [0.025      0.975]\n",
      "------------------------------------------------------------------------------\n",
      "const         -0.4437      0.209     -2.128      0.034      -0.854      -0.033\n",
      "age            0.0003      0.000      1.293      0.197      -0.000       0.001\n",
      "nbh           -0.0006      0.003     -0.205      0.838      -0.007       0.005\n",
      "inst       -2.004e-06   2.11e-06     -0.949      0.343   -6.16e-06    2.15e-06\n",
      "rooms         -0.0089      0.009     -1.001      0.318      -0.026       0.009\n",
      "log_area       0.0347      0.027      1.282      0.201      -0.019       0.088\n",
      "log_land       0.0320      0.013      2.454      0.015       0.006       0.058\n",
      "baths2         0.0052      0.021      0.245      0.806      -0.036       0.047\n",
      "baths3         0.0162      0.028      0.573      0.567      -0.039       0.072\n",
      "baths4        -0.0028      0.064     -0.044      0.965      -0.129       0.123\n",
      "dist       -1.173e-06   1.83e-06     -0.641      0.522   -4.77e-06    2.42e-06\n",
      "y81           -0.0153      0.013     -1.212      0.226      -0.040       0.010\n",
      "==============================================================================\n",
      "Omnibus:                      552.886   Durbin-Watson:                   2.020\n",
      "Prob(Omnibus):                  0.000   Jarque-Bera (JB):           218514.019\n",
      "Skew:                           9.627   Prob(JB):                         0.00\n",
      "Kurtosis:                     129.360   Cond. No.                     1.03e+06\n",
      "==============================================================================\n",
      "\n",
      "Warnings:\n",
      "[1] Standard Errors assume that the covariance matrix of the errors is correctly specified.\n",
      "[2] The condition number is large, 1.03e+06. This might indicate that there are\n",
      "strong multicollinearity or other numerical problems.\n"
     ]
    }
   ],
   "source": [
    "u = results.resid\n",
    "u2 = u**2\n",
    "\n",
    "model = sm.OLS(u2, X6)\n",
    "results = model.fit()\n",
    "print(results.summary())"
   ]
  },
  {
   "cell_type": "markdown",
   "metadata": {},
   "source": [
    "$F = 1.905$\n",
    "\n",
    "On rejette l'hypothèse $H_0$ car $p_{value} = 0.0381 < 0.05$."
   ]
  },
  {
   "cell_type": "markdown",
   "metadata": {},
   "source": [
    "## **Exercice 7 :**\n"
   ]
  },
  {
   "cell_type": "markdown",
   "metadata": {},
   "source": [
    "## **Exercice 8 :**\n"
   ]
  },
  {
   "cell_type": "markdown",
   "metadata": {},
   "source": [
    "## **Exercice 9 :**\n"
   ]
  },
  {
   "cell_type": "code",
   "execution_count": null,
   "metadata": {},
   "outputs": [],
   "source": []
  }
 ],
 "metadata": {
  "kernelspec": {
   "display_name": "Python 3",
   "language": "python",
   "name": "python3"
  },
  "language_info": {
   "codemirror_mode": {
    "name": "ipython",
    "version": 3
   },
   "file_extension": ".py",
   "mimetype": "text/x-python",
   "name": "python",
   "nbconvert_exporter": "python",
   "pygments_lexer": "ipython3",
   "version": "3.7.4"
  }
 },
 "nbformat": 4,
 "nbformat_minor": 4
}
