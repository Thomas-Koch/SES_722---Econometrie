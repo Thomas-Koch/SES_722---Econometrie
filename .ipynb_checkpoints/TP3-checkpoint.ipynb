{
 "cells": [
  {
   "cell_type": "markdown",
   "metadata": {},
   "source": [
    "# <center>**- SES 722 : TP n°3 Économétrie -**</center>\n"
   ]
  },
  {
   "cell_type": "code",
   "execution_count": 11,
   "metadata": {},
   "outputs": [],
   "source": [
    "import numpy as np\n",
    "import pandas as pd\n",
    "import matplotlib.pyplot as plt\n",
    "import seaborn as sns\n",
    "import statsmodels.api as sm"
   ]
  },
  {
   "cell_type": "markdown",
   "metadata": {},
   "source": [
    "On utilise la base de données `wage1.raw`. On explique $y = log(wage)$ en fonction de `const`, `educ`, `exper`, `tenure`."
   ]
  },
  {
   "cell_type": "markdown",
   "metadata": {},
   "source": [
    "## **Exercice 1 :**\n",
    "Tester l’hypothèse $H_0 : β_{educ} = 0$ et $β_{exper} = 0$. Donner la *p-value*. On doit calculer la somme des carrées des erreurs du modèle non contraint. Ensuite on doit calculer la somme des carrés des erreurs du modèle contraint. Le modèle contraint impose les contraintes de $H_0$. Donc la matrice $X = [const,tenure]$."
   ]
  },
  {
   "cell_type": "code",
   "execution_count": 5,
   "metadata": {},
   "outputs": [],
   "source": [
    "df = pd.read_csv('textfiles/WAGE1.raw', delim_whitespace=True, header=None)"
   ]
  },
  {
   "cell_type": "code",
   "execution_count": 6,
   "metadata": {},
   "outputs": [
    {
     "data": {
      "text/html": [
       "<div>\n",
       "<style scoped>\n",
       "    .dataframe tbody tr th:only-of-type {\n",
       "        vertical-align: middle;\n",
       "    }\n",
       "\n",
       "    .dataframe tbody tr th {\n",
       "        vertical-align: top;\n",
       "    }\n",
       "\n",
       "    .dataframe thead th {\n",
       "        text-align: right;\n",
       "    }\n",
       "</style>\n",
       "<table border=\"1\" class=\"dataframe\">\n",
       "  <thead>\n",
       "    <tr style=\"text-align: right;\">\n",
       "      <th></th>\n",
       "      <th>0</th>\n",
       "      <th>1</th>\n",
       "      <th>2</th>\n",
       "      <th>3</th>\n",
       "      <th>4</th>\n",
       "      <th>5</th>\n",
       "      <th>6</th>\n",
       "      <th>7</th>\n",
       "      <th>8</th>\n",
       "      <th>9</th>\n",
       "      <th>...</th>\n",
       "      <th>14</th>\n",
       "      <th>15</th>\n",
       "      <th>16</th>\n",
       "      <th>17</th>\n",
       "      <th>18</th>\n",
       "      <th>19</th>\n",
       "      <th>20</th>\n",
       "      <th>21</th>\n",
       "      <th>22</th>\n",
       "      <th>23</th>\n",
       "    </tr>\n",
       "  </thead>\n",
       "  <tbody>\n",
       "    <tr>\n",
       "      <td>0</td>\n",
       "      <td>3.10</td>\n",
       "      <td>11</td>\n",
       "      <td>2</td>\n",
       "      <td>0</td>\n",
       "      <td>0</td>\n",
       "      <td>1</td>\n",
       "      <td>0</td>\n",
       "      <td>2</td>\n",
       "      <td>1</td>\n",
       "      <td>0</td>\n",
       "      <td>...</td>\n",
       "      <td>0</td>\n",
       "      <td>0</td>\n",
       "      <td>0</td>\n",
       "      <td>0</td>\n",
       "      <td>0</td>\n",
       "      <td>0</td>\n",
       "      <td>0</td>\n",
       "      <td>1.131402</td>\n",
       "      <td>4</td>\n",
       "      <td>0</td>\n",
       "    </tr>\n",
       "    <tr>\n",
       "      <td>1</td>\n",
       "      <td>3.24</td>\n",
       "      <td>12</td>\n",
       "      <td>22</td>\n",
       "      <td>2</td>\n",
       "      <td>0</td>\n",
       "      <td>1</td>\n",
       "      <td>1</td>\n",
       "      <td>3</td>\n",
       "      <td>1</td>\n",
       "      <td>0</td>\n",
       "      <td>...</td>\n",
       "      <td>0</td>\n",
       "      <td>0</td>\n",
       "      <td>1</td>\n",
       "      <td>0</td>\n",
       "      <td>0</td>\n",
       "      <td>0</td>\n",
       "      <td>1</td>\n",
       "      <td>1.175573</td>\n",
       "      <td>484</td>\n",
       "      <td>4</td>\n",
       "    </tr>\n",
       "    <tr>\n",
       "      <td>2</td>\n",
       "      <td>3.00</td>\n",
       "      <td>11</td>\n",
       "      <td>2</td>\n",
       "      <td>0</td>\n",
       "      <td>0</td>\n",
       "      <td>0</td>\n",
       "      <td>0</td>\n",
       "      <td>2</td>\n",
       "      <td>0</td>\n",
       "      <td>0</td>\n",
       "      <td>...</td>\n",
       "      <td>0</td>\n",
       "      <td>1</td>\n",
       "      <td>0</td>\n",
       "      <td>0</td>\n",
       "      <td>0</td>\n",
       "      <td>0</td>\n",
       "      <td>0</td>\n",
       "      <td>1.098612</td>\n",
       "      <td>4</td>\n",
       "      <td>0</td>\n",
       "    </tr>\n",
       "    <tr>\n",
       "      <td>3</td>\n",
       "      <td>6.00</td>\n",
       "      <td>8</td>\n",
       "      <td>44</td>\n",
       "      <td>28</td>\n",
       "      <td>0</td>\n",
       "      <td>0</td>\n",
       "      <td>1</td>\n",
       "      <td>0</td>\n",
       "      <td>1</td>\n",
       "      <td>0</td>\n",
       "      <td>...</td>\n",
       "      <td>0</td>\n",
       "      <td>0</td>\n",
       "      <td>0</td>\n",
       "      <td>0</td>\n",
       "      <td>0</td>\n",
       "      <td>1</td>\n",
       "      <td>0</td>\n",
       "      <td>1.791759</td>\n",
       "      <td>1936</td>\n",
       "      <td>784</td>\n",
       "    </tr>\n",
       "    <tr>\n",
       "      <td>4</td>\n",
       "      <td>5.30</td>\n",
       "      <td>12</td>\n",
       "      <td>7</td>\n",
       "      <td>2</td>\n",
       "      <td>0</td>\n",
       "      <td>0</td>\n",
       "      <td>1</td>\n",
       "      <td>1</td>\n",
       "      <td>0</td>\n",
       "      <td>0</td>\n",
       "      <td>...</td>\n",
       "      <td>0</td>\n",
       "      <td>0</td>\n",
       "      <td>0</td>\n",
       "      <td>0</td>\n",
       "      <td>0</td>\n",
       "      <td>0</td>\n",
       "      <td>0</td>\n",
       "      <td>1.667707</td>\n",
       "      <td>49</td>\n",
       "      <td>4</td>\n",
       "    </tr>\n",
       "  </tbody>\n",
       "</table>\n",
       "<p>5 rows × 24 columns</p>\n",
       "</div>"
      ],
      "text/plain": [
       "     0   1   2   3   4   5   6   7   8   9   ...  14  15  16  17  18  19  20  \\\n",
       "0  3.10  11   2   0   0   1   0   2   1   0  ...   0   0   0   0   0   0   0   \n",
       "1  3.24  12  22   2   0   1   1   3   1   0  ...   0   0   1   0   0   0   1   \n",
       "2  3.00  11   2   0   0   0   0   2   0   0  ...   0   1   0   0   0   0   0   \n",
       "3  6.00   8  44  28   0   0   1   0   1   0  ...   0   0   0   0   0   1   0   \n",
       "4  5.30  12   7   2   0   0   1   1   0   0  ...   0   0   0   0   0   0   0   \n",
       "\n",
       "         21    22   23  \n",
       "0  1.131402     4    0  \n",
       "1  1.175573   484    4  \n",
       "2  1.098612     4    0  \n",
       "3  1.791759  1936  784  \n",
       "4  1.667707    49    4  \n",
       "\n",
       "[5 rows x 24 columns]"
      ]
     },
     "execution_count": 6,
     "metadata": {},
     "output_type": "execute_result"
    }
   ],
   "source": [
    "df.head()"
   ]
  },
  {
   "cell_type": "code",
   "execution_count": 7,
   "metadata": {},
   "outputs": [
    {
     "data": {
      "text/html": [
       "<div>\n",
       "<style scoped>\n",
       "    .dataframe tbody tr th:only-of-type {\n",
       "        vertical-align: middle;\n",
       "    }\n",
       "\n",
       "    .dataframe tbody tr th {\n",
       "        vertical-align: top;\n",
       "    }\n",
       "\n",
       "    .dataframe thead th {\n",
       "        text-align: right;\n",
       "    }\n",
       "</style>\n",
       "<table border=\"1\" class=\"dataframe\">\n",
       "  <thead>\n",
       "    <tr style=\"text-align: right;\">\n",
       "      <th></th>\n",
       "      <th>0</th>\n",
       "      <th>1</th>\n",
       "      <th>2</th>\n",
       "      <th>3</th>\n",
       "      <th>4</th>\n",
       "      <th>5</th>\n",
       "      <th>6</th>\n",
       "      <th>7</th>\n",
       "      <th>8</th>\n",
       "      <th>9</th>\n",
       "      <th>...</th>\n",
       "      <th>14</th>\n",
       "      <th>15</th>\n",
       "      <th>16</th>\n",
       "      <th>17</th>\n",
       "      <th>18</th>\n",
       "      <th>19</th>\n",
       "      <th>20</th>\n",
       "      <th>21</th>\n",
       "      <th>22</th>\n",
       "      <th>23</th>\n",
       "    </tr>\n",
       "  </thead>\n",
       "  <tbody>\n",
       "    <tr>\n",
       "      <td>count</td>\n",
       "      <td>526.000000</td>\n",
       "      <td>526.000000</td>\n",
       "      <td>526.00000</td>\n",
       "      <td>526.000000</td>\n",
       "      <td>526.000000</td>\n",
       "      <td>526.000000</td>\n",
       "      <td>526.000000</td>\n",
       "      <td>526.000000</td>\n",
       "      <td>526.000000</td>\n",
       "      <td>526.000000</td>\n",
       "      <td>...</td>\n",
       "      <td>526.000000</td>\n",
       "      <td>526.000000</td>\n",
       "      <td>526.000000</td>\n",
       "      <td>526.000000</td>\n",
       "      <td>526.000000</td>\n",
       "      <td>526.000000</td>\n",
       "      <td>526.000000</td>\n",
       "      <td>526.000000</td>\n",
       "      <td>526.000000</td>\n",
       "      <td>526.000000</td>\n",
       "    </tr>\n",
       "    <tr>\n",
       "      <td>mean</td>\n",
       "      <td>5.896103</td>\n",
       "      <td>12.562738</td>\n",
       "      <td>17.01711</td>\n",
       "      <td>5.104563</td>\n",
       "      <td>0.102662</td>\n",
       "      <td>0.479087</td>\n",
       "      <td>0.608365</td>\n",
       "      <td>1.043726</td>\n",
       "      <td>0.722433</td>\n",
       "      <td>0.250951</td>\n",
       "      <td>...</td>\n",
       "      <td>0.043726</td>\n",
       "      <td>0.287072</td>\n",
       "      <td>0.100760</td>\n",
       "      <td>0.258555</td>\n",
       "      <td>0.366920</td>\n",
       "      <td>0.167300</td>\n",
       "      <td>0.140684</td>\n",
       "      <td>1.623268</td>\n",
       "      <td>473.435361</td>\n",
       "      <td>78.150190</td>\n",
       "    </tr>\n",
       "    <tr>\n",
       "      <td>std</td>\n",
       "      <td>3.693086</td>\n",
       "      <td>2.769022</td>\n",
       "      <td>13.57216</td>\n",
       "      <td>7.224462</td>\n",
       "      <td>0.303805</td>\n",
       "      <td>0.500038</td>\n",
       "      <td>0.488580</td>\n",
       "      <td>1.261891</td>\n",
       "      <td>0.448225</td>\n",
       "      <td>0.433973</td>\n",
       "      <td>...</td>\n",
       "      <td>0.204680</td>\n",
       "      <td>0.452826</td>\n",
       "      <td>0.301298</td>\n",
       "      <td>0.438257</td>\n",
       "      <td>0.482423</td>\n",
       "      <td>0.373599</td>\n",
       "      <td>0.348027</td>\n",
       "      <td>0.531538</td>\n",
       "      <td>616.044772</td>\n",
       "      <td>199.434664</td>\n",
       "    </tr>\n",
       "    <tr>\n",
       "      <td>min</td>\n",
       "      <td>0.530000</td>\n",
       "      <td>0.000000</td>\n",
       "      <td>1.00000</td>\n",
       "      <td>0.000000</td>\n",
       "      <td>0.000000</td>\n",
       "      <td>0.000000</td>\n",
       "      <td>0.000000</td>\n",
       "      <td>0.000000</td>\n",
       "      <td>0.000000</td>\n",
       "      <td>0.000000</td>\n",
       "      <td>...</td>\n",
       "      <td>0.000000</td>\n",
       "      <td>0.000000</td>\n",
       "      <td>0.000000</td>\n",
       "      <td>0.000000</td>\n",
       "      <td>0.000000</td>\n",
       "      <td>0.000000</td>\n",
       "      <td>0.000000</td>\n",
       "      <td>-0.634878</td>\n",
       "      <td>1.000000</td>\n",
       "      <td>0.000000</td>\n",
       "    </tr>\n",
       "    <tr>\n",
       "      <td>25%</td>\n",
       "      <td>3.330000</td>\n",
       "      <td>12.000000</td>\n",
       "      <td>5.00000</td>\n",
       "      <td>0.000000</td>\n",
       "      <td>0.000000</td>\n",
       "      <td>0.000000</td>\n",
       "      <td>0.000000</td>\n",
       "      <td>0.000000</td>\n",
       "      <td>0.000000</td>\n",
       "      <td>0.000000</td>\n",
       "      <td>...</td>\n",
       "      <td>0.000000</td>\n",
       "      <td>0.000000</td>\n",
       "      <td>0.000000</td>\n",
       "      <td>0.000000</td>\n",
       "      <td>0.000000</td>\n",
       "      <td>0.000000</td>\n",
       "      <td>0.000000</td>\n",
       "      <td>1.202972</td>\n",
       "      <td>25.000000</td>\n",
       "      <td>0.000000</td>\n",
       "    </tr>\n",
       "    <tr>\n",
       "      <td>50%</td>\n",
       "      <td>4.650000</td>\n",
       "      <td>12.000000</td>\n",
       "      <td>13.50000</td>\n",
       "      <td>2.000000</td>\n",
       "      <td>0.000000</td>\n",
       "      <td>0.000000</td>\n",
       "      <td>1.000000</td>\n",
       "      <td>1.000000</td>\n",
       "      <td>1.000000</td>\n",
       "      <td>0.000000</td>\n",
       "      <td>...</td>\n",
       "      <td>0.000000</td>\n",
       "      <td>0.000000</td>\n",
       "      <td>0.000000</td>\n",
       "      <td>0.000000</td>\n",
       "      <td>0.000000</td>\n",
       "      <td>0.000000</td>\n",
       "      <td>0.000000</td>\n",
       "      <td>1.536867</td>\n",
       "      <td>182.500000</td>\n",
       "      <td>4.000000</td>\n",
       "    </tr>\n",
       "    <tr>\n",
       "      <td>75%</td>\n",
       "      <td>6.880000</td>\n",
       "      <td>14.000000</td>\n",
       "      <td>26.00000</td>\n",
       "      <td>7.000000</td>\n",
       "      <td>0.000000</td>\n",
       "      <td>1.000000</td>\n",
       "      <td>1.000000</td>\n",
       "      <td>2.000000</td>\n",
       "      <td>1.000000</td>\n",
       "      <td>0.750000</td>\n",
       "      <td>...</td>\n",
       "      <td>0.000000</td>\n",
       "      <td>1.000000</td>\n",
       "      <td>0.000000</td>\n",
       "      <td>1.000000</td>\n",
       "      <td>1.000000</td>\n",
       "      <td>0.000000</td>\n",
       "      <td>0.000000</td>\n",
       "      <td>1.928619</td>\n",
       "      <td>676.000000</td>\n",
       "      <td>49.000000</td>\n",
       "    </tr>\n",
       "    <tr>\n",
       "      <td>max</td>\n",
       "      <td>24.980000</td>\n",
       "      <td>18.000000</td>\n",
       "      <td>51.00000</td>\n",
       "      <td>44.000000</td>\n",
       "      <td>1.000000</td>\n",
       "      <td>1.000000</td>\n",
       "      <td>1.000000</td>\n",
       "      <td>6.000000</td>\n",
       "      <td>1.000000</td>\n",
       "      <td>1.000000</td>\n",
       "      <td>...</td>\n",
       "      <td>1.000000</td>\n",
       "      <td>1.000000</td>\n",
       "      <td>1.000000</td>\n",
       "      <td>1.000000</td>\n",
       "      <td>1.000000</td>\n",
       "      <td>1.000000</td>\n",
       "      <td>1.000000</td>\n",
       "      <td>3.218076</td>\n",
       "      <td>2601.000000</td>\n",
       "      <td>1936.000000</td>\n",
       "    </tr>\n",
       "  </tbody>\n",
       "</table>\n",
       "<p>8 rows × 24 columns</p>\n",
       "</div>"
      ],
      "text/plain": [
       "               0           1          2           3           4           5   \\\n",
       "count  526.000000  526.000000  526.00000  526.000000  526.000000  526.000000   \n",
       "mean     5.896103   12.562738   17.01711    5.104563    0.102662    0.479087   \n",
       "std      3.693086    2.769022   13.57216    7.224462    0.303805    0.500038   \n",
       "min      0.530000    0.000000    1.00000    0.000000    0.000000    0.000000   \n",
       "25%      3.330000   12.000000    5.00000    0.000000    0.000000    0.000000   \n",
       "50%      4.650000   12.000000   13.50000    2.000000    0.000000    0.000000   \n",
       "75%      6.880000   14.000000   26.00000    7.000000    0.000000    1.000000   \n",
       "max     24.980000   18.000000   51.00000   44.000000    1.000000    1.000000   \n",
       "\n",
       "               6           7           8           9   ...          14  \\\n",
       "count  526.000000  526.000000  526.000000  526.000000  ...  526.000000   \n",
       "mean     0.608365    1.043726    0.722433    0.250951  ...    0.043726   \n",
       "std      0.488580    1.261891    0.448225    0.433973  ...    0.204680   \n",
       "min      0.000000    0.000000    0.000000    0.000000  ...    0.000000   \n",
       "25%      0.000000    0.000000    0.000000    0.000000  ...    0.000000   \n",
       "50%      1.000000    1.000000    1.000000    0.000000  ...    0.000000   \n",
       "75%      1.000000    2.000000    1.000000    0.750000  ...    0.000000   \n",
       "max      1.000000    6.000000    1.000000    1.000000  ...    1.000000   \n",
       "\n",
       "               15          16          17          18          19          20  \\\n",
       "count  526.000000  526.000000  526.000000  526.000000  526.000000  526.000000   \n",
       "mean     0.287072    0.100760    0.258555    0.366920    0.167300    0.140684   \n",
       "std      0.452826    0.301298    0.438257    0.482423    0.373599    0.348027   \n",
       "min      0.000000    0.000000    0.000000    0.000000    0.000000    0.000000   \n",
       "25%      0.000000    0.000000    0.000000    0.000000    0.000000    0.000000   \n",
       "50%      0.000000    0.000000    0.000000    0.000000    0.000000    0.000000   \n",
       "75%      1.000000    0.000000    1.000000    1.000000    0.000000    0.000000   \n",
       "max      1.000000    1.000000    1.000000    1.000000    1.000000    1.000000   \n",
       "\n",
       "               21           22           23  \n",
       "count  526.000000   526.000000   526.000000  \n",
       "mean     1.623268   473.435361    78.150190  \n",
       "std      0.531538   616.044772   199.434664  \n",
       "min     -0.634878     1.000000     0.000000  \n",
       "25%      1.202972    25.000000     0.000000  \n",
       "50%      1.536867   182.500000     4.000000  \n",
       "75%      1.928619   676.000000    49.000000  \n",
       "max      3.218076  2601.000000  1936.000000  \n",
       "\n",
       "[8 rows x 24 columns]"
      ]
     },
     "execution_count": 7,
     "metadata": {},
     "output_type": "execute_result"
    }
   ],
   "source": [
    "df.describe()"
   ]
  },
  {
   "cell_type": "code",
   "execution_count": 25,
   "metadata": {},
   "outputs": [
    {
     "data": {
      "text/html": [
       "<div>\n",
       "<style scoped>\n",
       "    .dataframe tbody tr th:only-of-type {\n",
       "        vertical-align: middle;\n",
       "    }\n",
       "\n",
       "    .dataframe tbody tr th {\n",
       "        vertical-align: top;\n",
       "    }\n",
       "\n",
       "    .dataframe thead th {\n",
       "        text-align: right;\n",
       "    }\n",
       "</style>\n",
       "<table border=\"1\" class=\"dataframe\">\n",
       "  <thead>\n",
       "    <tr style=\"text-align: right;\">\n",
       "      <th></th>\n",
       "      <th>const</th>\n",
       "      <th>educ</th>\n",
       "      <th>exper</th>\n",
       "      <th>tenure</th>\n",
       "    </tr>\n",
       "  </thead>\n",
       "  <tbody>\n",
       "    <tr>\n",
       "      <td>0</td>\n",
       "      <td>1</td>\n",
       "      <td>11</td>\n",
       "      <td>2</td>\n",
       "      <td>0</td>\n",
       "    </tr>\n",
       "    <tr>\n",
       "      <td>1</td>\n",
       "      <td>1</td>\n",
       "      <td>12</td>\n",
       "      <td>22</td>\n",
       "      <td>2</td>\n",
       "    </tr>\n",
       "    <tr>\n",
       "      <td>2</td>\n",
       "      <td>1</td>\n",
       "      <td>11</td>\n",
       "      <td>2</td>\n",
       "      <td>0</td>\n",
       "    </tr>\n",
       "    <tr>\n",
       "      <td>3</td>\n",
       "      <td>1</td>\n",
       "      <td>8</td>\n",
       "      <td>44</td>\n",
       "      <td>28</td>\n",
       "    </tr>\n",
       "    <tr>\n",
       "      <td>4</td>\n",
       "      <td>1</td>\n",
       "      <td>12</td>\n",
       "      <td>7</td>\n",
       "      <td>2</td>\n",
       "    </tr>\n",
       "  </tbody>\n",
       "</table>\n",
       "</div>"
      ],
      "text/plain": [
       "   const  educ  exper  tenure\n",
       "0      1    11      2       0\n",
       "1      1    12     22       2\n",
       "2      1    11      2       0\n",
       "3      1     8     44      28\n",
       "4      1    12      7       2"
      ]
     },
     "execution_count": 25,
     "metadata": {},
     "output_type": "execute_result"
    }
   ],
   "source": [
    "wage = df[0]\n",
    "y = np.log(wage)\n",
    "\n",
    "df['const'] = 1 # on créé une colonne de 1 dans le df\n",
    "X = pd.concat([df['const'], df[1], df[2], df[3]], axis=1)\n",
    "X.columns = ['const', 'educ', 'exper', 'tenure'] # on renomme les colonnes\n",
    "df.drop('const', axis=1) # on enlève la colonne de 1 du df\n",
    "\n",
    "X.head()"
   ]
  },
  {
   "cell_type": "code",
   "execution_count": 9,
   "metadata": {},
   "outputs": [
    {
     "data": {
      "text/html": [
       "<div>\n",
       "<style scoped>\n",
       "    .dataframe tbody tr th:only-of-type {\n",
       "        vertical-align: middle;\n",
       "    }\n",
       "\n",
       "    .dataframe tbody tr th {\n",
       "        vertical-align: top;\n",
       "    }\n",
       "\n",
       "    .dataframe thead th {\n",
       "        text-align: right;\n",
       "    }\n",
       "</style>\n",
       "<table border=\"1\" class=\"dataframe\">\n",
       "  <thead>\n",
       "    <tr style=\"text-align: right;\">\n",
       "      <th></th>\n",
       "      <th>const</th>\n",
       "      <th>educ</th>\n",
       "      <th>exper</th>\n",
       "      <th>tenure</th>\n",
       "    </tr>\n",
       "  </thead>\n",
       "  <tbody>\n",
       "    <tr>\n",
       "      <td>count</td>\n",
       "      <td>526.0</td>\n",
       "      <td>526.00</td>\n",
       "      <td>526.00</td>\n",
       "      <td>526.00</td>\n",
       "    </tr>\n",
       "    <tr>\n",
       "      <td>mean</td>\n",
       "      <td>1.0</td>\n",
       "      <td>12.56</td>\n",
       "      <td>17.02</td>\n",
       "      <td>5.10</td>\n",
       "    </tr>\n",
       "    <tr>\n",
       "      <td>std</td>\n",
       "      <td>0.0</td>\n",
       "      <td>2.77</td>\n",
       "      <td>13.57</td>\n",
       "      <td>7.22</td>\n",
       "    </tr>\n",
       "    <tr>\n",
       "      <td>min</td>\n",
       "      <td>1.0</td>\n",
       "      <td>0.00</td>\n",
       "      <td>1.00</td>\n",
       "      <td>0.00</td>\n",
       "    </tr>\n",
       "    <tr>\n",
       "      <td>25%</td>\n",
       "      <td>1.0</td>\n",
       "      <td>12.00</td>\n",
       "      <td>5.00</td>\n",
       "      <td>0.00</td>\n",
       "    </tr>\n",
       "    <tr>\n",
       "      <td>50%</td>\n",
       "      <td>1.0</td>\n",
       "      <td>12.00</td>\n",
       "      <td>13.50</td>\n",
       "      <td>2.00</td>\n",
       "    </tr>\n",
       "    <tr>\n",
       "      <td>75%</td>\n",
       "      <td>1.0</td>\n",
       "      <td>14.00</td>\n",
       "      <td>26.00</td>\n",
       "      <td>7.00</td>\n",
       "    </tr>\n",
       "    <tr>\n",
       "      <td>max</td>\n",
       "      <td>1.0</td>\n",
       "      <td>18.00</td>\n",
       "      <td>51.00</td>\n",
       "      <td>44.00</td>\n",
       "    </tr>\n",
       "  </tbody>\n",
       "</table>\n",
       "</div>"
      ],
      "text/plain": [
       "       const    educ   exper  tenure\n",
       "count  526.0  526.00  526.00  526.00\n",
       "mean     1.0   12.56   17.02    5.10\n",
       "std      0.0    2.77   13.57    7.22\n",
       "min      1.0    0.00    1.00    0.00\n",
       "25%      1.0   12.00    5.00    0.00\n",
       "50%      1.0   12.00   13.50    2.00\n",
       "75%      1.0   14.00   26.00    7.00\n",
       "max      1.0   18.00   51.00   44.00"
      ]
     },
     "execution_count": 9,
     "metadata": {},
     "output_type": "execute_result"
    }
   ],
   "source": [
    "round(X.describe(),2)"
   ]
  },
  {
   "cell_type": "code",
   "execution_count": 16,
   "metadata": {},
   "outputs": [
    {
     "name": "stdout",
     "output_type": "stream",
     "text": [
      "                            OLS Regression Results                            \n",
      "==============================================================================\n",
      "Dep. Variable:                      y   R-squared:                       0.316\n",
      "Model:                            OLS   Adj. R-squared:                  0.312\n",
      "Method:                 Least Squares   F-statistic:                     80.39\n",
      "Date:                Wed, 12 Feb 2020   Prob (F-statistic):           9.13e-43\n",
      "Time:                        10:33:58   Log-Likelihood:                -313.55\n",
      "No. Observations:                 526   AIC:                             635.1\n",
      "Df Residuals:                     522   BIC:                             652.2\n",
      "Df Model:                           3                                         \n",
      "Covariance Type:            nonrobust                                         \n",
      "==============================================================================\n",
      "                 coef    std err          t      P>|t|      [0.025      0.975]\n",
      "------------------------------------------------------------------------------\n",
      "const          0.2844      0.104      2.729      0.007       0.080       0.489\n",
      "educ           0.0920      0.007     12.555      0.000       0.078       0.106\n",
      "exper          0.0041      0.002      2.391      0.017       0.001       0.008\n",
      "tenure         0.0221      0.003      7.133      0.000       0.016       0.028\n",
      "==============================================================================\n",
      "Omnibus:                       11.534   Durbin-Watson:                   1.769\n",
      "Prob(Omnibus):                  0.003   Jarque-Bera (JB):               20.941\n",
      "Skew:                           0.021   Prob(JB):                     2.84e-05\n",
      "Kurtosis:                       3.977   Cond. No.                         135.\n",
      "==============================================================================\n",
      "\n",
      "Warnings:\n",
      "[1] Standard Errors assume that the covariance matrix of the errors is correctly specified.\n"
     ]
    }
   ],
   "source": [
    "model = sm.OLS(y,X)\n",
    "results = model.fit()\n",
    "print(results.summary())\n",
    "u = results.resid\n",
    "SSR0 = u.T@u"
   ]
  },
  {
   "cell_type": "code",
   "execution_count": 17,
   "metadata": {},
   "outputs": [
    {
     "data": {
      "text/plain": [
       "101.45557091210259"
      ]
     },
     "execution_count": 17,
     "metadata": {},
     "output_type": "execute_result"
    }
   ],
   "source": [
    "SSR0"
   ]
  },
  {
   "cell_type": "code",
   "execution_count": 26,
   "metadata": {},
   "outputs": [],
   "source": [
    "X0 = X"
   ]
  },
  {
   "cell_type": "code",
   "execution_count": 26,
   "metadata": {},
   "outputs": [
    {
     "name": "stdout",
     "output_type": "stream",
     "text": [
      "                            OLS Regression Results                            \n",
      "==============================================================================\n",
      "Dep. Variable:                      y   R-squared:                       0.106\n",
      "Model:                            OLS   Adj. R-squared:                  0.104\n",
      "Method:                 Least Squares   F-statistic:                     62.11\n",
      "Date:                Wed, 12 Feb 2020   Prob (F-statistic):           1.89e-14\n",
      "Time:                        10:42:47   Log-Likelihood:                -383.98\n",
      "No. Observations:                 526   AIC:                             772.0\n",
      "Df Residuals:                     524   BIC:                             780.5\n",
      "Df Model:                           1                                         \n",
      "Covariance Type:            nonrobust                                         \n",
      "==============================================================================\n",
      "                 coef    std err          t      P>|t|      [0.025      0.975]\n",
      "------------------------------------------------------------------------------\n",
      "const          1.5010      0.027     55.870      0.000       1.448       1.554\n",
      "tenure         0.0240      0.003      7.881      0.000       0.018       0.030\n",
      "==============================================================================\n",
      "Omnibus:                        8.882   Durbin-Watson:                   1.776\n",
      "Prob(Omnibus):                  0.012   Jarque-Bera (JB):               11.058\n",
      "Skew:                           0.185   Prob(JB):                      0.00397\n",
      "Kurtosis:                       3.606   Cond. No.                         10.9\n",
      "==============================================================================\n",
      "\n",
      "Warnings:\n",
      "[1] Standard Errors assume that the covariance matrix of the errors is correctly specified.\n"
     ]
    }
   ],
   "source": [
    "X = pd.concat([X0['const'], X0['tenure']], axis=1)\n",
    "model = sm.OLS(y,X)\n",
    "results = model.fit()\n",
    "print(results.summary())\n",
    "u = results.resid\n",
    "SSR1 = u.T@u"
   ]
  },
  {
   "cell_type": "code",
   "execution_count": 27,
   "metadata": {},
   "outputs": [
    {
     "data": {
      "text/plain": [
       "132.61050949149728"
      ]
     },
     "execution_count": 27,
     "metadata": {},
     "output_type": "execute_result"
    }
   ],
   "source": [
    "SSR1"
   ]
  },
  {
   "cell_type": "markdown",
   "metadata": {},
   "source": [
    "Calcul de la statistique de Fisher :\n",
    "$$\n",
    "F = \\frac{(\\text{SSR1} − \\text{SSR0}) / 2}{\\text{SSR0} / (n−k)}\n",
    "$$"
   ]
  },
  {
   "cell_type": "code",
   "execution_count": 28,
   "metadata": {},
   "outputs": [
    {
     "data": {
      "text/plain": [
       "4.41739639830283e-31"
      ]
     },
     "execution_count": 28,
     "metadata": {},
     "output_type": "execute_result"
    }
   ],
   "source": [
    "from scipy.stats import f\n",
    "\n",
    "n,k = np.shape(X0)\n",
    "F = ((SSR1-SSR0)/2) / (SSR0/(n-k)) # 2 pour le nombre de variables laissées de côtés (2 sur 4 ici)\n",
    "f.sf(F,2,n-k) # 2 degré de liberté"
   ]
  },
  {
   "cell_type": "markdown",
   "metadata": {},
   "source": [
    "## **Exercice 2 :**\n",
    "Tester l’hypothèse $H_0$ : $β_{exper} = 0$ en utilisant la méthode de Fisher et comparer au test de Student."
   ]
  },
  {
   "cell_type": "code",
   "execution_count": 29,
   "metadata": {},
   "outputs": [
    {
     "name": "stdout",
     "output_type": "stream",
     "text": [
      "                            OLS Regression Results                            \n",
      "==============================================================================\n",
      "Dep. Variable:                      y   R-squared:                       0.309\n",
      "Model:                            OLS   Adj. R-squared:                  0.306\n",
      "Method:                 Least Squares   F-statistic:                     116.7\n",
      "Date:                Wed, 12 Feb 2020   Prob (F-statistic):           1.27e-42\n",
      "Time:                        10:46:14   Log-Likelihood:                -316.41\n",
      "No. Observations:                 526   AIC:                             638.8\n",
      "Df Residuals:                     523   BIC:                             651.6\n",
      "Df Model:                           2                                         \n",
      "Covariance Type:            nonrobust                                         \n",
      "==============================================================================\n",
      "                 coef    std err          t      P>|t|      [0.025      0.975]\n",
      "------------------------------------------------------------------------------\n",
      "const          0.4045      0.092      4.411      0.000       0.224       0.585\n",
      "tenure         0.0258      0.003      9.634      0.000       0.021       0.031\n",
      "educ           0.0865      0.007     12.377      0.000       0.073       0.100\n",
      "==============================================================================\n",
      "Omnibus:                       12.799   Durbin-Watson:                   1.772\n",
      "Prob(Omnibus):                  0.002   Jarque-Bera (JB):               24.457\n",
      "Skew:                           0.022   Prob(JB):                     4.89e-06\n",
      "Kurtosis:                       4.055   Cond. No.                         67.2\n",
      "==============================================================================\n",
      "\n",
      "Warnings:\n",
      "[1] Standard Errors assume that the covariance matrix of the errors is correctly specified.\n"
     ]
    }
   ],
   "source": [
    "X = pd.concat([X0['const'], X0['tenure'], X0['educ']], axis=1)\n",
    "model = sm.OLS(y,X)\n",
    "results = model.fit()\n",
    "print(results.summary())\n",
    "u = results.resid\n",
    "SSR2 = u.T@u"
   ]
  },
  {
   "cell_type": "code",
   "execution_count": 30,
   "metadata": {},
   "outputs": [
    {
     "data": {
      "text/plain": [
       "102.56710639990649"
      ]
     },
     "execution_count": 30,
     "metadata": {},
     "output_type": "execute_result"
    }
   ],
   "source": [
    "SSR2"
   ]
  },
  {
   "cell_type": "code",
   "execution_count": 32,
   "metadata": {},
   "outputs": [
    {
     "name": "stdout",
     "output_type": "stream",
     "text": [
      "5.718971559839938\n"
     ]
    },
    {
     "data": {
      "text/plain": [
       "0.017135621986490414"
      ]
     },
     "execution_count": 32,
     "metadata": {},
     "output_type": "execute_result"
    }
   ],
   "source": [
    "n,k = np.shape(X0)\n",
    "F = ((SSR2-SSR0)/1) / (SSR0/(n-k)) # 1 pour le nombre de variables laissées de côtés (1 sur 4 ici)\n",
    "print(F)\n",
    "f.sf(F,1,n-k) # 1 degré de liberté"
   ]
  },
  {
   "cell_type": "markdown",
   "metadata": {},
   "source": [
    "> Le student au carré de l'énoncé donne donc le résultat que l'on obtient avec Fischer. **Ce résultat est vrai lorsque l'on laisse une seule variable de côté.**"
   ]
  },
  {
   "cell_type": "markdown",
   "metadata": {},
   "source": [
    "## **Exercice 3 :**\n",
    "Tester l’hypothèse $H_0$ : $β_{educ} = 0$, $β_{exper} = 0$, $β_{tenure} = 0$. Donner la p-value."
   ]
  },
  {
   "cell_type": "code",
   "execution_count": 34,
   "metadata": {},
   "outputs": [
    {
     "name": "stdout",
     "output_type": "stream",
     "text": [
      "                            OLS Regression Results                            \n",
      "==============================================================================\n",
      "Dep. Variable:                      y   R-squared:                       0.000\n",
      "Model:                            OLS   Adj. R-squared:                  0.000\n",
      "Method:                 Least Squares   F-statistic:                       inf\n",
      "Date:                Wed, 12 Feb 2020   Prob (F-statistic):                nan\n",
      "Time:                        10:52:02   Log-Likelihood:                -413.44\n",
      "No. Observations:                 526   AIC:                             828.9\n",
      "Df Residuals:                     525   BIC:                             833.1\n",
      "Df Model:                           0                                         \n",
      "Covariance Type:            nonrobust                                         \n",
      "==============================================================================\n",
      "                 coef    std err          t      P>|t|      [0.025      0.975]\n",
      "------------------------------------------------------------------------------\n",
      "const          1.6233      0.023     70.040      0.000       1.578       1.669\n",
      "==============================================================================\n",
      "Omnibus:                       15.813   Durbin-Watson:                   1.819\n",
      "Prob(Omnibus):                  0.000   Jarque-Bera (JB):               16.670\n",
      "Skew:                           0.391   Prob(JB):                     0.000240\n",
      "Kurtosis:                       3.387   Cond. No.                         1.00\n",
      "==============================================================================\n",
      "\n",
      "Warnings:\n",
      "[1] Standard Errors assume that the covariance matrix of the errors is correctly specified.\n"
     ]
    }
   ],
   "source": [
    "X = X0['const']\n",
    "model = sm.OLS(y,X)\n",
    "results = model.fit()\n",
    "print(results.summary())\n",
    "u = results.resid\n",
    "SSR3 = u.T@u"
   ]
  },
  {
   "cell_type": "code",
   "execution_count": 35,
   "metadata": {},
   "outputs": [
    {
     "data": {
      "text/plain": [
       "148.32974722346773"
      ]
     },
     "execution_count": 35,
     "metadata": {},
     "output_type": "execute_result"
    }
   ],
   "source": [
    "SSR3"
   ]
  },
  {
   "cell_type": "code",
   "execution_count": 36,
   "metadata": {},
   "outputs": [
    {
     "name": "stdout",
     "output_type": "stream",
     "text": [
      "80.39091993522652\n"
     ]
    },
    {
     "data": {
      "text/plain": [
       "9.129958660791055e-43"
      ]
     },
     "execution_count": 36,
     "metadata": {},
     "output_type": "execute_result"
    }
   ],
   "source": [
    "n,k = np.shape(X0)\n",
    "F = ((SSR3-SSR0)/3) / (SSR0/(n-k)) # 3 pour le nombre de variables laissées de côtés (3 sur 4 ici)\n",
    "print(F)\n",
    "f.sf(F,3,n-k) # 3 degrés de liberté"
   ]
  },
  {
   "cell_type": "markdown",
   "metadata": {},
   "source": [
    "## **Exercice 4 :**\n",
    "Tester l’hypothèse $H_0$ : $β_{educ} = 0.1$, $β_{exper} = 0.01$."
   ]
  },
  {
   "cell_type": "code",
   "execution_count": 45,
   "metadata": {},
   "outputs": [
    {
     "name": "stdout",
     "output_type": "stream",
     "text": [
      "                            OLS Regression Results                            \n",
      "==============================================================================\n",
      "Dep. Variable:                      y   R-squared:                       0.069\n",
      "Model:                            OLS   Adj. R-squared:                  0.067\n",
      "Method:                 Least Squares   F-statistic:                     38.72\n",
      "Date:                Wed, 12 Feb 2020   Prob (F-statistic):           1.00e-09\n",
      "Time:                        11:15:55   Log-Likelihood:                -319.35\n",
      "No. Observations:                 526   AIC:                             642.7\n",
      "Df Residuals:                     524   BIC:                             651.2\n",
      "Df Model:                           1                                         \n",
      "Covariance Type:            nonrobust                                         \n",
      "==============================================================================\n",
      "                 coef    std err          t      P>|t|      [0.025      0.975]\n",
      "------------------------------------------------------------------------------\n",
      "const          0.1115      0.024      4.691      0.000       0.065       0.158\n",
      "tenure         0.0167      0.003      6.223      0.000       0.011       0.022\n",
      "==============================================================================\n",
      "Omnibus:                        8.763   Durbin-Watson:                   1.773\n",
      "Prob(Omnibus):                  0.013   Jarque-Bera (JB):               14.114\n",
      "Skew:                          -0.006   Prob(JB):                     0.000861\n",
      "Kurtosis:                       3.802   Cond. No.                         10.9\n",
      "==============================================================================\n",
      "\n",
      "Warnings:\n",
      "[1] Standard Errors assume that the covariance matrix of the errors is correctly specified.\n"
     ]
    }
   ],
   "source": [
    "y_p = y - 0.1*X0['educ'] - 0.01*X0['exper'] # on calcule notre nouveau y (y prime : y_p)\n",
    "\n",
    "X = pd.concat([X0['const'], X0['tenure']], axis=1)\n",
    "model = sm.OLS(y_p,X)\n",
    "results = model.fit()\n",
    "print(results.summary())\n",
    "u = results.resid\n",
    "SSR4 = u.T@u"
   ]
  },
  {
   "cell_type": "code",
   "execution_count": 46,
   "metadata": {},
   "outputs": [
    {
     "data": {
      "text/plain": [
       "103.71759693624145"
      ]
     },
     "execution_count": 46,
     "metadata": {},
     "output_type": "execute_result"
    }
   ],
   "source": [
    "SSR4"
   ]
  },
  {
   "cell_type": "code",
   "execution_count": 47,
   "metadata": {},
   "outputs": [
    {
     "name": "stdout",
     "output_type": "stream",
     "text": [
      "5.819185550803581\n"
     ]
    },
    {
     "data": {
      "text/plain": [
       "0.0031660755577994594"
      ]
     },
     "execution_count": 47,
     "metadata": {},
     "output_type": "execute_result"
    }
   ],
   "source": [
    "n,k = np.shape(X0)\n",
    "F = ((SSR4-SSR0)/2) / (SSR0/(n-k)) # 2 pour le nombre de variables laissées de côtés (3 sur 4 ici)\n",
    "print(F)\n",
    "f.sf(F,2,n-k) # 2 degrés de liberté"
   ]
  },
  {
   "cell_type": "markdown",
   "metadata": {},
   "source": [
    "## **Exercice 5 :**\n",
    "Construire une variable binaire `marrfem` correspondant aux femmes mariées. Faire la régression de `log(wage)` sur une `constante`, `male`, `marrfem`, `educ`, `exper`, `tenure`. Tester et commenter l’hypothèse $H_0$ : $β_{marrfem} = 0$ à 5%.\n",
    "Donner la p-value."
   ]
  },
  {
   "cell_type": "code",
   "execution_count": 50,
   "metadata": {},
   "outputs": [
    {
     "data": {
      "text/html": [
       "<div>\n",
       "<style scoped>\n",
       "    .dataframe tbody tr th:only-of-type {\n",
       "        vertical-align: middle;\n",
       "    }\n",
       "\n",
       "    .dataframe tbody tr th {\n",
       "        vertical-align: top;\n",
       "    }\n",
       "\n",
       "    .dataframe thead th {\n",
       "        text-align: right;\n",
       "    }\n",
       "</style>\n",
       "<table border=\"1\" class=\"dataframe\">\n",
       "  <thead>\n",
       "    <tr style=\"text-align: right;\">\n",
       "      <th></th>\n",
       "      <th>const</th>\n",
       "      <th>male</th>\n",
       "      <th>marrfem</th>\n",
       "      <th>educ</th>\n",
       "      <th>exper</th>\n",
       "      <th>tenure</th>\n",
       "    </tr>\n",
       "  </thead>\n",
       "  <tbody>\n",
       "    <tr>\n",
       "      <td>0</td>\n",
       "      <td>1</td>\n",
       "      <td>0</td>\n",
       "      <td>0</td>\n",
       "      <td>11</td>\n",
       "      <td>2</td>\n",
       "      <td>0</td>\n",
       "    </tr>\n",
       "    <tr>\n",
       "      <td>1</td>\n",
       "      <td>1</td>\n",
       "      <td>0</td>\n",
       "      <td>1</td>\n",
       "      <td>12</td>\n",
       "      <td>22</td>\n",
       "      <td>2</td>\n",
       "    </tr>\n",
       "    <tr>\n",
       "      <td>2</td>\n",
       "      <td>1</td>\n",
       "      <td>1</td>\n",
       "      <td>0</td>\n",
       "      <td>11</td>\n",
       "      <td>2</td>\n",
       "      <td>0</td>\n",
       "    </tr>\n",
       "    <tr>\n",
       "      <td>3</td>\n",
       "      <td>1</td>\n",
       "      <td>1</td>\n",
       "      <td>0</td>\n",
       "      <td>8</td>\n",
       "      <td>44</td>\n",
       "      <td>28</td>\n",
       "    </tr>\n",
       "    <tr>\n",
       "      <td>4</td>\n",
       "      <td>1</td>\n",
       "      <td>1</td>\n",
       "      <td>0</td>\n",
       "      <td>12</td>\n",
       "      <td>7</td>\n",
       "      <td>2</td>\n",
       "    </tr>\n",
       "  </tbody>\n",
       "</table>\n",
       "</div>"
      ],
      "text/plain": [
       "   const  male  marrfem  educ  exper  tenure\n",
       "0      1     0        0    11      2       0\n",
       "1      1     0        1    12     22       2\n",
       "2      1     1        0    11      2       0\n",
       "3      1     1        0     8     44      28\n",
       "4      1     1        0    12      7       2"
      ]
     },
     "execution_count": 50,
     "metadata": {},
     "output_type": "execute_result"
    }
   ],
   "source": [
    "female = df[5]\n",
    "male = 1 - female\n",
    "married = df[6]\n",
    "marrfem = married*female\n",
    "\n",
    "df['const'] = 1 # on créé une colonne de 1 dans le df\n",
    "X = pd.concat([df['const'], male, marrfem, X0['educ'], X0['exper'], X0['tenure']], axis=1)\n",
    "X.columns = ['const', 'male', 'marrfem', 'educ', 'exper', 'tenure'] # on renomme les colonnes\n",
    "df.drop('const', axis=1) # on enlève la colonne de 1 du df\n",
    "X.head()"
   ]
  },
  {
   "cell_type": "code",
   "execution_count": 51,
   "metadata": {},
   "outputs": [
    {
     "name": "stdout",
     "output_type": "stream",
     "text": [
      "                            OLS Regression Results                            \n",
      "==============================================================================\n",
      "Dep. Variable:                      y   R-squared:                       0.393\n",
      "Model:                            OLS   Adj. R-squared:                  0.387\n",
      "Method:                 Least Squares   F-statistic:                     67.32\n",
      "Date:                Wed, 12 Feb 2020   Prob (F-statistic):           3.44e-54\n",
      "Time:                        11:26:10   Log-Likelihood:                -282.17\n",
      "No. Observations:                 526   AIC:                             576.3\n",
      "Df Residuals:                     520   BIC:                             601.9\n",
      "Df Model:                           5                                         \n",
      "Covariance Type:            nonrobust                                         \n",
      "==============================================================================\n",
      "                 coef    std err          t      P>|t|      [0.025      0.975]\n",
      "------------------------------------------------------------------------------\n",
      "const          0.2107      0.100      2.110      0.035       0.015       0.407\n",
      "male           0.2793      0.047      5.939      0.000       0.187       0.372\n",
      "marrfem       -0.0410      0.054     -0.761      0.447      -0.147       0.065\n",
      "educ           0.0880      0.007     12.609      0.000       0.074       0.102\n",
      "exper          0.0049      0.002      2.940      0.003       0.002       0.008\n",
      "tenure         0.0173      0.003      5.808      0.000       0.011       0.023\n",
      "==============================================================================\n",
      "Omnibus:                       12.433   Durbin-Watson:                   1.772\n",
      "Prob(Omnibus):                  0.002   Jarque-Bera (JB):               23.487\n",
      "Skew:                           0.005   Prob(JB):                     7.94e-06\n",
      "Kurtosis:                       4.035   Cond. No.                         138.\n",
      "==============================================================================\n",
      "\n",
      "Warnings:\n",
      "[1] Standard Errors assume that the covariance matrix of the errors is correctly specified.\n"
     ]
    }
   ],
   "source": [
    "n,k=np.shape(X)\n",
    "y = np.log(wage)\n",
    "\n",
    "model = sm.OLS(y,X)\n",
    "results = model.fit()\n",
    "print(results.summary())"
   ]
  },
  {
   "cell_type": "markdown",
   "metadata": {},
   "source": [
    "> On peut lire directement dans le tableau la p-valeur pour l'hypothèse $H_0$ : $0.447$. On ne rejette donc pas l'hypothèse $H_0$ à 5%. La catégorie de référence est celle des femmes célibataires."
   ]
  },
  {
   "cell_type": "markdown",
   "metadata": {},
   "source": [
    "## **Exercice 6 :**\n",
    "Construire les 4 catégories suivantes : `hommes mariés`, `femmes mariées`, `hommes célibataires`, `femmes célibataires`. Tester l’hypothèse de discrimination salariale contre les femmes mariées par rapport aux hommes mariés. Donner la p-value.\n",
    "> La catégorie de référence est celle des hommes mariés."
   ]
  },
  {
   "cell_type": "code",
   "execution_count": 52,
   "metadata": {},
   "outputs": [
    {
     "data": {
      "text/html": [
       "<div>\n",
       "<style scoped>\n",
       "    .dataframe tbody tr th:only-of-type {\n",
       "        vertical-align: middle;\n",
       "    }\n",
       "\n",
       "    .dataframe tbody tr th {\n",
       "        vertical-align: top;\n",
       "    }\n",
       "\n",
       "    .dataframe thead th {\n",
       "        text-align: right;\n",
       "    }\n",
       "</style>\n",
       "<table border=\"1\" class=\"dataframe\">\n",
       "  <thead>\n",
       "    <tr style=\"text-align: right;\">\n",
       "      <th></th>\n",
       "      <th>const</th>\n",
       "      <th>singmal</th>\n",
       "      <th>singfem</th>\n",
       "      <th>marrfem</th>\n",
       "      <th>educ</th>\n",
       "      <th>exper</th>\n",
       "      <th>tenure</th>\n",
       "    </tr>\n",
       "  </thead>\n",
       "  <tbody>\n",
       "    <tr>\n",
       "      <td>0</td>\n",
       "      <td>1</td>\n",
       "      <td>0</td>\n",
       "      <td>1</td>\n",
       "      <td>0</td>\n",
       "      <td>11</td>\n",
       "      <td>2</td>\n",
       "      <td>0</td>\n",
       "    </tr>\n",
       "    <tr>\n",
       "      <td>1</td>\n",
       "      <td>1</td>\n",
       "      <td>0</td>\n",
       "      <td>0</td>\n",
       "      <td>1</td>\n",
       "      <td>12</td>\n",
       "      <td>22</td>\n",
       "      <td>2</td>\n",
       "    </tr>\n",
       "    <tr>\n",
       "      <td>2</td>\n",
       "      <td>1</td>\n",
       "      <td>1</td>\n",
       "      <td>0</td>\n",
       "      <td>0</td>\n",
       "      <td>11</td>\n",
       "      <td>2</td>\n",
       "      <td>0</td>\n",
       "    </tr>\n",
       "    <tr>\n",
       "      <td>3</td>\n",
       "      <td>1</td>\n",
       "      <td>0</td>\n",
       "      <td>0</td>\n",
       "      <td>0</td>\n",
       "      <td>8</td>\n",
       "      <td>44</td>\n",
       "      <td>28</td>\n",
       "    </tr>\n",
       "    <tr>\n",
       "      <td>4</td>\n",
       "      <td>1</td>\n",
       "      <td>0</td>\n",
       "      <td>0</td>\n",
       "      <td>0</td>\n",
       "      <td>12</td>\n",
       "      <td>7</td>\n",
       "      <td>2</td>\n",
       "    </tr>\n",
       "  </tbody>\n",
       "</table>\n",
       "</div>"
      ],
      "text/plain": [
       "   const  singmal  singfem  marrfem  educ  exper  tenure\n",
       "0      1        0        1        0    11      2       0\n",
       "1      1        0        0        1    12     22       2\n",
       "2      1        1        0        0    11      2       0\n",
       "3      1        0        0        0     8     44      28\n",
       "4      1        0        0        0    12      7       2"
      ]
     },
     "execution_count": 52,
     "metadata": {},
     "output_type": "execute_result"
    }
   ],
   "source": [
    "female = df[5]\n",
    "male = 1 - female\n",
    "married = df[6]\n",
    "marrfem = married*female\n",
    "single = 1 - married\n",
    "singfem = single*female\n",
    "singmal = single*male\n",
    "\n",
    "\n",
    "df['const'] = 1 # on créé une colonne de 1 dans le df\n",
    "X = pd.concat([df['const'], singmal, singfem, marrfem, X0['educ'], X0['exper'], X0['tenure']], axis=1)\n",
    "X.columns = ['const', 'singmal', 'singfem', 'marrfem', 'educ', 'exper', 'tenure'] # on renomme les colonnes\n",
    "df.drop('const', axis=1) # on enlève la colonne de 1 du df\n",
    "X.head()"
   ]
  },
  {
   "cell_type": "code",
   "execution_count": 53,
   "metadata": {},
   "outputs": [
    {
     "name": "stdout",
     "output_type": "stream",
     "text": [
      "                            OLS Regression Results                            \n",
      "==============================================================================\n",
      "Dep. Variable:                      y   R-squared:                       0.424\n",
      "Model:                            OLS   Adj. R-squared:                  0.417\n",
      "Method:                 Least Squares   F-statistic:                     63.63\n",
      "Date:                Wed, 12 Feb 2020   Prob (F-statistic):           4.53e-59\n",
      "Time:                        11:38:11   Log-Likelihood:                -268.44\n",
      "No. Observations:                 526   AIC:                             550.9\n",
      "Df Residuals:                     519   BIC:                             580.7\n",
      "Df Model:                           6                                         \n",
      "Covariance Type:            nonrobust                                         \n",
      "==============================================================================\n",
      "                 coef    std err          t      P>|t|      [0.025      0.975]\n",
      "------------------------------------------------------------------------------\n",
      "const          0.6799      0.107      6.370      0.000       0.470       0.890\n",
      "singmal       -0.2921      0.055     -5.273      0.000      -0.401      -0.183\n",
      "singfem       -0.3888      0.050     -7.723      0.000      -0.488      -0.290\n",
      "marrfem       -0.4123      0.047     -8.737      0.000      -0.505      -0.320\n",
      "educ           0.0835      0.007     12.175      0.000       0.070       0.097\n",
      "exper          0.0032      0.002      1.912      0.056   -8.74e-05       0.006\n",
      "tenure         0.0157      0.003      5.370      0.000       0.010       0.021\n",
      "==============================================================================\n",
      "Omnibus:                       14.767   Durbin-Watson:                   1.774\n",
      "Prob(Omnibus):                  0.001   Jarque-Bera (JB):               29.522\n",
      "Skew:                           0.071   Prob(JB):                     3.88e-07\n",
      "Kurtosis:                       4.152   Cond. No.                         158.\n",
      "==============================================================================\n",
      "\n",
      "Warnings:\n",
      "[1] Standard Errors assume that the covariance matrix of the errors is correctly specified.\n"
     ]
    }
   ],
   "source": [
    "n,k=np.shape(X)\n",
    "y = np.log(wage)\n",
    "\n",
    "model = sm.OLS(y,X)\n",
    "results = model.fit()\n",
    "print(results.summary())"
   ]
  },
  {
   "cell_type": "markdown",
   "metadata": {},
   "source": [
    "> Les femmes marriées gagnent 41% (-0.4123) de moins que les hommes mariés. C'est significatif car la p-valeur est à zéro."
   ]
  },
  {
   "cell_type": "code",
   "execution_count": null,
   "metadata": {},
   "outputs": [],
   "source": []
  },
  {
   "cell_type": "markdown",
   "metadata": {},
   "source": [
    "## **Exercice 7 :**\n"
   ]
  },
  {
   "cell_type": "markdown",
   "metadata": {},
   "source": [
    "## **Exercice 8 :**\n"
   ]
  },
  {
   "cell_type": "markdown",
   "metadata": {},
   "source": [
    "## **Exercice 9 :**\n"
   ]
  },
  {
   "cell_type": "code",
   "execution_count": null,
   "metadata": {},
   "outputs": [],
   "source": []
  }
 ],
 "metadata": {
  "kernelspec": {
   "display_name": "Python 3",
   "language": "python",
   "name": "python3"
  },
  "language_info": {
   "codemirror_mode": {
    "name": "ipython",
    "version": 3
   },
   "file_extension": ".py",
   "mimetype": "text/x-python",
   "name": "python",
   "nbconvert_exporter": "python",
   "pygments_lexer": "ipython3",
   "version": "3.7.4"
  }
 },
 "nbformat": 4,
 "nbformat_minor": 4
}
