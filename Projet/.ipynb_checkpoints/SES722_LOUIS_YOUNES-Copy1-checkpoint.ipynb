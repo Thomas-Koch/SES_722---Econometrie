{
 "cells": [
  {
   "cell_type": "code",
   "execution_count": 109,
   "metadata": {},
   "outputs": [],
   "source": [
    "import pandas as pd\n",
    "import numpy as np\n",
    "from sklearn.linear_model import LinearRegression\n",
    "from matplotlib import pyplot as plt\n",
    "from scipy import stats\n",
    "import seaborn as sns\n",
    "\n",
    "import statsmodels.api as sm\n",
    "from statsmodels.formula.api import ols\n",
    "from scipy.stats.distributions import chi2\n",
    "from scipy.stats import t,f\n",
    "\n",
    "from statsmodels.api import stats as statsapi\n",
    "import statsmodels.stats.api as sms\n",
    "from statsmodels.tsa.arima_model import ARIMA\n",
    "from statsmodels.tsa.ar_model import AR\n",
    "from statsmodels.stats.stattools import durbin_watson\n",
    "from statsmodels.tsa.stattools import grangercausalitytests as granger\n",
    "%matplotlib inline"
   ]
  },
  {
   "cell_type": "markdown",
   "metadata": {},
   "source": [
    "# Partie 1: Régression"
   ]
  },
  {
   "cell_type": "markdown",
   "metadata": {},
   "source": [
    "## Lire le fichier mroz.txt. Ne sélectionner que les observations pour lesquelles la variable wage est strictement positive."
   ]
  },
  {
   "cell_type": "code",
   "execution_count": 110,
   "metadata": {},
   "outputs": [],
   "source": [
    "names = [\n",
    "    'inlf',                    # =1 if in labor force, 1975\n",
    "    'hours',                   # hours worked, 1975\n",
    "    'kidslt6',                 # #kids < 6 years\n",
    "    'kidsge6',                 # #kids 6-18\n",
    "    'age',                     # woman's age in yrs\n",
    "    'educ',                    # years of schooling\n",
    "    'wage',                    # estimated wage from earns., hours\n",
    "    'repwage',                 # reported wage at interview in 1976\n",
    "    'hushrs',                  # hours worked by husband, 1975\n",
    "    'husage',                  # husband's age\n",
    "    'huseduc',                 # husband's years of schooling\n",
    "    'huswage',                 # husband's hourly wage, 1975\n",
    "    'faminc',                  # family income, 1975\n",
    "    'mtr',                     # fed. marginal tax rate facing woman\n",
    "    'motheduc',                # mother's years of schooling\n",
    "    'fatheduc',                # father's years of schooling\n",
    "    'unem',                    # unem. rate in county of resid.\n",
    "    'city',                    # =1 if live in SMSA\n",
    "    'exper',                   # actual labor mkt exper\n",
    "    'nwifeinc',                # (faminc - wage*hours)/1000\n",
    "    'lwage',                   # log(wage)\n",
    "    'expersq',                 # exper^2\n",
    "]\n",
    "\n",
    "df_uncleaned = pd.read_csv('29textfiles/MROZ.raw', sep='\\s+', names=names)"
   ]
  },
  {
   "cell_type": "code",
   "execution_count": 111,
   "metadata": {
    "scrolled": true
   },
   "outputs": [
    {
     "data": {
      "text/html": [
       "<div>\n",
       "<style scoped>\n",
       "    .dataframe tbody tr th:only-of-type {\n",
       "        vertical-align: middle;\n",
       "    }\n",
       "\n",
       "    .dataframe tbody tr th {\n",
       "        vertical-align: top;\n",
       "    }\n",
       "\n",
       "    .dataframe thead th {\n",
       "        text-align: right;\n",
       "    }\n",
       "</style>\n",
       "<table border=\"1\" class=\"dataframe\">\n",
       "  <thead>\n",
       "    <tr style=\"text-align: right;\">\n",
       "      <th></th>\n",
       "      <th>inlf</th>\n",
       "      <th>hours</th>\n",
       "      <th>kidslt6</th>\n",
       "      <th>kidsge6</th>\n",
       "      <th>age</th>\n",
       "      <th>educ</th>\n",
       "      <th>wage</th>\n",
       "      <th>repwage</th>\n",
       "      <th>hushrs</th>\n",
       "      <th>husage</th>\n",
       "      <th>...</th>\n",
       "      <th>faminc</th>\n",
       "      <th>mtr</th>\n",
       "      <th>motheduc</th>\n",
       "      <th>fatheduc</th>\n",
       "      <th>unem</th>\n",
       "      <th>city</th>\n",
       "      <th>exper</th>\n",
       "      <th>nwifeinc</th>\n",
       "      <th>lwage</th>\n",
       "      <th>expersq</th>\n",
       "    </tr>\n",
       "  </thead>\n",
       "  <tbody>\n",
       "    <tr>\n",
       "      <th>219</th>\n",
       "      <td>1</td>\n",
       "      <td>2340</td>\n",
       "      <td>1</td>\n",
       "      <td>2</td>\n",
       "      <td>36</td>\n",
       "      <td>10</td>\n",
       "      <td>.1282</td>\n",
       "      <td>0.00</td>\n",
       "      <td>2020</td>\n",
       "      <td>37</td>\n",
       "      <td>...</td>\n",
       "      <td>11500</td>\n",
       "      <td>0.7815</td>\n",
       "      <td>10</td>\n",
       "      <td>7</td>\n",
       "      <td>7.5</td>\n",
       "      <td>0</td>\n",
       "      <td>1</td>\n",
       "      <td>11.200010</td>\n",
       "      <td>-2.054164</td>\n",
       "      <td>1</td>\n",
       "    </tr>\n",
       "    <tr>\n",
       "      <th>634</th>\n",
       "      <td>0</td>\n",
       "      <td>0</td>\n",
       "      <td>0</td>\n",
       "      <td>3</td>\n",
       "      <td>35</td>\n",
       "      <td>11</td>\n",
       "      <td>.</td>\n",
       "      <td>0.00</td>\n",
       "      <td>1785</td>\n",
       "      <td>39</td>\n",
       "      <td>...</td>\n",
       "      <td>12367</td>\n",
       "      <td>0.7515</td>\n",
       "      <td>7</td>\n",
       "      <td>7</td>\n",
       "      <td>7.5</td>\n",
       "      <td>0</td>\n",
       "      <td>1</td>\n",
       "      <td>12.367000</td>\n",
       "      <td>.</td>\n",
       "      <td>1</td>\n",
       "    </tr>\n",
       "    <tr>\n",
       "      <th>692</th>\n",
       "      <td>0</td>\n",
       "      <td>0</td>\n",
       "      <td>0</td>\n",
       "      <td>0</td>\n",
       "      <td>42</td>\n",
       "      <td>9</td>\n",
       "      <td>.</td>\n",
       "      <td>0.00</td>\n",
       "      <td>2275</td>\n",
       "      <td>46</td>\n",
       "      <td>...</td>\n",
       "      <td>10000</td>\n",
       "      <td>0.7515</td>\n",
       "      <td>7</td>\n",
       "      <td>7</td>\n",
       "      <td>5.0</td>\n",
       "      <td>1</td>\n",
       "      <td>2</td>\n",
       "      <td>10.000000</td>\n",
       "      <td>.</td>\n",
       "      <td>4</td>\n",
       "    </tr>\n",
       "    <tr>\n",
       "      <th>45</th>\n",
       "      <td>1</td>\n",
       "      <td>576</td>\n",
       "      <td>0</td>\n",
       "      <td>2</td>\n",
       "      <td>34</td>\n",
       "      <td>12</td>\n",
       "      <td>3.4722</td>\n",
       "      <td>3.84</td>\n",
       "      <td>3096</td>\n",
       "      <td>33</td>\n",
       "      <td>...</td>\n",
       "      <td>7000</td>\n",
       "      <td>0.7815</td>\n",
       "      <td>12</td>\n",
       "      <td>7</td>\n",
       "      <td>3.0</td>\n",
       "      <td>0</td>\n",
       "      <td>4</td>\n",
       "      <td>5.000013</td>\n",
       "      <td>1.244788</td>\n",
       "      <td>16</td>\n",
       "    </tr>\n",
       "    <tr>\n",
       "      <th>592</th>\n",
       "      <td>0</td>\n",
       "      <td>0</td>\n",
       "      <td>0</td>\n",
       "      <td>0</td>\n",
       "      <td>52</td>\n",
       "      <td>8</td>\n",
       "      <td>.</td>\n",
       "      <td>0.00</td>\n",
       "      <td>2452</td>\n",
       "      <td>54</td>\n",
       "      <td>...</td>\n",
       "      <td>23000</td>\n",
       "      <td>0.6915</td>\n",
       "      <td>7</td>\n",
       "      <td>3</td>\n",
       "      <td>3.0</td>\n",
       "      <td>0</td>\n",
       "      <td>0</td>\n",
       "      <td>23.000000</td>\n",
       "      <td>.</td>\n",
       "      <td>0</td>\n",
       "    </tr>\n",
       "    <tr>\n",
       "      <th>582</th>\n",
       "      <td>0</td>\n",
       "      <td>0</td>\n",
       "      <td>0</td>\n",
       "      <td>1</td>\n",
       "      <td>46</td>\n",
       "      <td>10</td>\n",
       "      <td>.</td>\n",
       "      <td>0.00</td>\n",
       "      <td>1880</td>\n",
       "      <td>51</td>\n",
       "      <td>...</td>\n",
       "      <td>16240</td>\n",
       "      <td>0.7215</td>\n",
       "      <td>7</td>\n",
       "      <td>7</td>\n",
       "      <td>11.0</td>\n",
       "      <td>0</td>\n",
       "      <td>19</td>\n",
       "      <td>16.240000</td>\n",
       "      <td>.</td>\n",
       "      <td>361</td>\n",
       "    </tr>\n",
       "    <tr>\n",
       "      <th>188</th>\n",
       "      <td>1</td>\n",
       "      <td>1355</td>\n",
       "      <td>0</td>\n",
       "      <td>3</td>\n",
       "      <td>33</td>\n",
       "      <td>12</td>\n",
       "      <td>.6642</td>\n",
       "      <td>1.00</td>\n",
       "      <td>2750</td>\n",
       "      <td>35</td>\n",
       "      <td>...</td>\n",
       "      <td>18000</td>\n",
       "      <td>0.7215</td>\n",
       "      <td>12</td>\n",
       "      <td>7</td>\n",
       "      <td>9.5</td>\n",
       "      <td>0</td>\n",
       "      <td>7</td>\n",
       "      <td>17.100010</td>\n",
       "      <td>-.409172</td>\n",
       "      <td>49</td>\n",
       "    </tr>\n",
       "    <tr>\n",
       "      <th>694</th>\n",
       "      <td>0</td>\n",
       "      <td>0</td>\n",
       "      <td>0</td>\n",
       "      <td>2</td>\n",
       "      <td>43</td>\n",
       "      <td>12</td>\n",
       "      <td>.</td>\n",
       "      <td>0.00</td>\n",
       "      <td>1750</td>\n",
       "      <td>44</td>\n",
       "      <td>...</td>\n",
       "      <td>29800</td>\n",
       "      <td>0.5815</td>\n",
       "      <td>7</td>\n",
       "      <td>7</td>\n",
       "      <td>7.5</td>\n",
       "      <td>1</td>\n",
       "      <td>10</td>\n",
       "      <td>29.800000</td>\n",
       "      <td>.</td>\n",
       "      <td>100</td>\n",
       "    </tr>\n",
       "    <tr>\n",
       "      <th>320</th>\n",
       "      <td>1</td>\n",
       "      <td>1825</td>\n",
       "      <td>0</td>\n",
       "      <td>0</td>\n",
       "      <td>47</td>\n",
       "      <td>12</td>\n",
       "      <td>3.5616</td>\n",
       "      <td>3.00</td>\n",
       "      <td>2188</td>\n",
       "      <td>50</td>\n",
       "      <td>...</td>\n",
       "      <td>32590</td>\n",
       "      <td>0.6215</td>\n",
       "      <td>7</td>\n",
       "      <td>7</td>\n",
       "      <td>7.5</td>\n",
       "      <td>1</td>\n",
       "      <td>14</td>\n",
       "      <td>26.090080</td>\n",
       "      <td>1.27021</td>\n",
       "      <td>196</td>\n",
       "    </tr>\n",
       "    <tr>\n",
       "      <th>615</th>\n",
       "      <td>0</td>\n",
       "      <td>0</td>\n",
       "      <td>0</td>\n",
       "      <td>1</td>\n",
       "      <td>45</td>\n",
       "      <td>10</td>\n",
       "      <td>.</td>\n",
       "      <td>0.00</td>\n",
       "      <td>1926</td>\n",
       "      <td>46</td>\n",
       "      <td>...</td>\n",
       "      <td>15150</td>\n",
       "      <td>0.7215</td>\n",
       "      <td>7</td>\n",
       "      <td>7</td>\n",
       "      <td>7.5</td>\n",
       "      <td>1</td>\n",
       "      <td>15</td>\n",
       "      <td>15.150000</td>\n",
       "      <td>.</td>\n",
       "      <td>225</td>\n",
       "    </tr>\n",
       "    <tr>\n",
       "      <th>712</th>\n",
       "      <td>0</td>\n",
       "      <td>0</td>\n",
       "      <td>0</td>\n",
       "      <td>3</td>\n",
       "      <td>47</td>\n",
       "      <td>12</td>\n",
       "      <td>.</td>\n",
       "      <td>0.00</td>\n",
       "      <td>2700</td>\n",
       "      <td>48</td>\n",
       "      <td>...</td>\n",
       "      <td>28200</td>\n",
       "      <td>0.7215</td>\n",
       "      <td>7</td>\n",
       "      <td>7</td>\n",
       "      <td>3.0</td>\n",
       "      <td>0</td>\n",
       "      <td>3</td>\n",
       "      <td>28.200000</td>\n",
       "      <td>.</td>\n",
       "      <td>9</td>\n",
       "    </tr>\n",
       "    <tr>\n",
       "      <th>39</th>\n",
       "      <td>1</td>\n",
       "      <td>1302</td>\n",
       "      <td>0</td>\n",
       "      <td>0</td>\n",
       "      <td>30</td>\n",
       "      <td>17</td>\n",
       "      <td>14.631</td>\n",
       "      <td>9.53</td>\n",
       "      <td>1560</td>\n",
       "      <td>30</td>\n",
       "      <td>...</td>\n",
       "      <td>36550</td>\n",
       "      <td>0.5800</td>\n",
       "      <td>14</td>\n",
       "      <td>17</td>\n",
       "      <td>5.0</td>\n",
       "      <td>1</td>\n",
       "      <td>11</td>\n",
       "      <td>17.500440</td>\n",
       "      <td>2.683142</td>\n",
       "      <td>121</td>\n",
       "    </tr>\n",
       "    <tr>\n",
       "      <th>65</th>\n",
       "      <td>1</td>\n",
       "      <td>1880</td>\n",
       "      <td>0</td>\n",
       "      <td>0</td>\n",
       "      <td>36</td>\n",
       "      <td>8</td>\n",
       "      <td>3.5931</td>\n",
       "      <td>3.75</td>\n",
       "      <td>1985</td>\n",
       "      <td>37</td>\n",
       "      <td>...</td>\n",
       "      <td>19175</td>\n",
       "      <td>0.6915</td>\n",
       "      <td>12</td>\n",
       "      <td>12</td>\n",
       "      <td>7.5</td>\n",
       "      <td>0</td>\n",
       "      <td>12</td>\n",
       "      <td>12.419970</td>\n",
       "      <td>1.279015</td>\n",
       "      <td>144</td>\n",
       "    </tr>\n",
       "    <tr>\n",
       "      <th>726</th>\n",
       "      <td>0</td>\n",
       "      <td>0</td>\n",
       "      <td>0</td>\n",
       "      <td>0</td>\n",
       "      <td>58</td>\n",
       "      <td>13</td>\n",
       "      <td>.</td>\n",
       "      <td>0.00</td>\n",
       "      <td>2025</td>\n",
       "      <td>57</td>\n",
       "      <td>...</td>\n",
       "      <td>22200</td>\n",
       "      <td>0.6615</td>\n",
       "      <td>7</td>\n",
       "      <td>7</td>\n",
       "      <td>11.0</td>\n",
       "      <td>1</td>\n",
       "      <td>7</td>\n",
       "      <td>22.200000</td>\n",
       "      <td>.</td>\n",
       "      <td>49</td>\n",
       "    </tr>\n",
       "    <tr>\n",
       "      <th>185</th>\n",
       "      <td>1</td>\n",
       "      <td>2480</td>\n",
       "      <td>1</td>\n",
       "      <td>5</td>\n",
       "      <td>39</td>\n",
       "      <td>10</td>\n",
       "      <td>2.6331</td>\n",
       "      <td>4.20</td>\n",
       "      <td>2880</td>\n",
       "      <td>36</td>\n",
       "      <td>...</td>\n",
       "      <td>40500</td>\n",
       "      <td>0.5815</td>\n",
       "      <td>7</td>\n",
       "      <td>7</td>\n",
       "      <td>3.0</td>\n",
       "      <td>0</td>\n",
       "      <td>12</td>\n",
       "      <td>33.969910</td>\n",
       "      <td>.9681619</td>\n",
       "      <td>144</td>\n",
       "    </tr>\n",
       "    <tr>\n",
       "      <th>415</th>\n",
       "      <td>1</td>\n",
       "      <td>1170</td>\n",
       "      <td>1</td>\n",
       "      <td>2</td>\n",
       "      <td>39</td>\n",
       "      <td>13</td>\n",
       "      <td>.2137</td>\n",
       "      <td>0.00</td>\n",
       "      <td>1920</td>\n",
       "      <td>47</td>\n",
       "      <td>...</td>\n",
       "      <td>16370</td>\n",
       "      <td>0.7215</td>\n",
       "      <td>12</td>\n",
       "      <td>16</td>\n",
       "      <td>11.0</td>\n",
       "      <td>1</td>\n",
       "      <td>1</td>\n",
       "      <td>16.119970</td>\n",
       "      <td>-1.543182</td>\n",
       "      <td>1</td>\n",
       "    </tr>\n",
       "    <tr>\n",
       "      <th>346</th>\n",
       "      <td>1</td>\n",
       "      <td>1738</td>\n",
       "      <td>0</td>\n",
       "      <td>0</td>\n",
       "      <td>45</td>\n",
       "      <td>12</td>\n",
       "      <td>5.3826</td>\n",
       "      <td>6.18</td>\n",
       "      <td>1725</td>\n",
       "      <td>47</td>\n",
       "      <td>...</td>\n",
       "      <td>20130</td>\n",
       "      <td>0.6615</td>\n",
       "      <td>0</td>\n",
       "      <td>0</td>\n",
       "      <td>7.5</td>\n",
       "      <td>1</td>\n",
       "      <td>24</td>\n",
       "      <td>10.775040</td>\n",
       "      <td>1.683172</td>\n",
       "      <td>576</td>\n",
       "    </tr>\n",
       "    <tr>\n",
       "      <th>29</th>\n",
       "      <td>1</td>\n",
       "      <td>346</td>\n",
       "      <td>0</td>\n",
       "      <td>0</td>\n",
       "      <td>42</td>\n",
       "      <td>12</td>\n",
       "      <td>5.8671</td>\n",
       "      <td>6.39</td>\n",
       "      <td>1920</td>\n",
       "      <td>47</td>\n",
       "      <td>...</td>\n",
       "      <td>17730</td>\n",
       "      <td>0.7215</td>\n",
       "      <td>12</td>\n",
       "      <td>12</td>\n",
       "      <td>9.5</td>\n",
       "      <td>0</td>\n",
       "      <td>7</td>\n",
       "      <td>15.699980</td>\n",
       "      <td>1.76936</td>\n",
       "      <td>49</td>\n",
       "    </tr>\n",
       "    <tr>\n",
       "      <th>138</th>\n",
       "      <td>1</td>\n",
       "      <td>120</td>\n",
       "      <td>1</td>\n",
       "      <td>2</td>\n",
       "      <td>33</td>\n",
       "      <td>12</td>\n",
       "      <td>3.3333</td>\n",
       "      <td>0.00</td>\n",
       "      <td>2263</td>\n",
       "      <td>32</td>\n",
       "      <td>...</td>\n",
       "      <td>21120</td>\n",
       "      <td>0.6915</td>\n",
       "      <td>7</td>\n",
       "      <td>7</td>\n",
       "      <td>9.0</td>\n",
       "      <td>1</td>\n",
       "      <td>3</td>\n",
       "      <td>20.720000</td>\n",
       "      <td>1.203963</td>\n",
       "      <td>9</td>\n",
       "    </tr>\n",
       "    <tr>\n",
       "      <th>78</th>\n",
       "      <td>1</td>\n",
       "      <td>90</td>\n",
       "      <td>2</td>\n",
       "      <td>2</td>\n",
       "      <td>32</td>\n",
       "      <td>15</td>\n",
       "      <td>1</td>\n",
       "      <td>0.00</td>\n",
       "      <td>2350</td>\n",
       "      <td>31</td>\n",
       "      <td>...</td>\n",
       "      <td>13755</td>\n",
       "      <td>0.7515</td>\n",
       "      <td>10</td>\n",
       "      <td>12</td>\n",
       "      <td>7.5</td>\n",
       "      <td>1</td>\n",
       "      <td>9</td>\n",
       "      <td>13.665000</td>\n",
       "      <td>0</td>\n",
       "      <td>81</td>\n",
       "    </tr>\n",
       "  </tbody>\n",
       "</table>\n",
       "<p>20 rows × 22 columns</p>\n",
       "</div>"
      ],
      "text/plain": [
       "     inlf  hours  kidslt6  kidsge6  age  educ    wage  repwage  hushrs  \\\n",
       "219     1   2340        1        2   36    10   .1282     0.00    2020   \n",
       "634     0      0        0        3   35    11       .     0.00    1785   \n",
       "692     0      0        0        0   42     9       .     0.00    2275   \n",
       "45      1    576        0        2   34    12  3.4722     3.84    3096   \n",
       "592     0      0        0        0   52     8       .     0.00    2452   \n",
       "582     0      0        0        1   46    10       .     0.00    1880   \n",
       "188     1   1355        0        3   33    12   .6642     1.00    2750   \n",
       "694     0      0        0        2   43    12       .     0.00    1750   \n",
       "320     1   1825        0        0   47    12  3.5616     3.00    2188   \n",
       "615     0      0        0        1   45    10       .     0.00    1926   \n",
       "712     0      0        0        3   47    12       .     0.00    2700   \n",
       "39      1   1302        0        0   30    17  14.631     9.53    1560   \n",
       "65      1   1880        0        0   36     8  3.5931     3.75    1985   \n",
       "726     0      0        0        0   58    13       .     0.00    2025   \n",
       "185     1   2480        1        5   39    10  2.6331     4.20    2880   \n",
       "415     1   1170        1        2   39    13   .2137     0.00    1920   \n",
       "346     1   1738        0        0   45    12  5.3826     6.18    1725   \n",
       "29      1    346        0        0   42    12  5.8671     6.39    1920   \n",
       "138     1    120        1        2   33    12  3.3333     0.00    2263   \n",
       "78      1     90        2        2   32    15       1     0.00    2350   \n",
       "\n",
       "     husage  ...  faminc     mtr  motheduc  fatheduc  unem  city  exper  \\\n",
       "219      37  ...   11500  0.7815        10         7   7.5     0      1   \n",
       "634      39  ...   12367  0.7515         7         7   7.5     0      1   \n",
       "692      46  ...   10000  0.7515         7         7   5.0     1      2   \n",
       "45       33  ...    7000  0.7815        12         7   3.0     0      4   \n",
       "592      54  ...   23000  0.6915         7         3   3.0     0      0   \n",
       "582      51  ...   16240  0.7215         7         7  11.0     0     19   \n",
       "188      35  ...   18000  0.7215        12         7   9.5     0      7   \n",
       "694      44  ...   29800  0.5815         7         7   7.5     1     10   \n",
       "320      50  ...   32590  0.6215         7         7   7.5     1     14   \n",
       "615      46  ...   15150  0.7215         7         7   7.5     1     15   \n",
       "712      48  ...   28200  0.7215         7         7   3.0     0      3   \n",
       "39       30  ...   36550  0.5800        14        17   5.0     1     11   \n",
       "65       37  ...   19175  0.6915        12        12   7.5     0     12   \n",
       "726      57  ...   22200  0.6615         7         7  11.0     1      7   \n",
       "185      36  ...   40500  0.5815         7         7   3.0     0     12   \n",
       "415      47  ...   16370  0.7215        12        16  11.0     1      1   \n",
       "346      47  ...   20130  0.6615         0         0   7.5     1     24   \n",
       "29       47  ...   17730  0.7215        12        12   9.5     0      7   \n",
       "138      32  ...   21120  0.6915         7         7   9.0     1      3   \n",
       "78       31  ...   13755  0.7515        10        12   7.5     1      9   \n",
       "\n",
       "      nwifeinc      lwage  expersq  \n",
       "219  11.200010  -2.054164        1  \n",
       "634  12.367000          .        1  \n",
       "692  10.000000          .        4  \n",
       "45    5.000013   1.244788       16  \n",
       "592  23.000000          .        0  \n",
       "582  16.240000          .      361  \n",
       "188  17.100010   -.409172       49  \n",
       "694  29.800000          .      100  \n",
       "320  26.090080    1.27021      196  \n",
       "615  15.150000          .      225  \n",
       "712  28.200000          .        9  \n",
       "39   17.500440   2.683142      121  \n",
       "65   12.419970   1.279015      144  \n",
       "726  22.200000          .       49  \n",
       "185  33.969910   .9681619      144  \n",
       "415  16.119970  -1.543182        1  \n",
       "346  10.775040   1.683172      576  \n",
       "29   15.699980    1.76936       49  \n",
       "138  20.720000   1.203963        9  \n",
       "78   13.665000          0       81  \n",
       "\n",
       "[20 rows x 22 columns]"
      ]
     },
     "execution_count": 111,
     "metadata": {},
     "output_type": "execute_result"
    }
   ],
   "source": [
    "df_uncleaned.sample(20)"
   ]
  },
  {
   "cell_type": "code",
   "execution_count": 112,
   "metadata": {},
   "outputs": [
    {
     "name": "stdout",
     "output_type": "stream",
     "text": [
      "Number of rows before positive wage cleaning: 753\n",
      "Number of rows after keeping only positive wages: 428\n"
     ]
    }
   ],
   "source": [
    "print('Number of rows before positive wage cleaning:', df_uncleaned.shape[0])\n",
    "\n",
    "dec_cols = ['wage', 'huswage', 'lwage']\n",
    "for c in dec_cols:\n",
    "    df_uncleaned[c] = [0. if w=='.' else float(w) for w in df_uncleaned[c]]\n",
    "\n",
    "df = df_uncleaned[df_uncleaned.wage > 0.]\n",
    "print('Number of rows after keeping only positive wages:', df.shape[0])"
   ]
  },
  {
   "cell_type": "markdown",
   "metadata": {},
   "source": [
    "## Faire les statistiques descriptives du salaire, de l’age et de l’éducation  pour l’ensemble des femmes puis, pour les femmes dont le salaire du mari est supérieur au 65 ème percentile de l’échantillon, puis pour les femmes dont le salaire du mari est inférieur au 65 ème percentile de l’échantillon. Commenter"
   ]
  },
  {
   "cell_type": "code",
   "execution_count": 113,
   "metadata": {},
   "outputs": [
    {
     "data": {
      "text/html": [
       "<div>\n",
       "<style scoped>\n",
       "    .dataframe tbody tr th:only-of-type {\n",
       "        vertical-align: middle;\n",
       "    }\n",
       "\n",
       "    .dataframe tbody tr th {\n",
       "        vertical-align: top;\n",
       "    }\n",
       "\n",
       "    .dataframe thead th {\n",
       "        text-align: right;\n",
       "    }\n",
       "</style>\n",
       "<table border=\"1\" class=\"dataframe\">\n",
       "  <thead>\n",
       "    <tr style=\"text-align: right;\">\n",
       "      <th></th>\n",
       "      <th>wage</th>\n",
       "      <th>age</th>\n",
       "      <th>educ</th>\n",
       "    </tr>\n",
       "  </thead>\n",
       "  <tbody>\n",
       "    <tr>\n",
       "      <th>count</th>\n",
       "      <td>428.000000</td>\n",
       "      <td>428.000000</td>\n",
       "      <td>428.000000</td>\n",
       "    </tr>\n",
       "    <tr>\n",
       "      <th>mean</th>\n",
       "      <td>4.177682</td>\n",
       "      <td>41.971963</td>\n",
       "      <td>12.658879</td>\n",
       "    </tr>\n",
       "    <tr>\n",
       "      <th>std</th>\n",
       "      <td>3.310282</td>\n",
       "      <td>7.721084</td>\n",
       "      <td>2.285376</td>\n",
       "    </tr>\n",
       "    <tr>\n",
       "      <th>min</th>\n",
       "      <td>0.128200</td>\n",
       "      <td>30.000000</td>\n",
       "      <td>5.000000</td>\n",
       "    </tr>\n",
       "    <tr>\n",
       "      <th>25%</th>\n",
       "      <td>2.262600</td>\n",
       "      <td>35.000000</td>\n",
       "      <td>12.000000</td>\n",
       "    </tr>\n",
       "    <tr>\n",
       "      <th>50%</th>\n",
       "      <td>3.481900</td>\n",
       "      <td>42.000000</td>\n",
       "      <td>12.000000</td>\n",
       "    </tr>\n",
       "    <tr>\n",
       "      <th>75%</th>\n",
       "      <td>4.970750</td>\n",
       "      <td>47.250000</td>\n",
       "      <td>14.000000</td>\n",
       "    </tr>\n",
       "    <tr>\n",
       "      <th>max</th>\n",
       "      <td>25.000000</td>\n",
       "      <td>60.000000</td>\n",
       "      <td>17.000000</td>\n",
       "    </tr>\n",
       "  </tbody>\n",
       "</table>\n",
       "</div>"
      ],
      "text/plain": [
       "             wage         age        educ\n",
       "count  428.000000  428.000000  428.000000\n",
       "mean     4.177682   41.971963   12.658879\n",
       "std      3.310282    7.721084    2.285376\n",
       "min      0.128200   30.000000    5.000000\n",
       "25%      2.262600   35.000000   12.000000\n",
       "50%      3.481900   42.000000   12.000000\n",
       "75%      4.970750   47.250000   14.000000\n",
       "max     25.000000   60.000000   17.000000"
      ]
     },
     "execution_count": 113,
     "metadata": {},
     "output_type": "execute_result"
    }
   ],
   "source": [
    "df[['wage', 'age', 'educ']].describe()"
   ]
  },
  {
   "cell_type": "markdown",
   "metadata": {},
   "source": []
  },
  {
   "cell_type": "code",
   "execution_count": 114,
   "metadata": {},
   "outputs": [],
   "source": [
    "sixtyfifth_percentil_huswage = df.huswage.quantile(0.65)\n",
    "df_huswage_gt_65_percentil = df[df['huswage'] > sixtyfifth_percentil_huswage]\n",
    "df_huswage_lt_65_percentil = df[df['huswage'] <= sixtyfifth_percentil_huswage]"
   ]
  },
  {
   "cell_type": "code",
   "execution_count": 115,
   "metadata": {},
   "outputs": [
    {
     "data": {
      "text/html": [
       "<div>\n",
       "<style scoped>\n",
       "    .dataframe tbody tr th:only-of-type {\n",
       "        vertical-align: middle;\n",
       "    }\n",
       "\n",
       "    .dataframe tbody tr th {\n",
       "        vertical-align: top;\n",
       "    }\n",
       "\n",
       "    .dataframe thead th {\n",
       "        text-align: right;\n",
       "    }\n",
       "</style>\n",
       "<table border=\"1\" class=\"dataframe\">\n",
       "  <thead>\n",
       "    <tr style=\"text-align: right;\">\n",
       "      <th></th>\n",
       "      <th>wage</th>\n",
       "      <th>age</th>\n",
       "      <th>educ</th>\n",
       "    </tr>\n",
       "  </thead>\n",
       "  <tbody>\n",
       "    <tr>\n",
       "      <th>count</th>\n",
       "      <td>148.000000</td>\n",
       "      <td>148.00000</td>\n",
       "      <td>148.000000</td>\n",
       "    </tr>\n",
       "    <tr>\n",
       "      <th>mean</th>\n",
       "      <td>5.139315</td>\n",
       "      <td>42.52027</td>\n",
       "      <td>13.520270</td>\n",
       "    </tr>\n",
       "    <tr>\n",
       "      <th>std</th>\n",
       "      <td>4.351728</td>\n",
       "      <td>7.35168</td>\n",
       "      <td>2.345845</td>\n",
       "    </tr>\n",
       "    <tr>\n",
       "      <th>min</th>\n",
       "      <td>0.213700</td>\n",
       "      <td>30.00000</td>\n",
       "      <td>5.000000</td>\n",
       "    </tr>\n",
       "    <tr>\n",
       "      <th>25%</th>\n",
       "      <td>2.561925</td>\n",
       "      <td>36.00000</td>\n",
       "      <td>12.000000</td>\n",
       "    </tr>\n",
       "    <tr>\n",
       "      <th>50%</th>\n",
       "      <td>4.008050</td>\n",
       "      <td>43.00000</td>\n",
       "      <td>13.000000</td>\n",
       "    </tr>\n",
       "    <tr>\n",
       "      <th>75%</th>\n",
       "      <td>6.516300</td>\n",
       "      <td>48.00000</td>\n",
       "      <td>16.000000</td>\n",
       "    </tr>\n",
       "    <tr>\n",
       "      <th>max</th>\n",
       "      <td>25.000000</td>\n",
       "      <td>59.00000</td>\n",
       "      <td>17.000000</td>\n",
       "    </tr>\n",
       "  </tbody>\n",
       "</table>\n",
       "</div>"
      ],
      "text/plain": [
       "             wage        age        educ\n",
       "count  148.000000  148.00000  148.000000\n",
       "mean     5.139315   42.52027   13.520270\n",
       "std      4.351728    7.35168    2.345845\n",
       "min      0.213700   30.00000    5.000000\n",
       "25%      2.561925   36.00000   12.000000\n",
       "50%      4.008050   43.00000   13.000000\n",
       "75%      6.516300   48.00000   16.000000\n",
       "max     25.000000   59.00000   17.000000"
      ]
     },
     "execution_count": 115,
     "metadata": {},
     "output_type": "execute_result"
    }
   ],
   "source": [
    "df_huswage_gt_65_percentil[['wage', 'age', 'educ']].describe()"
   ]
  },
  {
   "cell_type": "markdown",
   "metadata": {},
   "source": []
  },
  {
   "cell_type": "code",
   "execution_count": 116,
   "metadata": {},
   "outputs": [
    {
     "data": {
      "text/html": [
       "<div>\n",
       "<style scoped>\n",
       "    .dataframe tbody tr th:only-of-type {\n",
       "        vertical-align: middle;\n",
       "    }\n",
       "\n",
       "    .dataframe tbody tr th {\n",
       "        vertical-align: top;\n",
       "    }\n",
       "\n",
       "    .dataframe thead th {\n",
       "        text-align: right;\n",
       "    }\n",
       "</style>\n",
       "<table border=\"1\" class=\"dataframe\">\n",
       "  <thead>\n",
       "    <tr style=\"text-align: right;\">\n",
       "      <th></th>\n",
       "      <th>wage</th>\n",
       "      <th>age</th>\n",
       "      <th>educ</th>\n",
       "    </tr>\n",
       "  </thead>\n",
       "  <tbody>\n",
       "    <tr>\n",
       "      <th>count</th>\n",
       "      <td>280.000000</td>\n",
       "      <td>280.000000</td>\n",
       "      <td>280.000000</td>\n",
       "    </tr>\n",
       "    <tr>\n",
       "      <th>mean</th>\n",
       "      <td>3.669390</td>\n",
       "      <td>41.682143</td>\n",
       "      <td>12.203571</td>\n",
       "    </tr>\n",
       "    <tr>\n",
       "      <th>std</th>\n",
       "      <td>2.458277</td>\n",
       "      <td>7.906875</td>\n",
       "      <td>2.119542</td>\n",
       "    </tr>\n",
       "    <tr>\n",
       "      <th>min</th>\n",
       "      <td>0.128200</td>\n",
       "      <td>30.000000</td>\n",
       "      <td>6.000000</td>\n",
       "    </tr>\n",
       "    <tr>\n",
       "      <th>25%</th>\n",
       "      <td>2.151600</td>\n",
       "      <td>35.000000</td>\n",
       "      <td>12.000000</td>\n",
       "    </tr>\n",
       "    <tr>\n",
       "      <th>50%</th>\n",
       "      <td>3.203550</td>\n",
       "      <td>41.000000</td>\n",
       "      <td>12.000000</td>\n",
       "    </tr>\n",
       "    <tr>\n",
       "      <th>75%</th>\n",
       "      <td>4.539500</td>\n",
       "      <td>47.000000</td>\n",
       "      <td>12.000000</td>\n",
       "    </tr>\n",
       "    <tr>\n",
       "      <th>max</th>\n",
       "      <td>22.500000</td>\n",
       "      <td>60.000000</td>\n",
       "      <td>17.000000</td>\n",
       "    </tr>\n",
       "  </tbody>\n",
       "</table>\n",
       "</div>"
      ],
      "text/plain": [
       "             wage         age        educ\n",
       "count  280.000000  280.000000  280.000000\n",
       "mean     3.669390   41.682143   12.203571\n",
       "std      2.458277    7.906875    2.119542\n",
       "min      0.128200   30.000000    6.000000\n",
       "25%      2.151600   35.000000   12.000000\n",
       "50%      3.203550   41.000000   12.000000\n",
       "75%      4.539500   47.000000   12.000000\n",
       "max     22.500000   60.000000   17.000000"
      ]
     },
     "execution_count": 116,
     "metadata": {},
     "output_type": "execute_result"
    }
   ],
   "source": [
    "df_huswage_lt_65_percentil[['wage', 'age', 'educ']].describe()"
   ]
  },
  {
   "cell_type": "code",
   "execution_count": 117,
   "metadata": {},
   "outputs": [
    {
     "data": {
      "image/png": "[encoded data removed]",
      "text/plain": [
       "<Figure size 1080x360 with 1 Axes>"
      ]
     },
     "metadata": {
      "needs_background": "light"
     },
     "output_type": "display_data"
    }
   ],
   "source": [
    "plt.figure(figsize=(15, 5))\n",
    "\n",
    "plt.hist(df['wage'], label='Toutes les femmes', alpha=0.3,  bins=50)\n",
    "plt.hist(df_huswage_lt_65_percentil['wage'], label='Salaire mari < 65e percentile', alpha=0.5, bins=25)\n",
    "plt.hist(df_huswage_gt_65_percentil['wage'], label='Salaire mari > 65e percentile', alpha=0.5,  bins=25)\n",
    "\n",
    "plt.legend()\n",
    "plt.title(\"Distribution des salaires en fonction du salaire du mari\")\n",
    "plt.show()"
   ]
  },
  {
   "cell_type": "markdown",
   "metadata": {},
   "source": [
    "blabla\n"
   ]
  },
  {
   "cell_type": "markdown",
   "metadata": {},
   "source": []
  },
  {
   "cell_type": "markdown",
   "metadata": {},
   "source": [
    "## Faire l'histogramme de la variable wage. Supprimer les observations qui sont à plus de 3 écart-types de la moyenne et refaire l’histogramme\n"
   ]
  },
  {
   "cell_type": "code",
   "execution_count": 118,
   "metadata": {},
   "outputs": [
    {
     "data": {
      "image/png": "[encoded data removed]",
      "text/plain": [
       "<Figure size 1080x360 with 1 Axes>"
      ]
     },
     "metadata": {
      "needs_background": "light"
     },
     "output_type": "display_data"
    }
   ],
   "source": [
    "plt.figure(figsize=(15,5))\n",
    "plt.title(\"Distribution des salaires des femmes\")\n",
    "plt.hist(df.wage, bins=25)\n",
    "plt.show()"
   ]
  },
  {
   "cell_type": "code",
   "execution_count": 119,
   "metadata": {},
   "outputs": [
    {
     "name": "stdout",
     "output_type": "stream",
     "text": [
      "Wages mean 4.177681542056075 and standard deviation 3.3064129736891417\n"
     ]
    }
   ],
   "source": [
    "std = np.std(df.wage)\n",
    "mean = np.mean(df.wage)\n",
    "print(\"Wages mean {} and standard deviation {}\".format(mean,std))\n",
    "df_unextreme = df[df['wage']>= -mean+3*std]\n",
    "df_unextreme = df[df['wage']< mean+3*std]"
   ]
  },
  {
   "cell_type": "code",
   "execution_count": 120,
   "metadata": {},
   "outputs": [
    {
     "data": {
      "image/png": "[encoded data removed]",
      "text/plain": [
       "<Figure size 1080x360 with 1 Axes>"
      ]
     },
     "metadata": {
      "needs_background": "light"
     },
     "output_type": "display_data"
    }
   ],
   "source": [
    "plt.figure(figsize=(15,5))\n",
    "plt.title(\"Wages histogram cleaned from extremes\")\n",
    "plt.hist(df_unextreme.wage, bins=25)\n",
    "plt.show()"
   ]
  },
  {
   "cell_type": "markdown",
   "metadata": {},
   "source": [
    "## Calculer les corrélations motheduc et fatheduc. Expliquer le problème de multi-collinéarité. Commenter."
   ]
  },
  {
   "cell_type": "code",
   "execution_count": 121,
   "metadata": {},
   "outputs": [
    {
     "name": "stdout",
     "output_type": "stream",
     "text": [
      "          motheduc  fatheduc\n",
      "motheduc  1.000000  0.554063\n",
      "fatheduc  0.554063  1.000000\n"
     ]
    }
   ],
   "source": [
    "corr_motheduc_fatheduc = df[['motheduc', 'fatheduc']].corr()\n",
    "print(corr_motheduc_fatheduc)\n"
   ]
  },
  {
   "cell_type": "markdown",
   "metadata": {},
   "source": [
    "Une corrélation de 0.55 n'est pas suffisante pour justifier la multicolinéarité entre ces variables. Le probleme de m,ulti-colinearite se pose lorsque deux variables explicatives sont correlees, il y a alors un risque de surponderation de l'information qu'elles portent si on les considere toutes les deux."
   ]
  },
  {
   "cell_type": "markdown",
   "metadata": {},
   "source": [
    "## Faites un graphique en nuage de point entre wage et educ. S'agit-il d'un effet \"toute chose étant égale par ailleurs ?\""
   ]
  },
  {
   "cell_type": "code",
   "execution_count": 122,
   "metadata": {
    "scrolled": true
   },
   "outputs": [
    {
     "data": {
      "image/png": "[encoded data removed]",
      "text/plain": [
       "<Figure size 1080x360 with 1 Axes>"
      ]
     },
     "metadata": {
      "needs_background": "light"
     },
     "output_type": "display_data"
    }
   ],
   "source": [
    "plt.figure(figsize=(15, 5))\n",
    "plt.title(\"Nuage de points entre le salaire et le nombre d'annees d'education\")\n",
    "plt.scatter(df_unextreme.educ, df_unextreme.wage)\n",
    "pass"
   ]
  },
  {
   "cell_type": "markdown",
   "metadata": {},
   "source": [
    "On observe une plus grande variance des salaires avec le nombre d'annees d'etudes grandissant et des salaires globalement plus hauts.\n",
    "Ce n'est pas un \"effet toutes choses egales par ailleurs\", en effet d'autres variables explicatives correlees au salaire ou l'education peuvent se retrouver dans cette correlation observees comme par exemple le niveau d'education des parents."
   ]
  },
  {
   "cell_type": "markdown",
   "metadata": {},
   "source": [
    "## Quelle est l'hypothèse fondamentale qui garantit des estimateurs non biaisés ? Expliquer le biais de variable omise"
   ]
  },
  {
   "cell_type": "markdown",
   "metadata": {
    "collapsed": true
   },
   "source": [
    "L'espérance des résidus doit être nulle pour garantir des estimateurs non biaisés.\n",
    "Lorsque de plus ces residus suivent une loi normale on obtient le BLUE (meillleur estimateur lineaire non biaise).\n",
    "\n",
    "On retrouve l'effets des variables omises par un modele dans les residus de celui-ci qui ne satisfont alors plus l'hypothese de normalite. // A REVOIR"
   ]
  },
  {
   "cell_type": "markdown",
   "metadata": {},
   "source": [
    "## Faire la régression du log de wage en utilisant une constante, city, educ, exper, nwifeinc, kidslt6, kidsge6. Commentez l'histogramme des résidus. "
   ]
  },
  {
   "cell_type": "code",
   "execution_count": 123,
   "metadata": {},
   "outputs": [
    {
     "name": "stderr",
     "output_type": "stream",
     "text": [
      "/home/cyounes/.local/lib/python3.7/site-packages/numpy/core/fromnumeric.py:2542: FutureWarning: Method .ptp is deprecated and will be removed in a future version. Use numpy.ptp instead.\n",
      "  return ptp(axis=axis, out=out, **kwargs)\n"
     ]
    }
   ],
   "source": [
    "X = df[['city', 'educ', 'exper', 'nwifeinc', 'kidslt6', 'kidsge6']]\n",
    "X = sm.add_constant(X)\n",
    "y = df['lwage']\n",
    "model = sm.OLS(y, X, hasconst=True)\n",
    "results = model.fit()\n",
    "residuals = results.resid"
   ]
  },
  {
   "cell_type": "code",
   "execution_count": 124,
   "metadata": {},
   "outputs": [],
   "source": [
    "#Loi normal de moyen et variance celles des residus\n",
    "#gauss_residuals = stats.norm.rvs(np.mean(residuals), np.std(residuals), size=1500)"
   ]
  },
  {
   "cell_type": "code",
   "execution_count": 125,
   "metadata": {
    "scrolled": true
   },
   "outputs": [
    {
     "data": {
      "image/png": "[encoded data removed]",
      "text/plain": [
       "<Figure size 1080x360 with 1 Axes>"
      ]
     },
     "metadata": {
      "needs_background": "light"
     },
     "output_type": "display_data"
    }
   ],
   "source": [
    "plt.figure(figsize=(15, 5))\n",
    "plt.title(\"Histogramme des résidus (lwage)\", fontsize=15)\n",
    "sns.distplot(residuals, bins=25, label='Residuals histogram', hist_kws=dict(alpha=0.25))\n",
    "#sns.distplot(gauss_residuals, bins=25, label='Loi Normale - moyenne, variance des residus', hist_kws=dict(alpha=0.25))\n",
    "plt.legend()\n",
    "plt.show()"
   ]
  },
  {
   "cell_type": "markdown",
   "metadata": {},
   "source": [
    "On observe des residus centres en 0, proches d'une loi normale avec des queues de distribution moins epaisses comme en temoigne le coefficient d'applatissement (Kurtosis) de 6.7 contre 3 pour une loi normale. "
   ]
  },
  {
   "cell_type": "code",
   "execution_count": 126,
   "metadata": {
    "scrolled": true
   },
   "outputs": [
    {
     "name": "stdout",
     "output_type": "stream",
     "text": [
      "                            OLS Regression Results                            \n",
      "==============================================================================\n",
      "Dep. Variable:                  lwage   R-squared:                       0.156\n",
      "Model:                            OLS   Adj. R-squared:                  0.144\n",
      "Method:                 Least Squares   F-statistic:                     12.92\n",
      "Date:                Sat, 04 Apr 2020   Prob (F-statistic):           2.00e-13\n",
      "Time:                        22:40:17   Log-Likelihood:                -431.92\n",
      "No. Observations:                 428   AIC:                             877.8\n",
      "Df Residuals:                     421   BIC:                             906.3\n",
      "Df Model:                           6                                         \n",
      "Covariance Type:            nonrobust                                         \n",
      "==============================================================================\n",
      "                 coef    std err          t      P>|t|      [0.025      0.975]\n",
      "------------------------------------------------------------------------------\n",
      "const         -0.3990      0.207     -1.927      0.055      -0.806       0.008\n",
      "city           0.0353      0.070      0.503      0.616      -0.103       0.173\n",
      "educ           0.1022      0.015      6.771      0.000       0.073       0.132\n",
      "exper          0.0155      0.004      3.452      0.001       0.007       0.024\n",
      "nwifeinc       0.0049      0.003      1.466      0.143      -0.002       0.011\n",
      "kidslt6       -0.0453      0.085     -0.531      0.596      -0.213       0.122\n",
      "kidsge6       -0.0117      0.027     -0.434      0.664      -0.065       0.041\n",
      "==============================================================================\n",
      "Omnibus:                       79.542   Durbin-Watson:                   1.979\n",
      "Prob(Omnibus):                  0.000   Jarque-Bera (JB):              287.193\n",
      "Skew:                          -0.795   Prob(JB):                     4.33e-63\n",
      "Kurtosis:                       6.685   Cond. No.                         178.\n",
      "==============================================================================\n",
      "\n",
      "Warnings:\n",
      "[1] Standard Errors assume that the covariance matrix of the errors is correctly specified.\n"
     ]
    }
   ],
   "source": [
    "print(results.summary())"
   ]
  },
  {
   "cell_type": "markdown",
   "metadata": {},
   "source": [
    "En prenant un seuil de significativite a 5%, on ne retient que city et educ en variable significatives. A 6%, on retiendra aussi la constante."
   ]
  },
  {
   "cell_type": "markdown",
   "metadata": {},
   "source": [
    "## Tester l'hypothèse de non significativité de nwifeinc avec un seuil de significativité de 1%, 5% et 10% (test alternatif des deux côtés). Commentez les p-values. "
   ]
  },
  {
   "cell_type": "markdown",
   "metadata": {},
   "source": [
    "Hypothèse $H_{0} : \\beta_{nwifeinc} = 0$\n",
    "\n",
    "On a également besoin de la fonction t.ppf(q,df) qui retourne le percentile d’ordre\n",
    "q avec un degré de liberté df. Les p-valeurs sont données par la fonction t.sf(x,df)\n",
    "qui calcule l’aire à droite de x sous la distribution de la loi de student avec df degrés\n",
    "de libertés."
   ]
  },
  {
   "cell_type": "code",
   "execution_count": 131,
   "metadata": {},
   "outputs": [
    {
     "name": "stdout",
     "output_type": "stream",
     "text": [
      "t_nwifeinc: 1.465951485033066\n",
      "Seuil: 1%\n",
      "t_stat: 5.175115146108672\n",
      "p_value de t_nwifeinc :  0.1434079820251386\n",
      "0.14 > 0.01: On ne rejette pas l'hypothèse de non-significativité \n",
      "\n",
      "Seuil: 5%\n",
      "t_stat: 3.931229584016173\n",
      "p_value de t_nwifeinc :  0.1434079820251386\n",
      "0.14 > 0.05: On ne rejette pas l'hypothèse de non-significativité \n",
      "\n",
      "Seuil: 10%\n",
      "t_stat: 3.296962114251055\n",
      "p_value de t_nwifeinc :  0.1434079820251386\n",
      "0.14 > 0.10: On ne rejette pas l'hypothèse de non-significativité \n",
      "\n",
      "Seuil: 20%\n",
      "t_stat: 2.56713136035839\n",
      "p_value de t_nwifeinc :  0.1434079820251386\n",
      "0.14 < 0.20: On rejette l'hypothèse de non-significativité \n",
      "\n"
     ]
    }
   ],
   "source": [
    "n, k = X.shape\n",
    "t_nwifeinc = results.tvalues[\"nwifeinc\"] #1.4659\n",
    "print('t_nwifeinc: {}'.format(t_nwifeinc))\n",
    "\n",
    "for threshold in [1, 5, 10, 20]:\n",
    "    t_stat_alpha = 2 * stats.t.isf(threshold/200, n-k)\n",
    "    print('Seuil: {}%'.format(threshold))\n",
    "    print('t_stat: {}'.format(t_stat_alpha))\n",
    "    p_val = 2 * (1- stats.t.cdf(t_nwifeinc,n-k))\n",
    "    print('p_value de t_nwifeinc : ', p_val)\n",
    "    if (p_val < threshold/100):\n",
    "        print('{:.2f} < {:.2f}: On rejette l\\'hypothèse de non-significativité'\n",
    "              .format(p_val, threshold/100), '\\n')\n",
    "    else:\n",
    "        print('{:.2f} > {:.2f}: On ne rejette pas l\\'hypothèse de non-significativité'\n",
    "              .format(p_val, threshold/100), '\\n')\n",
    "      "
   ]
  },
  {
   "cell_type": "markdown",
   "metadata": {},
   "source": [
    "## Tester l’hypothèse que le coefficient associé à nwifeinc est égal à 0.01 avec un seuil de significativité de 5% (test à alternatif des deux côtés)"
   ]
  },
  {
   "cell_type": "markdown",
   "metadata": {},
   "source": [
    "Cette fois ci on teste \n",
    "Hypothèse $H_{0} : \\beta_{nwifeinc} = 0.01$"
   ]
  },
  {
   "cell_type": "code",
   "execution_count": 141,
   "metadata": {},
   "outputs": [
    {
     "name": "stdout",
     "output_type": "stream",
     "text": [
      "1.8748058140830053\n",
      "seuil: 5%\n",
      "\t1.47 > 3.93: on ne rejette pas l'hypothèse\n"
     ]
    }
   ],
   "source": [
    "beta_nwifeinc = results.params['nwifeinc']\n",
    "cov_nwifeinc = results.cov_params().loc[\"nwifeinc\", \"nwifeinc\"]\n",
    "t_nwifeinc2 = (beta_nwifeinc - 0.01) / (np.sqrt(cov_nwifeinc))\n",
    "\n",
    "threshold = 5  # seuil de significativité de 5%\n",
    "t_stat = 2 * stats.t.isf(threshold/200, n-k)\n",
    "p_val2 = 2 * (1- stats.t.cdf(t_nwifeinc2,n-k))\n",
    "print(p_val2)\n",
    "print('seuil: {}%'.format(threshold))\n",
    "if (t_nwifeinc > t_stat):\n",
    "    print('\\t{:.2f} > {:.2f}: on rejette l\\'hypothèse'\n",
    "          .format(t_nwifeinc, t_stat))\n",
    "else:\n",
    "    print('\\t{:.2f} > {:.2f}: on ne rejette pas l\\'hypothèse'\n",
    "          .format(t_nwifeinc, t_stat))"
   ]
  },
  {
   "cell_type": "code",
   "execution_count": 140,
   "metadata": {},
   "outputs": [
    {
     "data": {
      "text/plain": [
       "'<F test: F=array([[2.36049111]]), p=0.12519418591701537, df_denom=421, df_num=1>'"
      ]
     },
     "execution_count": 140,
     "metadata": {},
     "output_type": "execute_result"
    }
   ],
   "source": [
    "from statsmodels.formula.api import ols\n",
    "\n",
    "cols = ['city', 'educ', 'exper', 'nwifeinc', 'kidslt6', 'kidsge6']\n",
    "formula = 'lwage ~ ' + ' + '.join(cols)\n",
    "cols.append('lwage')\n",
    "data = df[cols].assign(const=1)\n",
    "\n",
    "cols.append('const')\n",
    "results = ols(formula, data).fit()\n",
    "\n",
    "hypotheses = '(nwifeinc = 0.01)'\n",
    "f_test = results.f_test(hypotheses)\n",
    "f_test.summary()"
   ]
  },
  {
   "cell_type": "markdown",
   "metadata": {},
   "source": [
    "## Tester l’hypothèse jointe que le coefficient de nwifeinc est égal à 0.01 et que celui de city est égal à 0.05."
   ]
  },
  {
   "cell_type": "markdown",
   "metadata": {},
   "source": [
    "Test d'hypotheses jointes, nous allons utiliser la statistique de Fisher obtenue a partir de la somme des carres des residus des modeles contraints et non contraints.\n",
    "\n",
    "Formules: ....."
   ]
  },
  {
   "cell_type": "code",
   "execution_count": 135,
   "metadata": {},
   "outputs": [
    {
     "name": "stdout",
     "output_type": "stream",
     "text": [
      "Pour le modele non contraint, la somme des carres des residus vaut: 188.58998019263942, et le modele a: 421 degres de liberte\n"
     ]
    }
   ],
   "source": [
    "# Modele non contraint\n",
    "SSR_nc = np.sum(results.resid**2)\n",
    "ddl_nc = df.shape[0] - X.shape[1] #-1\n",
    "print(\"Pour le modele non contraint, la somme des carres des residus vaut: {}, et le modele a: {} degres de liberte\".format(SSR_nc, ddl_nc))"
   ]
  },
  {
   "cell_type": "code",
   "execution_count": 136,
   "metadata": {},
   "outputs": [
    {
     "name": "stdout",
     "output_type": "stream",
     "text": [
      "Pour le modele contraint, la somme des carres des residus vaut: 189.78788085217224, et le modele a: 423 degres de liberte\n"
     ]
    },
    {
     "name": "stderr",
     "output_type": "stream",
     "text": [
      "/home/cyounes/.local/lib/python3.7/site-packages/numpy/core/fromnumeric.py:2542: FutureWarning: Method .ptp is deprecated and will be removed in a future version. Use numpy.ptp instead.\n",
      "  return ptp(axis=axis, out=out, **kwargs)\n"
     ]
    }
   ],
   "source": [
    "# Modele contraint (beta_nwifeinc = 0.01 et beta_city = 0.05)\n",
    "y_c = df['lwage'] - 0.01 * df['nwifeinc'] - 0.05 * df['city']\n",
    "\n",
    "X_c = df[['educ', 'exper', 'kidslt6', 'kidsge6']]\n",
    "X_c = sm.add_constant(X_c)\n",
    "model_contraint = sm.OLS(y_c, X_c, hasconst=True)\n",
    "results_contraint = model_contraint.fit()\n",
    "residuals_contraint = results_contraint.resid\n",
    "\n",
    "SSR_c = np.sum(residuals_contraint**2)\n",
    "ddl_c = df.shape[0] - X_c.shape[1] #- 1\n",
    "print(\"Pour le modele contraint, la somme des carres des residus vaut: {}, et le modele a: {} degres de liberte\".format(SSR_c, ddl_c))"
   ]
  },
  {
   "cell_type": "code",
   "execution_count": 137,
   "metadata": {},
   "outputs": [
    {
     "name": "stdout",
     "output_type": "stream",
     "text": [
      "1.337070445492842 0.2637267136252839\n"
     ]
    }
   ],
   "source": [
    "# Statistique de Fisher\n",
    "F = ((SSR_c - SSR_nc)/ (ddl_c - ddl_nc)) / (SSR_nc / ddl_nc)\n",
    "p_val = 1- stats.f.cdf(F, ddl_c - ddl_nc, ddl_nc)\n",
    "print(F, p_val)"
   ]
  },
  {
   "cell_type": "code",
   "execution_count": 138,
   "metadata": {},
   "outputs": [
    {
     "data": {
      "text/plain": [
       "'<F test: F=array([[1.33707045]]), p=0.2637267136252716, df_denom=421, df_num=2>'"
      ]
     },
     "execution_count": 138,
     "metadata": {},
     "output_type": "execute_result"
    }
   ],
   "source": [
    "# Methode alternative  \n",
    "from statsmodels.formula.api import ols\n",
    "\n",
    "cols = ['city', 'educ', 'exper', 'nwifeinc', 'kidslt6', 'kidsge6']\n",
    "formula = 'lwage ~ ' + ' + '.join(cols)\n",
    "cols.append('lwage')\n",
    "data = df[cols].assign(const=1)\n",
    "\n",
    "cols.append('const')\n",
    "results = ols(formula, data).fit()\n",
    "\n",
    "hypotheses = '(nwifeinc = 0.01), (city = 0.05)'\n",
    "f_test = results.f_test(hypotheses)\n",
    "f_test.summary()"
   ]
  },
  {
   "cell_type": "markdown",
   "metadata": {},
   "source": [
    "On ne rejette pas l'hypothese jointe donnee, la p valeure etant superieur a 5%."
   ]
  },
  {
   "cell_type": "markdown",
   "metadata": {},
   "source": [
    "## Tester l’hypothèse joint que $H_{0} : \\beta_{nwifeinc} +\\beta_{city} = 0.1  , \\beta_{educ} +\\beta_{exper} =0.1 $"
   ]
  },
  {
   "cell_type": "code",
   "execution_count": 13,
   "metadata": {},
   "outputs": [
    {
     "ename": "NameError",
     "evalue": "name 'ols' is not defined",
     "output_type": "error",
     "traceback": [
      "\u001b[0;31m---------------------------------------------------------------------------\u001b[0m",
      "\u001b[0;31mNameError\u001b[0m                                 Traceback (most recent call last)",
      "\u001b[0;32m<ipython-input-13-8d1b82521b32>\u001b[0m in \u001b[0;36m<module>\u001b[0;34m\u001b[0m\n\u001b[1;32m      1\u001b[0m \u001b[0mformula\u001b[0m \u001b[0;34m=\u001b[0m \u001b[0;34m'lwage ~ city + educ + exper + nwifeinc + kidslt6 + kidsge6 + const'\u001b[0m\u001b[0;34m\u001b[0m\u001b[0;34m\u001b[0m\u001b[0m\n\u001b[0;32m----> 2\u001b[0;31m \u001b[0mresults_11\u001b[0m \u001b[0;34m=\u001b[0m \u001b[0mols\u001b[0m\u001b[0;34m(\u001b[0m\u001b[0mformula\u001b[0m\u001b[0;34m,\u001b[0m \u001b[0mdata\u001b[0m\u001b[0;34m)\u001b[0m\u001b[0;34m.\u001b[0m\u001b[0mfit\u001b[0m\u001b[0;34m(\u001b[0m\u001b[0;34m)\u001b[0m\u001b[0;34m\u001b[0m\u001b[0;34m\u001b[0m\u001b[0m\n\u001b[0m\u001b[1;32m      3\u001b[0m \u001b[0;34m\u001b[0m\u001b[0m\n\u001b[1;32m      4\u001b[0m \u001b[0mhypotheses_11\u001b[0m \u001b[0;34m=\u001b[0m \u001b[0;34m'(nwifeinc + city=0.1), (educ + exper=0.1)'\u001b[0m\u001b[0;34m\u001b[0m\u001b[0;34m\u001b[0m\u001b[0m\n\u001b[1;32m      5\u001b[0m \u001b[0mf_test_11\u001b[0m \u001b[0;34m=\u001b[0m \u001b[0mresults_11\u001b[0m\u001b[0;34m.\u001b[0m\u001b[0mf_test\u001b[0m\u001b[0;34m(\u001b[0m\u001b[0mhypotheses_11\u001b[0m\u001b[0;34m)\u001b[0m\u001b[0;34m\u001b[0m\u001b[0;34m\u001b[0m\u001b[0m\n",
      "\u001b[0;31mNameError\u001b[0m: name 'ols' is not defined"
     ]
    }
   ],
   "source": [
    "formula = 'lwage ~ city + educ + exper + nwifeinc + kidslt6 + kidsge6 + const'\n",
    "results_11 = ols(formula, data).fit()\n",
    "\n",
    "hypotheses_11 = '(nwifeinc + city=0.1), (educ + exper=0.1)'\n",
    "f_test_11 = results_11.f_test(hypotheses_11)\n",
    "f_test_11.summary()"
   ]
  },
  {
   "cell_type": "markdown",
   "metadata": {},
   "source": [
    "La p value est superieure a 5% (39.8%), on ne rejette pas le test d'hypothese jointe donne."
   ]
  },
  {
   "cell_type": "markdown",
   "metadata": {},
   "source": [
    "## Faites une représentation graphique de la manière dont le salaire augmente avec l’éducation et l’expérience professionnelle. Commentez"
   ]
  },
  {
   "cell_type": "code",
   "execution_count": null,
   "metadata": {},
   "outputs": [],
   "source": []
  },
  {
   "cell_type": "code",
   "execution_count": null,
   "metadata": {},
   "outputs": [],
   "source": []
  },
  {
   "cell_type": "markdown",
   "metadata": {},
   "source": [
    "## Tester l’égalité des coefficients associés aux variables kidsgt6 et kidslt6. Interprétez."
   ]
  },
  {
   "cell_type": "code",
   "execution_count": 14,
   "metadata": {},
   "outputs": [
    {
     "ename": "NameError",
     "evalue": "name 'ols' is not defined",
     "output_type": "error",
     "traceback": [
      "\u001b[0;31m---------------------------------------------------------------------------\u001b[0m",
      "\u001b[0;31mNameError\u001b[0m                                 Traceback (most recent call last)",
      "\u001b[0;32m<ipython-input-14-1a679c268d1d>\u001b[0m in \u001b[0;36m<module>\u001b[0;34m\u001b[0m\n\u001b[1;32m      2\u001b[0m \u001b[0;31m# X = sm.add_constant(X)\u001b[0m\u001b[0;34m\u001b[0m\u001b[0;34m\u001b[0m\u001b[0;34m\u001b[0m\u001b[0m\n\u001b[1;32m      3\u001b[0m \u001b[0mformula\u001b[0m \u001b[0;34m=\u001b[0m \u001b[0;34m'lwage ~ city + educ + exper + nwifeinc + kidslt6 + kidsge6 + const'\u001b[0m\u001b[0;34m\u001b[0m\u001b[0;34m\u001b[0m\u001b[0m\n\u001b[0;32m----> 4\u001b[0;31m \u001b[0mresults\u001b[0m \u001b[0;34m=\u001b[0m \u001b[0mols\u001b[0m\u001b[0;34m(\u001b[0m\u001b[0mformula\u001b[0m\u001b[0;34m,\u001b[0m \u001b[0mdata\u001b[0m\u001b[0;34m)\u001b[0m\u001b[0;34m.\u001b[0m\u001b[0mfit\u001b[0m\u001b[0;34m(\u001b[0m\u001b[0;34m)\u001b[0m\u001b[0;34m\u001b[0m\u001b[0;34m\u001b[0m\u001b[0m\n\u001b[0m\u001b[1;32m      5\u001b[0m \u001b[0;34m\u001b[0m\u001b[0m\n\u001b[1;32m      6\u001b[0m \u001b[0mhypotheses\u001b[0m \u001b[0;34m=\u001b[0m \u001b[0;34m'(kidsge6 = kidslt6)'\u001b[0m\u001b[0;34m\u001b[0m\u001b[0;34m\u001b[0m\u001b[0m\n",
      "\u001b[0;31mNameError\u001b[0m: name 'ols' is not defined"
     ]
    }
   ],
   "source": [
    "# X = df[['city', 'educ', 'exper', 'nwifeinc', 'kidslt6', 'kidsge6']]\n",
    "# X = sm.add_constant(X)\n",
    "formula = 'lwage ~ city + educ + exper + nwifeinc + kidslt6 + kidsge6 + const'\n",
    "results = ols(formula, data).fit()\n",
    "\n",
    "hypotheses = '(kidsge6 = kidslt6)'\n",
    "f_test = results.f_test(hypotheses)\n",
    "f_test.summary()\n"
   ]
  },
  {
   "cell_type": "markdown",
   "metadata": {},
   "source": [
    "La p value est de 0.71, bien superieur a 5%, on ne rejette donc pas l'hypothese d'egalite de ces deux coefficients."
   ]
  },
  {
   "cell_type": "markdown",
   "metadata": {},
   "source": [
    "## Faire le test d'hétéroscédasticité de forme linéaire en donnant la p-valeur. Déterminer la ou les sources d’hétéroscédasticité et corriger avec les méthodes vues en cours. Comparer les écarts-types des coefficients estimés avec ceux obtenus à la question 7. Commenter."
   ]
  },
  {
   "cell_type": "code",
   "execution_count": 15,
   "metadata": {},
   "outputs": [
    {
     "ename": "NameError",
     "evalue": "name 'results' is not defined",
     "output_type": "error",
     "traceback": [
      "\u001b[0;31m---------------------------------------------------------------------------\u001b[0m",
      "\u001b[0;31mNameError\u001b[0m                                 Traceback (most recent call last)",
      "\u001b[0;32m<ipython-input-15-3a9dbcdc661f>\u001b[0m in \u001b[0;36m<module>\u001b[0;34m\u001b[0m\n\u001b[0;32m----> 1\u001b[0;31m \u001b[0mresidus_squared\u001b[0m \u001b[0;34m=\u001b[0m \u001b[0mresults\u001b[0m\u001b[0;34m.\u001b[0m\u001b[0mresid\u001b[0m\u001b[0;34m**\u001b[0m\u001b[0;36m2\u001b[0m\u001b[0;34m\u001b[0m\u001b[0;34m\u001b[0m\u001b[0m\n\u001b[0m\u001b[1;32m      2\u001b[0m \u001b[0;34m\u001b[0m\u001b[0m\n\u001b[1;32m      3\u001b[0m \u001b[0mmodel\u001b[0m \u001b[0;34m=\u001b[0m \u001b[0msm\u001b[0m\u001b[0;34m.\u001b[0m\u001b[0mOLS\u001b[0m\u001b[0;34m(\u001b[0m\u001b[0mresidus_squared\u001b[0m\u001b[0;34m,\u001b[0m \u001b[0mX\u001b[0m\u001b[0;34m,\u001b[0m \u001b[0mhasconst\u001b[0m\u001b[0;34m=\u001b[0m\u001b[0;32mTrue\u001b[0m\u001b[0;34m)\u001b[0m\u001b[0;34m\u001b[0m\u001b[0;34m\u001b[0m\u001b[0m\n\u001b[1;32m      4\u001b[0m \u001b[0mresults\u001b[0m \u001b[0;34m=\u001b[0m \u001b[0mmodel\u001b[0m\u001b[0;34m.\u001b[0m\u001b[0mfit\u001b[0m\u001b[0;34m(\u001b[0m\u001b[0;34m)\u001b[0m\u001b[0;34m\u001b[0m\u001b[0;34m\u001b[0m\u001b[0m\n\u001b[1;32m      5\u001b[0m \u001b[0mprint\u001b[0m\u001b[0;34m(\u001b[0m\u001b[0mresults\u001b[0m\u001b[0;34m.\u001b[0m\u001b[0msummary\u001b[0m\u001b[0;34m(\u001b[0m\u001b[0;34m)\u001b[0m\u001b[0;34m)\u001b[0m\u001b[0;34m\u001b[0m\u001b[0;34m\u001b[0m\u001b[0m\n",
      "\u001b[0;31mNameError\u001b[0m: name 'results' is not defined"
     ]
    }
   ],
   "source": [
    "residus_squared = results.resid**2\n",
    "\n",
    "model = sm.OLS(residus_squared, X, hasconst=True)\n",
    "results = model.fit() \n",
    "print(results.summary()) "
   ]
  },
  {
   "cell_type": "markdown",
   "metadata": {},
   "source": [
    "Le test de Fisher vaut 0.34 avec une p-valeur de 0.915. Ainsi il est très peux probable que les varibles explicatives soit homoscédastique. On rejette l'hypothèse d'homoscédasticité."
   ]
  },
  {
   "cell_type": "code",
   "execution_count": 16,
   "metadata": {},
   "outputs": [
    {
     "ename": "SyntaxError",
     "evalue": "invalid syntax (<ipython-input-16-5196d81a3601>, line 1)",
     "output_type": "error",
     "traceback": [
      "\u001b[0;36m  File \u001b[0;32m\"<ipython-input-16-5196d81a3601>\"\u001b[0;36m, line \u001b[0;32m1\u001b[0m\n\u001b[0;31m    Source(s) d'heteroscedasticite? Corrigez les.\u001b[0m\n\u001b[0m              ^\u001b[0m\n\u001b[0;31mSyntaxError\u001b[0m\u001b[0;31m:\u001b[0m invalid syntax\n"
     ]
    }
   ],
   "source": [
    "Source(s) d'heteroscedasticite? Corrigez les."
   ]
  },
  {
   "cell_type": "code",
   "execution_count": null,
   "metadata": {},
   "outputs": [],
   "source": []
  },
  {
   "cell_type": "code",
   "execution_count": null,
   "metadata": {},
   "outputs": [],
   "source": []
  },
  {
   "cell_type": "markdown",
   "metadata": {},
   "source": [
    "## Tester le changement de structure de la question 8 entre les femmes qui ont plus de 43 ans et les autres : test sur l'ensemble des coefficients. Donnez les p-valeurs"
   ]
  },
  {
   "cell_type": "code",
   "execution_count": null,
   "metadata": {},
   "outputs": [],
   "source": []
  },
  {
   "cell_type": "code",
   "execution_count": null,
   "metadata": {},
   "outputs": [],
   "source": []
  },
  {
   "cell_type": "markdown",
   "metadata": {},
   "source": [
    "## Ajouter au modèle de la question 7 la variable huseduc. Faire ensuite la même régression en décomposant la variable huseduc en 4 variables binaires construites selon votre choix. Faire le test de non significativité de l’ensemble des variables binaires. Donnez les p-valeurs et commentez."
   ]
  },
  {
   "cell_type": "code",
   "execution_count": null,
   "metadata": {},
   "outputs": [],
   "source": []
  },
  {
   "cell_type": "code",
   "execution_count": null,
   "metadata": {},
   "outputs": [],
   "source": []
  },
  {
   "cell_type": "code",
   "execution_count": null,
   "metadata": {},
   "outputs": [],
   "source": []
  },
  {
   "cell_type": "markdown",
   "metadata": {},
   "source": [
    "# Partie 2: Séries temporelles"
   ]
  },
  {
   "cell_type": "markdown",
   "metadata": {},
   "source": [
    "## Importer les données du fichier quarterly.xls (corriger le problème éventuel d’observations manquantes)"
   ]
  },
  {
   "cell_type": "code",
   "execution_count": 45,
   "metadata": {},
   "outputs": [
    {
     "data": {
      "text/html": [
       "<div>\n",
       "<style scoped>\n",
       "    .dataframe tbody tr th:only-of-type {\n",
       "        vertical-align: middle;\n",
       "    }\n",
       "\n",
       "    .dataframe tbody tr th {\n",
       "        vertical-align: top;\n",
       "    }\n",
       "\n",
       "    .dataframe thead th {\n",
       "        text-align: right;\n",
       "    }\n",
       "</style>\n",
       "<table border=\"1\" class=\"dataframe\">\n",
       "  <thead>\n",
       "    <tr style=\"text-align: right;\">\n",
       "      <th></th>\n",
       "      <th>DATE</th>\n",
       "      <th>FFR</th>\n",
       "      <th>Tbill</th>\n",
       "      <th>Tb1yr</th>\n",
       "      <th>r5</th>\n",
       "      <th>r10</th>\n",
       "      <th>PPINSA</th>\n",
       "      <th>Finished</th>\n",
       "      <th>CPI</th>\n",
       "      <th>CPICORE</th>\n",
       "      <th>M1NSA</th>\n",
       "      <th>M2SA</th>\n",
       "      <th>M2NSA</th>\n",
       "      <th>Unemp</th>\n",
       "      <th>IndProd</th>\n",
       "      <th>RGDP</th>\n",
       "      <th>Potent</th>\n",
       "      <th>Deflator</th>\n",
       "      <th>Curr</th>\n",
       "    </tr>\n",
       "  </thead>\n",
       "  <tbody>\n",
       "    <tr>\n",
       "      <th>210</th>\n",
       "      <td>2012-07-01</td>\n",
       "      <td>0.14</td>\n",
       "      <td>0.10</td>\n",
       "      <td>0.18</td>\n",
       "      <td>0.67</td>\n",
       "      <td>1.64</td>\n",
       "      <td>202.40</td>\n",
       "      <td>195.20</td>\n",
       "      <td>230.03</td>\n",
       "      <td>113.91</td>\n",
       "      <td>2326.47</td>\n",
       "      <td>30251.4</td>\n",
       "      <td>10029.87</td>\n",
       "      <td>8.03</td>\n",
       "      <td>97.39</td>\n",
       "      <td>13652.5</td>\n",
       "      <td>14441.9</td>\n",
       "      <td>115.810</td>\n",
       "      <td>1119.187</td>\n",
       "    </tr>\n",
       "    <tr>\n",
       "      <th>93</th>\n",
       "      <td>1983-04-01</td>\n",
       "      <td>8.80</td>\n",
       "      <td>8.40</td>\n",
       "      <td>9.18</td>\n",
       "      <td>10.23</td>\n",
       "      <td>10.54</td>\n",
       "      <td>100.73</td>\n",
       "      <td>101.37</td>\n",
       "      <td>99.13</td>\n",
       "      <td>54.82</td>\n",
       "      <td>498.67</td>\n",
       "      <td>6127.6</td>\n",
       "      <td>2039.83</td>\n",
       "      <td>10.13</td>\n",
       "      <td>48.75</td>\n",
       "      <td>6072.4</td>\n",
       "      <td>6472.6</td>\n",
       "      <td>57.345</td>\n",
       "      <td>158.741</td>\n",
       "    </tr>\n",
       "    <tr>\n",
       "      <th>85</th>\n",
       "      <td>1981-04-01</td>\n",
       "      <td>17.78</td>\n",
       "      <td>14.91</td>\n",
       "      <td>15.13</td>\n",
       "      <td>14.19</td>\n",
       "      <td>13.75</td>\n",
       "      <td>98.27</td>\n",
       "      <td>96.07</td>\n",
       "      <td>89.77</td>\n",
       "      <td>48.90</td>\n",
       "      <td>424.10</td>\n",
       "      <td>4993.7</td>\n",
       "      <td>1662.33</td>\n",
       "      <td>7.40</td>\n",
       "      <td>51.02</td>\n",
       "      <td>5952.7</td>\n",
       "      <td>6115.2</td>\n",
       "      <td>51.813</td>\n",
       "      <td>136.167</td>\n",
       "    </tr>\n",
       "    <tr>\n",
       "      <th>152</th>\n",
       "      <td>1998-01-01</td>\n",
       "      <td>5.52</td>\n",
       "      <td>5.05</td>\n",
       "      <td>5.31</td>\n",
       "      <td>5.51</td>\n",
       "      <td>5.59</td>\n",
       "      <td>125.03</td>\n",
       "      <td>130.60</td>\n",
       "      <td>162.00</td>\n",
       "      <td>87.79</td>\n",
       "      <td>1074.10</td>\n",
       "      <td>12218.8</td>\n",
       "      <td>4077.27</td>\n",
       "      <td>4.63</td>\n",
       "      <td>84.03</td>\n",
       "      <td>10094.8</td>\n",
       "      <td>10037.5</td>\n",
       "      <td>85.198</td>\n",
       "      <td>473.216</td>\n",
       "    </tr>\n",
       "    <tr>\n",
       "      <th>174</th>\n",
       "      <td>2003-07-01</td>\n",
       "      <td>1.02</td>\n",
       "      <td>0.93</td>\n",
       "      <td>1.22</td>\n",
       "      <td>3.14</td>\n",
       "      <td>4.23</td>\n",
       "      <td>138.07</td>\n",
       "      <td>143.50</td>\n",
       "      <td>184.43</td>\n",
       "      <td>96.02</td>\n",
       "      <td>1288.47</td>\n",
       "      <td>18114.9</td>\n",
       "      <td>6029.50</td>\n",
       "      <td>6.13</td>\n",
       "      <td>90.23</td>\n",
       "      <td>11930.7</td>\n",
       "      <td>12042.9</td>\n",
       "      <td>94.337</td>\n",
       "      <td>695.542</td>\n",
       "    </tr>\n",
       "  </tbody>\n",
       "</table>\n",
       "</div>"
      ],
      "text/plain": [
       "          DATE    FFR  Tbill  Tb1yr     r5    r10  PPINSA  Finished     CPI  \\\n",
       "210 2012-07-01   0.14   0.10   0.18   0.67   1.64  202.40    195.20  230.03   \n",
       "93  1983-04-01   8.80   8.40   9.18  10.23  10.54  100.73    101.37   99.13   \n",
       "85  1981-04-01  17.78  14.91  15.13  14.19  13.75   98.27     96.07   89.77   \n",
       "152 1998-01-01   5.52   5.05   5.31   5.51   5.59  125.03    130.60  162.00   \n",
       "174 2003-07-01   1.02   0.93   1.22   3.14   4.23  138.07    143.50  184.43   \n",
       "\n",
       "     CPICORE    M1NSA     M2SA     M2NSA  Unemp  IndProd     RGDP   Potent  \\\n",
       "210   113.91  2326.47  30251.4  10029.87   8.03    97.39  13652.5  14441.9   \n",
       "93     54.82   498.67   6127.6   2039.83  10.13    48.75   6072.4   6472.6   \n",
       "85     48.90   424.10   4993.7   1662.33   7.40    51.02   5952.7   6115.2   \n",
       "152    87.79  1074.10  12218.8   4077.27   4.63    84.03  10094.8  10037.5   \n",
       "174    96.02  1288.47  18114.9   6029.50   6.13    90.23  11930.7  12042.9   \n",
       "\n",
       "     Deflator      Curr  \n",
       "210   115.810  1119.187  \n",
       "93     57.345   158.741  \n",
       "85     51.813   136.167  \n",
       "152    85.198   473.216  \n",
       "174    94.337   695.542  "
      ]
     },
     "execution_count": 45,
     "metadata": {},
     "output_type": "execute_result"
    }
   ],
   "source": [
    "df2 = pd.read_excel('quarterly.xls')\n",
    "df2['DATE'] = pd.to_datetime(df2.DATE)\n",
    "df2.sample(5)"
   ]
  },
  {
   "cell_type": "code",
   "execution_count": 43,
   "metadata": {},
   "outputs": [
    {
     "data": {
      "text/html": [
       "<div>\n",
       "<style scoped>\n",
       "    .dataframe tbody tr th:only-of-type {\n",
       "        vertical-align: middle;\n",
       "    }\n",
       "\n",
       "    .dataframe tbody tr th {\n",
       "        vertical-align: top;\n",
       "    }\n",
       "\n",
       "    .dataframe thead th {\n",
       "        text-align: right;\n",
       "    }\n",
       "</style>\n",
       "<table border=\"1\" class=\"dataframe\">\n",
       "  <thead>\n",
       "    <tr style=\"text-align: right;\">\n",
       "      <th></th>\n",
       "      <th>FFR</th>\n",
       "      <th>Tbill</th>\n",
       "      <th>Tb1yr</th>\n",
       "      <th>r5</th>\n",
       "      <th>r10</th>\n",
       "      <th>PPINSA</th>\n",
       "      <th>Finished</th>\n",
       "      <th>CPI</th>\n",
       "      <th>CPICORE</th>\n",
       "      <th>M1NSA</th>\n",
       "      <th>M2SA</th>\n",
       "      <th>M2NSA</th>\n",
       "      <th>Unemp</th>\n",
       "      <th>IndProd</th>\n",
       "      <th>RGDP</th>\n",
       "      <th>Potent</th>\n",
       "      <th>Deflator</th>\n",
       "      <th>Curr</th>\n",
       "    </tr>\n",
       "  </thead>\n",
       "  <tbody>\n",
       "    <tr>\n",
       "      <th>count</th>\n",
       "      <td>212.000000</td>\n",
       "      <td>212.000000</td>\n",
       "      <td>212.000000</td>\n",
       "      <td>212.000000</td>\n",
       "      <td>212.000000</td>\n",
       "      <td>212.000000</td>\n",
       "      <td>212.000000</td>\n",
       "      <td>212.000000</td>\n",
       "      <td>212.000000</td>\n",
       "      <td>212.000000</td>\n",
       "      <td>212.000000</td>\n",
       "      <td>212.000000</td>\n",
       "      <td>212.000000</td>\n",
       "      <td>212.000000</td>\n",
       "      <td>212.000000</td>\n",
       "      <td>212.000000</td>\n",
       "      <td>212.000000</td>\n",
       "      <td>212.000000</td>\n",
       "    </tr>\n",
       "    <tr>\n",
       "      <th>mean</th>\n",
       "      <td>5.545755</td>\n",
       "      <td>5.032547</td>\n",
       "      <td>5.578774</td>\n",
       "      <td>6.245047</td>\n",
       "      <td>6.541321</td>\n",
       "      <td>98.845896</td>\n",
       "      <td>99.974245</td>\n",
       "      <td>113.182028</td>\n",
       "      <td>61.489858</td>\n",
       "      <td>754.642877</td>\n",
       "      <td>9409.788208</td>\n",
       "      <td>3136.539953</td>\n",
       "      <td>6.081981</td>\n",
       "      <td>60.751840</td>\n",
       "      <td>7664.750472</td>\n",
       "      <td>7764.872170</td>\n",
       "      <td>61.529608</td>\n",
       "      <td>327.911844</td>\n",
       "    </tr>\n",
       "    <tr>\n",
       "      <th>std</th>\n",
       "      <td>3.515244</td>\n",
       "      <td>2.993406</td>\n",
       "      <td>3.178313</td>\n",
       "      <td>2.888455</td>\n",
       "      <td>2.690470</td>\n",
       "      <td>50.408646</td>\n",
       "      <td>49.133170</td>\n",
       "      <td>65.310267</td>\n",
       "      <td>31.866973</td>\n",
       "      <td>544.198580</td>\n",
       "      <td>7944.482470</td>\n",
       "      <td>2647.971988</td>\n",
       "      <td>1.614394</td>\n",
       "      <td>23.479552</td>\n",
       "      <td>3390.652274</td>\n",
       "      <td>3511.536714</td>\n",
       "      <td>31.594753</td>\n",
       "      <td>309.019367</td>\n",
       "    </tr>\n",
       "    <tr>\n",
       "      <th>min</th>\n",
       "      <td>0.070000</td>\n",
       "      <td>0.010000</td>\n",
       "      <td>0.110000</td>\n",
       "      <td>0.670000</td>\n",
       "      <td>1.640000</td>\n",
       "      <td>31.470000</td>\n",
       "      <td>33.200000</td>\n",
       "      <td>29.400000</td>\n",
       "      <td>18.920000</td>\n",
       "      <td>138.400000</td>\n",
       "      <td>896.100000</td>\n",
       "      <td>299.400000</td>\n",
       "      <td>3.400000</td>\n",
       "      <td>22.130000</td>\n",
       "      <td>2800.200000</td>\n",
       "      <td>2824.200000</td>\n",
       "      <td>18.521000</td>\n",
       "      <td>31.830000</td>\n",
       "    </tr>\n",
       "    <tr>\n",
       "      <th>25%</th>\n",
       "      <td>3.247500</td>\n",
       "      <td>3.077500</td>\n",
       "      <td>3.530000</td>\n",
       "      <td>4.120000</td>\n",
       "      <td>4.297500</td>\n",
       "      <td>44.015000</td>\n",
       "      <td>44.710000</td>\n",
       "      <td>43.705000</td>\n",
       "      <td>27.227500</td>\n",
       "      <td>253.097500</td>\n",
       "      <td>2469.775000</td>\n",
       "      <td>825.270000</td>\n",
       "      <td>4.970000</td>\n",
       "      <td>41.550000</td>\n",
       "      <td>4818.650000</td>\n",
       "      <td>4706.400000</td>\n",
       "      <td>27.721750</td>\n",
       "      <td>66.345250</td>\n",
       "    </tr>\n",
       "    <tr>\n",
       "      <th>50%</th>\n",
       "      <td>5.250000</td>\n",
       "      <td>4.955000</td>\n",
       "      <td>5.440000</td>\n",
       "      <td>6.020000</td>\n",
       "      <td>6.180000</td>\n",
       "      <td>103.350000</td>\n",
       "      <td>104.330000</td>\n",
       "      <td>109.635000</td>\n",
       "      <td>61.960000</td>\n",
       "      <td>665.300000</td>\n",
       "      <td>7848.100000</td>\n",
       "      <td>2614.835000</td>\n",
       "      <td>5.715000</td>\n",
       "      <td>55.200000</td>\n",
       "      <td>7078.950000</td>\n",
       "      <td>7141.400000</td>\n",
       "      <td>62.964500</td>\n",
       "      <td>198.812500</td>\n",
       "    </tr>\n",
       "    <tr>\n",
       "      <th>75%</th>\n",
       "      <td>7.395000</td>\n",
       "      <td>6.412500</td>\n",
       "      <td>7.302500</td>\n",
       "      <td>7.772500</td>\n",
       "      <td>7.945000</td>\n",
       "      <td>128.447500</td>\n",
       "      <td>133.885000</td>\n",
       "      <td>167.507500</td>\n",
       "      <td>89.822500</td>\n",
       "      <td>1134.432500</td>\n",
       "      <td>13640.550000</td>\n",
       "      <td>4536.955000</td>\n",
       "      <td>7.130000</td>\n",
       "      <td>86.425000</td>\n",
       "      <td>10859.225000</td>\n",
       "      <td>10596.050000</td>\n",
       "      <td>87.074750</td>\n",
       "      <td>544.728750</td>\n",
       "    </tr>\n",
       "    <tr>\n",
       "      <th>max</th>\n",
       "      <td>17.780000</td>\n",
       "      <td>15.050000</td>\n",
       "      <td>16.320000</td>\n",
       "      <td>15.430000</td>\n",
       "      <td>14.850000</td>\n",
       "      <td>203.830000</td>\n",
       "      <td>196.200000</td>\n",
       "      <td>231.280000</td>\n",
       "      <td>114.180000</td>\n",
       "      <td>2436.730000</td>\n",
       "      <td>30938.800000</td>\n",
       "      <td>10319.600000</td>\n",
       "      <td>10.670000</td>\n",
       "      <td>100.510000</td>\n",
       "      <td>13665.400000</td>\n",
       "      <td>14505.400000</td>\n",
       "      <td>116.089000</td>\n",
       "      <td>1147.623000</td>\n",
       "    </tr>\n",
       "  </tbody>\n",
       "</table>\n",
       "</div>"
      ],
      "text/plain": [
       "              FFR       Tbill       Tb1yr          r5         r10      PPINSA  \\\n",
       "count  212.000000  212.000000  212.000000  212.000000  212.000000  212.000000   \n",
       "mean     5.545755    5.032547    5.578774    6.245047    6.541321   98.845896   \n",
       "std      3.515244    2.993406    3.178313    2.888455    2.690470   50.408646   \n",
       "min      0.070000    0.010000    0.110000    0.670000    1.640000   31.470000   \n",
       "25%      3.247500    3.077500    3.530000    4.120000    4.297500   44.015000   \n",
       "50%      5.250000    4.955000    5.440000    6.020000    6.180000  103.350000   \n",
       "75%      7.395000    6.412500    7.302500    7.772500    7.945000  128.447500   \n",
       "max     17.780000   15.050000   16.320000   15.430000   14.850000  203.830000   \n",
       "\n",
       "         Finished         CPI     CPICORE        M1NSA          M2SA  \\\n",
       "count  212.000000  212.000000  212.000000   212.000000    212.000000   \n",
       "mean    99.974245  113.182028   61.489858   754.642877   9409.788208   \n",
       "std     49.133170   65.310267   31.866973   544.198580   7944.482470   \n",
       "min     33.200000   29.400000   18.920000   138.400000    896.100000   \n",
       "25%     44.710000   43.705000   27.227500   253.097500   2469.775000   \n",
       "50%    104.330000  109.635000   61.960000   665.300000   7848.100000   \n",
       "75%    133.885000  167.507500   89.822500  1134.432500  13640.550000   \n",
       "max    196.200000  231.280000  114.180000  2436.730000  30938.800000   \n",
       "\n",
       "              M2NSA       Unemp     IndProd          RGDP        Potent  \\\n",
       "count    212.000000  212.000000  212.000000    212.000000    212.000000   \n",
       "mean    3136.539953    6.081981   60.751840   7664.750472   7764.872170   \n",
       "std     2647.971988    1.614394   23.479552   3390.652274   3511.536714   \n",
       "min      299.400000    3.400000   22.130000   2800.200000   2824.200000   \n",
       "25%      825.270000    4.970000   41.550000   4818.650000   4706.400000   \n",
       "50%     2614.835000    5.715000   55.200000   7078.950000   7141.400000   \n",
       "75%     4536.955000    7.130000   86.425000  10859.225000  10596.050000   \n",
       "max    10319.600000   10.670000  100.510000  13665.400000  14505.400000   \n",
       "\n",
       "         Deflator         Curr  \n",
       "count  212.000000   212.000000  \n",
       "mean    61.529608   327.911844  \n",
       "std     31.594753   309.019367  \n",
       "min     18.521000    31.830000  \n",
       "25%     27.721750    66.345250  \n",
       "50%     62.964500   198.812500  \n",
       "75%     87.074750   544.728750  \n",
       "max    116.089000  1147.623000  "
      ]
     },
     "execution_count": 43,
     "metadata": {},
     "output_type": "execute_result"
    }
   ],
   "source": [
    "df2.describe()"
   ]
  },
  {
   "cell_type": "code",
   "execution_count": 47,
   "metadata": {},
   "outputs": [
    {
     "data": {
      "text/plain": [
       "DATE        0\n",
       "FFR         0\n",
       "Tbill       0\n",
       "Tb1yr       0\n",
       "r5          0\n",
       "r10         0\n",
       "PPINSA      0\n",
       "Finished    0\n",
       "CPI         0\n",
       "CPICORE     0\n",
       "M1NSA       0\n",
       "M2SA        0\n",
       "M2NSA       0\n",
       "Unemp       0\n",
       "IndProd     0\n",
       "RGDP        0\n",
       "Potent      0\n",
       "Deflator    0\n",
       "Curr        0\n",
       "dtype: int64"
      ]
     },
     "execution_count": 47,
     "metadata": {},
     "output_type": "execute_result"
    }
   ],
   "source": [
    "df2.isna().sum()"
   ]
  },
  {
   "cell_type": "code",
   "execution_count": 48,
   "metadata": {},
   "outputs": [],
   "source": [
    "# Pas de probleme d'observation manquante."
   ]
  },
  {
   "cell_type": "markdown",
   "metadata": {},
   "source": [
    "## Stationnariser la série de CPI en utilisant la méthode de régression qui inclue un terme de tendance dont la forme fonctionnelle est à choisir (linéaire, quadratique, log, exponentielle, ...)"
   ]
  },
  {
   "cell_type": "code",
   "execution_count": 51,
   "metadata": {},
   "outputs": [
    {
     "data": {
      "text/plain": [
       "[<matplotlib.lines.Line2D at 0x7f577005bb00>]"
      ]
     },
     "execution_count": 51,
     "metadata": {},
     "output_type": "execute_result"
    },
    {
     "data": {
      "image/png": "[encoded data removed]",
      "text/plain": [
       "<Figure size 432x288 with 1 Axes>"
      ]
     },
     "metadata": {
      "needs_background": "light"
     },
     "output_type": "display_data"
    }
   ],
   "source": [
    "plt.plot(df[\"CPI\"])"
   ]
  },
  {
   "cell_type": "code",
   "execution_count": 108,
   "metadata": {},
   "outputs": [
    {
     "name": "stdout",
     "output_type": "stream",
     "text": [
      "                                 OLS Regression Results                                \n",
      "=======================================================================================\n",
      "Dep. Variable:                    CPI   R-squared (uncentered):                   0.996\n",
      "Model:                            OLS   Adj. R-squared (uncentered):              0.996\n",
      "Method:                 Least Squares   F-statistic:                          5.122e+04\n",
      "Date:                Sat, 04 Apr 2020   Prob (F-statistic):                   7.86e-253\n",
      "Time:                        22:35:51   Log-Likelihood:                         -747.54\n",
      "No. Observations:                 211   AIC:                                      1497.\n",
      "Df Residuals:                     210   BIC:                                      1500.\n",
      "Df Model:                           1                                                  \n",
      "Covariance Type:            nonrobust                                                  \n",
      "==============================================================================\n",
      "                 coef    std err          t      P>|t|      [0.025      0.975]\n",
      "------------------------------------------------------------------------------\n",
      "x1             1.0685      0.005    226.321      0.000       1.059       1.078\n",
      "==============================================================================\n",
      "Omnibus:                       32.623   Durbin-Watson:                   0.010\n",
      "Prob(Omnibus):                  0.000   Jarque-Bera (JB):               51.441\n",
      "Skew:                           0.861   Prob(JB):                     6.76e-12\n",
      "Kurtosis:                       4.699   Cond. No.                         1.00\n",
      "==============================================================================\n",
      "\n",
      "Warnings:\n",
      "[1] Standard Errors assume that the covariance matrix of the errors is correctly specified.\n"
     ]
    },
    {
     "data": {
      "text/plain": [
       "[<matplotlib.lines.Line2D at 0x7f575d569978>]"
      ]
     },
     "execution_count": 108,
     "metadata": {},
     "output_type": "execute_result"
    },
    {
     "data": {
      "image/png": "[encoded data removed]",
      "text/plain": [
       "<Figure size 432x288 with 1 Axes>"
      ]
     },
     "metadata": {
      "needs_background": "light"
     },
     "output_type": "display_data"
    }
   ],
   "source": [
    "#Regression lineaire de la serie avec le temps\n",
    "df[\"linear\"] = df.index\n",
    "df[\"quadra\"] = df.index**2\n",
    "#X = df[[\"linear\",\"quadra\"]]\n",
    "# X = sm.add_constant(X)\n",
    "\n",
    "y = df[\"CPI\"]\n",
    "\n",
    "model = sm.OLS(y,df.index)\n",
    "results = model.fit()\n",
    "print(results.summary())\n",
    "o1 = results.predict()\n",
    "\n",
    "plt.title(\"Résidus de la série après ajustement linéaire avec le temps\")\n",
    "plt.plot(o1)\n",
    "plt.plot(y)\n",
    "\n",
    "\n"
   ]
  },
  {
   "cell_type": "markdown",
   "metadata": {},
   "source": [
    "## Stationnariser la série de CPI en utilisant une moyenne mobile centrée 5x5"
   ]
  },
  {
   "cell_type": "code",
   "execution_count": 85,
   "metadata": {},
   "outputs": [
    {
     "data": {
      "image/png": "[encoded data removed]",
      "text/plain": [
       "<Figure size 864x504 with 1 Axes>"
      ]
     },
     "metadata": {
      "needs_background": "light"
     },
     "output_type": "display_data"
    }
   ],
   "source": [
    "plt.figure(figsize=(12, 7))\n",
    "\n",
    "plt.plot(y.rolling(window=5, center=True).mean(), label='résidus moyenne mobile ordre 2')\n",
    "\n",
    "o4 = y.rolling(window=5, center=True).mean().rolling(window=5, center=True).mean()\n",
    "plt.plot(o4, label='résidus moyenne mobile ordre 4')\n",
    "\n",
    "plt.title(\"Moyenne mobile ordre 2 et 4 de la série\")\n",
    "plt.legend(loc=(1.05, 0.4))\n",
    "plt.show()"
   ]
  },
  {
   "cell_type": "markdown",
   "metadata": {},
   "source": [
    "## Calculer inf, le taux d’inflation à partir de la variable CPI. Faire un graphique dans le temps de inf. Commentez."
   ]
  },
  {
   "cell_type": "markdown",
   "metadata": {},
   "source": [
    "L'inflation correspond a la variation du Consumer Price Index."
   ]
  },
  {
   "cell_type": "code",
   "execution_count": 90,
   "metadata": {},
   "outputs": [],
   "source": [
    "df['inf'] = df['CPI'].pct_change()\n",
    "#On retire du coup le premier indice pour lequel on ne peut calculer de variation\n",
    "df = df.dropna()"
   ]
  },
  {
   "cell_type": "code",
   "execution_count": 91,
   "metadata": {},
   "outputs": [
    {
     "name": "stderr",
     "output_type": "stream",
     "text": [
      "/home/cyounes/anaconda3/lib/python3.7/site-packages/pandas/plotting/_converter.py:129: FutureWarning: Using an implicitly registered datetime converter for a matplotlib plotting method. The converter was registered by pandas on import. Future versions of pandas will require you to explicitly register matplotlib converters.\n",
      "\n",
      "To register the converters:\n",
      "\t>>> from pandas.plotting import register_matplotlib_converters\n",
      "\t>>> register_matplotlib_converters()\n",
      "  warnings.warn(msg, FutureWarning)\n",
      "No handles with labels found to put in legend.\n"
     ]
    },
    {
     "data": {
      "image/png": "[encoded data removed]",
      "text/plain": [
       "<Figure size 1080x360 with 1 Axes>"
      ]
     },
     "metadata": {
      "needs_background": "light"
     },
     "output_type": "display_data"
    }
   ],
   "source": [
    "plt.figure(figsize=(15,5))\n",
    "plt.plot(df.DATE, df.inf)\n",
    "#plt.plot(df.DATE, df.inf.rolling(window=5).mean(), label='Moving Average')\n",
    "plt.title(\"Inflation with time\")\n",
    "plt.legend()\n",
    "plt.show()"
   ]
  },
  {
   "cell_type": "markdown",
   "metadata": {},
   "source": [
    "Commentaire: xxxxxxxxxxxxxxxxxxxxxx"
   ]
  },
  {
   "cell_type": "markdown",
   "metadata": {
    "heading_collapsed": true
   },
   "source": [
    "## Interpréter l'autocorrélogramme et l'autocorrélogrammes partiels de inf. Quelle est la différence entre ces deux graphiques ?"
   ]
  },
  {
   "cell_type": "code",
   "execution_count": 106,
   "metadata": {
    "hidden": true
   },
   "outputs": [
    {
     "data": {
      "image/png": "[encoded data removed]",
      "text/plain": [
       "<Figure size 1080x576 with 2 Axes>"
      ]
     },
     "metadata": {
      "needs_background": "light"
     },
     "output_type": "display_data"
    }
   ],
   "source": [
    "fig, axes = plt.subplots(1, 2, figsize=(15,8))\n",
    "\n",
    "fig = sm.graphics.tsa.plot_acf(df.inf, lags=30, ax=axes[0])\n",
    "fig = sm.graphics.tsa.plot_pacf(df.inf, lags=30, ax=axes[1])"
   ]
  },
  {
   "cell_type": "code",
   "execution_count": null,
   "metadata": {
    "hidden": true
   },
   "outputs": [],
   "source": [
    "Commentaire: Le graphe pacf ressemble a celui d'un processus AR(2)"
   ]
  },
  {
   "cell_type": "code",
   "execution_count": null,
   "metadata": {
    "hidden": true
   },
   "outputs": [],
   "source": []
  }
 ],
 "metadata": {
  "anaconda-cloud": {},
  "kernelspec": {
   "display_name": "Python 3",
   "language": "python",
   "name": "python3"
  },
  "language_info": {
   "codemirror_mode": {
    "name": "ipython",
    "version": 3
   },
   "file_extension": ".py",
   "mimetype": "text/x-python",
   "name": "python",
   "nbconvert_exporter": "python",
   "pygments_lexer": "ipython3",
   "version": "3.7.3"
  },
  "toc": {
   "base_numbering": 1,
   "nav_menu": {},
   "number_sections": true,
   "sideBar": true,
   "skip_h1_title": false,
   "title_cell": "Table of Contents",
   "title_sidebar": "Contents",
   "toc_cell": false,
   "toc_position": {},
   "toc_section_display": true,
   "toc_window_display": false
  }
 },
 "nbformat": 4,
 "nbformat_minor": 2
}
