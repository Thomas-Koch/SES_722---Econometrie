{
 "cells": [
  {
   "cell_type": "markdown",
   "metadata": {},
   "source": [
    "---\n",
    "# <center>**- SES 722 : Projet Econométrie -**</center>\n",
    "---\n",
    "\n",
    "Par :\n",
    "- ***Philippe Bénézeth***\n",
    "- ***Thomas Koch***\n",
    "\n",
    "\n",
    "## **Partie 1**"
   ]
  },
  {
   "cell_type": "code",
   "execution_count": 94,
   "metadata": {},
   "outputs": [],
   "source": [
    "# General\n",
    "import numpy as np\n",
    "import pandas as pd\n",
    "import matplotlib.pyplot as plt\n",
    "plt.style.use('seaborn')\n",
    "\n",
    "import seaborn as sns\n",
    "\n",
    "# Statistical models\n",
    "from scipy import stats\n",
    "from scipy.stats import pearsonr\n",
    "from scipy.stats import f\n",
    "import statsmodels.api as sm\n"
   ]
  },
  {
   "cell_type": "code",
   "execution_count": 2,
   "metadata": {},
   "outputs": [
    {
     "data": {
      "text/plain": [
       "['tableau-colorblind10',\n",
       " 'seaborn-bright',\n",
       " 'seaborn-poster',\n",
       " 'ggplot',\n",
       " 'seaborn',\n",
       " 'seaborn-muted',\n",
       " 'seaborn-dark-palette',\n",
       " 'fast',\n",
       " 'seaborn-darkgrid',\n",
       " 'seaborn-talk',\n",
       " 'Solarize_Light2',\n",
       " 'classic',\n",
       " 'fivethirtyeight',\n",
       " 'bmh',\n",
       " 'seaborn-pastel',\n",
       " 'seaborn-deep',\n",
       " 'seaborn-notebook',\n",
       " 'seaborn-ticks',\n",
       " 'seaborn-whitegrid',\n",
       " 'seaborn-dark',\n",
       " 'seaborn-paper',\n",
       " 'grayscale',\n",
       " 'dark_background',\n",
       " '_classic_test',\n",
       " 'seaborn-white',\n",
       " 'seaborn-colorblind']"
      ]
     },
     "execution_count": 2,
     "metadata": {},
     "output_type": "execute_result"
    }
   ],
   "source": [
    "plt.style.available\n",
    "# https://matplotlib.org/3.1.1/gallery/style_sheets/style_sheets_reference.html"
   ]
  },
  {
   "cell_type": "markdown",
   "metadata": {},
   "source": [
    "### **Question 1 :**\n",
    "Lire le fichier `mroz.txt`. Ne sélectionner que les observations pour lesquelles la variable `wage`\n",
    "est strictement positive.\n",
    "\n",
    "\n",
    "***MROZ.DES***\n",
    "   \n",
    "   Obs:   753\n",
    "  \n",
    "| Header 1 | Header 2 | Header 3 |\n",
    "|----------|----------|----------|\n",
    "| 1.       | inlf     | =1 if in labor force, 1975 |\n",
    "| 2.       | hours    | hours worked, 1975 |\n",
    "| 3.       | kidslt6  | # kids < 6 years |\n",
    "| 4.       | kidsge6  | # kids 6-18 |\n",
    "| 5.       | age      | woman's age in yrs |\n",
    "| 6.       | educ     | years of schooling |\n",
    "| 7.       | wage     | estimated wage from earns., hours |\n",
    "| 8.       | repwage  | reported wage at interview in 1976 |\n",
    "| 9.       | hushrs   | hours worked by husband, 1975 |\n",
    "| 10.      | husage   | husband's age |\n",
    "| 11.      | huseduc  | husband's years of schooling |\n",
    "| 12.      | huswage  | husband's hourly wage, 1975 |\n",
    "| 13.      | faminc   | family income, 1975 |\n",
    "| 14.      | mtr      | fed. marginal tax rate facing woman |\n",
    "| 15.      | motheduc | mother's years of schooling |\n",
    "| 16.      | fatheduc | father's years of schooling |\n",
    "| 17.      | unem     | unem. rate in county of resid. |\n",
    "| 18.      | city     | =1 if live in SMSA |\n",
    "| 19.      | exper    | actual labor mkt exper |\n",
    "| 20.      | nwifeinc | (faminc - wage\\*hours)/1000 |\n",
    "| 21.      | lwage    | log(wage) |\n",
    "| 22.      | expersq  | exper² |\n"
   ]
  },
  {
   "cell_type": "code",
   "execution_count": 3,
   "metadata": {},
   "outputs": [],
   "source": [
    "columns = [\"inif\", \"hours\", \"kidslt6\", \"kidsge6\", \"age\",\n",
    "           \"educ\", \"wage\", \"repwage\", \"hushrs\", \"husage\",\n",
    "           \"huseduc\", \"huswage\", \"faminc\", \"mtr\", \"motheduc\",\n",
    "           \"fatheduc\", \"unem\", \"city\", \"exper\", \"nwifeinc\",\n",
    "           \"lwage\", \"expersq\"]  \n",
    "\n",
    "df = pd.read_csv('MROZ.raw', delim_whitespace=True, names=columns)\n",
    "# voir MROZ.DES (description) pour description des données"
   ]
  },
  {
   "cell_type": "code",
   "execution_count": 4,
   "metadata": {},
   "outputs": [
    {
     "data": {
      "text/html": [
       "<div>\n",
       "<style scoped>\n",
       "    .dataframe tbody tr th:only-of-type {\n",
       "        vertical-align: middle;\n",
       "    }\n",
       "\n",
       "    .dataframe tbody tr th {\n",
       "        vertical-align: top;\n",
       "    }\n",
       "\n",
       "    .dataframe thead th {\n",
       "        text-align: right;\n",
       "    }\n",
       "</style>\n",
       "<table border=\"1\" class=\"dataframe\">\n",
       "  <thead>\n",
       "    <tr style=\"text-align: right;\">\n",
       "      <th></th>\n",
       "      <th>inif</th>\n",
       "      <th>hours</th>\n",
       "      <th>kidslt6</th>\n",
       "      <th>kidsge6</th>\n",
       "      <th>age</th>\n",
       "      <th>educ</th>\n",
       "      <th>wage</th>\n",
       "      <th>repwage</th>\n",
       "      <th>hushrs</th>\n",
       "      <th>husage</th>\n",
       "      <th>...</th>\n",
       "      <th>faminc</th>\n",
       "      <th>mtr</th>\n",
       "      <th>motheduc</th>\n",
       "      <th>fatheduc</th>\n",
       "      <th>unem</th>\n",
       "      <th>city</th>\n",
       "      <th>exper</th>\n",
       "      <th>nwifeinc</th>\n",
       "      <th>lwage</th>\n",
       "      <th>expersq</th>\n",
       "    </tr>\n",
       "  </thead>\n",
       "  <tbody>\n",
       "    <tr>\n",
       "      <td>0</td>\n",
       "      <td>1</td>\n",
       "      <td>1610</td>\n",
       "      <td>1</td>\n",
       "      <td>0</td>\n",
       "      <td>32</td>\n",
       "      <td>12</td>\n",
       "      <td>3.354</td>\n",
       "      <td>2.65</td>\n",
       "      <td>2708</td>\n",
       "      <td>34</td>\n",
       "      <td>...</td>\n",
       "      <td>16310</td>\n",
       "      <td>0.7215</td>\n",
       "      <td>12</td>\n",
       "      <td>7</td>\n",
       "      <td>5.0</td>\n",
       "      <td>0</td>\n",
       "      <td>14</td>\n",
       "      <td>10.910060</td>\n",
       "      <td>1.210154</td>\n",
       "      <td>196</td>\n",
       "    </tr>\n",
       "    <tr>\n",
       "      <td>1</td>\n",
       "      <td>1</td>\n",
       "      <td>1656</td>\n",
       "      <td>0</td>\n",
       "      <td>2</td>\n",
       "      <td>30</td>\n",
       "      <td>12</td>\n",
       "      <td>1.3889</td>\n",
       "      <td>2.65</td>\n",
       "      <td>2310</td>\n",
       "      <td>30</td>\n",
       "      <td>...</td>\n",
       "      <td>21800</td>\n",
       "      <td>0.6615</td>\n",
       "      <td>7</td>\n",
       "      <td>7</td>\n",
       "      <td>11.0</td>\n",
       "      <td>1</td>\n",
       "      <td>5</td>\n",
       "      <td>19.499980</td>\n",
       "      <td>.3285121</td>\n",
       "      <td>25</td>\n",
       "    </tr>\n",
       "    <tr>\n",
       "      <td>2</td>\n",
       "      <td>1</td>\n",
       "      <td>1980</td>\n",
       "      <td>1</td>\n",
       "      <td>3</td>\n",
       "      <td>35</td>\n",
       "      <td>12</td>\n",
       "      <td>4.5455</td>\n",
       "      <td>4.04</td>\n",
       "      <td>3072</td>\n",
       "      <td>40</td>\n",
       "      <td>...</td>\n",
       "      <td>21040</td>\n",
       "      <td>0.6915</td>\n",
       "      <td>12</td>\n",
       "      <td>7</td>\n",
       "      <td>5.0</td>\n",
       "      <td>0</td>\n",
       "      <td>15</td>\n",
       "      <td>12.039910</td>\n",
       "      <td>1.514138</td>\n",
       "      <td>225</td>\n",
       "    </tr>\n",
       "    <tr>\n",
       "      <td>3</td>\n",
       "      <td>1</td>\n",
       "      <td>456</td>\n",
       "      <td>0</td>\n",
       "      <td>3</td>\n",
       "      <td>34</td>\n",
       "      <td>12</td>\n",
       "      <td>1.0965</td>\n",
       "      <td>3.25</td>\n",
       "      <td>1920</td>\n",
       "      <td>53</td>\n",
       "      <td>...</td>\n",
       "      <td>7300</td>\n",
       "      <td>0.7815</td>\n",
       "      <td>7</td>\n",
       "      <td>7</td>\n",
       "      <td>5.0</td>\n",
       "      <td>0</td>\n",
       "      <td>6</td>\n",
       "      <td>6.799996</td>\n",
       "      <td>.0921233</td>\n",
       "      <td>36</td>\n",
       "    </tr>\n",
       "    <tr>\n",
       "      <td>4</td>\n",
       "      <td>1</td>\n",
       "      <td>1568</td>\n",
       "      <td>1</td>\n",
       "      <td>2</td>\n",
       "      <td>31</td>\n",
       "      <td>14</td>\n",
       "      <td>4.5918</td>\n",
       "      <td>3.60</td>\n",
       "      <td>2000</td>\n",
       "      <td>32</td>\n",
       "      <td>...</td>\n",
       "      <td>27300</td>\n",
       "      <td>0.6215</td>\n",
       "      <td>12</td>\n",
       "      <td>14</td>\n",
       "      <td>9.5</td>\n",
       "      <td>1</td>\n",
       "      <td>7</td>\n",
       "      <td>20.100060</td>\n",
       "      <td>1.524272</td>\n",
       "      <td>49</td>\n",
       "    </tr>\n",
       "  </tbody>\n",
       "</table>\n",
       "<p>5 rows × 22 columns</p>\n",
       "</div>"
      ],
      "text/plain": [
       "   inif  hours  kidslt6  kidsge6  age  educ    wage  repwage  hushrs  husage  \\\n",
       "0     1   1610        1        0   32    12   3.354     2.65    2708      34   \n",
       "1     1   1656        0        2   30    12  1.3889     2.65    2310      30   \n",
       "2     1   1980        1        3   35    12  4.5455     4.04    3072      40   \n",
       "3     1    456        0        3   34    12  1.0965     3.25    1920      53   \n",
       "4     1   1568        1        2   31    14  4.5918     3.60    2000      32   \n",
       "\n",
       "   ...  faminc     mtr  motheduc  fatheduc  unem  city  exper   nwifeinc  \\\n",
       "0  ...   16310  0.7215        12         7   5.0     0     14  10.910060   \n",
       "1  ...   21800  0.6615         7         7  11.0     1      5  19.499980   \n",
       "2  ...   21040  0.6915        12         7   5.0     0     15  12.039910   \n",
       "3  ...    7300  0.7815         7         7   5.0     0      6   6.799996   \n",
       "4  ...   27300  0.6215        12        14   9.5     1      7  20.100060   \n",
       "\n",
       "      lwage  expersq  \n",
       "0  1.210154      196  \n",
       "1  .3285121       25  \n",
       "2  1.514138      225  \n",
       "3  .0921233       36  \n",
       "4  1.524272       49  \n",
       "\n",
       "[5 rows x 22 columns]"
      ]
     },
     "execution_count": 4,
     "metadata": {},
     "output_type": "execute_result"
    }
   ],
   "source": [
    "df.head()"
   ]
  },
  {
   "cell_type": "code",
   "execution_count": 5,
   "metadata": {},
   "outputs": [
    {
     "data": {
      "text/plain": [
       "inif          int64\n",
       "hours         int64\n",
       "kidslt6       int64\n",
       "kidsge6       int64\n",
       "age           int64\n",
       "educ          int64\n",
       "wage         object\n",
       "repwage     float64\n",
       "hushrs        int64\n",
       "husage        int64\n",
       "huseduc       int64\n",
       "huswage     float64\n",
       "faminc        int64\n",
       "mtr         float64\n",
       "motheduc      int64\n",
       "fatheduc      int64\n",
       "unem        float64\n",
       "city          int64\n",
       "exper         int64\n",
       "nwifeinc    float64\n",
       "lwage        object\n",
       "expersq       int64\n",
       "dtype: object"
      ]
     },
     "execution_count": 5,
     "metadata": {},
     "output_type": "execute_result"
    }
   ],
   "source": [
    "df.dtypes"
   ]
  },
  {
   "cell_type": "code",
   "execution_count": 6,
   "metadata": {},
   "outputs": [
    {
     "data": {
      "text/html": [
       "<div>\n",
       "<style scoped>\n",
       "    .dataframe tbody tr th:only-of-type {\n",
       "        vertical-align: middle;\n",
       "    }\n",
       "\n",
       "    .dataframe tbody tr th {\n",
       "        vertical-align: top;\n",
       "    }\n",
       "\n",
       "    .dataframe thead th {\n",
       "        text-align: right;\n",
       "    }\n",
       "</style>\n",
       "<table border=\"1\" class=\"dataframe\">\n",
       "  <thead>\n",
       "    <tr style=\"text-align: right;\">\n",
       "      <th></th>\n",
       "      <th>wage</th>\n",
       "      <th>lwage</th>\n",
       "    </tr>\n",
       "  </thead>\n",
       "  <tbody>\n",
       "    <tr>\n",
       "      <td>0</td>\n",
       "      <td>3.354</td>\n",
       "      <td>1.210154</td>\n",
       "    </tr>\n",
       "    <tr>\n",
       "      <td>1</td>\n",
       "      <td>1.3889</td>\n",
       "      <td>.3285121</td>\n",
       "    </tr>\n",
       "    <tr>\n",
       "      <td>2</td>\n",
       "      <td>4.5455</td>\n",
       "      <td>1.514138</td>\n",
       "    </tr>\n",
       "    <tr>\n",
       "      <td>3</td>\n",
       "      <td>1.0965</td>\n",
       "      <td>.0921233</td>\n",
       "    </tr>\n",
       "    <tr>\n",
       "      <td>4</td>\n",
       "      <td>4.5918</td>\n",
       "      <td>1.524272</td>\n",
       "    </tr>\n",
       "  </tbody>\n",
       "</table>\n",
       "</div>"
      ],
      "text/plain": [
       "     wage     lwage\n",
       "0   3.354  1.210154\n",
       "1  1.3889  .3285121\n",
       "2  4.5455  1.514138\n",
       "3  1.0965  .0921233\n",
       "4  4.5918  1.524272"
      ]
     },
     "execution_count": 6,
     "metadata": {},
     "output_type": "execute_result"
    }
   ],
   "source": [
    "df[['wage', 'lwage']].head()"
   ]
  },
  {
   "cell_type": "code",
   "execution_count": 7,
   "metadata": {},
   "outputs": [],
   "source": [
    "# Changing object types to float\n",
    "\n",
    "object_cols = ['wage', 'lwage']\n",
    "\n",
    "for i in object_cols:\n",
    "    df[i] = pd.to_numeric(df[i], errors='coerce')"
   ]
  },
  {
   "cell_type": "code",
   "execution_count": 8,
   "metadata": {},
   "outputs": [
    {
     "data": {
      "text/plain": [
       "inif          int64\n",
       "hours         int64\n",
       "kidslt6       int64\n",
       "kidsge6       int64\n",
       "age           int64\n",
       "educ          int64\n",
       "wage        float64\n",
       "repwage     float64\n",
       "hushrs        int64\n",
       "husage        int64\n",
       "huseduc       int64\n",
       "huswage     float64\n",
       "faminc        int64\n",
       "mtr         float64\n",
       "motheduc      int64\n",
       "fatheduc      int64\n",
       "unem        float64\n",
       "city          int64\n",
       "exper         int64\n",
       "nwifeinc    float64\n",
       "lwage       float64\n",
       "expersq       int64\n",
       "dtype: object"
      ]
     },
     "execution_count": 8,
     "metadata": {},
     "output_type": "execute_result"
    }
   ],
   "source": [
    "df.dtypes"
   ]
  },
  {
   "cell_type": "code",
   "execution_count": 9,
   "metadata": {},
   "outputs": [
    {
     "data": {
      "text/html": [
       "<div>\n",
       "<style scoped>\n",
       "    .dataframe tbody tr th:only-of-type {\n",
       "        vertical-align: middle;\n",
       "    }\n",
       "\n",
       "    .dataframe tbody tr th {\n",
       "        vertical-align: top;\n",
       "    }\n",
       "\n",
       "    .dataframe thead th {\n",
       "        text-align: right;\n",
       "    }\n",
       "</style>\n",
       "<table border=\"1\" class=\"dataframe\">\n",
       "  <thead>\n",
       "    <tr style=\"text-align: right;\">\n",
       "      <th></th>\n",
       "      <th>inif</th>\n",
       "      <th>hours</th>\n",
       "      <th>kidslt6</th>\n",
       "      <th>kidsge6</th>\n",
       "      <th>age</th>\n",
       "      <th>educ</th>\n",
       "      <th>wage</th>\n",
       "      <th>repwage</th>\n",
       "      <th>hushrs</th>\n",
       "      <th>husage</th>\n",
       "      <th>...</th>\n",
       "      <th>faminc</th>\n",
       "      <th>mtr</th>\n",
       "      <th>motheduc</th>\n",
       "      <th>fatheduc</th>\n",
       "      <th>unem</th>\n",
       "      <th>city</th>\n",
       "      <th>exper</th>\n",
       "      <th>nwifeinc</th>\n",
       "      <th>lwage</th>\n",
       "      <th>expersq</th>\n",
       "    </tr>\n",
       "  </thead>\n",
       "  <tbody>\n",
       "    <tr>\n",
       "      <td>count</td>\n",
       "      <td>753.000000</td>\n",
       "      <td>753.000000</td>\n",
       "      <td>753.000000</td>\n",
       "      <td>753.000000</td>\n",
       "      <td>753.000000</td>\n",
       "      <td>753.000000</td>\n",
       "      <td>428.000000</td>\n",
       "      <td>753.000000</td>\n",
       "      <td>753.000000</td>\n",
       "      <td>753.000000</td>\n",
       "      <td>...</td>\n",
       "      <td>753.000000</td>\n",
       "      <td>753.000000</td>\n",
       "      <td>753.000000</td>\n",
       "      <td>753.000000</td>\n",
       "      <td>753.000000</td>\n",
       "      <td>753.000000</td>\n",
       "      <td>753.00000</td>\n",
       "      <td>753.000000</td>\n",
       "      <td>428.000000</td>\n",
       "      <td>753.000000</td>\n",
       "    </tr>\n",
       "    <tr>\n",
       "      <td>mean</td>\n",
       "      <td>0.568393</td>\n",
       "      <td>740.576361</td>\n",
       "      <td>0.237716</td>\n",
       "      <td>1.353254</td>\n",
       "      <td>42.537849</td>\n",
       "      <td>12.286853</td>\n",
       "      <td>4.177682</td>\n",
       "      <td>1.849734</td>\n",
       "      <td>2267.270916</td>\n",
       "      <td>45.120850</td>\n",
       "      <td>...</td>\n",
       "      <td>23080.594954</td>\n",
       "      <td>0.678863</td>\n",
       "      <td>9.250996</td>\n",
       "      <td>8.808765</td>\n",
       "      <td>8.623506</td>\n",
       "      <td>0.642762</td>\n",
       "      <td>10.63081</td>\n",
       "      <td>20.128964</td>\n",
       "      <td>1.190173</td>\n",
       "      <td>178.038513</td>\n",
       "    </tr>\n",
       "    <tr>\n",
       "      <td>std</td>\n",
       "      <td>0.495630</td>\n",
       "      <td>871.314216</td>\n",
       "      <td>0.523959</td>\n",
       "      <td>1.319874</td>\n",
       "      <td>8.072574</td>\n",
       "      <td>2.280246</td>\n",
       "      <td>3.310282</td>\n",
       "      <td>2.419887</td>\n",
       "      <td>595.566649</td>\n",
       "      <td>8.058793</td>\n",
       "      <td>...</td>\n",
       "      <td>12190.202026</td>\n",
       "      <td>0.083496</td>\n",
       "      <td>3.367468</td>\n",
       "      <td>3.572290</td>\n",
       "      <td>3.114934</td>\n",
       "      <td>0.479504</td>\n",
       "      <td>8.06913</td>\n",
       "      <td>11.634797</td>\n",
       "      <td>0.723198</td>\n",
       "      <td>249.630849</td>\n",
       "    </tr>\n",
       "    <tr>\n",
       "      <td>min</td>\n",
       "      <td>0.000000</td>\n",
       "      <td>0.000000</td>\n",
       "      <td>0.000000</td>\n",
       "      <td>0.000000</td>\n",
       "      <td>30.000000</td>\n",
       "      <td>5.000000</td>\n",
       "      <td>0.128200</td>\n",
       "      <td>0.000000</td>\n",
       "      <td>175.000000</td>\n",
       "      <td>30.000000</td>\n",
       "      <td>...</td>\n",
       "      <td>1500.000000</td>\n",
       "      <td>0.441500</td>\n",
       "      <td>0.000000</td>\n",
       "      <td>0.000000</td>\n",
       "      <td>3.000000</td>\n",
       "      <td>0.000000</td>\n",
       "      <td>0.00000</td>\n",
       "      <td>-0.029057</td>\n",
       "      <td>-2.054164</td>\n",
       "      <td>0.000000</td>\n",
       "    </tr>\n",
       "    <tr>\n",
       "      <td>25%</td>\n",
       "      <td>0.000000</td>\n",
       "      <td>0.000000</td>\n",
       "      <td>0.000000</td>\n",
       "      <td>0.000000</td>\n",
       "      <td>36.000000</td>\n",
       "      <td>12.000000</td>\n",
       "      <td>2.262600</td>\n",
       "      <td>0.000000</td>\n",
       "      <td>1928.000000</td>\n",
       "      <td>38.000000</td>\n",
       "      <td>...</td>\n",
       "      <td>15428.000000</td>\n",
       "      <td>0.621500</td>\n",
       "      <td>7.000000</td>\n",
       "      <td>7.000000</td>\n",
       "      <td>7.500000</td>\n",
       "      <td>0.000000</td>\n",
       "      <td>4.00000</td>\n",
       "      <td>13.025040</td>\n",
       "      <td>0.816509</td>\n",
       "      <td>16.000000</td>\n",
       "    </tr>\n",
       "    <tr>\n",
       "      <td>50%</td>\n",
       "      <td>1.000000</td>\n",
       "      <td>288.000000</td>\n",
       "      <td>0.000000</td>\n",
       "      <td>1.000000</td>\n",
       "      <td>43.000000</td>\n",
       "      <td>12.000000</td>\n",
       "      <td>3.481900</td>\n",
       "      <td>0.000000</td>\n",
       "      <td>2164.000000</td>\n",
       "      <td>46.000000</td>\n",
       "      <td>...</td>\n",
       "      <td>20880.000000</td>\n",
       "      <td>0.691500</td>\n",
       "      <td>10.000000</td>\n",
       "      <td>7.000000</td>\n",
       "      <td>7.500000</td>\n",
       "      <td>1.000000</td>\n",
       "      <td>9.00000</td>\n",
       "      <td>17.700000</td>\n",
       "      <td>1.247574</td>\n",
       "      <td>81.000000</td>\n",
       "    </tr>\n",
       "    <tr>\n",
       "      <td>75%</td>\n",
       "      <td>1.000000</td>\n",
       "      <td>1516.000000</td>\n",
       "      <td>0.000000</td>\n",
       "      <td>2.000000</td>\n",
       "      <td>49.000000</td>\n",
       "      <td>13.000000</td>\n",
       "      <td>4.970750</td>\n",
       "      <td>3.580000</td>\n",
       "      <td>2553.000000</td>\n",
       "      <td>52.000000</td>\n",
       "      <td>...</td>\n",
       "      <td>28200.000000</td>\n",
       "      <td>0.721500</td>\n",
       "      <td>12.000000</td>\n",
       "      <td>12.000000</td>\n",
       "      <td>11.000000</td>\n",
       "      <td>1.000000</td>\n",
       "      <td>15.00000</td>\n",
       "      <td>24.466000</td>\n",
       "      <td>1.603571</td>\n",
       "      <td>225.000000</td>\n",
       "    </tr>\n",
       "    <tr>\n",
       "      <td>max</td>\n",
       "      <td>1.000000</td>\n",
       "      <td>4950.000000</td>\n",
       "      <td>3.000000</td>\n",
       "      <td>8.000000</td>\n",
       "      <td>60.000000</td>\n",
       "      <td>17.000000</td>\n",
       "      <td>25.000000</td>\n",
       "      <td>9.980000</td>\n",
       "      <td>5010.000000</td>\n",
       "      <td>60.000000</td>\n",
       "      <td>...</td>\n",
       "      <td>96000.000000</td>\n",
       "      <td>0.941500</td>\n",
       "      <td>17.000000</td>\n",
       "      <td>17.000000</td>\n",
       "      <td>14.000000</td>\n",
       "      <td>1.000000</td>\n",
       "      <td>45.00000</td>\n",
       "      <td>96.000000</td>\n",
       "      <td>3.218876</td>\n",
       "      <td>2025.000000</td>\n",
       "    </tr>\n",
       "  </tbody>\n",
       "</table>\n",
       "<p>8 rows × 22 columns</p>\n",
       "</div>"
      ],
      "text/plain": [
       "             inif        hours     kidslt6     kidsge6         age  \\\n",
       "count  753.000000   753.000000  753.000000  753.000000  753.000000   \n",
       "mean     0.568393   740.576361    0.237716    1.353254   42.537849   \n",
       "std      0.495630   871.314216    0.523959    1.319874    8.072574   \n",
       "min      0.000000     0.000000    0.000000    0.000000   30.000000   \n",
       "25%      0.000000     0.000000    0.000000    0.000000   36.000000   \n",
       "50%      1.000000   288.000000    0.000000    1.000000   43.000000   \n",
       "75%      1.000000  1516.000000    0.000000    2.000000   49.000000   \n",
       "max      1.000000  4950.000000    3.000000    8.000000   60.000000   \n",
       "\n",
       "             educ        wage     repwage       hushrs      husage  ...  \\\n",
       "count  753.000000  428.000000  753.000000   753.000000  753.000000  ...   \n",
       "mean    12.286853    4.177682    1.849734  2267.270916   45.120850  ...   \n",
       "std      2.280246    3.310282    2.419887   595.566649    8.058793  ...   \n",
       "min      5.000000    0.128200    0.000000   175.000000   30.000000  ...   \n",
       "25%     12.000000    2.262600    0.000000  1928.000000   38.000000  ...   \n",
       "50%     12.000000    3.481900    0.000000  2164.000000   46.000000  ...   \n",
       "75%     13.000000    4.970750    3.580000  2553.000000   52.000000  ...   \n",
       "max     17.000000   25.000000    9.980000  5010.000000   60.000000  ...   \n",
       "\n",
       "             faminc         mtr    motheduc    fatheduc        unem  \\\n",
       "count    753.000000  753.000000  753.000000  753.000000  753.000000   \n",
       "mean   23080.594954    0.678863    9.250996    8.808765    8.623506   \n",
       "std    12190.202026    0.083496    3.367468    3.572290    3.114934   \n",
       "min     1500.000000    0.441500    0.000000    0.000000    3.000000   \n",
       "25%    15428.000000    0.621500    7.000000    7.000000    7.500000   \n",
       "50%    20880.000000    0.691500   10.000000    7.000000    7.500000   \n",
       "75%    28200.000000    0.721500   12.000000   12.000000   11.000000   \n",
       "max    96000.000000    0.941500   17.000000   17.000000   14.000000   \n",
       "\n",
       "             city      exper    nwifeinc       lwage      expersq  \n",
       "count  753.000000  753.00000  753.000000  428.000000   753.000000  \n",
       "mean     0.642762   10.63081   20.128964    1.190173   178.038513  \n",
       "std      0.479504    8.06913   11.634797    0.723198   249.630849  \n",
       "min      0.000000    0.00000   -0.029057   -2.054164     0.000000  \n",
       "25%      0.000000    4.00000   13.025040    0.816509    16.000000  \n",
       "50%      1.000000    9.00000   17.700000    1.247574    81.000000  \n",
       "75%      1.000000   15.00000   24.466000    1.603571   225.000000  \n",
       "max      1.000000   45.00000   96.000000    3.218876  2025.000000  \n",
       "\n",
       "[8 rows x 22 columns]"
      ]
     },
     "execution_count": 9,
     "metadata": {},
     "output_type": "execute_result"
    }
   ],
   "source": [
    "df.describe()"
   ]
  },
  {
   "cell_type": "code",
   "execution_count": 10,
   "metadata": {},
   "outputs": [
    {
     "name": "stdout",
     "output_type": "stream",
     "text": [
      "\n",
      "Nous avons 428 observations valables.\n",
      "\n"
     ]
    },
    {
     "data": {
      "text/html": [
       "<div>\n",
       "<style scoped>\n",
       "    .dataframe tbody tr th:only-of-type {\n",
       "        vertical-align: middle;\n",
       "    }\n",
       "\n",
       "    .dataframe tbody tr th {\n",
       "        vertical-align: top;\n",
       "    }\n",
       "\n",
       "    .dataframe thead th {\n",
       "        text-align: right;\n",
       "    }\n",
       "</style>\n",
       "<table border=\"1\" class=\"dataframe\">\n",
       "  <thead>\n",
       "    <tr style=\"text-align: right;\">\n",
       "      <th></th>\n",
       "      <th>inif</th>\n",
       "      <th>hours</th>\n",
       "      <th>kidslt6</th>\n",
       "      <th>kidsge6</th>\n",
       "      <th>age</th>\n",
       "      <th>educ</th>\n",
       "      <th>wage</th>\n",
       "      <th>repwage</th>\n",
       "      <th>hushrs</th>\n",
       "      <th>husage</th>\n",
       "      <th>...</th>\n",
       "      <th>faminc</th>\n",
       "      <th>mtr</th>\n",
       "      <th>motheduc</th>\n",
       "      <th>fatheduc</th>\n",
       "      <th>unem</th>\n",
       "      <th>city</th>\n",
       "      <th>exper</th>\n",
       "      <th>nwifeinc</th>\n",
       "      <th>lwage</th>\n",
       "      <th>expersq</th>\n",
       "    </tr>\n",
       "  </thead>\n",
       "  <tbody>\n",
       "    <tr>\n",
       "      <td>count</td>\n",
       "      <td>428.0</td>\n",
       "      <td>428.000000</td>\n",
       "      <td>428.000000</td>\n",
       "      <td>428.000000</td>\n",
       "      <td>428.000000</td>\n",
       "      <td>428.000000</td>\n",
       "      <td>428.000000</td>\n",
       "      <td>428.000000</td>\n",
       "      <td>428.000000</td>\n",
       "      <td>428.000000</td>\n",
       "      <td>...</td>\n",
       "      <td>428.000000</td>\n",
       "      <td>428.000000</td>\n",
       "      <td>428.000000</td>\n",
       "      <td>428.000000</td>\n",
       "      <td>428.000000</td>\n",
       "      <td>428.000000</td>\n",
       "      <td>428.000000</td>\n",
       "      <td>428.000000</td>\n",
       "      <td>428.000000</td>\n",
       "      <td>428.000000</td>\n",
       "    </tr>\n",
       "    <tr>\n",
       "      <td>mean</td>\n",
       "      <td>1.0</td>\n",
       "      <td>1302.929907</td>\n",
       "      <td>0.140187</td>\n",
       "      <td>1.350467</td>\n",
       "      <td>41.971963</td>\n",
       "      <td>12.658879</td>\n",
       "      <td>4.177682</td>\n",
       "      <td>3.185864</td>\n",
       "      <td>2233.464953</td>\n",
       "      <td>44.609813</td>\n",
       "      <td>...</td>\n",
       "      <td>24130.422897</td>\n",
       "      <td>0.668333</td>\n",
       "      <td>9.516355</td>\n",
       "      <td>8.988318</td>\n",
       "      <td>8.545561</td>\n",
       "      <td>0.640187</td>\n",
       "      <td>13.037383</td>\n",
       "      <td>18.937483</td>\n",
       "      <td>1.190173</td>\n",
       "      <td>234.719626</td>\n",
       "    </tr>\n",
       "    <tr>\n",
       "      <td>std</td>\n",
       "      <td>0.0</td>\n",
       "      <td>776.274385</td>\n",
       "      <td>0.391923</td>\n",
       "      <td>1.315935</td>\n",
       "      <td>7.721084</td>\n",
       "      <td>2.285376</td>\n",
       "      <td>3.310282</td>\n",
       "      <td>2.439640</td>\n",
       "      <td>582.908769</td>\n",
       "      <td>7.950055</td>\n",
       "      <td>...</td>\n",
       "      <td>11671.255986</td>\n",
       "      <td>0.076936</td>\n",
       "      <td>3.308100</td>\n",
       "      <td>3.523405</td>\n",
       "      <td>3.033328</td>\n",
       "      <td>0.480507</td>\n",
       "      <td>8.055923</td>\n",
       "      <td>10.591354</td>\n",
       "      <td>0.723198</td>\n",
       "      <td>270.043358</td>\n",
       "    </tr>\n",
       "    <tr>\n",
       "      <td>min</td>\n",
       "      <td>1.0</td>\n",
       "      <td>12.000000</td>\n",
       "      <td>0.000000</td>\n",
       "      <td>0.000000</td>\n",
       "      <td>30.000000</td>\n",
       "      <td>5.000000</td>\n",
       "      <td>0.128200</td>\n",
       "      <td>0.000000</td>\n",
       "      <td>175.000000</td>\n",
       "      <td>30.000000</td>\n",
       "      <td>...</td>\n",
       "      <td>2400.000000</td>\n",
       "      <td>0.441500</td>\n",
       "      <td>0.000000</td>\n",
       "      <td>0.000000</td>\n",
       "      <td>3.000000</td>\n",
       "      <td>0.000000</td>\n",
       "      <td>0.000000</td>\n",
       "      <td>-0.029057</td>\n",
       "      <td>-2.054164</td>\n",
       "      <td>0.000000</td>\n",
       "    </tr>\n",
       "    <tr>\n",
       "      <td>25%</td>\n",
       "      <td>1.0</td>\n",
       "      <td>609.500000</td>\n",
       "      <td>0.000000</td>\n",
       "      <td>0.000000</td>\n",
       "      <td>35.000000</td>\n",
       "      <td>12.000000</td>\n",
       "      <td>2.262600</td>\n",
       "      <td>1.420000</td>\n",
       "      <td>1920.000000</td>\n",
       "      <td>38.000000</td>\n",
       "      <td>...</td>\n",
       "      <td>16286.250000</td>\n",
       "      <td>0.621500</td>\n",
       "      <td>7.000000</td>\n",
       "      <td>7.000000</td>\n",
       "      <td>7.500000</td>\n",
       "      <td>0.000000</td>\n",
       "      <td>7.000000</td>\n",
       "      <td>12.365247</td>\n",
       "      <td>0.816509</td>\n",
       "      <td>49.000000</td>\n",
       "    </tr>\n",
       "    <tr>\n",
       "      <td>50%</td>\n",
       "      <td>1.0</td>\n",
       "      <td>1365.500000</td>\n",
       "      <td>0.000000</td>\n",
       "      <td>1.000000</td>\n",
       "      <td>42.000000</td>\n",
       "      <td>12.000000</td>\n",
       "      <td>3.481900</td>\n",
       "      <td>3.195000</td>\n",
       "      <td>2106.500000</td>\n",
       "      <td>45.000000</td>\n",
       "      <td>...</td>\n",
       "      <td>21961.000000</td>\n",
       "      <td>0.691500</td>\n",
       "      <td>10.000000</td>\n",
       "      <td>7.000000</td>\n",
       "      <td>7.500000</td>\n",
       "      <td>1.000000</td>\n",
       "      <td>12.000000</td>\n",
       "      <td>17.080000</td>\n",
       "      <td>1.247574</td>\n",
       "      <td>144.000000</td>\n",
       "    </tr>\n",
       "    <tr>\n",
       "      <td>75%</td>\n",
       "      <td>1.0</td>\n",
       "      <td>1910.500000</td>\n",
       "      <td>0.000000</td>\n",
       "      <td>2.000000</td>\n",
       "      <td>47.250000</td>\n",
       "      <td>14.000000</td>\n",
       "      <td>4.970750</td>\n",
       "      <td>4.550000</td>\n",
       "      <td>2504.000000</td>\n",
       "      <td>51.000000</td>\n",
       "      <td>...</td>\n",
       "      <td>29793.000000</td>\n",
       "      <td>0.721500</td>\n",
       "      <td>12.000000</td>\n",
       "      <td>12.000000</td>\n",
       "      <td>11.000000</td>\n",
       "      <td>1.000000</td>\n",
       "      <td>18.000000</td>\n",
       "      <td>23.515000</td>\n",
       "      <td>1.603571</td>\n",
       "      <td>324.000000</td>\n",
       "    </tr>\n",
       "    <tr>\n",
       "      <td>max</td>\n",
       "      <td>1.0</td>\n",
       "      <td>4950.000000</td>\n",
       "      <td>2.000000</td>\n",
       "      <td>8.000000</td>\n",
       "      <td>60.000000</td>\n",
       "      <td>17.000000</td>\n",
       "      <td>25.000000</td>\n",
       "      <td>9.980000</td>\n",
       "      <td>5010.000000</td>\n",
       "      <td>60.000000</td>\n",
       "      <td>...</td>\n",
       "      <td>91044.000000</td>\n",
       "      <td>0.941500</td>\n",
       "      <td>17.000000</td>\n",
       "      <td>17.000000</td>\n",
       "      <td>14.000000</td>\n",
       "      <td>1.000000</td>\n",
       "      <td>38.000000</td>\n",
       "      <td>91.000000</td>\n",
       "      <td>3.218876</td>\n",
       "      <td>1444.000000</td>\n",
       "    </tr>\n",
       "  </tbody>\n",
       "</table>\n",
       "<p>8 rows × 22 columns</p>\n",
       "</div>"
      ],
      "text/plain": [
       "        inif        hours     kidslt6     kidsge6         age        educ  \\\n",
       "count  428.0   428.000000  428.000000  428.000000  428.000000  428.000000   \n",
       "mean     1.0  1302.929907    0.140187    1.350467   41.971963   12.658879   \n",
       "std      0.0   776.274385    0.391923    1.315935    7.721084    2.285376   \n",
       "min      1.0    12.000000    0.000000    0.000000   30.000000    5.000000   \n",
       "25%      1.0   609.500000    0.000000    0.000000   35.000000   12.000000   \n",
       "50%      1.0  1365.500000    0.000000    1.000000   42.000000   12.000000   \n",
       "75%      1.0  1910.500000    0.000000    2.000000   47.250000   14.000000   \n",
       "max      1.0  4950.000000    2.000000    8.000000   60.000000   17.000000   \n",
       "\n",
       "             wage     repwage       hushrs      husage  ...        faminc  \\\n",
       "count  428.000000  428.000000   428.000000  428.000000  ...    428.000000   \n",
       "mean     4.177682    3.185864  2233.464953   44.609813  ...  24130.422897   \n",
       "std      3.310282    2.439640   582.908769    7.950055  ...  11671.255986   \n",
       "min      0.128200    0.000000   175.000000   30.000000  ...   2400.000000   \n",
       "25%      2.262600    1.420000  1920.000000   38.000000  ...  16286.250000   \n",
       "50%      3.481900    3.195000  2106.500000   45.000000  ...  21961.000000   \n",
       "75%      4.970750    4.550000  2504.000000   51.000000  ...  29793.000000   \n",
       "max     25.000000    9.980000  5010.000000   60.000000  ...  91044.000000   \n",
       "\n",
       "              mtr    motheduc    fatheduc        unem        city       exper  \\\n",
       "count  428.000000  428.000000  428.000000  428.000000  428.000000  428.000000   \n",
       "mean     0.668333    9.516355    8.988318    8.545561    0.640187   13.037383   \n",
       "std      0.076936    3.308100    3.523405    3.033328    0.480507    8.055923   \n",
       "min      0.441500    0.000000    0.000000    3.000000    0.000000    0.000000   \n",
       "25%      0.621500    7.000000    7.000000    7.500000    0.000000    7.000000   \n",
       "50%      0.691500   10.000000    7.000000    7.500000    1.000000   12.000000   \n",
       "75%      0.721500   12.000000   12.000000   11.000000    1.000000   18.000000   \n",
       "max      0.941500   17.000000   17.000000   14.000000    1.000000   38.000000   \n",
       "\n",
       "         nwifeinc       lwage      expersq  \n",
       "count  428.000000  428.000000   428.000000  \n",
       "mean    18.937483    1.190173   234.719626  \n",
       "std     10.591354    0.723198   270.043358  \n",
       "min     -0.029057   -2.054164     0.000000  \n",
       "25%     12.365247    0.816509    49.000000  \n",
       "50%     17.080000    1.247574   144.000000  \n",
       "75%     23.515000    1.603571   324.000000  \n",
       "max     91.000000    3.218876  1444.000000  \n",
       "\n",
       "[8 rows x 22 columns]"
      ]
     },
     "execution_count": 10,
     "metadata": {},
     "output_type": "execute_result"
    }
   ],
   "source": [
    "# Selecting only positive wage\n",
    "df_filtered = pd.DataFrame(df[df.wage > 0.])\n",
    "\n",
    "print(\"\\nNous avons {} observations valables.\\n\".format(df_filtered.shape[0]))\n",
    "\n",
    "df_filtered.describe()"
   ]
  },
  {
   "cell_type": "markdown",
   "metadata": {},
   "source": [
    "### **Question 2 :**\n",
    "\n",
    "Faire les statistiques descriptives du salaire, de l’age et de l’éducation pour l’ensemble des\n",
    "femmes puis, pour les femmes dont le salaire du mari est supérieure au 65ème percentile de\n",
    "l’échantillon, puis pour les femmes dont le salaire du mari est inférieur au 65ème percentile de\n",
    "l’échantillon. Commenter\n",
    "\n",
    "#### **Statistiques pour l'ensemble des femmes**"
   ]
  },
  {
   "cell_type": "code",
   "execution_count": 11,
   "metadata": {},
   "outputs": [
    {
     "data": {
      "text/html": [
       "<div>\n",
       "<style scoped>\n",
       "    .dataframe tbody tr th:only-of-type {\n",
       "        vertical-align: middle;\n",
       "    }\n",
       "\n",
       "    .dataframe tbody tr th {\n",
       "        vertical-align: top;\n",
       "    }\n",
       "\n",
       "    .dataframe thead th {\n",
       "        text-align: right;\n",
       "    }\n",
       "</style>\n",
       "<table border=\"1\" class=\"dataframe\">\n",
       "  <thead>\n",
       "    <tr style=\"text-align: right;\">\n",
       "      <th></th>\n",
       "      <th>wage</th>\n",
       "      <th>age</th>\n",
       "      <th>educ</th>\n",
       "    </tr>\n",
       "  </thead>\n",
       "  <tbody>\n",
       "    <tr>\n",
       "      <td>count</td>\n",
       "      <td>428.000000</td>\n",
       "      <td>428.000000</td>\n",
       "      <td>428.000000</td>\n",
       "    </tr>\n",
       "    <tr>\n",
       "      <td>mean</td>\n",
       "      <td>4.177682</td>\n",
       "      <td>41.971963</td>\n",
       "      <td>12.658879</td>\n",
       "    </tr>\n",
       "    <tr>\n",
       "      <td>std</td>\n",
       "      <td>3.310282</td>\n",
       "      <td>7.721084</td>\n",
       "      <td>2.285376</td>\n",
       "    </tr>\n",
       "    <tr>\n",
       "      <td>min</td>\n",
       "      <td>0.128200</td>\n",
       "      <td>30.000000</td>\n",
       "      <td>5.000000</td>\n",
       "    </tr>\n",
       "    <tr>\n",
       "      <td>25%</td>\n",
       "      <td>2.262600</td>\n",
       "      <td>35.000000</td>\n",
       "      <td>12.000000</td>\n",
       "    </tr>\n",
       "    <tr>\n",
       "      <td>50%</td>\n",
       "      <td>3.481900</td>\n",
       "      <td>42.000000</td>\n",
       "      <td>12.000000</td>\n",
       "    </tr>\n",
       "    <tr>\n",
       "      <td>75%</td>\n",
       "      <td>4.970750</td>\n",
       "      <td>47.250000</td>\n",
       "      <td>14.000000</td>\n",
       "    </tr>\n",
       "    <tr>\n",
       "      <td>max</td>\n",
       "      <td>25.000000</td>\n",
       "      <td>60.000000</td>\n",
       "      <td>17.000000</td>\n",
       "    </tr>\n",
       "  </tbody>\n",
       "</table>\n",
       "</div>"
      ],
      "text/plain": [
       "             wage         age        educ\n",
       "count  428.000000  428.000000  428.000000\n",
       "mean     4.177682   41.971963   12.658879\n",
       "std      3.310282    7.721084    2.285376\n",
       "min      0.128200   30.000000    5.000000\n",
       "25%      2.262600   35.000000   12.000000\n",
       "50%      3.481900   42.000000   12.000000\n",
       "75%      4.970750   47.250000   14.000000\n",
       "max     25.000000   60.000000   17.000000"
      ]
     },
     "execution_count": 11,
     "metadata": {},
     "output_type": "execute_result"
    }
   ],
   "source": [
    "df_filtered[['wage', 'age', 'educ']].describe()"
   ]
  },
  {
   "cell_type": "markdown",
   "metadata": {},
   "source": [
    "> En moyenne, nous relevons donc pour l'ensemble des femmes :\n",
    "- Un salaire moyen de **4.17**\n",
    "- Un âge moyen de **42 ans**\n",
    "- Un nombre d'années d'études de **12.7 ans**\n",
    "\n",
    "#### **Statistiques pour les femmes dont le salaire du mari est supérieur au 65ème percentile de l'échantillon**"
   ]
  },
  {
   "cell_type": "code",
   "execution_count": 12,
   "metadata": {},
   "outputs": [
    {
     "name": "stdout",
     "output_type": "stream",
     "text": [
      "Le 65e percentile sur le salaire du mari est de 7.8125\n"
     ]
    }
   ],
   "source": [
    "# Finding the 65th percentil husband wage\n",
    "percentil_65 = df_filtered.huswage.quantile(0.65)\n",
    "print('Le 65e percentile sur le salaire du mari est de {}'.format(percentil_65))"
   ]
  },
  {
   "cell_type": "code",
   "execution_count": 13,
   "metadata": {},
   "outputs": [],
   "source": [
    "df_huswage_gt_65 = df_filtered[df_filtered['huswage'] > percentil_65]"
   ]
  },
  {
   "cell_type": "code",
   "execution_count": 14,
   "metadata": {},
   "outputs": [
    {
     "data": {
      "text/html": [
       "<div>\n",
       "<style scoped>\n",
       "    .dataframe tbody tr th:only-of-type {\n",
       "        vertical-align: middle;\n",
       "    }\n",
       "\n",
       "    .dataframe tbody tr th {\n",
       "        vertical-align: top;\n",
       "    }\n",
       "\n",
       "    .dataframe thead th {\n",
       "        text-align: right;\n",
       "    }\n",
       "</style>\n",
       "<table border=\"1\" class=\"dataframe\">\n",
       "  <thead>\n",
       "    <tr style=\"text-align: right;\">\n",
       "      <th></th>\n",
       "      <th>wage</th>\n",
       "      <th>age</th>\n",
       "      <th>educ</th>\n",
       "    </tr>\n",
       "  </thead>\n",
       "  <tbody>\n",
       "    <tr>\n",
       "      <td>count</td>\n",
       "      <td>148.000000</td>\n",
       "      <td>148.00000</td>\n",
       "      <td>148.000000</td>\n",
       "    </tr>\n",
       "    <tr>\n",
       "      <td>mean</td>\n",
       "      <td>5.139315</td>\n",
       "      <td>42.52027</td>\n",
       "      <td>13.520270</td>\n",
       "    </tr>\n",
       "    <tr>\n",
       "      <td>std</td>\n",
       "      <td>4.351728</td>\n",
       "      <td>7.35168</td>\n",
       "      <td>2.345845</td>\n",
       "    </tr>\n",
       "    <tr>\n",
       "      <td>min</td>\n",
       "      <td>0.213700</td>\n",
       "      <td>30.00000</td>\n",
       "      <td>5.000000</td>\n",
       "    </tr>\n",
       "    <tr>\n",
       "      <td>25%</td>\n",
       "      <td>2.561925</td>\n",
       "      <td>36.00000</td>\n",
       "      <td>12.000000</td>\n",
       "    </tr>\n",
       "    <tr>\n",
       "      <td>50%</td>\n",
       "      <td>4.008050</td>\n",
       "      <td>43.00000</td>\n",
       "      <td>13.000000</td>\n",
       "    </tr>\n",
       "    <tr>\n",
       "      <td>75%</td>\n",
       "      <td>6.516300</td>\n",
       "      <td>48.00000</td>\n",
       "      <td>16.000000</td>\n",
       "    </tr>\n",
       "    <tr>\n",
       "      <td>max</td>\n",
       "      <td>25.000000</td>\n",
       "      <td>59.00000</td>\n",
       "      <td>17.000000</td>\n",
       "    </tr>\n",
       "  </tbody>\n",
       "</table>\n",
       "</div>"
      ],
      "text/plain": [
       "             wage        age        educ\n",
       "count  148.000000  148.00000  148.000000\n",
       "mean     5.139315   42.52027   13.520270\n",
       "std      4.351728    7.35168    2.345845\n",
       "min      0.213700   30.00000    5.000000\n",
       "25%      2.561925   36.00000   12.000000\n",
       "50%      4.008050   43.00000   13.000000\n",
       "75%      6.516300   48.00000   16.000000\n",
       "max     25.000000   59.00000   17.000000"
      ]
     },
     "execution_count": 14,
     "metadata": {},
     "output_type": "execute_result"
    }
   ],
   "source": [
    "df_huswage_gt_65[['wage', 'age', 'educ']].describe()"
   ]
  },
  {
   "cell_type": "markdown",
   "metadata": {},
   "source": [
    "> En moyenne, nous relevons donc pour les femmes dont le salaire du mari est supérieur au 65e percentile de l'échantillon :\n",
    "- Un salaire moyen de **5.14**\n",
    "- Un âge moyen de **42.5 ans**\n",
    "- Un nombre d'années d'études de **13.5 ans**\n",
    "\n",
    "> Les chiffres pour cette population montrent donc que ces femmes sont plus éduquées et ont un salaire plus élevé. Il y aurait donc une corrélation avec les gains du mari, à savoir que des milieux plus aisés sont généralement plus éduqués et gagne consécutivement plus. L'argent appelle l'argent en somme. Il y a en revanche un écart type plus important que sur la population moyenne au sein de cette population.\n",
    "\n",
    "\n",
    "#### **Statistiques pour les femmes dont le salaire du mari est inférieur au 65ème percentile de l'échantillon**"
   ]
  },
  {
   "cell_type": "code",
   "execution_count": 15,
   "metadata": {},
   "outputs": [],
   "source": [
    "df_huswage_lt_65 = df_filtered[df_filtered['huswage'] < percentil_65]"
   ]
  },
  {
   "cell_type": "code",
   "execution_count": 16,
   "metadata": {},
   "outputs": [
    {
     "data": {
      "text/html": [
       "<div>\n",
       "<style scoped>\n",
       "    .dataframe tbody tr th:only-of-type {\n",
       "        vertical-align: middle;\n",
       "    }\n",
       "\n",
       "    .dataframe tbody tr th {\n",
       "        vertical-align: top;\n",
       "    }\n",
       "\n",
       "    .dataframe thead th {\n",
       "        text-align: right;\n",
       "    }\n",
       "</style>\n",
       "<table border=\"1\" class=\"dataframe\">\n",
       "  <thead>\n",
       "    <tr style=\"text-align: right;\">\n",
       "      <th></th>\n",
       "      <th>wage</th>\n",
       "      <th>age</th>\n",
       "      <th>educ</th>\n",
       "    </tr>\n",
       "  </thead>\n",
       "  <tbody>\n",
       "    <tr>\n",
       "      <td>count</td>\n",
       "      <td>276.000000</td>\n",
       "      <td>276.000000</td>\n",
       "      <td>276.000000</td>\n",
       "    </tr>\n",
       "    <tr>\n",
       "      <td>mean</td>\n",
       "      <td>3.653995</td>\n",
       "      <td>41.583333</td>\n",
       "      <td>12.221014</td>\n",
       "    </tr>\n",
       "    <tr>\n",
       "      <td>std</td>\n",
       "      <td>2.471311</td>\n",
       "      <td>7.910656</td>\n",
       "      <td>2.126472</td>\n",
       "    </tr>\n",
       "    <tr>\n",
       "      <td>min</td>\n",
       "      <td>0.128200</td>\n",
       "      <td>30.000000</td>\n",
       "      <td>6.000000</td>\n",
       "    </tr>\n",
       "    <tr>\n",
       "      <td>25%</td>\n",
       "      <td>2.139100</td>\n",
       "      <td>35.000000</td>\n",
       "      <td>12.000000</td>\n",
       "    </tr>\n",
       "    <tr>\n",
       "      <td>50%</td>\n",
       "      <td>3.169700</td>\n",
       "      <td>41.000000</td>\n",
       "      <td>12.000000</td>\n",
       "    </tr>\n",
       "    <tr>\n",
       "      <td>75%</td>\n",
       "      <td>4.508775</td>\n",
       "      <td>47.000000</td>\n",
       "      <td>12.250000</td>\n",
       "    </tr>\n",
       "    <tr>\n",
       "      <td>max</td>\n",
       "      <td>22.500000</td>\n",
       "      <td>60.000000</td>\n",
       "      <td>17.000000</td>\n",
       "    </tr>\n",
       "  </tbody>\n",
       "</table>\n",
       "</div>"
      ],
      "text/plain": [
       "             wage         age        educ\n",
       "count  276.000000  276.000000  276.000000\n",
       "mean     3.653995   41.583333   12.221014\n",
       "std      2.471311    7.910656    2.126472\n",
       "min      0.128200   30.000000    6.000000\n",
       "25%      2.139100   35.000000   12.000000\n",
       "50%      3.169700   41.000000   12.000000\n",
       "75%      4.508775   47.000000   12.250000\n",
       "max     22.500000   60.000000   17.000000"
      ]
     },
     "execution_count": 16,
     "metadata": {},
     "output_type": "execute_result"
    }
   ],
   "source": [
    "df_huswage_lt_65[['wage', 'age', 'educ']].describe()"
   ]
  },
  {
   "cell_type": "markdown",
   "metadata": {},
   "source": [
    "> En moyenne, nous relevons donc pour les femmes dont le salaire du mari est inférieur au 65e percentile de l'échantillon :\n",
    "- Un salaire moyen de **3.65**\n",
    "- Un âge moyen de **41.5 ans**\n",
    "- Un nombre d'années d'études de **12.2 ans**\n",
    "\n",
    "> Les chiffres pour cette population tendent donc à confirmer ce que nous présentions puisque les femmes de cette population sont gloablement moins éduquées et gagne moins que celles du groupe précédent. Elles sont également plus nombreuses dans ce cas.\n",
    "\n",
    "#### **Quelques graphes d'illustration**"
   ]
  },
  {
   "cell_type": "code",
   "execution_count": 17,
   "metadata": {},
   "outputs": [
    {
     "data": {
      "image/png": "[encoded data removed]",
      "text/plain": [
       "<Figure size 1296x360 with 1 Axes>"
      ]
     },
     "metadata": {
      "needs_background": "light"
     },
     "output_type": "display_data"
    }
   ],
   "source": [
    "plt.figure(figsize=(18, 5))\n",
    "plt.hist(df_filtered['educ'], density=True)\n",
    "sns.kdeplot(df_filtered['educ'], label=\"Kde\")\n",
    "plt.title(\"Distribution des années d'éducation des femmes\\n\")\n",
    "plt.show()"
   ]
  },
  {
   "cell_type": "code",
   "execution_count": 18,
   "metadata": {},
   "outputs": [
    {
     "data": {
      "image/png": "[encoded data removed]",
      "text/plain": [
       "<Figure size 1296x360 with 1 Axes>"
      ]
     },
     "metadata": {
      "needs_background": "light"
     },
     "output_type": "display_data"
    }
   ],
   "source": [
    "plt.figure(figsize=(18, 5))\n",
    "plt.hist(df_filtered['age'], density=True, alpha=0.5, label='age')\n",
    "sns.kdeplot(df_filtered['age'], label=\"Kde\")\n",
    "plt.title(\"Distribution de l'âge des femmes\\n\")\n",
    "plt.legend()\n",
    "plt.show()"
   ]
  },
  {
   "cell_type": "code",
   "execution_count": 19,
   "metadata": {},
   "outputs": [
    {
     "data": {
      "image/png": "[encoded data removed]",
      "text/plain": [
       "<Figure size 1296x360 with 1 Axes>"
      ]
     },
     "metadata": {
      "needs_background": "light"
     },
     "output_type": "display_data"
    }
   ],
   "source": [
    "plt.figure(figsize=(18, 5))\n",
    "\n",
    "plt.hist(df_filtered['wage'], label='Dataset complet', alpha=0.3, bins=40)\n",
    "plt.hist(df_huswage_lt_65['wage'], label='Salaire mari < 65e percentile', alpha=0.5, bins=40)\n",
    "plt.hist(df_huswage_gt_65['wage'], label='Salaire mari > 65e percentile', alpha=0.5, bins=40)\n",
    "\n",
    "plt.legend()\n",
    "plt.title(\"Distribution du salaire des femmes en fonction du salaire du mari\\n\")\n",
    "plt.show()"
   ]
  },
  {
   "cell_type": "code",
   "execution_count": 20,
   "metadata": {},
   "outputs": [
    {
     "data": {
      "image/png": "[encoded data removed]",
      "text/plain": [
       "<Figure size 1296x360 with 1 Axes>"
      ]
     },
     "metadata": {
      "needs_background": "light"
     },
     "output_type": "display_data"
    }
   ],
   "source": [
    "plt.figure(figsize=(18, 5))\n",
    "\n",
    "sns.kdeplot(df_huswage_lt_65['wage'], label='Salaire mari < 65e percentile')\n",
    "sns.kdeplot(df_huswage_gt_65['wage'], label='Salaire mari > 65e percentile')\n",
    "sns.kdeplot(df_filtered['wage'], label='Dataset complet')\n",
    "\n",
    "plt.legend()\n",
    "plt.title(\"Distribution des salaires des femmes en fonction du salaire du mari\\n\")\n",
    "plt.show()"
   ]
  },
  {
   "cell_type": "code",
   "execution_count": 21,
   "metadata": {},
   "outputs": [
    {
     "data": {
      "image/png": "[encoded data removed]",
      "text/plain": [
       "<Figure size 1296x576 with 1 Axes>"
      ]
     },
     "metadata": {
      "needs_background": "light"
     },
     "output_type": "display_data"
    }
   ],
   "source": [
    "df_huswage_concat = pd.concat([df_huswage_gt_65['wage'], df_huswage_lt_65['wage'], df_filtered['wage']], axis=1)\n",
    "df_huswage_concat.columns = ['Salaire mari > 65e percentile', 'Salaire mari < 65e percentile', 'wage global']\n",
    "\n",
    "df_huswage_concat.boxplot(figsize=(18, 8))\n",
    "plt.title(\"Wage boxplot\")\n",
    "plt.show()"
   ]
  },
  {
   "cell_type": "markdown",
   "metadata": {},
   "source": [
    "> Ces graphes nous illustrent donc ce que nous avions présenti avec les permiers chiffres. Nous devrions donc bien avoir une corrélation positive entre le salaire du mari et celui de son épouse.\n",
    "\n",
    "### **Question 3 :**\n",
    "\n",
    "Faire l'histogramme de la variable `wage`. Supprimer les observations qui sont à plus de 3\n",
    "écart-types de la moyenne et refaire l’histogramme."
   ]
  },
  {
   "cell_type": "code",
   "execution_count": 22,
   "metadata": {},
   "outputs": [
    {
     "data": {
      "image/png": "[encoded data removed]",
      "text/plain": [
       "<Figure size 1296x360 with 1 Axes>"
      ]
     },
     "metadata": {
      "needs_background": "light"
     },
     "output_type": "display_data"
    }
   ],
   "source": [
    "gauss_wage = stats.norm.rvs(np.mean(df_filtered.wage), np.std(df_filtered.wage), size=2000)\n",
    "\n",
    "plt.figure(figsize=(18, 5))\n",
    "plt.title(\"Wage vs. Gaussian\")\n",
    "sns.distplot(df_filtered.wage, bins=40, label='Wage Histogram')\n",
    "sns.distplot(gauss_wage, bins=40, label='Gaussian Distribution')\n",
    "plt.legend()\n",
    "plt.show()"
   ]
  },
  {
   "cell_type": "markdown",
   "metadata": {},
   "source": [
    "> On supprime maintenant les observations qui sont à plus de 3 écart-types de la moyenne."
   ]
  },
  {
   "cell_type": "code",
   "execution_count": 23,
   "metadata": {},
   "outputs": [],
   "source": [
    "wage_to_filt = df_filtered['wage'].mean() + 3 * df_filtered['wage'].std()"
   ]
  },
  {
   "cell_type": "code",
   "execution_count": 24,
   "metadata": {},
   "outputs": [
    {
     "data": {
      "image/png": "[encoded data removed]",
      "text/plain": [
       "<Figure size 1296x360 with 1 Axes>"
      ]
     },
     "metadata": {
      "needs_background": "light"
     },
     "output_type": "display_data"
    }
   ],
   "source": [
    "plt.figure(figsize=(18, 5))\n",
    "plt.title(\"Wage vs. Gaussian\")\n",
    "sns.distplot(df_filtered[df_filtered['wage'] < wage_to_filt][['wage']], bins=40, label='Wage Histogram filtered')\n",
    "sns.distplot(gauss_wage, bins=40, label='Gaussian Distribution')\n",
    "plt.legend()\n",
    "plt.show()"
   ]
  },
  {
   "cell_type": "markdown",
   "metadata": {},
   "source": [
    "> En filtrant les salaires à plus de 3 écarts types de la moyenne, nous nous rapprochons d'une gaussienne classique."
   ]
  },
  {
   "cell_type": "markdown",
   "metadata": {},
   "source": [
    "### **Question 4 :**\n",
    "Calculer les corrélations `motheduc` et `fatheduc`. Expliquer le problème de multi-collinéarité.\n",
    "Commenter."
   ]
  },
  {
   "cell_type": "code",
   "execution_count": 25,
   "metadata": {},
   "outputs": [
    {
     "data": {
      "text/html": [
       "<div>\n",
       "<style scoped>\n",
       "    .dataframe tbody tr th:only-of-type {\n",
       "        vertical-align: middle;\n",
       "    }\n",
       "\n",
       "    .dataframe tbody tr th {\n",
       "        vertical-align: top;\n",
       "    }\n",
       "\n",
       "    .dataframe thead th {\n",
       "        text-align: right;\n",
       "    }\n",
       "</style>\n",
       "<table border=\"1\" class=\"dataframe\">\n",
       "  <thead>\n",
       "    <tr style=\"text-align: right;\">\n",
       "      <th></th>\n",
       "      <th>motheduc</th>\n",
       "      <th>fatheduc</th>\n",
       "    </tr>\n",
       "  </thead>\n",
       "  <tbody>\n",
       "    <tr>\n",
       "      <td>motheduc</td>\n",
       "      <td>1.000000</td>\n",
       "      <td>0.554063</td>\n",
       "    </tr>\n",
       "    <tr>\n",
       "      <td>fatheduc</td>\n",
       "      <td>0.554063</td>\n",
       "      <td>1.000000</td>\n",
       "    </tr>\n",
       "  </tbody>\n",
       "</table>\n",
       "</div>"
      ],
      "text/plain": [
       "          motheduc  fatheduc\n",
       "motheduc  1.000000  0.554063\n",
       "fatheduc  0.554063  1.000000"
      ]
     },
     "execution_count": 25,
     "metadata": {},
     "output_type": "execute_result"
    }
   ],
   "source": [
    "pearson_corr = df_filtered[['motheduc', 'fatheduc']].corr(method='pearson')\n",
    "\n",
    "pearson_corr"
   ]
  },
  {
   "cell_type": "code",
   "execution_count": 26,
   "metadata": {},
   "outputs": [
    {
     "name": "stdout",
     "output_type": "stream",
     "text": [
      "\n",
      "La corrélation de Pearson entre motheduc et fatheduc est de 0.554\n",
      "\n",
      "La p-value pour H0 \"pas de corrélation\" est de 8.302344435821678e-36\n"
     ]
    }
   ],
   "source": [
    "p_value_corr = pearsonr(df_filtered.motheduc, df_filtered.fatheduc)[1]\n",
    "\n",
    "print('\\nLa corrélation de Pearson entre motheduc et fatheduc est de {}'\n",
    "      .format(np.round(pearson_corr.iloc[0,1], 3)))\n",
    "\n",
    "print('\\nLa p-value pour H0 \"pas de corrélation\" est de {}'.format(p_value_corr))"
   ]
  },
  {
   "cell_type": "markdown",
   "metadata": {},
   "source": [
    "> La corrélation entre le nombre d'années d'études de la femme et le nombre d'années d'études de son mari est donc d'environ **55 %**. On peut l'expliquer par le fait que les deux personnes du couple appartiennent souvent à une même classe sociales et ont donc accès aux mêmes possibilités d'éducation.\n",
    "\n",
    "> De plus, **on rejette l'hypothèse nulle selon laquelle il n'y aurait pas de corrélation au seuil 5%**. \n",
    "\n",
    "> La corrélation entre ces deux variables peut introduire un **biais de multicolinéarité**. Dans une régression, la multicolinéarité est un problème qui survient lorsque certaines variables de prévision du modèle mesurent le même phénomène. Une multicolinéarité prononcée s’avère donc problématique, car elle peut augmenter la variance des coefficients de régression et les rendre instables et difficiles à interpréter. \n",
    "\n",
    "> Aussi, nous concernant, le fait de prendre en compte les deux variables `motheduc` et `fatheduc` dans nos modèles va venir **surpondérer l'information sur l'éducation des parents**. On peut toutefois nuancer cela avec le fait que la corrélation n'est pas parfaite (55% \"seulement\") donc les deux variables sont suceptibles d'apporter de l'information utile. Typiquement ce taux de corrélation peut nous amener à penser que :\n",
    "- lorsque l'épouse fait des études longues, le mari en fait moins \n",
    "- et vice-versa\n"
   ]
  },
  {
   "cell_type": "markdown",
   "metadata": {},
   "source": [
    "### **Question 5 :**\n",
    "\n",
    "Faites un graphique en nuage de point entre `wage` et `educ`. S'agit-il d'un effet \"toute chose\n",
    "étant égale par ailleurs\" ?"
   ]
  },
  {
   "cell_type": "code",
   "execution_count": 28,
   "metadata": {},
   "outputs": [
    {
     "data": {
      "image/png": "[encoded data removed]",
      "text/plain": [
       "<Figure size 1296x360 with 1 Axes>"
      ]
     },
     "metadata": {
      "needs_background": "light"
     },
     "output_type": "display_data"
    }
   ],
   "source": [
    "plt.figure(figsize=(18, 5))\n",
    "sns.regplot(df_filtered.educ, df_filtered.wage, fit_reg=True, color=sns.xkcd_rgb[\"pale red\"])\n",
    "plt.title(\"Evolution du salaire en fonction du nombre d'années d'études\\n\")\n",
    "plt.show()"
   ]
  },
  {
   "cell_type": "markdown",
   "metadata": {},
   "source": [
    "> La regression linéaire du salaire en fonction des années d'études nous montre que **le salaire croît proportionnellement au nombre d'années d'études**. Aussi, plus le nombre d'années d'études est grand, plus le salaire a des chances d'être importants.\n",
    "\n",
    "> Il faut toutefois nuancer quelques peu car **la variance dans les niveaux de salaire semble également augmenter avec le nombre d'années d'études** (pics à 12 et 17). Il peut donc y avoir des problèmes d'*hétéroscedasticité* (*les variances des résidus des variables examinées sont différentes*).\n",
    "\n",
    "> On constate par ce graphique **qu'il ne s'agit pas d'un effet \"toute chose étant égale par ailleurs\"**. En effet, pour chaque données de ces variables, les autres variables ne sont pas constantes."
   ]
  },
  {
   "cell_type": "markdown",
   "metadata": {},
   "source": [
    "### **Question 6 :**\n",
    "\n",
    "Quelle est l'hypothèse fondamentale qui garantit des estimateurs non biaisés ? \n",
    "\n",
    "> L'hypothèse fondamentale qui garanti des estimateurs non biaisés est **la normalité des résidus**. Celle-ci permet d'obtenir le meilleur estimateur linéaire non baisé (***BLUE***). Dans cette hypothèse, les résidus sont contrés en zéro et ont une variance constante à travers le temps (*iid*). On parle **d'homoscedasticité**.\n",
    "\n",
    "Expliquer le biais de variable omise.\n",
    "\n",
    "> Le biais de variable omise correspond au fait que **nous estimons un modèle en ne prenant en compte que certaines variables alors qu'il en existe d'autres que nous ne pouvons pas contrôler**, souvent par manque de données. Une variable omise viole l'hypothèse de normalité des résidus puisque l'effet de ces variables se retrouve en partie dans les résidus en question."
   ]
  },
  {
   "cell_type": "markdown",
   "metadata": {},
   "source": [
    "### **Question 7 :**\n",
    "\n",
    "Faire la régression du log de `wage` en utilisant comme variables explicatives une `constante`,\n",
    "`city`, `educ`, `exper`, `nwifeinc`, `kidslt6`, `kidsge6`. Commentez l'histogramme des résidus."
   ]
  },
  {
   "cell_type": "code",
   "execution_count": 82,
   "metadata": {},
   "outputs": [],
   "source": [
    "cols_to_keep = ['city', 'educ', 'exper', 'nwifeinc', 'kidslt6', 'kidsge6']\n",
    "\n",
    "X = df_filtered[cols_to_keep]\n",
    "X = sm.add_constant(X)\n",
    "y = df_filtered.lwage"
   ]
  },
  {
   "cell_type": "code",
   "execution_count": 83,
   "metadata": {},
   "outputs": [
    {
     "name": "stdout",
     "output_type": "stream",
     "text": [
      "                            OLS Regression Results                            \n",
      "==============================================================================\n",
      "Dep. Variable:                  lwage   R-squared:                       0.156\n",
      "Model:                            OLS   Adj. R-squared:                  0.144\n",
      "Method:                 Least Squares   F-statistic:                     12.92\n",
      "Date:                Wed, 01 Apr 2020   Prob (F-statistic):           2.00e-13\n",
      "Time:                        11:57:15   Log-Likelihood:                -431.92\n",
      "No. Observations:                 428   AIC:                             877.8\n",
      "Df Residuals:                     421   BIC:                             906.3\n",
      "Df Model:                           6                                         \n",
      "Covariance Type:            nonrobust                                         \n",
      "==============================================================================\n",
      "                 coef    std err          t      P>|t|      [0.025      0.975]\n",
      "------------------------------------------------------------------------------\n",
      "const         -0.3990      0.207     -1.927      0.055      -0.806       0.008\n",
      "city           0.0353      0.070      0.503      0.616      -0.103       0.173\n",
      "educ           0.1022      0.015      6.771      0.000       0.073       0.132\n",
      "exper          0.0155      0.004      3.452      0.001       0.007       0.024\n",
      "nwifeinc       0.0049      0.003      1.466      0.143      -0.002       0.011\n",
      "kidslt6       -0.0453      0.085     -0.531      0.596      -0.213       0.122\n",
      "kidsge6       -0.0117      0.027     -0.434      0.664      -0.065       0.041\n",
      "==============================================================================\n",
      "Omnibus:                       79.542   Durbin-Watson:                   1.979\n",
      "Prob(Omnibus):                  0.000   Jarque-Bera (JB):              287.193\n",
      "Skew:                          -0.795   Prob(JB):                     4.33e-63\n",
      "Kurtosis:                       6.685   Cond. No.                         178.\n",
      "==============================================================================\n",
      "\n",
      "Warnings:\n",
      "[1] Standard Errors assume that the covariance matrix of the errors is correctly specified.\n"
     ]
    }
   ],
   "source": [
    "model = sm.OLS(y, X) \n",
    "results = model.fit()\n",
    "\n",
    "print(results.summary())"
   ]
  },
  {
   "cell_type": "code",
   "execution_count": 84,
   "metadata": {},
   "outputs": [
    {
     "name": "stdout",
     "output_type": "stream",
     "text": [
      "const       5.465894e-02\n",
      "city        6.155457e-01\n",
      "educ        4.324526e-11\n",
      "exper       6.133651e-04\n",
      "nwifeinc    1.434080e-01\n",
      "kidslt6     5.956626e-01\n",
      "kidsge6     6.642512e-01\n",
      "dtype: float64\n"
     ]
    }
   ],
   "source": [
    "print(results.pvalues)"
   ]
  },
  {
   "cell_type": "markdown",
   "metadata": {},
   "source": [
    "> **L'éducation apparaît donc comme la variable la plus significative** lorsqu'on utilise une constante. "
   ]
  },
  {
   "cell_type": "code",
   "execution_count": 79,
   "metadata": {},
   "outputs": [],
   "source": [
    "residuals = results.resid\n",
    "\n",
    "gauss_residuals = stats.norm.rvs(np.mean(residuals), np.std(residuals), size=2000)\n",
    "\n",
    "lwage_to_filt = df_filtered['lwage'].mean() + 3 * df_filtered['lwage'].std()\n",
    "gauss_residuals_corr = stats.norm.rvs(np.mean(residuals[residuals < lwage_to_filt]), \n",
    "                                      np.std(residuals[residuals < wage_to_filt]), size=2000)"
   ]
  },
  {
   "cell_type": "code",
   "execution_count": 80,
   "metadata": {},
   "outputs": [
    {
     "data": {
      "image/png": "[encoded data removed]",
      "text/plain": [
       "<Figure size 1296x432 with 1 Axes>"
      ]
     },
     "metadata": {
      "needs_background": "light"
     },
     "output_type": "display_data"
    }
   ],
   "source": [
    "plt.figure(figsize=(18, 6))\n",
    "plt.title(\"Histogramme des résidus pour lwage vs. Gaussian\\n\")\n",
    "sns.distplot(residuals, bins=40, hist_kws={'alpha':0.25}, label='Residuals histogram')\n",
    "sns.distplot(gauss_residuals, bins=40, hist_kws={'alpha':0.25}, label='Gaussian Distribution without outliers')\n",
    "sns.distplot(gauss_residuals_corr, bins=40, hist_kws={'alpha':0.25}, label='Gaussian Distribution without outliers')\n",
    "plt.legend()\n",
    "plt.show()"
   ]
  },
  {
   "cell_type": "markdown",
   "metadata": {},
   "source": [
    "> Les résidus sont **quasiment gaussiens et centrés en zéro**. L'hypothèse de normalité des résidus est relativement bonne.\n",
    "\n",
    "> La distribution gaussienne de même moyenne / variance que la courbe des résidus est très proche de celle tracées sans les valeurs extrêmes (avec la méthode de filtrage utilisée en question 3).\n",
    "\n",
    "> ***Dans la suite, nous continuerons de travailler avec `lwage` plutôt qu'avec `wage`***."
   ]
  },
  {
   "cell_type": "markdown",
   "metadata": {},
   "source": [
    "### **Question 8 :**\n",
    "Tester l'hypothèse de non significativité de `nwifeinc` avec un seuil de significativité de 1%, 5%\n",
    "et 10% (test alternatif des deux côtés). Commentez les p-values.\n",
    "\n",
    "> On veut tester la significativité de `nwifeinc`, aussi, il nous faut comparer l'échantillon avec cette variable et l'échantillon sans cette variable. Pour ce faire, nous allons donc tester l'hypothèse $$H_0 : β_{\\text{nwifeinc}} = 0$$\n",
    "Nous allons donc avoir un modèle non contraint et un modèle contraint sur lequel nous allons réaliser un test de Fisher.\n",
    "\n",
    "#### **Modèle non contraint**"
   ]
  },
  {
   "cell_type": "code",
   "execution_count": 86,
   "metadata": {},
   "outputs": [
    {
     "name": "stdout",
     "output_type": "stream",
     "text": [
      "                            OLS Regression Results                            \n",
      "==============================================================================\n",
      "Dep. Variable:                  lwage   R-squared:                       0.156\n",
      "Model:                            OLS   Adj. R-squared:                  0.144\n",
      "Method:                 Least Squares   F-statistic:                     12.92\n",
      "Date:                Wed, 01 Apr 2020   Prob (F-statistic):           2.00e-13\n",
      "Time:                        18:50:14   Log-Likelihood:                -431.92\n",
      "No. Observations:                 428   AIC:                             877.8\n",
      "Df Residuals:                     421   BIC:                             906.3\n",
      "Df Model:                           6                                         \n",
      "Covariance Type:            nonrobust                                         \n",
      "==============================================================================\n",
      "                 coef    std err          t      P>|t|      [0.025      0.975]\n",
      "------------------------------------------------------------------------------\n",
      "const         -0.3990      0.207     -1.927      0.055      -0.806       0.008\n",
      "city           0.0353      0.070      0.503      0.616      -0.103       0.173\n",
      "educ           0.1022      0.015      6.771      0.000       0.073       0.132\n",
      "exper          0.0155      0.004      3.452      0.001       0.007       0.024\n",
      "nwifeinc       0.0049      0.003      1.466      0.143      -0.002       0.011\n",
      "kidslt6       -0.0453      0.085     -0.531      0.596      -0.213       0.122\n",
      "kidsge6       -0.0117      0.027     -0.434      0.664      -0.065       0.041\n",
      "==============================================================================\n",
      "Omnibus:                       79.542   Durbin-Watson:                   1.979\n",
      "Prob(Omnibus):                  0.000   Jarque-Bera (JB):              287.193\n",
      "Skew:                          -0.795   Prob(JB):                     4.33e-63\n",
      "Kurtosis:                       6.685   Cond. No.                         178.\n",
      "==============================================================================\n",
      "\n",
      "Warnings:\n",
      "[1] Standard Errors assume that the covariance matrix of the errors is correctly specified.\n"
     ]
    }
   ],
   "source": [
    "cols_to_keep = ['city', 'educ', 'exper', 'nwifeinc', 'kidslt6', 'kidsge6']\n",
    "\n",
    "X0 = df_filtered[cols_to_keep]\n",
    "X0 = sm.add_constant(X0)\n",
    "y = df_filtered.lwage\n",
    "\n",
    "model = sm.OLS(y, X0) \n",
    "results = model.fit()\n",
    "\n",
    "u = results.resid\n",
    "SSR0 = u.T @ u\n",
    "\n",
    "print(results.summary())"
   ]
  },
  {
   "cell_type": "code",
   "execution_count": 87,
   "metadata": {},
   "outputs": [
    {
     "name": "stdout",
     "output_type": "stream",
     "text": [
      "const       5.465894e-02\n",
      "city        6.155457e-01\n",
      "educ        4.324526e-11\n",
      "exper       6.133651e-04\n",
      "nwifeinc    1.434080e-01\n",
      "kidslt6     5.956626e-01\n",
      "kidsge6     6.642512e-01\n",
      "dtype: float64\n"
     ]
    }
   ],
   "source": [
    "print(results.pvalues)"
   ]
  },
  {
   "cell_type": "code",
   "execution_count": 90,
   "metadata": {},
   "outputs": [
    {
     "data": {
      "text/plain": [
       "0.14340798202513816"
      ]
     },
     "execution_count": 90,
     "metadata": {},
     "output_type": "execute_result"
    }
   ],
   "source": [
    "p_value = results.pvalues['nwifeinc']"
   ]
  },
  {
   "cell_type": "markdown",
   "metadata": {},
   "source": [
    "#### **Modèle contraint**"
   ]
  },
  {
   "cell_type": "code",
   "execution_count": 92,
   "metadata": {},
   "outputs": [
    {
     "name": "stdout",
     "output_type": "stream",
     "text": [
      "                            OLS Regression Results                            \n",
      "==============================================================================\n",
      "Dep. Variable:                  lwage   R-squared:                       0.151\n",
      "Model:                            OLS   Adj. R-squared:                  0.141\n",
      "Method:                 Least Squares   F-statistic:                     15.04\n",
      "Date:                Wed, 01 Apr 2020   Prob (F-statistic):           1.34e-13\n",
      "Time:                        19:00:24   Log-Likelihood:                -433.01\n",
      "No. Observations:                 428   AIC:                             878.0\n",
      "Df Residuals:                     422   BIC:                             902.4\n",
      "Df Model:                           5                                         \n",
      "Covariance Type:            nonrobust                                         \n",
      "==============================================================================\n",
      "                 coef    std err          t      P>|t|      [0.025      0.975]\n",
      "------------------------------------------------------------------------------\n",
      "const         -0.3810      0.207     -1.841      0.066      -0.788       0.026\n",
      "city           0.0578      0.069      0.843      0.400      -0.077       0.193\n",
      "educ           0.1082      0.015      7.427      0.000       0.080       0.137\n",
      "exper          0.0144      0.004      3.248      0.001       0.006       0.023\n",
      "kidslt6       -0.0580      0.085     -0.683      0.495      -0.225       0.109\n",
      "kidsge6       -0.0110      0.027     -0.407      0.684      -0.064       0.042\n",
      "==============================================================================\n",
      "Omnibus:                       80.722   Durbin-Watson:                   1.979\n",
      "Prob(Omnibus):                  0.000   Jarque-Bera (JB):              293.200\n",
      "Skew:                          -0.805   Prob(JB):                     2.15e-64\n",
      "Kurtosis:                       6.721   Cond. No.                         124.\n",
      "==============================================================================\n",
      "\n",
      "Warnings:\n",
      "[1] Standard Errors assume that the covariance matrix of the errors is correctly specified.\n"
     ]
    }
   ],
   "source": [
    "cols_to_keep = ['city', 'educ', 'exper', 'kidslt6', 'kidsge6']\n",
    "\n",
    "X1 = df_filtered[cols_to_keep]\n",
    "X1 = sm.add_constant(X1)\n",
    "y = df_filtered.lwage\n",
    "\n",
    "model = sm.OLS(y,X1)\n",
    "results = model.fit()\n",
    "print(results.summary())\n",
    "u = results.resid\n",
    "SSR1 = u.T@u"
   ]
  },
  {
   "cell_type": "code",
   "execution_count": 97,
   "metadata": {},
   "outputs": [
    {
     "name": "stdout",
     "output_type": "stream",
     "text": [
      "p_value :  0.14340798202515265\n",
      "Fisher :  2.1490137564707084\n"
     ]
    }
   ],
   "source": [
    "n,k = np.shape(X0)\n",
    "F = ((SSR1-SSR0)/1) / (SSR0/(n-k)) # 1 pour le nombre de variables laissées de côtés (1 sur 6 ici)\n",
    "\n",
    "p_value = f.sf(F,1,n-k) # 1 degré de liberté\n",
    " \n",
    "print('p_value : ', p_value) \n",
    "print('Fisher : ', F)"
   ]
  },
  {
   "cell_type": "code",
   "execution_count": 99,
   "metadata": {},
   "outputs": [
    {
     "name": "stdout",
     "output_type": "stream",
     "text": [
      "---- Test au seuil de 1.0% ----\n",
      "p_value > seuil => On ne rejette pas l'hypothèse H0 de non significativité de nwifeinc \n",
      "\n",
      "---- Test au seuil de 5.0% ----\n",
      "p_value > seuil => On ne rejette pas l'hypothèse H0 de non significativité de nwifeinc \n",
      "\n",
      "---- Test au seuil de 10.0% ----\n",
      "p_value > seuil => On ne rejette pas l'hypothèse H0 de non significativité de nwifeinc \n",
      "\n"
     ]
    }
   ],
   "source": [
    "for i in [0.01, 0.05, 0.1]:\n",
    "    \n",
    "    print('---- Test au seuil de {}% ----'.format(i*100))\n",
    "   \n",
    "    if (p_value < i):\n",
    "        print('p_value < seuil => On rejette l\\'hypothèse H0 de non significativité de nwifeinc \\n')\n",
    "    else:\n",
    "        print('p_value > seuil => On ne rejette pas l\\'hypothèse H0 de non significativité de nwifeinc \\n')"
   ]
  },
  {
   "cell_type": "markdown",
   "metadata": {},
   "source": [
    "> La p-value de la variable `nwifeinc` étant relativement élevée, on ne rejette pas l'hypothèse de non significativité de la variable sur `lwage`. **`nwifeinc` n'est donc pas significatif sur aux trois seuils testés**."
   ]
  },
  {
   "cell_type": "markdown",
   "metadata": {},
   "source": [
    "### **Question 9 :**\n",
    "\n",
    "Tester l’hypothèse que le coefficient associé à `nwifeinc` est égal à 0.01 avec un seuil de\n",
    "significativité de 5% (test à alternatif des deux côtés).\n",
    "\n",
    "> On veut maintenant tester avec un test de Fischer au seuil de 5% que  $$H_0 : β_{\\text{nwifeinc}} = 0.01$$\n",
    "\n",
    "#### **Modèle contraint**"
   ]
  },
  {
   "cell_type": "code",
   "execution_count": 103,
   "metadata": {},
   "outputs": [
    {
     "name": "stdout",
     "output_type": "stream",
     "text": [
      "                            OLS Regression Results                            \n",
      "==============================================================================\n",
      "Dep. Variable:                      y   R-squared:                       0.134\n",
      "Model:                            OLS   Adj. R-squared:                  0.123\n",
      "Method:                 Least Squares   F-statistic:                     13.01\n",
      "Date:                Wed, 01 Apr 2020   Prob (F-statistic):           8.75e-12\n",
      "Time:                        19:24:43   Log-Likelihood:                -433.12\n",
      "No. Observations:                 428   AIC:                             878.2\n",
      "Df Residuals:                     422   BIC:                             902.6\n",
      "Df Model:                           5                                         \n",
      "Covariance Type:            nonrobust                                         \n",
      "==============================================================================\n",
      "                 coef    std err          t      P>|t|      [0.025      0.975]\n",
      "------------------------------------------------------------------------------\n",
      "const         -0.4178      0.207     -2.018      0.044      -0.825      -0.011\n",
      "city           0.0117      0.069      0.170      0.865      -0.123       0.146\n",
      "educ           0.0960      0.015      6.590      0.000       0.067       0.125\n",
      "exper          0.0166      0.004      3.756      0.000       0.008       0.025\n",
      "kidslt6       -0.0320      0.085     -0.376      0.707      -0.199       0.135\n",
      "kidsge6       -0.0125      0.027     -0.462      0.645      -0.065       0.041\n",
      "==============================================================================\n",
      "Omnibus:                       76.476   Durbin-Watson:                   1.978\n",
      "Prob(Omnibus):                  0.000   Jarque-Bera (JB):              267.125\n",
      "Skew:                          -0.773   Prob(JB):                     9.87e-59\n",
      "Kurtosis:                       6.548   Cond. No.                         124.\n",
      "==============================================================================\n",
      "\n",
      "Warnings:\n",
      "[1] Standard Errors assume that the covariance matrix of the errors is correctly specified.\n"
     ]
    }
   ],
   "source": [
    "y_p = y - 0.01 * X0['nwifeinc'] # on calcule notre nouveau y (y prime : y_p)\n",
    "\n",
    "cols_to_keep = ['city', 'educ', 'exper', 'kidslt6', 'kidsge6']\n",
    "\n",
    "X2 = df_filtered[cols_to_keep]\n",
    "X2 = sm.add_constant(X2)\n",
    "\n",
    "\n",
    "model = sm.OLS(y_p, X2)\n",
    "results = model.fit()\n",
    "print(results.summary())\n",
    "u = results.resid\n",
    "SSR2 = u.T@u"
   ]
  },
  {
   "cell_type": "code",
   "execution_count": 104,
   "metadata": {},
   "outputs": [
    {
     "name": "stdout",
     "output_type": "stream",
     "text": [
      "p_value :  0.12519418591701537\n",
      "Fisher :  2.360491114938522\n"
     ]
    }
   ],
   "source": [
    "n,k = np.shape(X0)\n",
    "F = ((SSR2-SSR0)/1) / (SSR0/(n-k)) # 1 pour le nombre de variables laissées de côtés (1 sur 6 ici)\n",
    "\n",
    "p_value = f.sf(F,1,n-k) # 1 degré de liberté\n",
    " \n",
    "print('p_value : ', p_value)\n",
    "print('Fisher : ', F)"
   ]
  },
  {
   "cell_type": "code",
   "execution_count": 105,
   "metadata": {},
   "outputs": [
    {
     "name": "stdout",
     "output_type": "stream",
     "text": [
      "---- Test au seuil de 5.0% ----\n",
      "p_value > seuil => On ne rejette pas l'hypothèse H0 \n",
      "\n"
     ]
    }
   ],
   "source": [
    "for i in [0.05]:\n",
    "    \n",
    "    print('---- Test au seuil de {}% ----'.format(i*100))\n",
    "   \n",
    "    if (p_value < i):\n",
    "        print('p_value < seuil => On rejette l\\'hypothèse H0 \\n')\n",
    "    else:\n",
    "        print('p_value > seuil => On ne rejette pas l\\'hypothèse H0 \\n')"
   ]
  },
  {
   "cell_type": "markdown",
   "metadata": {},
   "source": [
    "> L'hypothèse $H_0 : β_{\\text{nwifeinc}} = 0.01$ est donc valable au seuil de 5%."
   ]
  },
  {
   "cell_type": "markdown",
   "metadata": {},
   "source": [
    "### **Question 10 :**\n",
    "Tester l’hypothèse jointe que le coefficient de `nwifeinc` est égal à 0.01 et que celui de `city` est égal à 0.05.\n",
    "\n",
    "> On veut maintenant tester avec un test de Fischer au seuil de 5% que  $$H_0 : β_{\\text{nwifeinc}} = 0.01 \\text{ , } β_{\\text{city}} = 0.05 $$\n",
    "\n",
    "#### **Modèle contraint**"
   ]
  },
  {
   "cell_type": "code",
   "execution_count": 115,
   "metadata": {},
   "outputs": [
    {
     "name": "stdout",
     "output_type": "stream",
     "text": [
      "                            OLS Regression Results                            \n",
      "==============================================================================\n",
      "Dep. Variable:                      y   R-squared:                       0.130\n",
      "Model:                            OLS   Adj. R-squared:                  0.122\n",
      "Method:                 Least Squares   F-statistic:                     15.84\n",
      "Date:                Wed, 01 Apr 2020   Prob (F-statistic):           4.34e-12\n",
      "Time:                        19:39:18   Log-Likelihood:                -433.28\n",
      "No. Observations:                 428   AIC:                             876.6\n",
      "Df Residuals:                     423   BIC:                             896.9\n",
      "Df Model:                           4                                         \n",
      "Covariance Type:            nonrobust                                         \n",
      "==============================================================================\n",
      "                 coef    std err          t      P>|t|      [0.025      0.975]\n",
      "------------------------------------------------------------------------------\n",
      "const         -0.4287      0.206     -2.082      0.038      -0.833      -0.024\n",
      "educ           0.0948      0.014      6.586      0.000       0.067       0.123\n",
      "exper          0.0167      0.004      3.765      0.000       0.008       0.025\n",
      "kidslt6       -0.0316      0.085     -0.372      0.710      -0.199       0.135\n",
      "kidsge6       -0.0114      0.027     -0.422      0.673      -0.064       0.042\n",
      "==============================================================================\n",
      "Omnibus:                       76.581   Durbin-Watson:                   1.976\n",
      "Prob(Omnibus):                  0.000   Jarque-Bera (JB):              263.518\n",
      "Skew:                          -0.779   Prob(JB):                     6.00e-58\n",
      "Kurtosis:                       6.514   Cond. No.                         123.\n",
      "==============================================================================\n",
      "\n",
      "Warnings:\n",
      "[1] Standard Errors assume that the covariance matrix of the errors is correctly specified.\n"
     ]
    }
   ],
   "source": [
    "y_p = y - 0.01 * X0['nwifeinc'] - 0.05 * X0['city']  # on calcule notre nouveau y (y prime : y_p)\n",
    "\n",
    "cols_to_keep = ['educ', 'exper', 'kidslt6', 'kidsge6']\n",
    "\n",
    "X3 = df_filtered[cols_to_keep]\n",
    "X3 = sm.add_constant(X3)\n",
    "\n",
    "\n",
    "model = sm.OLS(y_p, X3)\n",
    "results = model.fit()\n",
    "print(results.summary())\n",
    "u = results.resid\n",
    "SSR3 = u.T@u"
   ]
  },
  {
   "cell_type": "code",
   "execution_count": 116,
   "metadata": {},
   "outputs": [
    {
     "name": "stdout",
     "output_type": "stream",
     "text": [
      "p_value :  0.26372671362528977\n",
      "Fisher :  1.3370704454928102\n"
     ]
    }
   ],
   "source": [
    "n,k = np.shape(X0)\n",
    "F = ((SSR3-SSR0)/2) / (SSR0/(n-k)) # 2 pour le nombre de variables laissées de côtés (2 sur 6 ici)\n",
    "\n",
    "p_value = f.sf(F,2,n-k) # 2 degré de liberté\n",
    " \n",
    "print('p_value : ', p_value)\n",
    "print('Fisher : ', F)"
   ]
  },
  {
   "cell_type": "code",
   "execution_count": 117,
   "metadata": {},
   "outputs": [
    {
     "name": "stdout",
     "output_type": "stream",
     "text": [
      "---- Test au seuil de 5.0% ----\n",
      "p_value > seuil => On ne rejette pas l'hypothèse H0 \n",
      "\n"
     ]
    }
   ],
   "source": [
    "for i in [0.05]:\n",
    "    \n",
    "    print('---- Test au seuil de {}% ----'.format(i*100))\n",
    "   \n",
    "    if (p_value < i):\n",
    "        print('p_value < seuil => On rejette l\\'hypothèse H0 \\n')\n",
    "    else:\n",
    "        print('p_value > seuil => On ne rejette pas l\\'hypothèse H0 \\n')"
   ]
  },
  {
   "cell_type": "markdown",
   "metadata": {},
   "source": [
    "> L'hypothèse  $H_0 : β_{\\text{nwifeinc}} = 0.01 \\text{ , } β_{\\text{city}} = 0.05 $ est donc valable au seuil de 5%."
   ]
  },
  {
   "cell_type": "markdown",
   "metadata": {},
   "source": [
    "### **Question 11 :**"
   ]
  },
  {
   "cell_type": "markdown",
   "metadata": {},
   "source": [
    "Tester l’hypothèse jointe que $β_{\\text{nwifeinc}} + β_{\\text{city}} = 0.1$ et $β_{\\text{educ}} + β_{\\text{exper}} = 0.1$.\n",
    "\n",
    "> On teste donc ici avec un test de Fischer au seuil de 5% que  \n",
    "$$H_0 : β_{\\text{nwifeinc}} + β_{\\text{city}} = 0.1 \\text{ , } β_{\\text{educ}} + β_{\\text{exper}} = 0.1$$\n",
    "\n",
    "#### **Modèle contraint**"
   ]
  },
  {
   "cell_type": "code",
   "execution_count": null,
   "metadata": {},
   "outputs": [],
   "source": [
    "# y_p = y - 0.01 * X0['nwifeinc'] - 0.05 * X0['city']  # on calcule notre nouveau y (y prime : y_p)\n",
    "\n",
    "# cols_to_keep = ['educ', 'exper', 'kidslt6', 'kidsge6']\n",
    "\n",
    "# X3 = df_filtered[cols_to_keep]\n",
    "# X3 = sm.add_constant(X3)\n",
    "\n",
    "\n",
    "# model = sm.OLS(y_p, X3)\n",
    "# results = model.fit()\n",
    "# print(results.summary())\n",
    "# u = results.resid\n",
    "# SSR3 = u.T@u"
   ]
  },
  {
   "cell_type": "markdown",
   "metadata": {},
   "source": [
    "> Voir exercie 10 TP 2 (énoncé avec corrigé)."
   ]
  },
  {
   "cell_type": "code",
   "execution_count": null,
   "metadata": {},
   "outputs": [],
   "source": []
  }
 ],
 "metadata": {
  "kernelspec": {
   "display_name": "Python 3",
   "language": "python",
   "name": "python3"
  },
  "language_info": {
   "codemirror_mode": {
    "name": "ipython",
    "version": 3
   },
   "file_extension": ".py",
   "mimetype": "text/x-python",
   "name": "python",
   "nbconvert_exporter": "python",
   "pygments_lexer": "ipython3",
   "version": "3.7.4"
  }
 },
 "nbformat": 4,
 "nbformat_minor": 4
}
